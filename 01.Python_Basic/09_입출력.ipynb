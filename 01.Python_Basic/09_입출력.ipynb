{
 "cells": [
  {
   "cell_type": "markdown",
   "metadata": {
    "slideshow": {
     "slide_type": "slide"
    }
   },
   "source": [
    "# Path (경로)\n",
    "\n",
    "- **경로(Path)**\n",
    "    - 프로그램에서 사용할 **자원의 위치를 path(경로)** 라고 한다.\n",
    "    - **파일 시스템**에서는 파일이나 디렉토리가 있는 위치의 경로를 말한다.\n",
    "    "
   ]
  },
  {
   "cell_type": "markdown",
   "metadata": {
    "slideshow": {
     "slide_type": "slide"
    }
   },
   "source": [
    "- **절대경로**\n",
    "    - 자원의 전체 경로를 표현하는 방식\n",
    "    - 시작 경로부터 자원(파일, 디렉토리)이 있는 위치까지 표현한다.\n",
    "        - 시작 경로: Root Path\n",
    "            - windows: `c:`, `d:`\n",
    "            - Unix, Linux: `/`"
   ]
  },
  {
   "cell_type": "code",
   "execution_count": null,
   "metadata": {},
   "outputs": [],
   "source": []
  },
  {
   "cell_type": "markdown",
   "metadata": {
    "slideshow": {
     "slide_type": "fragment"
    }
   },
   "source": [
    "- **상대경로**\n",
    "    - 현재 작업 경로(위치)에서 부터 자원이 있는 위치까지 표현한다.\n",
    "        - 시작 경로: 현재 작업경로\n",
    "    - 구문\n",
    "        - `.` : 현재 디렉토리\n",
    "        - `..`: 상위 디렉토리\n",
    "        - `/` : 경로 구분자,  상위경로/하위경로"
   ]
  },
  {
   "cell_type": "markdown",
   "metadata": {
    "slideshow": {
     "slide_type": "fragment"
    }
   },
   "source": [
    "- 운영체제(O/S)별 경로구분자\n",
    "    - 윈도우즈: `\\` (역슬래쉬)\n",
    "    - 리눅스/유닉스: `/` (슬래쉬)"
   ]
  },
  {
   "cell_type": "markdown",
   "metadata": {},
   "source": [
    "상대경로\n",
    "    ./my_code/a.txt\n",
    "    ./../classes/my_code/a.txt\n",
    "    ./../../classes/my_code/a.txt"
   ]
  },
  {
   "cell_type": "code",
   "execution_count": 3,
   "metadata": {
    "slideshow": {
     "slide_type": "fragment"
    }
   },
   "outputs": [
    {
     "name": "stdout",
     "output_type": "stream",
     "text": [
      "C:\\classes\\01.Python_Basic\n"
     ]
    }
   ],
   "source": [
    "#현재 작업경로 (working directory)\n",
    "import os\n",
    "print(os.getcwd())"
   ]
  },
  {
   "cell_type": "code",
   "execution_count": 4,
   "metadata": {},
   "outputs": [],
   "source": [
    "#현재 작업경로 변경\n",
    "os.chdir(r\"c:\\source\")"
   ]
  },
  {
   "cell_type": "code",
   "execution_count": 5,
   "metadata": {},
   "outputs": [
    {
     "name": "stdout",
     "output_type": "stream",
     "text": [
      "c:\\source\n"
     ]
    }
   ],
   "source": [
    "print(os.getcwd())"
   ]
  },
  {
   "cell_type": "markdown",
   "metadata": {
    "slideshow": {
     "slide_type": "slide"
    }
   },
   "source": [
    "# 입출력 (IO)\n",
    "\n",
    "## 입출력이란\n",
    "- 프로그램이 사용하려는 외부 자원을 연결하여 데이터를 입력 받거나 출력하는 작업을 IO라고 한다.\n",
    "- 외부 자원\n",
    "    - 파일, 원격지 컴퓨터(Network으로 연결된 컴퓨터의 자원), 데이터베이스 등.\n",
    "- **Stream**\n",
    "    - 입출력 시 **데이터의 흐름을 stream** 이라고 한다.\n",
    "- InputStream \n",
    "    - Program이 외부로 부터 데이터를 읽어 들이는 흐름.\n",
    "- OutputStream \n",
    "    - Program이 외부로 데이터를 써주는 흐름.\n",
    "\n",
    "\n",
    "![io](images/ch09_01.png)"
   ]
  },
  {
   "cell_type": "markdown",
   "metadata": {
    "slideshow": {
     "slide_type": "subslide"
    }
   },
   "source": [
    "## IO 코딩 순서\n",
    "![순서](images/ch09_02.png)"
   ]
  },
  {
   "cell_type": "markdown",
   "metadata": {
    "slideshow": {
     "slide_type": "subslide"
    }
   },
   "source": [
    "### 파일 열기(연결)\n",
    "- open() 함수 사용\n",
    "    - 연결된 파일과 입출력 메소드를 제공하는 객체(Stream)를 리턴\n",
    "- 구문\n",
    "    - `open(file, mode='r', encoding=None)`\n",
    "    - 함수 주요 매개변수\n",
    "        - file : 연결할 파일 경로\n",
    "        - mode : 열기 모드\n",
    "            - mode는 목적, 데이터종류를 조합한 문자열을 사용한다.\n",
    "        - encoding \n",
    "            - 입출력 대상이 **텍스트 파일일 경우** 인코딩 방식 설정\n",
    "            - 생략하면  **os 기본 encoding방식을 따른다.**\n",
    "                - Windows: cp949/euckr\n",
    "                - Linux, Unix: utf-8\n",
    "|mode타입|mode문자|설명|\n",
    "|:-|-|-|\n",
    "|목적|r|읽기 모드-목적의 기본 모드|\n",
    "||w|새로 쓰기 모드|\n",
    "||a|이어 쓰기 모드|\n",
    "||x|새로 쓰기모드-연결하려는 파일이 있으면 Exception발생|\n",
    "|데이터종류|b|binary 모드|\n",
    "||t|Text모드-text데이터 입출력시 사용|\n",
    "    "
   ]
  },
  {
   "cell_type": "markdown",
   "metadata": {
    "slideshow": {
     "slide_type": "subslide"
    }
   },
   "source": [
    "### 출력 메소드\n",
    "\n",
    "- write(출력할 Data)\n",
    "    - 연결된 파일에 `출력할 Data` 출력한다.\n",
    "- writelines(문자열을 가진 컬렉션)\n",
    "    - 리스트, 튜플, 집합이 원소로 가진 문자열들을 한번에 출력한다.\n",
    "    - text 출력일 경우에만 사용가능.\n",
    "    - 원소에 문자열 이외의 타입의 값이 있을 경우 TypeError 발생"
   ]
  },
  {
   "cell_type": "code",
   "execution_count": 5,
   "metadata": {
    "slideshow": {
     "slide_type": "fragment"
    }
   },
   "outputs": [],
   "source": [
    "import os\n",
    "\n",
    "os.makedirs(r\"c:\\a\\b\\c\", exist_ok =True) \n",
    "                                     #디렉토리가 이미 있으면 안만든다.\n",
    "                                     #False(기본) - 있으면 Exception 발생"
   ]
  },
  {
   "cell_type": "code",
   "execution_count": 9,
   "metadata": {},
   "outputs": [],
   "source": [
    "try:\n",
    "    os.makedirs(r\"c:\\a\\b\\c\")\n",
    "except:\n",
    "    pass"
   ]
  },
  {
   "cell_type": "code",
   "execution_count": 10,
   "metadata": {},
   "outputs": [
    {
     "data": {
      "text/plain": [
       "'C:\\\\classes\\\\01.Python_Basic'"
      ]
     },
     "execution_count": 10,
     "metadata": {},
     "output_type": "execute_result"
    }
   ],
   "source": [
    "os.getcwd()"
   ]
  },
  {
   "cell_type": "code",
   "execution_count": 14,
   "metadata": {},
   "outputs": [],
   "source": [
    "#생성한 파일들을 저장할 디렉토리를 생성\n",
    "os.makedirs(\"output\",exist_ok = True)"
   ]
  },
  {
   "cell_type": "code",
   "execution_count": 47,
   "metadata": {},
   "outputs": [
    {
     "name": "stdout",
     "output_type": "stream",
     "text": [
      "연결종료 여부:  False\n",
      "연결종료 여부:  True\n"
     ]
    },
    {
     "ename": "ValueError",
     "evalue": "I/O operation on closed file.",
     "output_type": "error",
     "traceback": [
      "\u001b[1;31m---------------------------------------------------------------------------\u001b[0m",
      "\u001b[1;31mValueError\u001b[0m                                Traceback (most recent call last)",
      "Cell \u001b[1;32mIn[47], line 15\u001b[0m\n\u001b[0;32m     13\u001b[0m fw\u001b[38;5;241m.\u001b[39mclose()\n\u001b[0;32m     14\u001b[0m \u001b[38;5;28mprint\u001b[39m(\u001b[38;5;124m\"\u001b[39m\u001b[38;5;124m연결종료 여부: \u001b[39m\u001b[38;5;124m\"\u001b[39m, fw\u001b[38;5;241m.\u001b[39mclosed)\n\u001b[1;32m---> 15\u001b[0m fw\u001b[38;5;241m.\u001b[39mwrite(\u001b[38;5;124m'\u001b[39m\u001b[38;5;124maaaa\u001b[39m\u001b[38;5;124m'\u001b[39m)\n",
      "\u001b[1;31mValueError\u001b[0m: I/O operation on closed file."
     ]
    }
   ],
   "source": [
    "#1. 연결\n",
    "fw = open(\"output/a.txt\",#연결대상 파일\n",
    "        \"wt\", #연결모드(목적) -w : 쓰기, t : 텍스트(str)\n",
    "         encoding = \"UTF-8\" #encoding방식. 생략: os 기본 인코딩 방식.\n",
    "         )\n",
    "\n",
    "#. 쓰기작업(출력 - output)\n",
    "fw.write(\"안녕하세요 \\n반갑습니다.\\nabcdefg\")\n",
    "fw.write(\"123456\")\n",
    "\n",
    "#3.파일연결 닫기(끊기 - 자원반납)\n",
    "print(\"연결종료 여부: \", fw.closed)\n",
    "fw.close()\n",
    "print(\"연결종료 여부: \", fw.closed)\n",
    "fw.write('aaaa')"
   ]
  },
  {
   "cell_type": "code",
   "execution_count": 50,
   "metadata": {},
   "outputs": [],
   "source": [
    "txt_list = [\"안녕하세요 \\n\", '반갑습니다. \\n', \"저는 홍길동 입니다. \\n\"]\n",
    "fw = open(\"output/b.txt\", 'wt', encoding = \"UTF - 8\")\n",
    "fw.writelines(txt_list)  #writelines : 리스트 전체 읽기.\n",
    "fw.close()"
   ]
  },
  {
   "cell_type": "code",
   "execution_count": 54,
   "metadata": {},
   "outputs": [
    {
     "name": "stdout",
     "output_type": "stream",
     "text": [
      "안녕하세요 \n",
      "반갑습니다. \n",
      "저는 홍길동 입니다. \n",
      "\n"
     ]
    }
   ],
   "source": [
    "fw = open(\"output/b.txt\", 'rt', encoding = \"utf-8\")\n",
    "print(fw.read())\n",
    "fw.close()"
   ]
  },
  {
   "cell_type": "code",
   "execution_count": null,
   "metadata": {},
   "outputs": [],
   "source": []
  },
  {
   "cell_type": "code",
   "execution_count": 26,
   "metadata": {},
   "outputs": [
    {
     "name": "stdout",
     "output_type": "stream",
     "text": [
      "<class 'str'>\n",
      "안녕하세요 \n",
      "반갑습니다.\n",
      "abcdefg123456\n"
     ]
    }
   ],
   "source": [
    "#입력작업(위의 출력 내용 읽어들이기.)\n",
    "#1. 연결\n",
    "fr = open(\"output/a.txt\",     #연결대상파일 경로.\n",
    "         \"rt\",                #모드 - r: 읽기, t - text\n",
    "         encoding = \"UTF = 8\")\n",
    "\n",
    "\n",
    "#2. 입력(읽기)\n",
    "txt = fr.read()\n",
    "print(type(txt))\n",
    "print(txt)\n",
    "\n",
    "\n",
    "#3. 연결닫기(자원반납.)\n",
    "fr.close()"
   ]
  },
  {
   "cell_type": "code",
   "execution_count": 35,
   "metadata": {},
   "outputs": [
    {
     "name": "stdout",
     "output_type": "stream",
     "text": [
      "안녕하세요 \n",
      "반갑습니다.\n",
      "abcdefg123456\n"
     ]
    }
   ],
   "source": [
    "a = open(\"output/a.txt\", 'r', encoding = \"UTF-8\")\n",
    "k = a.read()\n",
    "print(k)\n",
    "a.close()"
   ]
  },
  {
   "cell_type": "code",
   "execution_count": 42,
   "metadata": {},
   "outputs": [],
   "source": [
    "a = open(\"output/a.txt\", \"at\", encoding = \"UTF=8\")\n",
    "a.write('추가하였습니다.')\n",
    "\n",
    "a.close()"
   ]
  },
  {
   "cell_type": "code",
   "execution_count": 43,
   "metadata": {},
   "outputs": [
    {
     "name": "stdout",
     "output_type": "stream",
     "text": [
      "안녕하세요 \n",
      "반갑습니다.\n",
      "abcdefg123456추가하였습니다.\n"
     ]
    }
   ],
   "source": [
    "a = open(\"output/a.txt\", 'rt', encoding = 'UTF -8')\n",
    "k = a.read()\n",
    "print(k)\n",
    "a.close()"
   ]
  },
  {
   "cell_type": "raw",
   "metadata": {
    "slideshow": {
     "slide_type": "slide"
    }
   },
   "source": [
    "### 입력 메소드\n",
    "- read() : 문자열(text mode), bytes(binary mode) \n",
    "    - 연결된 파일의 내용을 한번에 모두 읽어 들인다.\n",
    "- readline() : 문자열(text mode), bytes(binary mode)\n",
    "    - 한 줄만 읽는다.\n",
    "    - text 입력일 경우만 사용가능\n",
    "    - 읽은 라인이 없으면 **빈문자열**을 리턴한다.\n",
    "- readlines() : 리스트\n",
    "    - 한번에 다 읽은 뒤 각각의 라인을 리스트에 원소로 담아 반환한다.\n",
    "- Text Input Stream (TextIOWrapper, BufferedReader)은 Iterable 타입.\n",
    "    - for문을 이용한 라인단위 순차 조회할 수 있다."
   ]
  },
  {
   "cell_type": "code",
   "execution_count": 75,
   "metadata": {
    "slideshow": {
     "slide_type": "fragment"
    }
   },
   "outputs": [
    {
     "name": "stdout",
     "output_type": "stream",
     "text": [
      "--------------\n",
      "readlines : 한번에 다 읽은 것을 라인별로 리스트에 담아 반환.\n",
      "['안녕하세요 \\n', '반갑습니다.\\n', 'abcdefg123456']\n"
     ]
    }
   ],
   "source": [
    "fr = open(\"output/a.txt\", 'rt', encoding = 'UTF -8')\n",
    "# print(\"read() : 한번에 다읽기\")\n",
    "# print(fr.read())\n",
    "# print(\"readline : 한줄만 읽기\")\n",
    "# print(\"------------\")\n",
    "# print(fr.readline(), end=\"\")\n",
    "# print(fr.readline())\n",
    "print(\"--------------\")\n",
    "print(\"readlines : 한번에 다 읽은 것을 라인별로 리스트에 담아 반환.\")\n",
    "print(fr.readlines())\n",
    "fr.close()"
   ]
  },
  {
   "cell_type": "code",
   "execution_count": 81,
   "metadata": {},
   "outputs": [
    {
     "name": "stdout",
     "output_type": "stream",
     "text": [
      "1. 안녕하세요\n",
      "2. 반갑습니다.\n",
      "3. abcdefg123456\n"
     ]
    }
   ],
   "source": [
    "fr = open(\"output/a.txt\", 'rt', encoding = 'utf -8')\n",
    "for index, txt in enumerate(fr):\n",
    "    print(f\"{index +1}. {txt.strip()}\")\n",
    "fr.close()"
   ]
  },
  {
   "cell_type": "markdown",
   "metadata": {
    "slideshow": {
     "slide_type": "slide"
    }
   },
   "source": [
    "## with block\n",
    "\n",
    "파일과 입출력 작업이 다 끝나면 반드시 연결을 닫아야 한다. 매번 연결을 닫는 작업을 하는 것이 번거롭고 실수로 안 닫을 경우 문제가 생길 수 있다. **with block은 block을 벗어나면 자동으로 연결을 닫아 준다.** 그래서 연결을 닫는 코드를 생략할 수 있다.\n",
    "\n",
    "- 구문\n",
    "```python\n",
    "with open() as 변수: # `변수`는 open()이 반환하는 Stream객체를 참조한다.\n",
    "    입출력 작업      # 변수를 이용해 입출력 작업을 처리한다.\n",
    "# with block을 빠져 나오면 close()가 자동으로 실행된다.\n",
    "```"
   ]
  },
  {
   "cell_type": "code",
   "execution_count": 91,
   "metadata": {
    "slideshow": {
     "slide_type": "fragment"
    }
   },
   "outputs": [
    {
     "name": "stdout",
     "output_type": "stream",
     "text": [
      "파일명 : d\n",
      "예외발생 : [Errno 17] File exists: 'output/d.txt'\n"
     ]
    }
   ],
   "source": [
    "filename = input(\"파일명 : \")\n",
    "try:\n",
    "    fw = open(f\"output/{filename}.txt\", \"xt\" # x: 없는 파일과 연결해서 출력. 파일이 있으면 Exception 발생\n",
    "             ) #FIleExistsError 발생 가능성이 있는 코드.\n",
    "    fw.write(\"안녕하세요\")\n",
    "    fw.write(\"안녕하세요\")\n",
    "    fw.write(\"안녕하세요\")\n",
    "    fw.write(\"안녕하세요\")\n",
    "    fw.write(10000)\n",
    "\n",
    "    \n",
    "except Exception as e:\n",
    "    print(\"예외발생 :\",e)\n",
    "    \n",
    "finally:\n",
    "    if fw:\n",
    "        fw.close()"
   ]
  },
  {
   "cell_type": "code",
   "execution_count": 93,
   "metadata": {},
   "outputs": [
    {
     "data": {
      "text/plain": [
       "True"
      ]
     },
     "execution_count": 93,
     "metadata": {},
     "output_type": "execute_result"
    }
   ],
   "source": [
    "fw.closed"
   ]
  },
  {
   "cell_type": "code",
   "execution_count": 95,
   "metadata": {},
   "outputs": [
    {
     "name": "stdout",
     "output_type": "stream",
     "text": [
      "with Block 종료 --> close()는 자동 실행\n"
     ]
    }
   ],
   "source": [
    "#연결\n",
    "with open(\"output/e.txt\", \"wt\", encoding = 'utf -8') as fw:\n",
    "# fw = open(\"output/e.txt\", \"wt\", encoding = 'utf -8')   와 같다.\n",
    "    try:\n",
    "        fw.write(\"안녕하세요\\n\")\n",
    "        fw.write(\"abcde\")\n",
    "    except:\n",
    "        print(\"예외발생\")\n",
    "print(\"with Block 종료 --> close()는 자동 실행\")"
   ]
  },
  {
   "cell_type": "code",
   "execution_count": 97,
   "metadata": {},
   "outputs": [
    {
     "data": {
      "text/plain": [
       "True"
      ]
     },
     "execution_count": 97,
     "metadata": {},
     "output_type": "execute_result"
    }
   ],
   "source": [
    "fw.closed"
   ]
  },
  {
   "cell_type": "code",
   "execution_count": 99,
   "metadata": {},
   "outputs": [
    {
     "name": "stdout",
     "output_type": "stream",
     "text": [
      "종료\n"
     ]
    }
   ],
   "source": [
    "#a.txt를 읽어서 a2.txt에 출력\n",
    "try:\n",
    "    with open(\"output/a.txt\", \"rt\", encoding = \"utf -8\") as fr:\n",
    "        with open(\"output/a2.txt\", \"wt\", encoding = \"utf -8\") as fw:\n",
    "            for line_num, line_txt in enumerate(fr, start =1):\n",
    "                fw.write(f\"{line_num}, {line_txt}\")\n",
    "    \n",
    "except Exception as e:\n",
    "    print(e)\n",
    "    \n",
    "print('종료')"
   ]
  },
  {
   "cell_type": "code",
   "execution_count": null,
   "metadata": {},
   "outputs": [],
   "source": [
    "# with open(\"output/kk.txt\", \"wt\", encoding = \"utf-8\")"
   ]
  },
  {
   "cell_type": "markdown",
   "metadata": {},
   "source": [
    "# Binary Data 입출력\n",
    "\n",
    "## `bytes` type\n",
    "binary 데이터를 입출력하기 위한 타입.  \n",
    "파이썬의 하나의 출력함수로 다양한 데이터타입의 값을 출력하기 위해 **bytes 타입으로 변환** 해야 한다. \n",
    "또 binary 데이터를 읽을 경우 **bytes 타입**으로 반환한다. 이것을 저장 전 원래 타입으로 쓰기 위해서는 bytes에서 원래 타입으로 변환하는 작업이 필요하다.   "
   ]
  },
  {
   "cell_type": "code",
   "execution_count": 104,
   "metadata": {},
   "outputs": [
    {
     "name": "stdout",
     "output_type": "stream",
     "text": [
      "<class 'bytes'> <class 'bytes'>\n"
     ]
    }
   ],
   "source": [
    "a = '안녕'\n",
    "b = 30\n",
    "with open(\"a10.dat\", \"wb\") as fw: # binary 출력 => bytes로 출력값을 받는다.\n",
    "    a_byte = a.encode(\"utf-8\")\n",
    "    b_byte = b.to_bytes(1, byteorder = \"little\", signed = True)\n",
    "    print(type(a_byte), type(b_byte))\n",
    "    fw.write(a_byte) #값 : bytes\n",
    "    fw.write(b_byte)"
   ]
  },
  {
   "cell_type": "markdown",
   "metadata": {
    "slideshow": {
     "slide_type": "slide"
    }
   },
   "source": [
    "## pickle 모듈을 이용한 객체 직렬화\n",
    "- pickle 모듈: binary data 입출력을 도와주는 표준 라이브러리.\n",
    "\n",
    "### 객체 직렬화(Object Serialization)\n",
    "- 객체의 속성값들을 bytes로 변환해 출력하는 것을 객체 직렬화(Object Serialization) 이라고 한다.\n",
    "- bytes로 출력된 데이터를 읽어 객체화 하는 것을 객체 역직렬화(Object Deserialization) 이라고 한다."
   ]
  },
  {
   "cell_type": "markdown",
   "metadata": {
    "slideshow": {
     "slide_type": "fragment"
    }
   },
   "source": [
    "### pickle 모듈\n",
    "- binary 모드로 출력하거나 입력받을 경우 **bytes**  타입으로 입출력을 진행한다.\n",
    "    - 그런데 각각의 타입이 변환하는 방식이 다르기때문에 입출력 코드가 복잡해 지는 문제가 있다. 이것을 추상화해서 binary 데이터 입출력을 쉽게 처리할 수 있게하는 표준모듈이 pickle이다.\n",
    "    - 파이썬의 모든 값은 객체 이므로 pickle은 객체 직렬화, 역직렬화를 위한 파이썬 표준모듈이다.\n",
    "\n",
    "- 저장시 파일 확장자는 보통 `pkl` 이나 `pickle` 로 한다.\n",
    "- ex)\n",
    "```python\n",
    "#### binary mode로 설정한다.\n",
    "fw = open(\"data.pkl\", \"wb\") # 객체를 pickle에 저장하기 위한 output stream 생성\n",
    "fr = open(\"data.pkl\", \"rb\") # 파일에 저장된 객체를 읽어오기 위한 input stream 생성\n",
    "```\n",
    "- **메소드**\n",
    "    - dump(저장할 객체, fw) : 출력\n",
    "    - load(fr): 입력 - 읽은 객체를 반환한다."
   ]
  },
  {
   "cell_type": "code",
   "execution_count": 109,
   "metadata": {
    "slideshow": {
     "slide_type": "fragment"
    }
   },
   "outputs": [],
   "source": [
    "import pickle\n",
    "i = 10\n",
    "with open(\"output/data.pkl\", \"wb\", ) as fw:\n",
    "    pickle.dump(i, fw) # i를 fw를 이용해서 출력.\n",
    "    "
   ]
  },
  {
   "cell_type": "code",
   "execution_count": 106,
   "metadata": {},
   "outputs": [
    {
     "name": "stdout",
     "output_type": "stream",
     "text": [
      "<class 'int'> 10\n"
     ]
    }
   ],
   "source": [
    "#읽기\n",
    "with open(\"output/data.pkl\", \"rb\") as fr:\n",
    "    j = pickle.load(fr)\n",
    "    print(type(j), j)"
   ]
  },
  {
   "cell_type": "code",
   "execution_count": 110,
   "metadata": {},
   "outputs": [],
   "source": [
    "l = [\"홍길동\", 30, 100.34]\n",
    "with open(\"output/list.pkl\", \"wb\") as fw:\n",
    "    pickle.dump(l, fw)"
   ]
  },
  {
   "cell_type": "code",
   "execution_count": 112,
   "metadata": {},
   "outputs": [
    {
     "name": "stdout",
     "output_type": "stream",
     "text": [
      "['홍길동', 30, 100.34]\n"
     ]
    }
   ],
   "source": [
    "with open(\"output/list.pkl\", \"rb\") as fr:\n",
    "    k = pickle.load(fr)\n",
    "    print(k)"
   ]
  },
  {
   "cell_type": "code",
   "execution_count": 113,
   "metadata": {},
   "outputs": [],
   "source": [
    "class Person:\n",
    "    def __init__(self, name, age):\n",
    "        self.name = name\n",
    "        self.age = age\n",
    "        \n",
    "    def __str__(self):\n",
    "        return f\"{self.name}, {self.age}\""
   ]
  },
  {
   "cell_type": "code",
   "execution_count": 115,
   "metadata": {},
   "outputs": [],
   "source": [
    "p = Person('홍길동', 33)\n",
    "\n",
    "with open(\"person.pkl\", \"wb\") as fw:\n",
    "    pickle.dump(p, fw)"
   ]
  },
  {
   "cell_type": "code",
   "execution_count": 118,
   "metadata": {},
   "outputs": [
    {
     "name": "stdout",
     "output_type": "stream",
     "text": [
      "홍길동, 33\n",
      "<class '__main__.Person'>\n"
     ]
    }
   ],
   "source": [
    "with open(\"person.pkl\", \"rb\") as fr:\n",
    "    k = pickle.load(fr)\n",
    "    print(k)\n",
    "    print(type(k))"
   ]
  },
  {
   "cell_type": "code",
   "execution_count": null,
   "metadata": {},
   "outputs": [],
   "source": []
  },
  {
   "cell_type": "markdown",
   "metadata": {
    "slideshow": {
     "slide_type": "skip"
    }
   },
   "source": [
    "# TODO"
   ]
  },
  {
   "cell_type": "markdown",
   "metadata": {
    "slideshow": {
     "slide_type": "skip"
    }
   },
   "source": [
    "- ## 간단한 CLI 기반 메모장\n",
    "    1. 사용자로부터 파일명을 입력받는다.\n",
    "    2. 사용자로부터 파일에 저장할 문장을 입력받아서 파일에 저장한다.\n",
    "        - 한줄씩 입력받는다.\n",
    "        - 사용자가 !q 를 입력하면 저장후 종료한다.\n",
    "    3. 사용자가 저장한 파일을 읽어서 출력한다.\n"
   ]
  },
  {
   "cell_type": "code",
   "execution_count": 1,
   "metadata": {},
   "outputs": [
    {
     "name": "stdout",
     "output_type": "stream",
     "text": [
      "Writing simple_memo.py\n"
     ]
    }
   ],
   "source": [
    "%%writefile simple_memo.py\n",
    "\n",
    "import os\n",
    "\n",
    "def memo():\n",
    "    os.makedirs(\"output\", exist_ok= True)\n",
    "    print(\"저장할 파일을 입력히세요.\")\n",
    "    \n",
    "    txt_name = input(\"파일명을 입력하세요 : \")\n",
    "    print(\"=\"*50)\n",
    "    \n",
    "    with open(f\"output/{txt_name}.txt\", \"wt\", encoding = \"utf - 8\") as fw:\n",
    "        print('안녕하세요')\n",
    "        print('='*50)\n",
    "        while True:\n",
    "            line_txt = input(\">> : \")\n",
    "\n",
    "            if line_txt == \"!q\":\n",
    "                break\n",
    "            fw.write(line_txt+\"\\n\")\n",
    "            \n",
    "    memo()\n",
    "    "
   ]
  },
  {
   "cell_type": "code",
   "execution_count": null,
   "metadata": {},
   "outputs": [],
   "source": [
    "from simple_memo import memo\n",
    "\n",
    "memo()"
   ]
  },
  {
   "cell_type": "code",
   "execution_count": null,
   "metadata": {},
   "outputs": [],
   "source": [
    "i\n",
    "with open(f\"output/{txt_name}.txt\", \"wt\", encoding = \"utf - 8\") as fr:\n",
    "    print(fr.read())\n",
    "    fr.close()"
   ]
  },
  {
   "cell_type": "markdown",
   "metadata": {
    "slideshow": {
     "slide_type": "skip"
    }
   },
   "source": [
    "- ## CSV 데이터파일 조회\n",
    "member.csv 파일을 읽어서 각 열의 값(속성값)들을 리스트에 담는다.  \n",
    "이름은 names, 나이는 ages, 주소는 addresses 리스트에 넣는다.\n",
    "- 단 첫줄은 head이므로 읽지 않는다.\n",
    "- 참고 함수: 문자열 split(), for문 관련 enumerate()\n",
    "\n",
    "```\n",
    "이름,나이,주소\n",
    "이순신,17,서울\n",
    "유관순,27,광주\n",
    "홍길동,20,서울\n",
    "김영수,30,인천\n",
    "박영희,23,부산\n",
    "```"
   ]
  },
  {
   "cell_type": "code",
   "execution_count": 151,
   "metadata": {},
   "outputs": [
    {
     "name": "stdout",
     "output_type": "stream",
     "text": [
      "Overwriting member.csv\n"
     ]
    }
   ],
   "source": [
    "%%writefile member.csv\n",
    "\n",
    "이름,나이,주소\n",
    "이순신,17,서울\n",
    "유관순,27,광주\n",
    "홍길동,20,서울\n",
    "김영수,30,인천\n",
    "박영희,23,부산\n",
    "\n"
   ]
  },
  {
   "cell_type": "code",
   "execution_count": 2,
   "metadata": {},
   "outputs": [
    {
     "name": "stdout",
     "output_type": "stream",
     "text": [
      "['\\n', '이름,나이,주소\\n', '이순신,17,서울\\n', '유관순,27,광주\\n', '홍길동,20,서울\\n', '김영수,30,인천\\n', '박영희,23,부산\\n', '\\n']\n"
     ]
    }
   ],
   "source": [
    "with open(\"member.csv\", \"rt\", encoding=\"utf-8\") as fr:\n",
    "    a = fr.readlines()\n",
    "    print(a)"
   ]
  },
  {
   "cell_type": "code",
   "execution_count": 20,
   "metadata": {},
   "outputs": [
    {
     "ename": "IndentationError",
     "evalue": "unexpected indent (317293735.py, line 6)",
     "output_type": "error",
     "traceback": [
      "\u001b[1;36m  Cell \u001b[1;32mIn[20], line 6\u001b[1;36m\u001b[0m\n\u001b[1;33m    name, age, address = line_txt.strip().split(\",\")\u001b[0m\n\u001b[1;37m    ^\u001b[0m\n\u001b[1;31mIndentationError\u001b[0m\u001b[1;31m:\u001b[0m unexpected indent\n"
     ]
    }
   ],
   "source": [
    "names, ages, addresses = [], [], []\n",
    "\n",
    "with open(\"member.csv\", \"rt\", encoding=\"utf-8\") as fr:\n",
    "    for idx, line_txt in enumerate(fr):\n",
    "        if idx == 0:\n",
    "            continue\n",
    "        name, age, address = line_txt.strip().split(\",\")\n",
    "        names.append(name)\n",
    "        ages.append(age)\n",
    "        addresses.append(address)\n",
    "\n",
    "    "
   ]
  },
  {
   "cell_type": "code",
   "execution_count": 21,
   "metadata": {},
   "outputs": [
    {
     "name": "stdout",
     "output_type": "stream",
     "text": [
      "['이름', '이순신', '유관순', '홍길동', '김영수', '박영희']\n",
      "['나이', '17', '27', '20', '30', '23']\n",
      "['주소', '서울', '광주', '서울', '인천', '부산']\n"
     ]
    }
   ],
   "source": [
    "print(names)\n",
    "print(ages)\n",
    "print(addresses)"
   ]
  },
  {
   "cell_type": "code",
   "execution_count": 218,
   "metadata": {},
   "outputs": [
    {
     "name": "stdout",
     "output_type": "stream",
     "text": [
      "['이순신', '유관순', '홍길동', '김영수', '박영희']\n",
      "['17', '27', '20', '30', '23']\n",
      "['서울\\n', '광주\\n', '서울\\n', '인천\\n', '부산\\n']\n"
     ]
    },
    {
     "ename": "TypeError",
     "evalue": "'int' object is not iterable",
     "output_type": "error",
     "traceback": [
      "\u001b[1;31m---------------------------------------------------------------------------\u001b[0m",
      "\u001b[1;31mTypeError\u001b[0m                                 Traceback (most recent call last)",
      "Cell \u001b[1;32mIn[218], line 21\u001b[0m\n\u001b[0;32m     18\u001b[0m     address\u001b[38;5;241m.\u001b[39mappend(k)\n\u001b[0;32m     19\u001b[0m \u001b[38;5;28mprint\u001b[39m(address)\n\u001b[1;32m---> 21\u001b[0m \u001b[38;5;28;01mfor\u001b[39;00m index , i \u001b[38;5;129;01min\u001b[39;00m \u001b[38;5;28menumerate\u001b[39m(\u001b[38;5;28mlen\u001b[39m(name),start \u001b[38;5;241m=\u001b[39m \u001b[38;5;241m1\u001b[39m):\n\u001b[0;32m     22\u001b[0m     \u001b[38;5;28mprint\u001b[39m(\u001b[38;5;124mf\u001b[39m\u001b[38;5;124m\"\u001b[39m\u001b[38;5;132;01m{\u001b[39;00mindex\u001b[38;5;132;01m}\u001b[39;00m\u001b[38;5;124m. \u001b[39m\u001b[38;5;132;01m{\u001b[39;00mname[i]\u001b[38;5;132;01m}\u001b[39;00m\u001b[38;5;124m\"\u001b[39m)\n",
      "\u001b[1;31mTypeError\u001b[0m: 'int' object is not iterable"
     ]
    }
   ],
   "source": [
    "#내가 한것.\n",
    "name = []\n",
    "age = []\n",
    "address = []\n",
    "with open(\"member.csv\", \"rt\", encoding=\"utf-8\") as fr:\n",
    "    a = fr.readlines()\n",
    "    for i in range(2,7):\n",
    "        k = a[i].split(',')[0]\n",
    "        name.append(k)\n",
    "    print(name)\n",
    "    \n",
    "    for index, i in enumerate(range(2,7), start = 0):\n",
    "        k = a[i].split(',')[1]\n",
    "        age.append(k)\n",
    "    print(age)\n",
    "    \n",
    "    for i in range(2,7):\n",
    "        k = a[i].split(',')[2]\n",
    "        address.append(k)\n",
    "    print(address)\n",
    "    \n",
    "    for index , i in enumerate(len(name),start = 1):\n",
    "        print(f\"{index}. {name[i]}\")\n"
   ]
  },
  {
   "cell_type": "code",
   "execution_count": 210,
   "metadata": {},
   "outputs": [
    {
     "name": "stdout",
     "output_type": "stream",
     "text": [
      "1.유관순\n",
      "2.홍길동\n",
      "3.김영수\n"
     ]
    }
   ],
   "source": [
    "a = ['이순신', '유관순', '홍길동', '김영수', '박영희']\n",
    "for index , i in enumerate(range(1,4), start = 1):\n",
    "    print(f'{index}.{a[i]}')"
   ]
  },
  {
   "cell_type": "markdown",
   "metadata": {
    "slideshow": {
     "slide_type": "skip"
    }
   },
   "source": [
    "> **CSV (Comma Separated Value)** 파일\n",
    "> - 데이터들을 정형화(표)된 형태로 텍스트파일에 저장하는 방식\n",
    "> - 하나의 데이터는 한줄에 표시. (데이터 구분자는 엔터)\n",
    "> - 하나의 데이터를 구성하는 값들(속성)들은 , 로 구분\n",
    ">     - tab으로 구분하는 경우 TSV \n",
    ">     - 각 속성값들은 \" \" 로 감싸기도 한다.\n",
    "> - 텍스트기반\n",
    "> - 파일 확장자는 `.csv`, `.tsv` 로 준다."
   ]
  },
  {
   "cell_type": "code",
   "execution_count": null,
   "metadata": {},
   "outputs": [],
   "source": []
  }
 ],
 "metadata": {
  "kernelspec": {
   "display_name": "Python 3 (ipykernel)",
   "language": "python",
   "name": "python3"
  },
  "language_info": {
   "codemirror_mode": {
    "name": "ipython",
    "version": 3
   },
   "file_extension": ".py",
   "mimetype": "text/x-python",
   "name": "python",
   "nbconvert_exporter": "python",
   "pygments_lexer": "ipython3",
   "version": "3.11.5"
  },
  "toc": {
   "base_numbering": 1,
   "nav_menu": {},
   "number_sections": true,
   "sideBar": true,
   "skip_h1_title": false,
   "title_cell": "Table of Contents",
   "title_sidebar": "Contents",
   "toc_cell": false,
   "toc_position": {},
   "toc_section_display": true,
   "toc_window_display": false
  },
  "varInspector": {
   "cols": {
    "lenName": 16,
    "lenType": 16,
    "lenVar": 40
   },
   "kernels_config": {
    "python": {
     "delete_cmd_postfix": "",
     "delete_cmd_prefix": "del ",
     "library": "var_list.py",
     "varRefreshCmd": "print(var_dic_list())"
    },
    "r": {
     "delete_cmd_postfix": ") ",
     "delete_cmd_prefix": "rm(",
     "library": "var_list.r",
     "varRefreshCmd": "cat(var_dic_list()) "
    }
   },
   "types_to_exclude": [
    "module",
    "function",
    "builtin_function_or_method",
    "instance",
    "_Feature"
   ],
   "window_display": false
  }
 },
 "nbformat": 4,
 "nbformat_minor": 4
}
