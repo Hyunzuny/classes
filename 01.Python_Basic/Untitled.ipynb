{
 "cells": [
  {
   "cell_type": "code",
   "execution_count": 45,
   "id": "a1de312c",
   "metadata": {},
   "outputs": [
    {
     "ename": "IndentationError",
     "evalue": "unindent does not match any outer indentation level (<tokenize>, line 7)",
     "output_type": "error",
     "traceback": [
      "\u001b[1;36m  File \u001b[1;32m<tokenize>:7\u001b[1;36m\u001b[0m\n\u001b[1;33m    def get_user_info(self):\u001b[0m\n\u001b[1;37m    ^\u001b[0m\n\u001b[1;31mIndentationError\u001b[0m\u001b[1;31m:\u001b[0m unindent does not match any outer indentation level\n"
     ]
    }
   ],
   "source": [
    "class User:\n",
    "    \n",
    "    def __init__(self, name, age, address):\n",
    "        self.a = a\n",
    "        self.b = b\n",
    "        \n",
    "    def get_user_info(self):\n",
    "    return f\"이름 : {self.name}, 나이 : {self.age}, 주소 : {self.address}\"\n",
    "\n",
    "    def get_city_type(self):\n",
    "        if self.address == '서울':\n",
    "            result = \"특별시\"\n",
    "        elif self.address == ['대구','부산','인천','대전']:\n",
    "            result = \"광역시\"\n",
    "\n",
    "\n",
    "\n",
    "   "
   ]
  },
  {
   "cell_type": "code",
   "execution_count": 43,
   "id": "c3042150",
   "metadata": {},
   "outputs": [
    {
     "data": {
      "text/plain": [
       "'3 + 5는 18이다'"
      ]
     },
     "execution_count": 43,
     "metadata": {},
     "output_type": "execute_result"
    }
   ],
   "source": [
    "# u1 = User(3,5)\n",
    "u1 = User(3,5)\n",
    "u1.get_info(10)"
   ]
  },
  {
   "cell_type": "code",
   "execution_count": null,
   "id": "81cc42be",
   "metadata": {},
   "outputs": [],
   "source": []
  }
 ],
 "metadata": {
  "kernelspec": {
   "display_name": "Python 3 (ipykernel)",
   "language": "python",
   "name": "python3"
  },
  "language_info": {
   "codemirror_mode": {
    "name": "ipython",
    "version": 3
   },
   "file_extension": ".py",
   "mimetype": "text/x-python",
   "name": "python",
   "nbconvert_exporter": "python",
   "pygments_lexer": "ipython3",
   "version": "3.11.5"
  }
 },
 "nbformat": 4,
 "nbformat_minor": 5
}
