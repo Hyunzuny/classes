{
 "cells": [
  {
   "cell_type": "code",
   "execution_count": 59,
   "id": "9d61fda1",
   "metadata": {},
   "outputs": [],
   "source": [
    "class User:\n",
    "    \n",
    "    def __init__(self, name, age):\n",
    "        self.name = name\n",
    "        self. age = age\n",
    "        \n",
    "    def info(self):\n",
    "        return f'이름은 {self.name} 나이는 {self.age}'\n",
    "    \n",
    "    def add_age(self, age):\n",
    "        self.age = self.age + age\n",
    "    \n",
    "\n"
   ]
  },
  {
   "cell_type": "code",
   "execution_count": 60,
   "id": "01106af1",
   "metadata": {},
   "outputs": [],
   "source": [
    "\n",
    "u1 = User('홍길동', 30)\n",
    "u1.add_age(3)"
   ]
  },
  {
   "cell_type": "code",
   "execution_count": 61,
   "id": "a3088749",
   "metadata": {},
   "outputs": [
    {
     "data": {
      "text/plain": [
       "'이름은 홍길동 나이는 33'"
      ]
     },
     "execution_count": 61,
     "metadata": {},
     "output_type": "execute_result"
    }
   ],
   "source": [
    "u1.info()"
   ]
  },
  {
   "cell_type": "code",
   "execution_count": 5,
   "id": "46f57d40",
   "metadata": {},
   "outputs": [
    {
     "name": "stdout",
     "output_type": "stream",
     "text": [
      "1 2 3 4 5 6 7 8 9 2 4 6 8 10 12 14 16 18 3 6 9 12 15 18 21 24 27 4 8 12 16 20 24 28 32 36 5 10 15 20 25 30 35 40 45 6 12 18 24 30 36 42 48 54 7 14 21 28 35 42 49 56 63 8 16 24 32 40 48 56 64 72 9 18 27 36 45 54 63 72 81 "
     ]
    }
   ],
   "source": [
    "for i in range(1,10):\n",
    "    for x in range(1,10):\n",
    "        a = i * x\n",
    "        print(a, end=\" \")\n",
    "        "
   ]
  },
  {
   "cell_type": "code",
   "execution_count": null,
   "id": "951ce90e",
   "metadata": {},
   "outputs": [],
   "source": []
  }
 ],
 "metadata": {
  "kernelspec": {
   "display_name": "Python 3 (ipykernel)",
   "language": "python",
   "name": "python3"
  },
  "language_info": {
   "codemirror_mode": {
    "name": "ipython",
    "version": 3
   },
   "file_extension": ".py",
   "mimetype": "text/x-python",
   "name": "python",
   "nbconvert_exporter": "python",
   "pygments_lexer": "ipython3",
   "version": "3.11.5"
  }
 },
 "nbformat": 4,
 "nbformat_minor": 5
}
