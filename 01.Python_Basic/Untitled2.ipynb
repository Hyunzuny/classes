{
 "cells": [
  {
   "cell_type": "code",
   "execution_count": 1,
   "id": "2535e685",
   "metadata": {},
   "outputs": [],
   "source": [
    "class User:\n",
    "    \n",
    "    def __init__(self, name, age, email):  #name, age, email : 어트리뷰트\n",
    "        self.name = name\n",
    "        self.age = age\n",
    "        self.email = email\n",
    "        self.address = '서울'\n",
    "        \n",
    "        \n",
    "    def age(self, age):\n",
    "        self.age += age\n",
    "        \n",
    "        \n",
    "    def get_user_info(self):\n",
    "        return f'{self.name}, {self.age}, {self.email}, {self.address}'\n",
    "    \n",
    "    def get_city_type(self):\n",
    "        result = None\n",
    "        if self.address =='서울':\n",
    "            result = \"특별시\"\n",
    "        elif self.address in [\"부산\", \"인천\", \"대구\", \"광주\", \"울산\", \"대전\"]:\n",
    "            result = \"광역시\"\n",
    "        else:\n",
    "            result = \"일반시\"\n",
    "            return result"
   ]
  },
  {
   "cell_type": "code",
   "execution_count": null,
   "id": "62418a92",
   "metadata": {},
   "outputs": [],
   "source": []
  },
  {
   "cell_type": "code",
   "execution_count": 2,
   "id": "dd3bfc32",
   "metadata": {},
   "outputs": [
    {
     "ename": "TypeError",
     "evalue": "'int' object is not callable",
     "output_type": "error",
     "traceback": [
      "\u001b[1;31m---------------------------------------------------------------------------\u001b[0m",
      "\u001b[1;31mTypeError\u001b[0m                                 Traceback (most recent call last)",
      "Cell \u001b[1;32mIn[2], line 2\u001b[0m\n\u001b[0;32m      1\u001b[0m u1 \u001b[38;5;241m=\u001b[39m User(\u001b[38;5;124m'\u001b[39m\u001b[38;5;124m홍길동\u001b[39m\u001b[38;5;124m'\u001b[39m, \u001b[38;5;241m30\u001b[39m, \u001b[38;5;124m\"\u001b[39m\u001b[38;5;124mhyunzuny@gmail.com\u001b[39m\u001b[38;5;124m\"\u001b[39m) \u001b[38;5;66;03m#u1 : 인스턴스 , User : 클래스\u001b[39;00m\n\u001b[1;32m----> 2\u001b[0m u1\u001b[38;5;241m.\u001b[39mage(\u001b[38;5;241m5\u001b[39m)\n\u001b[0;32m      5\u001b[0m \u001b[38;5;28mprint\u001b[39m(u1\u001b[38;5;241m.\u001b[39mget_user_info())\n",
      "\u001b[1;31mTypeError\u001b[0m: 'int' object is not callable"
     ]
    }
   ],
   "source": [
    "u1 = User('홍길동', 30, \"hyunzuny@gmail.com\") #u1 : 인스턴스 , User : 클래스\n",
    "u1.age(5)\n",
    "\n",
    "\n",
    "print(u1.get_user_info())"
   ]
  },
  {
   "cell_type": "code",
   "execution_count": null,
   "id": "ac471949",
   "metadata": {},
   "outputs": [],
   "source": [
    "\n"
   ]
  },
  {
   "cell_type": "code",
   "execution_count": 8,
   "id": "1182aa92",
   "metadata": {},
   "outputs": [],
   "source": [
    "class MyDate:\n",
    "    \n",
    "    def __init__(self, year, month, day):\n",
    "        self.year = year\n",
    "        self.month = month\n",
    "        self.day = day\n",
    "        self.address = '서울'\n",
    "        \n",
    "    @property\n",
    "    def year(self):\n",
    "        return self.__year\n",
    "    \n",
    "    @property\n",
    "    def month(self):\n",
    "        return self.__month\n",
    "    \n",
    "    @property\n",
    "    def day(self):\n",
    "        return self.__day\n",
    "    \n",
    "    @year.setter\n",
    "    def year(self, year):\n",
    "        if year >=1 and year <=2030:\n",
    "            self.__year = year\n",
    "        else:\n",
    "            print(\"1~2023 사이의 값을 넣으세요\")\n",
    "            \n",
    "    @month.setter\n",
    "    def month(self, month):\n",
    "        if month >=1 and month <= 12:\n",
    "            self.__month = month\n",
    "        else:\n",
    "            print(\"1~12사이의 값을 넣으세요\")\n",
    "            \n",
    "    @day.setter\n",
    "    def day(self, day):\n",
    "        if day>=1 and day<=31:\n",
    "            self.__day = day\n",
    "        else:\n",
    "            print(\"1~31사이의 값을 넣으세요\")\n",
    "            \n",
    "    def get_date(self):\n",
    "        return f\"{self.__year}년, {self.__month}월, {self.__day}일, 주소{self.address}\""
   ]
  },
  {
   "cell_type": "code",
   "execution_count": 9,
   "id": "5e73d907",
   "metadata": {},
   "outputs": [],
   "source": [
    "u1 = MyDate(2024, 1, 8)"
   ]
  },
  {
   "cell_type": "code",
   "execution_count": 10,
   "id": "9ea8160a",
   "metadata": {},
   "outputs": [
    {
     "name": "stdout",
     "output_type": "stream",
     "text": [
      "2024년, 1월, 8일, 주소서울\n"
     ]
    }
   ],
   "source": [
    "print(u1.get_date())"
   ]
  },
  {
   "cell_type": "code",
   "execution_count": null,
   "id": "6fca463d",
   "metadata": {},
   "outputs": [],
   "source": []
  },
  {
   "cell_type": "code",
   "execution_count": null,
   "id": "5d12a241",
   "metadata": {},
   "outputs": [],
   "source": []
  },
  {
   "cell_type": "code",
   "execution_count": null,
   "id": "4dd6e9be",
   "metadata": {},
   "outputs": [],
   "source": []
  },
  {
   "cell_type": "code",
   "execution_count": null,
   "id": "047d7563",
   "metadata": {},
   "outputs": [],
   "source": []
  },
  {
   "cell_type": "code",
   "execution_count": null,
   "id": "d077cc80",
   "metadata": {},
   "outputs": [],
   "source": []
  }
 ],
 "metadata": {
  "kernelspec": {
   "display_name": "Python 3 (ipykernel)",
   "language": "python",
   "name": "python3"
  },
  "language_info": {
   "codemirror_mode": {
    "name": "ipython",
    "version": 3
   },
   "file_extension": ".py",
   "mimetype": "text/x-python",
   "name": "python",
   "nbconvert_exporter": "python",
   "pygments_lexer": "ipython3",
   "version": "3.11.5"
  }
 },
 "nbformat": 4,
 "nbformat_minor": 5
}
