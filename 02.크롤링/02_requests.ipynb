{
 "cells": [
  {
   "cell_type": "markdown",
   "metadata": {
    "slideshow": {
     "slide_type": "slide"
    }
   },
   "source": [
    "# requests 모듈을 이용한 웹 요청   - (가져올때 쓴다.)\n",
    "- [Requests 홈페이지](https://requests.kennethreitz.org/en/master/)\n",
    "- **HTTP 요청을 처리하는 파이썬 패키지**\n",
    "- get/post 방식 모두를 지원하며 쿠키, 헤더정보등을 HTTP의 다양한 요청처리를 지원한다.\n",
    "- 설치\n",
    "    - `pip install requests`\n",
    "    - `conda install -c conda-forge requests`"
   ]
  },
  {
   "cell_type": "markdown",
   "metadata": {},
   "source": [
    "## Crawling을 위한 requests 코딩 패턴\n",
    "1. requests의 get()/post() 함수를 이용해 url을 넣어 서버 요청한다.\n",
    "3. 응답받은 내용을 처리.\n",
    "    - text(HTML)은 BeautifulSoup에 넣어 parsing(원하는 내용을 찾아낸다는 뜻.)\n",
    "    - binary 파일의 경우 파일출력을 이용해 local에 저장"
   ]
  },
  {
   "cell_type": "markdown",
   "metadata": {
    "slideshow": {
     "slide_type": "slide"
    }
   },
   "source": [
    "## 요청 함수\n",
    "- get(): GET방식 요청\n",
    "- post(): POST방식 요청"
   ]
  },
  {
   "cell_type": "code",
   "execution_count": null,
   "metadata": {},
   "outputs": [],
   "source": [
    "#http method(requests) - \n",
    "#get() : 줘. ex) 웹브라우저에서 검색할 때.\n",
    "#post() : 가져. ex)로그인할 떄 내 정보가 넘어갈 때.\n",
    "#두가지방식 주로 사용.\n",
    "\n",
    "#크롤링 할 때 가져와야하기 때문에 get() 을 주로 사용."
   ]
  },
  {
   "cell_type": "markdown",
   "metadata": {
    "slideshow": {
     "slide_type": "slide"
    }
   },
   "source": [
    "### requests.get(URL)\n",
    "- **GET 방식 요청**\n",
    "- **주요 매개변수**\n",
    "    - params: 요청파라미터를 dictionary로 전달"
   ]
  },
  {
   "cell_type": "markdown",
   "metadata": {},
   "source": [
    "https://search.daum.net/search?w=tot&DA=YZR&t__nil_searchbox=btn&sug=&sugo=&sq=&o=&q=%ED%8C%8C%EC%9D%B4%EC%8D%AC 여기에서,\n",
    "\n",
    "https://search.daum.net/search?\n",
    "요청=파라미터&   & 뜻 : and\n",
    "w=tot&\n",
    "DA=YZR&\n",
    "t__nil_searchbox=btn&\n",
    "sug=&sugo=&sq=&\n",
    "o=&\n",
    "q=%ED%8C%8C%EC%9D%B4%EC%8D%AC"
   ]
  },
  {
   "cell_type": "markdown",
   "metadata": {
    "slideshow": {
     "slide_type": "slide"
    }
   },
   "source": [
    "    - headers: HTTP 요청 header를 dictionary로 전달"
   ]
  },
  {
   "cell_type": "code",
   "execution_count": null,
   "metadata": {},
   "outputs": [],
   "source": []
  },
  {
   "cell_type": "markdown",
   "metadata": {
    "slideshow": {
     "slide_type": "slide"
    }
   },
   "source": [
    "        - 'User-Agent', 'Referer' 등 헤더 설정\n",
    "    - cookies: 쿠키정보를 전달\n",
    "- **반환값(Return Value)**\n",
    "    - [Response](#Response객체): 응답결과"
   ]
  },
  {
   "cell_type": "code",
   "execution_count": null,
   "metadata": {},
   "outputs": [],
   "source": []
  },
  {
   "cell_type": "code",
   "execution_count": null,
   "metadata": {},
   "outputs": [],
   "source": []
  },
  {
   "cell_type": "code",
   "execution_count": null,
   "metadata": {},
   "outputs": [],
   "source": []
  },
  {
   "cell_type": "code",
   "execution_count": null,
   "metadata": {},
   "outputs": [],
   "source": []
  },
  {
   "cell_type": "markdown",
   "metadata": {},
   "source": [
    "### requests.post(URL)\n",
    "- **POST 방식 요청**\n",
    "- **주요 매개변수**\n",
    "    - datas : 요청파라미터를 dictionary로 전달\n",
    "    - files : 업로드할 파일을 dictionary로 전달\n",
    "        - key: 이름, value: 파일과 연결된 InputStream(TextIOWrapper)\n",
    "    - headers: HTTP 요청 header를 dictionary로 전달\n",
    "        - 'User-Agent', 'Referer' 등 헤더 설정\n",
    "    - cookies: 쿠키정보를 전달\n",
    "- **반환값(Return Value)**\n",
    "    - [Response](#Response객체): 응답결과"
   ]
  },
  {
   "cell_type": "markdown",
   "metadata": {
    "slideshow": {
     "slide_type": "subslide"
    }
   },
   "source": [
    "> ### 요청파라미터(Request Parameter)\n",
    "> - 요청파라미터란?\n",
    ">     - 서버가 일하기 위해 클라이언트로 부터 받아야하는 값들\n",
    ">     - `name=value` 형태이며 여러개일 경우 `&`로 연결해서 전송됨\n",
    "> - Get 요청시 queryString 으로 전달\n",
    ">     - querystring : URL 뒤에 붙여서 전송한다.\n",
    ">     - ex) https://search.naver.com/search.naver?sm=top_hty&fbm=1&ie=utf8&query=python\n",
    ">     - requests.get() 요청시 \n",
    ">         1. url 뒤에 querystring으로 붙여서 전송\n",
    ">         2. dictionary 에 name=value 형태로 만들어 매개변수 params에 전달\n",
    "> - Post 요청시 요청정보의 body에 넣어 전달"
   ]
  },
  {
   "cell_type": "markdown",
   "metadata": {},
   "source": [
    "> ### HTTP 요청 헤더(Request Header)\n",
    "> HTTP 요청시 웹브라우저가 client의 여러 부가적인 정보들을 Key-Value 쌍 형식으로 전달한다.\n",
    "> - accept: 클라이언트가 처리가능한 content 타입 (Mime-type 형식으로 전달)\n",
    "> - accept-language: 클라이언트가 지원하는 언어(ex: ko, en-US)\n",
    "> - host: 요청한 host \n",
    "> - user-agent: 웹브라우저 종류"
   ]
  },
  {
   "cell_type": "markdown",
   "metadata": {
    "slideshow": {
     "slide_type": "slide"
    }
   },
   "source": [
    "## Response객체 -  응답데이터\n",
    "- get()/post() 의 요청에 대한 서버의 응답 결과를 Response에 담아 반환\n",
    "    - Response의 속성을 이용해 응답결과를 조회\n",
    "- 주요 속성(Attribut)\n",
    "    - **url**\n",
    "        - 응답 받은(요청한) url \n",
    "    - **status_code**\n",
    "        - HTTP 응답 상태코드 (200 : 성공 , not 200 : 문제가 있는것.)\n",
    "    - **headers**\n",
    "        - 응답 header 정보를 dictionary로 반환\n",
    "- **응답 결과 조회**\n",
    "    - **text**\n",
    "        - 응답내용(html을 str로 반환)\n",
    "    - **content**\n",
    "        - 응답내용(응답결과가 binary-image, 동영상등- 일 경우사용하며 bytes로 반환)\n",
    "    - **json()**\n",
    "        - 응답 결과가 JSON 인 경우 dictionary로 변환해서 반환"
   ]
  },
  {
   "cell_type": "markdown",
   "metadata": {},
   "source": [
    "> ### JSON(JavaScript Object Notation)\n",
    "> key-value 형태 또는 배열 형태의 text이며 이 기종간 데이터 교환에 많이 사용된다. 자바스크립트 언어에서 Object와 array를 생성하는 문법을 이용해 만듬. \n",
    "- [JSON 공식사이트](http://json.org)\n",
    ">\n",
    "> ### json 모듈\n",
    "> JSON 형식 문자열을 다루는 모듈\n",
    "> - json.loads(json문자열)\n",
    ">    - JSON 형식 문자열을 dictionary로 변환\n",
    "> - json.dumps(dictionary)\n",
    ">    - dictionary를 JSON 형식 문자열로 변환"
   ]
  },
  {
   "cell_type": "markdown",
   "metadata": {},
   "source": [
    "> ### HTTP 응답 상태코드\n",
    "> - https://developer.mozilla.org/ko/docs/Web/HTTP/Status \n",
    "- 2XX: 성공\n",
    "    - 200: OK\n",
    "- 3XX: 다른 주소로 이동 (이사)\n",
    "    - 300번대이면 자동으로 이동해 준다. 크롤링시는 볼일이 별로 없다.\n",
    "- 4XX: 클라이언트 오류 (사용자가 잘못한 것)\n",
    "  - 404: 존재하지 않는 주소\n",
    "- 5XX: 서버 오류 (서버에서 문제생긴 것)\n",
    "  - 500: 서버가 처리방법을 모르는 오류\n",
    "  - 503: 서버가 다운 등의 문제로 서비스 불가 상태"
   ]
  },
  {
   "cell_type": "code",
   "execution_count": 5,
   "metadata": {},
   "outputs": [
    {
     "name": "stdout",
     "output_type": "stream",
     "text": [
      "<class 'requests.models.Response'>\n",
      "처리\n"
     ]
    }
   ],
   "source": [
    "import requests\n",
    "from bs4 import BeautifulSoup\n",
    "\n",
    "url = \"https://www.naver.com/\"\n",
    "\n",
    "#url에 문서 요청 해서 받은 응답을 반환.\n",
    "res = requests.get(url)\n",
    "print(type(res))\n",
    "if res.status_code == 200: # 정상응답.\n",
    "    print('처리')\n",
    "else:\n",
    "    print(res.status_code, \"처리 못함\")\n",
    "#요청 응답은 이게 끝."
   ]
  },
  {
   "cell_type": "code",
   "execution_count": 8,
   "metadata": {},
   "outputs": [
    {
     "name": "stdout",
     "output_type": "stream",
     "text": [
      "<class 'requests.models.Response'>\n",
      "404 처리 못함\n"
     ]
    }
   ],
   "source": [
    "import requests\n",
    "from bs4 import BeautifulSoup\n",
    "\n",
    "url = \"https://www.naver.com/asdksa\"\n",
    "\n",
    "\n",
    "res = requests.get(url)\n",
    "print(type(res))\n",
    "if res.status_code == 200: # 정상응답.\n",
    "    #응답결과 html 코드를 반환.\n",
    "    html = res.text\n",
    "    print(html[:1000])\n",
    "else:\n",
    "    print(res.status_code, \"처리 못함\")\n"
   ]
  },
  {
   "cell_type": "code",
   "execution_count": 10,
   "metadata": {},
   "outputs": [
    {
     "name": "stdout",
     "output_type": "stream",
     "text": [
      "<class 'requests.models.Response'>\n",
      "   <!doctype html> <html lang=\"ko\" class=\"fzoom\"> <head> <meta charset=\"utf-8\"> <meta name=\"Referrer\" content=\"origin\"> <meta http-equiv=\"X-UA-Compatible\" content=\"IE=edge\"> <meta name=\"viewport\" content=\"width=1190\"> <title>NAVER</title> <meta name=\"apple-mobile-web-app-title\" content=\"NAVER\"/> <meta name=\"robots\" content=\"index,nofollow\"/> <meta name=\"description\" content=\"네이버 메인에서 다양한 정보와 유용한 컨텐츠를 만나 보세요\"/> <meta property=\"og:title\" content=\"네이버\"> <meta property=\"og:url\" content=\"https://www.naver.com/\"> <meta property=\"og:image\" content=\"https://s.pstatic.net/static/www/mobile/edit/2016/0705/mobile_212852414260.png\"> <meta property=\"og:description\" content=\"네이버 메인에서 다양한 정보와 유용한 컨텐츠를 만나 보세요\"/> <meta name=\"twitter:card\" content=\"summary\"> <meta name=\"twitter:title\" content=\"\"> <meta name=\"twitter:url\" content=\"https://www.naver.com/\"> <meta name=\"twitter:image\" content=\"https://s.pstatic.net/static/www/mobile/edit/2016/0705/mobile_212852414260.png\"> <meta name=\"twitter:description\" c\n",
      "<!DOCTYPE html>\n",
      "<html class=\"fzoom\" lang=\"ko\">\n",
      " <head>\n",
      "  <meta charset=\"utf-8\"/>\n",
      "  <meta content=\"origin\" name=\"Referrer\"/>\n",
      "  <meta content=\"IE=edge\" http-equiv=\"X-UA-Compatible\"/>\n",
      "  <meta content=\"width=1190\" name=\"viewport\"/>\n",
      "  <title>\n",
      "   NAVER\n",
      "  </title>\n",
      "  <meta content=\"NAVER\" name=\"apple-mobile-web-app-title\"/>\n",
      "  <meta content=\"index,nofollow\" name=\"robots\"/>\n",
      "  <meta content=\"네이버 메인에서 다양한 정보와 유용한 컨텐츠를 만나 보세요\" name=\"description\"/>\n",
      "  <meta content=\"네이버\" property=\"og:title\"/>\n",
      "  <meta content=\"https://www.naver.com/\" property=\"og:url\"/>\n",
      "  <meta content=\"https://s.pstatic.net/static/www/mobile/edit/2016/0705/mobile_212852414260.png\" property=\"og:image\"/>\n",
      "  <meta content=\"네이버 메인에서 다양한 정보와 유용한 컨텐츠를 만나 보세요\" property=\"og:description\"/>\n",
      "  <meta content=\"summary\" name=\"twitter:card\"/>\n",
      "  <meta content=\"\" name=\"twitter:title\"/>\n",
      "  <meta content=\"https://www.naver.com/\" name=\"twitter:url\"/>\n",
      "  <meta content=\"https://s.pstatic.net/static/www/mobile/edit/2016/0705/mobile_212852414260.png\" name=\"twi\n"
     ]
    }
   ],
   "source": [
    "import requests\n",
    "from bs4 import BeautifulSoup\n",
    "\n",
    "url = \"https://www.naver.com\"\n",
    "\n",
    "\n",
    "res = requests.get(url)\n",
    "print(type(res))\n",
    "if res.status_code == 200: # 정상응답.\n",
    "    #응답결과 html 코드를 반환.\n",
    "    html = res.text\n",
    "    print(html[:1000])\n",
    "    soup = BeautifulSoup(html,\"lxml\")\n",
    "    print(soup.prettify()[:1000])\n",
    "    \n",
    "    \n",
    "else:\n",
    "    print(res.status_code, \"처리 못함\")"
   ]
  },
  {
   "cell_type": "code",
   "execution_count": 30,
   "metadata": {},
   "outputs": [
    {
     "name": "stdout",
     "output_type": "stream",
     "text": [
      "https://httpbin.org/get\n",
      "응답코드:  200\n",
      "<class 'dict'>\n",
      "{'args': {'id': '123455566777', 'key': 'my_test', 'page': '30'}, 'headers': {'Accept': '*/*', 'Accept-Encoding': 'gzip, deflate, br', 'Host': 'httpbin.org', 'My-Name': 'Huuuuuuzzzzuuu', 'User-Agent': 'python-requests/2.31.0,Mozilla/5.0 (Windows NT 10.0; Win64; x64) AppleWebKit/537.36 (KHTML, like Gecko) Chrome/120.0.0.0 Safari/537.36', 'X-Amzn-Trace-Id': 'Root=1-659cdfc7-23901afa4708b695347e04cc'}, 'origin': '112.220.17.226', 'url': 'https://httpbin.org/get?id=123455566777&page=30&key=my_test'}\n"
     ]
    }
   ],
   "source": [
    "base_url = \"https://httpbin.org/{}\"\n",
    "# url = base_url.format(\"get\")\n",
    "url = \"https://httpbin.org/{}\".format(\"get\")\n",
    "print(url)\n",
    "\n",
    "\n",
    "#header에 user-agent등록\n",
    "##개발자 도구 : 콘솔 -> navigatuor.userAgent\n",
    "User_agent = 'Mozilla/5.0 (Windows NT 10.0; Win64; x64) AppleWebKit/537.36 (KHTML, like Gecko) Chrome/120.0.0.0 Safari/537.36'\n",
    "\n",
    "header = {\n",
    "    \"user_agent\" : User_agent,\n",
    "    \"my_name\" : 'Huuuuuuzzzzuuu'\n",
    "}\n",
    "\n",
    "\n",
    "#요청 파라미터 전송\n",
    "#1.url 뒤에 붙인다. (GET)\n",
    "#2.params 파라미터에 dictionary 로 전달.\n",
    "params = {\n",
    "    \"id\" : 123455566777,\n",
    "    \"page\" : 30,\n",
    "    \"key\" : \"my_test\"\n",
    "}\n",
    "\n",
    "res = requests.get(url,#요청 url\n",
    "                  headers = header, #요청 header 정보\n",
    "                   params = params #요청 파라미터\n",
    "                  )\n",
    "\n",
    "# res = requests.get(url+\"?id=123123213&page=30&key=my_test\")\n",
    "print(\"응답코드: \",res.status_code)\n",
    "if res.status_code == 200:\n",
    "#     txt = res.text         #type = str\n",
    "    txt = res.json()       #type = dict\n",
    "    print(type(txt))      \n",
    "    print(txt)"
   ]
  },
  {
   "cell_type": "code",
   "execution_count": 31,
   "metadata": {},
   "outputs": [
    {
     "data": {
      "text/plain": [
       "'https://httpbin.org/get?id=123455566777&page=30&key=my_test'"
      ]
     },
     "execution_count": 31,
     "metadata": {},
     "output_type": "execute_result"
    }
   ],
   "source": [
    "txt[\"url\"]"
   ]
  },
  {
   "cell_type": "code",
   "execution_count": 32,
   "metadata": {},
   "outputs": [
    {
     "data": {
      "text/plain": [
       "'my_test'"
      ]
     },
     "execution_count": 32,
     "metadata": {},
     "output_type": "execute_result"
    }
   ],
   "source": [
    "txt['args']['key']"
   ]
  },
  {
   "cell_type": "markdown",
   "metadata": {},
   "source": [
    "## daum news 리스트(목록)\n",
    "- https://news.daum.net"
   ]
  },
  {
   "cell_type": "markdown",
   "metadata": {},
   "source": [
    "콘솔 -> navigator.userAgent"
   ]
  },
  {
   "cell_type": "code",
   "execution_count": 119,
   "metadata": {},
   "outputs": [
    {
     "name": "stdout",
     "output_type": "stream",
     "text": [
      "Writing daum_news_crawling.py\n"
     ]
    }
   ],
   "source": [
    "%%writefile daum_news_crawling.py\n",
    "\n",
    "import requests\n",
    "from bs4 import BeautifulSoup\n",
    "import pandas as pd\n",
    "from datetime import datetime\n",
    "\n",
    "url = \"https://news.daum.net/\"\n",
    "user_agent = 'Mozilla/5.0 (Windows NT 10.0; Win64; x64) AppleWebKit/537.36 (KHTML, like Gecko) Chrome/120.0.0.0 Safari/537.36'\n",
    "\n",
    "\n",
    "def get_news_list():\n",
    "    #1. 요청\n",
    "    res = requests.get(url, headers = {'User_agent':user_agent})\n",
    "\n",
    "    if res.status_code ==200:\n",
    "        soup = BeautifulSoup(res.text,\"lxml\")\n",
    "\n",
    "    #     print(soup.prettify())\n",
    "        tag_list = soup.select(\"body > div.container-doc > main > section > div > div.content-article > div.box_g.box_news_issue > ul > li > div > div > strong > a\")\n",
    "        print(len(tag_list))\n",
    "\n",
    "        link_list =[] #링크 저장 리스트\n",
    "        title_list =[] #제목 저장 리스트\n",
    "        for tag in tag_list:\n",
    "    #         print(tag.get(\"href\"), tag.get_text())  #뉴스 링크 : get(\"href)\", 뉴스제목 : get_text\n",
    "            link_list.append(tag.get(\"href\"))\n",
    "            title_list.append(tag.get_text().strip())\n",
    "\n",
    "        df = pd.DataFrame({      #표만들기 - 판다스\n",
    "            \"제목\" : title_list,\n",
    "            \"url\"  : link_list\n",
    "        })\n",
    "\n",
    "        return df\n",
    "    \n",
    "def get_news(url):\n",
    "    \n",
    "    res_news = requests.get(url , headers = {\"user_agent\" : user_agent})\n",
    "\n",
    "    if res_news.status_code == 200:\n",
    "        soup = BeautifulSoup(res_news.text, \"lxml\")\n",
    "        title = soup.select_one(\"#mArticle > div.head_view > h3\").get_text()\n",
    "#         return \"제목 : \", title\n",
    "\n",
    "        p_tag_list = soup.select(\"#mArticle > div.news_view.fs_type1 > div.article_view > section > p\")  #리스\n",
    "    #     print(len(p_tag_list))\n",
    "\n",
    "        content_list = []\n",
    "        for p_tag in p_tag_list:\n",
    "            content_list.append(p_tag.get_text())\n",
    "    #   [p_tag.get_text() for p_tag in p_tag_list]\n",
    "\n",
    "        news = \"\\n\".join(content_list)\n",
    "        return news\n",
    "\n"
   ]
  },
  {
   "cell_type": "code",
   "execution_count": 120,
   "metadata": {},
   "outputs": [
    {
     "data": {
      "text/plain": [
       "'오는 4월 총선 전남 여수갑 출마를 선언한 더불어민주당 이용주 예비후보가 윤석열 대통령의 김건희·대장동 쌍특검 거부권 행사와 관련해 헌법재판소 권한쟁의 심판 청구를 촉구하고 나섰다.\\n이 예비후보는 9일 보도자료를 내 \"대통령의 거부권 행사가 대통령 본인과 가족에 대한 이해 충돌의 여지가 충분하다\"며 \"대통령의 권력은 국민을 위해서 쓰라고 부여된 것이지 자기 아내를 위해서 쓰라고 주어진 것이 아니\"라고 비판했다.\\n이 예비후보는 이어 \"죄를 지었으면 벌을 받는 것이 순리\"라며 \"만인이 법 앞에 평등해야 한다는 국가의 기본적 법치 질서마저 무시한 대통령의 아내 챙기기 횡포\"라고 지적했다. \\n그러면서 이 예비후보는 \"이를 방관할 경우 대통령의 가족, 친지, 친구에 대한 그 어떤 수사나 기소가 불가능하게 되어 말 그대로 나라를 자기 나름대로 하는 왕정이나 다름없게 된다\"면서 \"윤석열 대통령의 국민을 무시하고 국민을 적으로 두고 싸우려는 태도를 용인할 수 없다\"고 주장했다.\\n전남CBS 최창민 기자 ccmin@cbs.co.kr\\n▶ 기자와 카톡 채팅하기▶ 노컷뉴스 영상 구독하기 '"
      ]
     },
     "execution_count": 120,
     "metadata": {},
     "output_type": "execute_result"
    }
   ],
   "source": [
    "get_news(\"https://v.daum.net/v/20240109145704943\")"
   ]
  },
  {
   "cell_type": "code",
   "execution_count": 121,
   "metadata": {},
   "outputs": [
    {
     "name": "stdout",
     "output_type": "stream",
     "text": [
      "20\n"
     ]
    },
    {
     "data": {
      "text/html": [
       "<div>\n",
       "<style scoped>\n",
       "    .dataframe tbody tr th:only-of-type {\n",
       "        vertical-align: middle;\n",
       "    }\n",
       "\n",
       "    .dataframe tbody tr th {\n",
       "        vertical-align: top;\n",
       "    }\n",
       "\n",
       "    .dataframe thead th {\n",
       "        text-align: right;\n",
       "    }\n",
       "</style>\n",
       "<table border=\"1\" class=\"dataframe\">\n",
       "  <thead>\n",
       "    <tr style=\"text-align: right;\">\n",
       "      <th></th>\n",
       "      <th>제목</th>\n",
       "      <th>url</th>\n",
       "    </tr>\n",
       "  </thead>\n",
       "  <tbody>\n",
       "    <tr>\n",
       "      <th>0</th>\n",
       "      <td>대테러센터가 '이재명 1㎝ 열상' 발원지?…\"실무보고 공유했을 뿐\"</td>\n",
       "      <td>https://v.daum.net/v/20240109161648006</td>\n",
       "    </tr>\n",
       "    <tr>\n",
       "      <th>1</th>\n",
       "      <td>'이낙연-이준석' 손 잡을까...'제3지대 빅텐트' 주도권 경쟁 본격화</td>\n",
       "      <td>https://v.daum.net/v/20240109173306019</td>\n",
       "    </tr>\n",
       "    <tr>\n",
       "      <th>2</th>\n",
       "      <td>눈 왔지만 예상보다 적었던 적설량…10일까지 이어져</td>\n",
       "      <td>https://v.daum.net/v/20240109173216972</td>\n",
       "    </tr>\n",
       "    <tr>\n",
       "      <th>3</th>\n",
       "      <td>‘이태원 특별법’ 野 단독 처리… 국민의힘 의원들 퇴장</td>\n",
       "      <td>https://v.daum.net/v/20240109170515881</td>\n",
       "    </tr>\n",
       "    <tr>\n",
       "      <th>4</th>\n",
       "      <td>2027년부터 식용 목적 사육·도살 금지…보신탕 사라진다</td>\n",
       "      <td>https://v.daum.net/v/20240109171601332</td>\n",
       "    </tr>\n",
       "    <tr>\n",
       "      <th>5</th>\n",
       "      <td>의대학장·교수단체 의대증원 찬성한다지만…\"350명만 늘려야\"</td>\n",
       "      <td>https://v.daum.net/v/20240109173036910</td>\n",
       "    </tr>\n",
       "    <tr>\n",
       "      <th>6</th>\n",
       "      <td>“돈에 대해 더 알고 싶은데…” 학교서 ‘경제’는 외면</td>\n",
       "      <td>https://v.daum.net/v/20240109171208185</td>\n",
       "    </tr>\n",
       "    <tr>\n",
       "      <th>7</th>\n",
       "      <td>중국군은 ‘당나라 군대’…이번엔 미사일 연료 빼내 훠궈 조리</td>\n",
       "      <td>https://v.daum.net/v/20240109171505305</td>\n",
       "    </tr>\n",
       "    <tr>\n",
       "      <th>8</th>\n",
       "      <td>이태원참사 유가족 \"尹대통령, 특별법 즉시 공포해야\"</td>\n",
       "      <td>https://v.daum.net/v/20240109172900827</td>\n",
       "    </tr>\n",
       "    <tr>\n",
       "      <th>9</th>\n",
       "      <td>'사면복권' 野전병헌 총선 부적격 판정…田 \"헌법 무력화\" 반발</td>\n",
       "      <td>https://v.daum.net/v/20240109172510687</td>\n",
       "    </tr>\n",
       "    <tr>\n",
       "      <th>10</th>\n",
       "      <td>이재명 내일 퇴원 \"많이 호전\"‥병원 나서며 '메시지' 낼 듯</td>\n",
       "      <td>https://v.daum.net/v/20240109172515690</td>\n",
       "    </tr>\n",
       "    <tr>\n",
       "      <th>11</th>\n",
       "      <td>민주당, '이태원 특별법' 단독 처리…국민의힘 불참</td>\n",
       "      <td>https://v.daum.net/v/20240109170300763</td>\n",
       "    </tr>\n",
       "    <tr>\n",
       "      <th>12</th>\n",
       "      <td>태영건설 주요 채권단, 10일 추가 자구안 논의</td>\n",
       "      <td>https://v.daum.net/v/20240109171659369</td>\n",
       "    </tr>\n",
       "    <tr>\n",
       "      <th>13</th>\n",
       "      <td>태백·영월·정선·강원남부 대설주의보</td>\n",
       "      <td>https://v.daum.net/v/20240109171910455</td>\n",
       "    </tr>\n",
       "    <tr>\n",
       "      <th>14</th>\n",
       "      <td>[충북·세종 날씨] 내일 흐리고 눈·비... 예상적설량 최대 15Cm</td>\n",
       "      <td>https://v.daum.net/v/20240109162323297</td>\n",
       "    </tr>\n",
       "    <tr>\n",
       "      <th>15</th>\n",
       "      <td>[인터뷰 전문] 천하람 \"'제3지대' 지역구는 모여서, 비례는 별개로 치르는 것도 ...</td>\n",
       "      <td>https://v.daum.net/v/20240109155143738</td>\n",
       "    </tr>\n",
       "    <tr>\n",
       "      <th>16</th>\n",
       "      <td>[단독] 檢, 김만배-신학림 한 자리서 조우형에 ‘尹 커피’ 관련 전화 의심</td>\n",
       "      <td>https://v.daum.net/v/20240109172102543</td>\n",
       "    </tr>\n",
       "    <tr>\n",
       "      <th>17</th>\n",
       "      <td>우크라, 러 '파상 공습'에 대공미사일 동나</td>\n",
       "      <td>https://v.daum.net/v/20240109171221205</td>\n",
       "    </tr>\n",
       "    <tr>\n",
       "      <th>18</th>\n",
       "      <td>이재명, '이낙연 탈당' 앞두고 내일 퇴원 결정…\"상태 호전\"</td>\n",
       "      <td>https://v.daum.net/v/20240109161501902</td>\n",
       "    </tr>\n",
       "    <tr>\n",
       "      <th>19</th>\n",
       "      <td>단양군 응급의학과 의사 채용 불발에 연봉 4억2천만원 '껑충'</td>\n",
       "      <td>https://v.daum.net/v/20240109171421267</td>\n",
       "    </tr>\n",
       "  </tbody>\n",
       "</table>\n",
       "</div>"
      ],
      "text/plain": [
       "                                                   제목  \\\n",
       "0               대테러센터가 '이재명 1㎝ 열상' 발원지?…\"실무보고 공유했을 뿐\"   \n",
       "1             '이낙연-이준석' 손 잡을까...'제3지대 빅텐트' 주도권 경쟁 본격화   \n",
       "2                        눈 왔지만 예상보다 적었던 적설량…10일까지 이어져   \n",
       "3                      ‘이태원 특별법’ 野 단독 처리… 국민의힘 의원들 퇴장   \n",
       "4                     2027년부터 식용 목적 사육·도살 금지…보신탕 사라진다   \n",
       "5                   의대학장·교수단체 의대증원 찬성한다지만…\"350명만 늘려야\"   \n",
       "6                      “돈에 대해 더 알고 싶은데…” 학교서 ‘경제’는 외면   \n",
       "7                   중국군은 ‘당나라 군대’…이번엔 미사일 연료 빼내 훠궈 조리   \n",
       "8                       이태원참사 유가족 \"尹대통령, 특별법 즉시 공포해야\"   \n",
       "9                 '사면복권' 野전병헌 총선 부적격 판정…田 \"헌법 무력화\" 반발   \n",
       "10                 이재명 내일 퇴원 \"많이 호전\"‥병원 나서며 '메시지' 낼 듯   \n",
       "11                       민주당, '이태원 특별법' 단독 처리…국민의힘 불참   \n",
       "12                         태영건설 주요 채권단, 10일 추가 자구안 논의   \n",
       "13                                태백·영월·정선·강원남부 대설주의보   \n",
       "14             [충북·세종 날씨] 내일 흐리고 눈·비... 예상적설량 최대 15Cm   \n",
       "15  [인터뷰 전문] 천하람 \"'제3지대' 지역구는 모여서, 비례는 별개로 치르는 것도 ...   \n",
       "16         [단독] 檢, 김만배-신학림 한 자리서 조우형에 ‘尹 커피’ 관련 전화 의심   \n",
       "17                           우크라, 러 '파상 공습'에 대공미사일 동나   \n",
       "18                 이재명, '이낙연 탈당' 앞두고 내일 퇴원 결정…\"상태 호전\"   \n",
       "19                 단양군 응급의학과 의사 채용 불발에 연봉 4억2천만원 '껑충'   \n",
       "\n",
       "                                       url  \n",
       "0   https://v.daum.net/v/20240109161648006  \n",
       "1   https://v.daum.net/v/20240109173306019  \n",
       "2   https://v.daum.net/v/20240109173216972  \n",
       "3   https://v.daum.net/v/20240109170515881  \n",
       "4   https://v.daum.net/v/20240109171601332  \n",
       "5   https://v.daum.net/v/20240109173036910  \n",
       "6   https://v.daum.net/v/20240109171208185  \n",
       "7   https://v.daum.net/v/20240109171505305  \n",
       "8   https://v.daum.net/v/20240109172900827  \n",
       "9   https://v.daum.net/v/20240109172510687  \n",
       "10  https://v.daum.net/v/20240109172515690  \n",
       "11  https://v.daum.net/v/20240109170300763  \n",
       "12  https://v.daum.net/v/20240109171659369  \n",
       "13  https://v.daum.net/v/20240109171910455  \n",
       "14  https://v.daum.net/v/20240109162323297  \n",
       "15  https://v.daum.net/v/20240109155143738  \n",
       "16  https://v.daum.net/v/20240109172102543  \n",
       "17  https://v.daum.net/v/20240109171221205  \n",
       "18  https://v.daum.net/v/20240109161501902  \n",
       "19  https://v.daum.net/v/20240109171421267  "
      ]
     },
     "execution_count": 121,
     "metadata": {},
     "output_type": "execute_result"
    }
   ],
   "source": [
    "get_news_list()"
   ]
  },
  {
   "cell_type": "code",
   "execution_count": 122,
   "metadata": {},
   "outputs": [
    {
     "name": "stdout",
     "output_type": "stream",
     "text": [
      "['https://v.daum.net/v/20240109164104956', 'https://v.daum.net/v/20240109164331050', 'https://v.daum.net/v/20240109154754504', 'https://v.daum.net/v/20240109163758852', 'https://v.daum.net/v/20240109153349824', 'https://v.daum.net/v/20240109162705426', 'https://v.daum.net/v/20240109162402317', 'https://v.daum.net/v/20240109163307679', 'https://v.daum.net/v/20240109163600772', 'https://v.daum.net/v/20240109162230260', 'https://v.daum.net/v/20240109162227256', 'https://v.daum.net/v/20240109162716438', 'https://v.daum.net/v/20240109162742453', 'https://v.daum.net/v/20240109162400313', 'https://v.daum.net/v/20240109163000532', 'https://v.daum.net/v/20240109162004149', 'https://v.daum.net/v/20240109161938130', 'https://v.daum.net/v/20240109153522919', 'https://v.daum.net/v/20240109161720029', 'https://v.daum.net/v/20240109162839482']\n",
      "['윤세영·윤석민 \"홀딩스·SBS 지분 \\'필요시\\' 내놓겠다\"', \"여, 쌍특검법 재표결 시도 무산…'의사일정 변경안' 부결\", '펫 시장은 컸는데 펫 커머스는 왜 안 될까 [인포로 본 세상]', \"엔비디아·인텔·AMD, AI PC 시대 '맞춤형 반도체' 대거 공개 [CES 2024]\", '박은식 “김구? 폭탄 던지던 분이 나라 돌아가는 시스템 알까?”', '휴전선 경계 AI가 책임진다…동부전선 GOP 과학화 경계시스템 연말까지 구축', '“폭락이 기회” 태영 주식 쓸어 담는 개미들…한 달 전 주가 회복', '그림 같은 포도 한송이, 사진이었네', '신탁방식 재건축 역대 최대 늘었지만…수수료 규정 미비 혼란', '우주경제시대 개막…우주항공청 5월 설치, 위상·예산·인력 등 숙제 남아', '`공간컴퓨팅` 내세운 비전프로, `혁신가뭄` 애플 구할까…\"내달 2일 출시\"', '혼잡도 완화 위해 서울 지하철 4호선 내 ‘입석’ 시범 도입', '최경환 “파크골프장, 더 못 짓나” vs 조현일 “이미 신규 조성”', '“매직카펫 타고 날아볼까”…CES에서 미래 모빌리티 뽐내는 SKT', '“엄마, 우리도 반려로봇 키워요”…삼성·LG, 새 식구 대결  [CES 2024]', '너무 올라 살 종목 없다고?...바겐세일 중인 종목 사볼까', '\"법정관리 검토\" 전방위 압박 끝에 백기 든 태영, 워크아웃 청신호', '윤 대통령 칭찬한 \\'충TV\\' 뭐길래...김선태 주무관 \"과분한 칭찬 감사\"', \"갤럭시 S24 출시 앞두고 아이폰 공시 지원금 '들썩'...45만원으로 ↑\", '어닝시즌 맞은 뉴욕증시…\"1조달러 자사주 매입\" 기대']\n"
     ]
    }
   ],
   "source": [
    "print(link_list)\n",
    "print(title_list)"
   ]
  },
  {
   "cell_type": "code",
   "execution_count": 123,
   "metadata": {},
   "outputs": [
    {
     "data": {
      "text/plain": [
       "'daum_news_list_2024-01-01/09/24.csv'"
      ]
     },
     "execution_count": 123,
     "metadata": {},
     "output_type": "execute_result"
    }
   ],
   "source": [
    "filename"
   ]
  },
  {
   "cell_type": "code",
   "execution_count": 124,
   "metadata": {},
   "outputs": [
    {
     "data": {
      "text/plain": [
       "'2024년 01월 09일 Jan시 01분 11초'"
      ]
     },
     "execution_count": 124,
     "metadata": {},
     "output_type": "execute_result"
    }
   ],
   "source": [
    "from datetime import datetime  #날짜 시간 합쳐서 관리\n",
    "\n",
    "d = datetime.now()\n",
    "\n",
    "d.strftime(\"%Y-%m-%D\")\n",
    "d.strftime(\"%Y년 %m월 %d일 %h시 %m분 %S초\")\n"
   ]
  },
  {
   "cell_type": "code",
   "execution_count": 132,
   "metadata": {},
   "outputs": [
    {
     "name": "stdout",
     "output_type": "stream",
     "text": [
      "20\n"
     ]
    },
    {
     "data": {
      "text/plain": [
       "0     https://v.daum.net/v/20240109173903238\n",
       "1     https://v.daum.net/v/20240109165550461\n",
       "2     https://v.daum.net/v/20240109173106923\n",
       "3     https://v.daum.net/v/20240109172430668\n",
       "4     https://v.daum.net/v/20240109173001862\n",
       "5     https://v.daum.net/v/20240109173320043\n",
       "6     https://v.daum.net/v/20240109172704742\n",
       "7     https://v.daum.net/v/20240109173306017\n",
       "8     https://v.daum.net/v/20240109173301007\n",
       "9     https://v.daum.net/v/20240109173641155\n",
       "10    https://v.daum.net/v/20240109173615145\n",
       "11    https://v.daum.net/v/20240109174200365\n",
       "12    https://v.daum.net/v/20240109174852603\n",
       "13    https://v.daum.net/v/20240109174502474\n",
       "14    https://v.daum.net/v/20240109165825546\n",
       "15    https://v.daum.net/v/20240109173605126\n",
       "16    https://v.daum.net/v/20240109174702546\n",
       "17    https://v.daum.net/v/20240109171021103\n",
       "18    https://v.daum.net/v/20240109172819807\n",
       "19    https://v.daum.net/v/20240109172612722\n",
       "Name: url, dtype: object"
      ]
     },
     "execution_count": 132,
     "metadata": {},
     "output_type": "execute_result"
    }
   ],
   "source": [
    "df = get_news_list()\n",
    "article_list = []\n",
    "df['url']"
   ]
  },
  {
   "cell_type": "code",
   "execution_count": 135,
   "metadata": {},
   "outputs": [
    {
     "name": "stdout",
     "output_type": "stream",
     "text": [
      "20\n",
      "https://v.daum.net/v/20240109172519693\n",
      "https://v.daum.net/v/20240109175406773\n",
      "https://v.daum.net/v/20240109173903238\n",
      "https://v.daum.net/v/20240109165550461\n",
      "https://v.daum.net/v/20240109173106923\n",
      "https://v.daum.net/v/20240109172430668\n",
      "https://v.daum.net/v/20240109173001862\n",
      "https://v.daum.net/v/20240109173320043\n",
      "https://v.daum.net/v/20240109172704742\n",
      "https://v.daum.net/v/20240109173306017\n",
      "https://v.daum.net/v/20240109173301007\n",
      "https://v.daum.net/v/20240109173641155\n",
      "https://v.daum.net/v/20240109173615145\n",
      "https://v.daum.net/v/20240109174200365\n",
      "https://v.daum.net/v/20240109174852603\n",
      "https://v.daum.net/v/20240109174502474\n",
      "https://v.daum.net/v/20240109165825546\n",
      "https://v.daum.net/v/20240109173605126\n",
      "https://v.daum.net/v/20240109174702546\n",
      "https://v.daum.net/v/20240109171021103\n",
      "[\"이태원 참사 특별조사위원회 설치가 골자인 '이태원 참사 특별법'이 오늘(9일) 야당 단독으로 국회 본회의를 통과했습니다.\\n오늘 오후 열린 국회 본회의에서 더불어민주당의 요구로 상정된 '10·29 이태원참사 피해자 권리보장과 진상규명 및 재발 방지를 위한 특별법'이 의결됐습니다.\\n표결에는 민주당 등 야당 의원들만 참여했습니다.\\n국민의힘은 앞서 예고한 대로 야당의 강행 처리에 항의하며 퇴장했습니다.\\n민주당 주도로 통과된 이번 '이태원 참사 특별법'에는 제대로 된 진상 규명을 위해 특별조사위원회를 구성한다는 내용이 담겨 있습니다.\\n특조위는 총 11명으로 구성되며 ▲국회의장이 유가족 등 관련 단체와 협의해 3명▲여당이 4명 ▲야당이 4명을 각각 추천해 대통령이 임명하도록 했습니다.\\n상임위원은 국회의장과 여당, 야당이 각 1명씩 추천하며, 위원장은 상임위원 중에서 특조위 의결로 선출합니다.\\n활동기간은 1년 이내이지만 필요시 3개월씩 두 차례 연장할 수 있어 최대 1년 6개월간 활동이 가능합니다.\\n민주당 원안에 있던 특조위의 특검 요구 권한은 삭제됐고, 시행 시기도 '공포 후 3개월 경과한 날'에서 '올해 4월 10일'로 수정됐습니다.\\n특조위를 설치하는 대신 특검 조항을 없애고, 정치 쟁점화를 막기 위해 법 시행 시기도 4월 총선 이후로 미루자는 김진표 국회의장의 중재안이 반영된 결과입니다.\\n앞서 여야는 특별법을 놓고 협상을 벌여 특조위 설치에 일부 공감대를 이뤘지만, 위원 구성 등 세부 사항에서 의견 차이를 좁히지 못했습니다.\\n이른바 '쌍특검법'에 이어 민주당이 여야 합의 없이 단독으로 또다시 법안을 처리하면서 윤석열 대통령이 다시 한 번 거부권을 행사할지 주목됩니다.\\n[윤혜주 디지털뉴스 기자 heyjude@mbn.co.kr]\\n< Copyright ⓒ MBN(www.mbn.co.kr)무단전재 및 재배포 금지 >\", '일본 증시의 대표 주가지수인 닛케이225 평균주가(닛케이지수)가 34년 만에 최고치를 기록했다. 미국 하이테크 주가 상승, 일본 기업의 영업이익 증가, 새 소액투자 비과세제도(NISA) 등의 영향으로 분석된다.\\n9일 닛케이지수는 전 거래일보다 1.2% 오른 33,763으로 장을 마감했다. ‘거품 경기’ 붕괴 후인 1990년 3월 이후 약 33년10개월 만의 최고치(종가 기준)다. 장중 한때 33,990까지 올랐다. 앞서 이 지수는 버블 시기인 1989년 말 38,915까지 올랐으나 거품 붕괴와 미국 리먼브러더스 파산 쇼크에 따른 금융위기 등 영향으로 2009년 3월에는 7054까지 추락했다.\\n닛케이지수 상승은 미 증시의 기술주 상승세에 힘입어 도쿄증시에도 반도체 관련 주식을 비롯해 폭넓은 종목에 매수세가 유입된 데 따른 것이라고 니혼게이자이신문은 전했다. 도쿄일렉트론(3.28%), 어드반테스트(6.05%) 등이 대표적이다.\\n새단장한 NISA도 한몫했다. 일본은 올해 NISA 도입 후 10년 만에 상품 구조를 단순화하고 절세 혜택을 대폭 늘린 신규 NISA를 내놨다. SMBC닛코증권은 최근 신규 NISA 효과로 연 2조엔(약 18조원)이 일본 증시에 투입될 것이라고 내다봤다.\\n닛케이지수는 작년 초부터 오름세가 강했다. 도쿄 증권거래소가 각 기업에 주가순자산비율(PBR)을 끌어올려달라고 요청한 데다 ‘투자의 달인’으로 불리는 워런 버핏이 이토추, 미쓰비시 등 일본 5대 상사에 대해 추가 투자를 밝힌 데 따른 것이다. 이후 작년 7월 3일 거품 붕괴 후 종전 최고치인 33,753까지 올랐다가 그 뒤 반년간 그 아래에서 오르내림을 이어왔다.\\n일본은행이 앞으로도 금융완화 정책을 전환하지 않는다면 이 역시 증시에 호재가 될 전망이다. 일본은행은 지난달 경기를 부양하기 위해 추진해 온 대규모 금융완화 정책을 유지하기로 결정했다.\\n니혼게이자이신문은 “저출산과 고령화가 가속화하는 가운데 효율성을 끌어올려 부가가치를 얼마나 높이느냐가 장기 일본 증시에 영향을 미칠 것”이라고 분석했다.\\n김일규 기자 black0419@hankyung.com', '지난달 주요 시중은행의 엔화 예금이 8개월 만에 감소세로 돌아섰다. 작년 11월 100엔당 850원대까지 떨어진 원·엔 환율이 12월 급등해 910원대까지 오르면서 ‘엔테크’(엔화+재테크)에 뛰어든 투자자들이 차익 실현에 나선 결과로 풀이된다. 전문가들은 원·엔 환율 추가 상승 여력이 제한적인 만큼 공격적인 엔화 매수는 자제해야 한다고 조언했다.\\n9일 금융권에 따르면 국민 신한 하나 우리 농협 등 5대 은행의 엔화 예금 잔액은 지난해 12월 말 기준 1조1331억엔으로 집계됐다. 역대 최대치를 기록한 작년 11월 말(1조1971억엔)과 비교해 한 달 새 5.3%(640억엔) 감소한 수치다. 엔화 예금 잔액이 전월 대비 줄어든 것은 작년 4월 이후 처음이다.\\n엔화 예금 잔액은 지난해 빠른 속도로 늘었다. 5대 은행의 엔화 예금 잔액은 작년 4월 5979억엔에 그쳤지만 7개월 연속 증가하며 11월 말엔 두 배가 넘는 1조1971억엔까지 불어났다. 지난해 11월엔 엔화 예금 잔액이 전달보다 14.1% 늘어날 정도로 증가 속도가 가팔랐다. 원·엔 환율이 글로벌 금융위기 이후 최저 수준으로 하락하면서 엔화 투자 매력이 커졌기 때문이다. 하나은행이 고시하는 원·엔 재정환율(오후 3시30분 기준)은 지난해 11월 16일 100엔당 856원80전으로, 2008년 1월 10일(855원47전) 후 15년10개월 만에 가장 낮았다.\\n엔화 예금 증가세가 꺾인 것은 원·엔 환율이 단기간에 큰 폭으로 상승하면서 저점 매수 수요가 줄었기 때문이다. 원·엔 환율은 지난달 12월 15일 100엔당 913원30전으로 한 달 만에 6.6% 올랐다. 지난달 22일엔 915원83전까지 오르기도 했다.\\n미국의 긴축적 통화정책이 일부 완화될 것이란 기대가 커진 가운데 일본은행이 10여 년간 유지해 온 ‘제로(0)금리’ 탈출 의지를 내비친 점도 원·엔 환율을 끌어올렸다. 우에다 가즈오 일본은행 총재는 지난달 7일 “임금 인상과 물가 상승의 선순환이 이뤄지는 것이 확실해진다면 마이너스 금리 해제 등을 시야에 넣을 수 있다”고 했다. 이 발언이 나온 날 원·엔 환율은 100엔당 7원 상승한 905원38전을 기록했고, 이날엔 914원16전에 거래됐다.\\n전문가들은 원·엔 환율이 100엔당 910원대까지 오른 현시점에서 추가 엔화 매수는 바람직하지 않다고 입을 모았다. 박상현 하이투자증권 전문위원은 “올해 일본은행이 통화정책을 수정하더라도 금리 인상은 쉽지 않은 여건”이라며 “올해 평균적인 원·엔 환율은 100엔당 920원대가 될 것”이라고 했다. 백석현 신한은행 연구원도 “일본은행의 통화정책 전환 속도가 매우 느리기 때문에 원·엔 환율이 오르더라도 100엔당 950원 안팎이고, 연내에 1000원까지 상승할 가능성은 매우 낮다”며 “현시점에 엔테크에 나선다면 만족할 만한 수익을 내기 쉽지 않을 것”이라고 했다.\\n정의진 기자 justjin@hankyung.com', ' “밤까지 계속 눈이 온대서 퇴근과 내일 출근이 걱정이에요.” “업무특성상 승용차로 수시로 이동해야 해서, 일 처리를 서두르고 있어요.” \\n전국 곳곳에 내리는 눈이나 비가 수요일(10일)까지 이어져 안전사고에 주의가 필요하다. \\n특히 수도권은 9일 오후 6시 무렵 시간당 1~3㎝의 강한 눈이 예고돼 퇴근길 교통혼잡이 우려된다. \\xa0 \\n기상청에 따르면 9일 서해상에서 발달한 눈구름대가 점점 더 내륙으로 유입되면서 전국 대부부분의 지역에 눈이나 비가 내린다. \\n서울·인천·경기북부는 밤까지 오다가 그치지만 10일까지 이어지는 지역도 많다. \\n경기남부‧경기동부·강원내륙·호남은 10일 오전까지, 충청·영남·제주는 10일 오후까지 지속되겠다. 강원동해안과 강원산지는 10일 저녁까지 눈이나 비가 이어질 예정이다. \\n9일 오전 10시 기준 서울(동남권‧동북권‧서남권‧서북권)을 비롯해 ▲강원 평창‧횡성‧원주‧철원‧화천‧홍천‧춘천 ▲인천 강화 ▲경기 대부분의 지역에 대설주의보가 내려진 상태다.\\xa0 \\n대설주의보는 24시간 동안 새로 내려 쌓이는 눈을 의미하는 신적설량이 5㎝ 이상 예상될 때 발령된다. 대설경보는 24시간 신적설량이 20㎝(산지는 30㎝) 이상 될 것으로 예상될 때 내린다.\\xa0 \\n예상 적설량은 ▲강원내륙·강원산지·충북북부 5~15㎝(강원산지 최대 20㎝ 이상) ▲경기내륙·경북북부·경북남서내륙·경북북동산지 5~10㎝(최대 15㎝ 이상) ▲서울·인천·경기서해안·강원동해안·대전·세종·충남내륙·충북중부·충북남부·전북동부 3~8㎝(최대 10㎝ 이상) ▲제주산지 3~8㎝ 등이다. \\n또 ▲충남서해안·전북서부내륙·대구·경북중남부내륙·경북동해안·울산·경남내륙엔 1~5㎝ ▲전남동부내륙엔 1~3㎝, 전북서해안·광주·전남중부내륙엔 1㎝ 내외로 예상된다. \\n낮 최고기온이 1~10도로 영상권을 기록해 내리는 눈에 비해 쌓이는 양은 많지 않지만, 밤까지 이어져 대비가 필요하다. 새벽에 기온이 낮아지면 길이 얼어붙어 미끄러울 수 있으니 보행이나 운전시 안전사고에 유의해야 한다. \\n눈이 계속 내리면서 시민들도 출퇴근길 혼잡과 사고를 걱정하는 분위기다. \\n서울 금천구에 거주하는 주모씨(36)는 “9일 출근길은 눈이 쌓이지 않아서 큰 문제가 없었는데 퇴근때 많이 내린다니 걱정”이라며 “밤사이 눈이 많이 쌓여 얼지만 않으면 좋겠다. 이런 날씨에는 재택근무를 하는 사람이 제일 부럽다”고 말했다. \\n직장인 강모씨(38)는 “2022년 눈길에 미끄러져 다리를 다쳤다”며 “당시 길이 얼어 있어 조심한다고 천천히 걸었는데, 어떻게 넘어졌는지 기억이 안날 정도로 사고가 순식간에 일어난다. 다들 꼭 장갑 끼고 절대 주머니에 손 넣지 말라고 당부하고 싶다”고 강조했다. \\n일의 특성상 운전이 필요한 사람들은 걱정이 더 많았다. 고객을 직접 찾아가 서비스를 제공하는 업무를 담당하는 김모씨(42)는 “장비를 싣고 다녀야 해서 운전이 필수인데 눈 오는 날은 길이 밀려서 힘든 점이 많다”며 “한 곳에서 지체되면 이후로 일이 쭉 밀려버리니까 이동할 때마다 식은땀이 난다. 일을 빨리 처리하려고 서두르기는 하는데 쉽지 않다”고 토로했다. \\xa0 \\n기상청 관계자는 “눈이 많이 내릴 때는 되도록 외출을 자제하고, 외출을 할 경우에는 대중교통을 이용하거나 자동차의 월동 장비를 반드시 구비해야 한다”며 “보온 유지를 위해 외투나 장갑, 모자 등을 착용해 달라”고 당부했다.\\xa0', '태영그룹이 9일 윤석민 회장(60)이 태영건설을 살리기 위해 대주주인 티와이홀딩스와 대형방송사 SBS 지분도 내놓을 수 있다고 입장을 바꾼 것은 자력으로는 티와이홀딩스의 태영건설 연대보증 채무를 감당하기 어렵다고 뒤늦게 판단한 데 따른 것으로 보인다. 태영그룹은 티와이홀딩스의 태영건설 연대보증 채무를 당초 2300억원 수준으로 파악했지만 최근 4000억원까지 늘어난 것으로 알려졌다.\\n9일 경향신문 취재 결과 태영그룹은 지난 12월28일 태영건설의 워크아웃(채권단 공동관리절차)을 신청했을 당시 채권단에 티와이홀딩스의 태영건설 연대보증 채무가 2300억원 정도라고 통보했다.\\n이후 태영그룹은 티와이홀딩스의 연대보증 채무가 약 500억원이 더 있는 것을 확인했다. 이 때문에 태영인더스트리 매각대금 1549억원 중 659억원만 태영건설에 지급할 수밖에 없었다. 윤세영 태영그룹 창업회장은 지난 3일 채권자 설명회 이후 이복현 금융감독원장을 만나 이런 사정을 설명한 것으로 전해졌다.\\n태영그룹이 확인한 티와이홀딩스의 태영건설 연대보증 채무는 더 늘어 최근에는 4000억원까지 커졌다고 한다. 이런 상황에서 산업은행 등 채권단과 금융당국은 태영그룹에 약속 이행을 하지 않으면 오는 11일에 태영건설의 워크아웃 개시가 어렵다고 공개적으로 압박했다.\\n채권단이 워크아웃 개시 결정을 하지 않으면 태영건설은 법정관리(기업회생절차)에 들어가고, 이렇게 되면 티와이홀딩스의 태영건설 연대보증은 기한이익상실(EOD)이 된다. 채권자들이 티와이홀딩스에 채권 청구를 하는 상황이 돼 그룹 전체가 무너질 수도 있다.\\n이 때문에 태영그룹은 채권단과 금융당국에 필요하면 티와이홀딩스와 SBS 지분도 담보로 제공할테니 태영건설뿐 아니라 티와이홀딩스에 대한 채권도 유예해 달라고 요청한 것으로 전해졌다.\\n금융권 관계자는 “티와이홀딩스가 2020년 설립되고 태영건설이 인적분할을 한 후 태영그룹이 연대보증 규모를 제대로 파악하지 못하고 있었던 것으로 보인다”고 말했다.\\n금융당국도 이같은 상황을 고려해 태영그룹의 뒤늦은 입장 선회를 받아들인 것으로 보인다.\\n이복현 원장이 이날 취재진에게 “회사를 살리려는 채무자의 의지가 확인되면 채무자의 직접 채무뿐만 아니라 간접 채무와 이해관계자에 대한 지원도 폭넓게 고려하는 것이 워크아웃 취지에 부합한다”면서 “계열사(태영건설) 워크아웃 과정에서 모회사(티와이홀딩스)를 포함한 그룹 전체에 유동성 문제가 생기는 의도치 않은 결과를 피할 수 있도록 (채권단이) 모기업 등 연관회사의 유동성 상황을 종합적으로 고려할 필요가 있다”고 말한 것은 이때문이다.\\n이와함께 SBS지분을 담보로 내놓을 수 있다고 밝힌 것은 태영건설이 살아나지 못하면 윤석민 회장이 남은 계열사인 SBS를 경영하는 데 대한 비판이 커질 수 있다는 점도 고려한 것으로 전해졌다.\\n태영그룹이 기존 자구안 이행을 확약하고 추가 자구안도 발표한 만큼 워크아웃 개시는 가능할 것으로 보인다. 태영 측은 이날 회사를 정상화할 수 있다고 강조했다.\\n최금락 태영그룹 부회장은 “이미 실행한 태영인더스트리 매각대금 1549억원 지원 외에 2조~3조원으로 추정되는 에코비트 매각대금, 블루원 지분 담보 제공 및 매각, 평택싸이로 지분(62.5%) 담보 제공 등 나머지 3가지가 계획대로 된다면 (기업개선계획이 확정되는) 오는 4월까지 유동성에 큰 문제가 없을 것”이라고 말했다.\\n하지만 워크아웃이 개시되더라도 태영건설이 정상화되기 위해서는 넘어야할 산들이 많다. 워크아웃이 개시되면 채권단은 태영건설의 금융사 채무가 있는 프로젝트파이낸싱(PF) 사업장 60곳의 자산·부채를 3개월동안 실사한다. 이 과정에서 태영건설의 숨겨져 있던 채무가 추가로 발견될 수 있다. 예측 못 한 시장상황 변동으로 우발채무가 현실화하면 유동성에 어려움을 겪을 수 있다.\\n금융당국 관계자는 “낙관할 수 없는 상황”이라면서 “태영 측의 책임있는 자세가 필요하다”고 말했다.\\n유희곤 기자 hulk@kyunghyang.com, 박채영 기자 c0c0@kyunghyang.com', '새해 들어 증시가 약세를 보이는 가운데 소수 종목에 거래가 집중되면서 시장경보도 늘었다. 연초 미국발 시장금리 상승 여파로 코스피가 하락세에 접어든 가운데 개인 외에 강력한 매수 주체가 없기 때문인 것으로 풀이된다. \\n9일 한국거래소에 따르면 올해 개장 후 6거래일 동안 시장감시위원회가 투자주의 83건(파생상품 제외), 투자경고 2건, 투자위험 1건을 지정한 것으로 나타났다.\\n지난달 초 6거래일(12월 1일~8일) 동안 58개가 투자주의 종목으로 지정된 것과 비교하면 크게 늘어난 것이다. 지난달에는 증시가 활황을 이어가는 상황이었는데도 시장경보가 덜 나왔지만 새해에는 증시 개장 후 코스피가 2% 떨어지는 와중에도 시장경보가 발동된 종목은 증가했다.\\n투자주의 종목은 주로 우선주·스팩·테마주가 많았다. 8일 투자경고 지정이 예고된 이스트소프트는 챗GPT 테마 투자자들의 매수가 몰리며 지난 5·8일 양일간 연속 상한가를 기록한 종목이었다.\\n신성델타테크 역시 또다시 초전도체 테마가 주목받으며 투자경고 지정이 예고됐다. 8일에는 하나금융23호스팩이 매매관여 과다 종목으로, 교보11호스팩은 소수지점·계좌 종목으로 지정됐다. 모두 정상적인 거래가 아닌 소수 계좌에 의해 왜곡된 시세가 나올 가능성이 있다는 뜻이다.\\n이는 개인투자자들이 증시에 대한 관심이 높고 대기 자금은 많은 상황에서 두드러지는 대장주나 섹터가 없다 보니 단타가 늘어난 것으로 풀이된다. 작년 말에는 반도체 섹터에서 대형주와 중소형주 모두 주가가 상승했지만 올 들어서는 잠시 소강 상태다.\\n반면 투자자 예탁금도 2일 59조4948억원을 기록할 정도로 증시 대기 자금은 풍부한 편이다. 위탁매매 미수금 또한 5일 다시 1조원을 돌파했는데 이는 지난달 6일 이후 처음이다.\\n조준기 SK증권 연구원은 \"증시에 활기를 돌게 할 만한 트리거가 보이지 않고 변동폭도 크지 않아 테마주 관련 움직임이 크게 나타났다\"며 \"초전도체 테마, 인공지능(AI) 챗봇 테마, 웹툰 테마 등이 상승하는 모습을 보이고 있다\"고 말했다.\\n한국거래소 시장감시위원회는 투자주의·투자경고·투자위험 3단계로 이뤄진 시장경보제도를 운영하고 있다. 주가가 비정상적으로 급등했거나 투기적이고 불공정거래 개연성이 있는 종목에 대해 주의를 환기시키기 위한 제도다. 2단계 투자경고 종목이 되면 위탁증거금이 100% 필요해 미수거래가 차단되고 신용거래도 제한된다. 지정일부터 계산해 10일째 되는 날 종가에 따라 해제 여부가 결정된다.\\n또한 투자경고 지정에도 불구하고 주가 급등이 여전히 계속되면 3단계 투자위험 종목이 돼 하루 동안 거래가 정지된다. 소룩스가 무상증자 권리락 효과로 상한가가 이어지자 새해 첫 투자경고 종목으로 지정된 바 있다.\\n투자경고 종목으로 지정되면 해제될 때까지 10거래일간 신용·미수거래를 막아 시장 과열을 진정시키는 효과가 있다. 이 때문에 지난달 20일 투자경고 종목으로 지정돼 9일 해제된 LS머트리얼즈는 해제 당일 주가가 전일 대비 10.21% 하락하기도 했다.\\n특히 유통주식 수가 적어 수급이 쏠리면 주가 변동성이 커지는 우선주가 대거 투자주의 종목으로 지정되기도 했다. 8일 거래소는 한화투자증권우 한화갤러리아우 태양금속공업우 코오롱모빌리티그룹우 금강공업우 계양전기우를 단기과열 종목으로 지정했다. 거래소는 우선주와 본주 간 가격 괴리율이 50%를 초과하면 단기과열 종목으로 지정해 단일가 매매를 적용한다. \\n[김제림 기자]', '◆ 사법 무풍지대 금배지 ◆\\n\"\\'신속히 재판받을 권리\\'는 특권을 좋아하는 국회의원들이 가장 싫어하는 권리일 겁니다.\"\\n10년 넘게 국회에서 보좌관을 해온 이 모씨. 그가 모셨던 국회의원은 현재 재판을 받고 있다. 이씨는 \"예전에는 재판 중이라는 이유만으로 공천 심사에서 감점 요인이 됐고 이 때문에 신속하게 판결을 받고 사법 이슈에서 벗어나는 것이 유리했다\"며 \"지금은 기소가 되더라도 검찰 탄압만 외치면 공천을 받을 수 있는 분위기\"라고 말했다. 그러면서 그는 \"재판을 최대한 지연시키는 게 정치적으로 이득\"이라며 \"재판 지연 전략이 여의도에 만연해 있다\"고 분위기를 전했다.\\n실제 국회의원이 형사재판을 받는 경우 1심 선고까지 1년을 훌쩍 넘기는 것은 기본이다. 현재 형사재판 중인 현역 국회의원 26명의 1심 평균 재판 기간은 887일에 달한다.\\n\\'국회선진화법\\' 위반 1호 사례로 2020년 1월 재판에 넘겨진 여야 국회의원 11명은 1심만 4년째 진행 중이다. 피고인이 너무 많고 다뤄야 할 증거도 너무 많다는 것이 재판 공전의 이유다. 11명을 제외한 나머지 의원들도 수년째 1심 재판을 받는 경우가 허다하다.\\n국회의원들이 \\'거북이 재판\\'을 선호하는 이유는 유죄 판결이 예상되는 상황에서는 선고를 늦춰야만 국회의원 임기를 채울 수 있기 때문이다. \\'청와대 울산시장 선거 개입\\' 사건은 2020년 1월 29일 법원에 접수돼 1심 결론이 날 때까지 3년10개월이 걸렸다. 사건 당사자인 송철호 전 울산시장은 2022년 6월 임기 4년을 마쳤고, 징역 3년을 받은 황운하 더불어민주당 의원도 항소를 결정해 임기를 모두 채울 전망이다. 위안부 할머니 후원금 횡령 의혹으로 재판에 넘겨진 윤미향 무소속 의원 역시 지난해 9월 항소심에서 징역 1년6월, 집행유예 3년을 판결받았지만, 상고를 결정했다.\\n일부 국회의원들은 \\'재판 지연 기술\\'에 관한 한 도가 텄다는 비아냥을 듣기도 한다. 의정활동을 앞세운 재판 불출석·법관 기피, 증거부동의, 무더기 증인 신청, 변호사 사임까지 방법도 다양하다.\\n6개월 내 선고를 규정하고 있는 공직선거법 사건도 이재명 민주당 대표 등 사건이 복잡한 정치인들에게는 예외가 적용돼 왔다. 이 대표는 국정감사와 단식 등을 이유로 재판에 두 달간 불출석해 절차가 상당 부분 지연됐다. 이 대표가 \\'테러\\'로 병원에 입원한 데다 담당 재판부 부장판사마저 사표를 내면서 오는 4월 10일 총선 전 선고는 사실상 불가능해졌다.\\n17대 국회의원을 지낸 이화영 전 경기도 평화부지사는 \\'불법 대북송금\\' 혐의 재판에서 법관 기피 신청·증거부동의 방법으로 재판을 최대한 끌기도 했다. 이 전 부지사의 1심 재판은 파행을 거듭하면서 해를 두 번이나 넘기기도 했다.\\n이스타항공 주식을 계열사에 저가 매도해 회사에 손해를 끼치고 회삿돈을 빼돌린 혐의로 기소된 이상직 전 의원도 고의적 재판 지연 행위로 인해 재판부에서 질타를 받기도 했다. 이 전 의원은 1심에서 7차례나 변호사를 교체했다. 새로 선임한 변호인이 사건을 담당한 지 얼마 안 돼 준비할 시간이 필요하다는 이유를 들어 재판 연기를 끊임없이 요청했다.\\n이 전 의원은 별다른 이유 없이 재판에 수차례나 불출석하기도 했다. 그는 \"코로나19 확산으로 교도소가 닫혀 있어 재판 기록을 확인하지 못했다\"는 이유를 들었다. 재판부는 \"재판을 지연시키고자 하는 것이 명백하다\" \"이런 식의 재판은 처음\"이라며 격앙된 반응을 보이기도 했다. 이 전 의원은 지난해 4월 대법원에서 징역 6년형을 선고받았다.\\n\\'라임자산운용 사태\\'의 핵심 인물인 김봉현 전 스타모빌리티 회장으로부터 금품을 받은 혐의로 재판에 넘겨진 기동민·이수진(비례) 민주당 의원은 검찰 측과 증인신문 일정을 두고 기싸움을 벌이면서 시간을 벌었다. 지난해 8월 변호인 측은 내년도 예산안의 국회 처리 절차가 끝난 뒤 재판을 재개해 달라고 요청하기도 했다. \\n이에 따라 지난해 2월 기소된 이 사건은 작년 8월부터 5개월간 중단 상태다. 두 사람의 재판은 이달 재개될 예정이다.\\n정치 스캔들에 연루된 의원들이 4월 총선에 출마하는 것도 얼마든지 가능한 상황이다. \\'민주당 돈봉투\\' 의혹 사건으로 윤관석 민주당 의원이 지난달 검찰로부터 징역 5년을 구형받았다. 검찰은 이 밖에 송영길 전 민주당 대표 측으로부터 돈봉투를 받은 것으로 의심되는 의원 20명에 대한 수사에 속도를 내고 있다. 예전 같았으면 공천에 감점 요인이 됐겠지만 민주당은 \\'공천 불이익은 없다\\'는 분위기다. 이들이 출마해 당선되면 22대 의원 임기까지도 다 채울 가능성이 있다. 무조건 대법원까지 사건을 끌고 갈 것이기 때문이다.\\n\\'재판 지연 꼼수\\'를 막을 수 있는 방법은 마땅치 않은 상황이다. 형사소송법상 피고인에게 보장된 권리를 제한하는 건 또 다른 부작용을 낳을 수 있어서다. 3선 국회의원의 한 보좌관은 \"결국 국민이 직접 표로 심판하는 수밖에 없다\"고 말했다. \\n[강영운 기자 / 최예빈 기자]', '\"지금으로선 어떻게 할 수 있는 방법이 없으니 일단 조금만 더 기다려보세요.\"\\n여행사에서 근무하는 심 모씨(48)는 신종 보이스피싱을 당하고도 뾰족한 해결 방법이 없어 발만 동동 구르고 있다. 급한 마음에 찾은 은행과 경찰에서는 별다른 해결 방법이 없다는 말만 들어야 했다. 그는 지난해 11월 자신의 계좌에 모르는 사람 명의로 20만원이 입금된 것을 확인했다. 이상하게 생각해 바로 다음 날 은행을 방문했지만 이미 자신의 모든 통장과 계좌가 동결된 후였다. 최근 성행하는 신종 보이스피싱 범죄인 \\'통장 묶기\\'를 당한 것이었다. 하루아침에 모든 통장이 동결된 심씨는 월급을 받거나 돈을 송금하는 등 모든 금융거래를 할 수 없는 처지에 놓였다.\\n심씨는 \"보이스피싱 피해자 보호도 중요하지만 저같이 억울한 제3의 피해자도 점점 더 많아지고 있는데 경찰도, 은행도, 금융감독원도 현행법상 어떻게 할 방법이 없다는 말만 되풀이한다\"며 \"민사로 해결하는 방법밖에 없다고 하는데 거기에 들어가는 비용과 시간은 누가 책임져주느냐\"고 토로했다.\\n신종 보이스피싱 범죄인 통장 묶기가 성행하면서 피해자가 속출하고 있다. 통장 묶기는 전기통신금융사기 피해 방지 및 피해금 환급에 관한 특별법(통신사기피해환급법)의 구멍을 악용한 새로운 금융범죄 수법이다. 전화나 메시지 등으로 접근해 피해자를 속였던 기존 보이스피싱보다 한층 더 악질적이라는 평가다. \\n합의금을 노리고 범행을 저지르는 경우가 많다. 피싱 피해자 계좌에 입금한 뒤 문제가 있는 계좌라고 신고하면 계좌가 동결된다는 점을 악용해 의도적으로 접근해 금전을 요구하는 것이다.\\n이들이 피싱 피해 계좌를 활용하는 방법은 교묘하다. 피싱 피해자에게 중고거래인 척 접근한 뒤 \\'물건을 보내줄 테니 돈을 입금하라\\'고 하면서 제3자의 계좌번호를 알려주는 경우가 많다. 일단 입금되면 해당 계좌는 꼼짝없이 문제 계좌로 \\'묶여버리고\\' 이를 풀어주겠다며 합의금을 요구하는 것이다.\\n유정훈 IBS법률사무소 대표변호사는 \"보이스피싱 조직이 통장 묶기 피해자에게 접근해 \\'합의금을 주면 동결을 풀어줄 수도 있다\\'는 식으로 금전을 요구하는 것이 전형적인 패턴\"이라며 \"그러나 동결을 풀려면 반드시 피싱 피해자의 동의가 있어야 하기 때문에 금전을 요구하는 범죄조직에게 절대 돈을 보내서는 안 된다\"고 말했다.\\n이처럼 제3의 피해자가 속출하고 있지만 당장 이들을 보호할 수 있는 수단은 전무한 실정이다. 현행법상으로는 통장 묶기 피해자에 대한 피해구제 절차가 마련돼 있지 않기 때문이다. 현재 통장 묶기에 당해 동결된 계좌를 풀려면 피싱 피해자와 통장 묶기 피해자가 서로 입금된 돈을 반환하고 이를 받겠다고 합의하는 수밖에 없다. 경찰과 은행은 양쪽 피해자와 연락을 주고받으면서 원만하게 문제가 해결되도록 중재하고, 금감원은 빨리 조정이 성립되도록 감독하는 등 제한적인 역할만 할 수 있다.\\n문제 해결을 위해 윤창현 국민의힘 의원이 발의한 특별법 개정안은 지난해 12월 정무위원회를 통과해 법제사법위원회 심사를 기다리고 있다. 이는 통장 묶기를 당해도 금융기관에서 볼 때 사기 이용 계좌가 아니라고 판단되면 입금액을 제외한 나머지 기존 금액은 정상적으로 입출금할 수 있도록 하는 내용을 골자로 한다.\\n전문가들은 보호법 부재로 통장 묶기를 예방하거나 효과적으로 대처할 수 있는 방법이 없는 만큼 최대한 빠른 대응이 중요하다고 강조한다. \\n금감원 관계자는 \"법적 근거가 없는 상황에서 금감원이나 금융기관이 피싱에 연루된 통장이나 계좌 동결을 임의로 풀어줄 수는 없는 것이 현실\"이라며 \"현재로서는 통장 묶기에 당했다면 최대한 빨리 은행에 연락하고 피해 사실을 알린 뒤 신속한 중재를 요청하는 수밖에 없다\"고 전했다.\\n[박민기 기자]', '◆ 반도체 훈풍 ◆\\n3개 분기 연속 실적 개선에 성공한 삼성전자가 올해 반도체 업황 회복을 발판으로 연간 35조원대 영업이익을 달성하기 위해 시동을 걸었다.\\n최근 생성형 인공지능(AI) 열풍으로 고성능 반도체 수요가 확대되고 온디바이스 AI 확산으로 스마트폰·TV 등 완제품 판매에 대한 기대감이 커지면서 부품과 완제품의 \\'쌍끌이\\'를 기대하는 상황이다.\\n9일 삼성전자가 공개한 \\'2023년 4분기 잠정 실적\\'에 따르면 지난해 4분기 삼성전자 영업이익은 2조8000억원으로 분기 기준으로는 지난해 최대 폭을 기록했다. 이 같은 영업이익은 반도체를 담당하는 디바이스솔루션(DS) 부문의 실적 개선에 따른 것으로 풀이된다. 지난해 1분기 4조5800억원으로 불어난 DS 부문의 영업적자는 4분기에 2조2000억원까지 감소한 것으로 관측된다. 감산 효과로 메모리 반도체 고객사의 재고가 정상화되고 시장에서 수요가 개선된 데 따른 것이다.\\n시장에서는 올해 전망을 더 긍정적으로 보고 있다. 메모리 출하량이 늘고 평균판매단가(ASP)가 상승하는 흐름이 지속되고 있기 때문이다.\\n삼성전자를 비롯해 주요 메모리 업체의 감산 효과로 2년 넘게 하락했던 D램·낸드플래시 가격은 반등을 시작했다. 시장조사기업 D램익스체인지가 집계한 PC용 D램과 메모리카드, USB용 낸드플래시의 고정거래가격은 작년 10월 이후 3개월 연속 오르고 있다.\\n류영호 NH투자증권 연구원은 \"PC·모바일 일부 고객사의 신제품 출시와 재고 축적 수요가 맞물려 반도체 수급이 좋아지고 있다\"며 \"전방 산업 회복에 따른 가동률 제고와 일반 메모리 수요 증가는 하반기 때 삼성전자에 가파른 실적 개선으로 연결될 것\"이라고 내다봤다.\\n더블데이터레이트(DDR)5와 고대역폭메모리(HBM) 등 AI 시대에 필수인 고성능 D램 수요 역시 지속 증가할 것으로 전망된다. 특히 D램 여러 개를 수직으로 연결해 데이터 처리 속도를 높인 HBM은 AI 시장 확대로 공급 부족이 예상된다. 여기에 온디바이스 AI 시장의 성장세가 고용량·고성능 반도체 수요를 끌어올리고 있다.\\n이뿐만 아니라 낸드플래시 시장의 회복기가 가까워졌다는 점도 고무적이다. 시장에서는 지난해 4분기 삼성전자가 D램 부문에서 8000억원대 흑자를 거둔 반면 낸드플래시 부문에서 2조원대가 넘는 적자를 낸 것으로 보고 있다. 삼성전자가 DS 부문에서 흑자전환하기 위한 열쇠는 낸드플래시에 있다는 의미다.\\n반도체 업계 관계자는 \"낸드플래시 시황이 올해 1분기 들어 개선되고, 가격 인상에 대해 고객사의 수용도가 높아지고 있다\"며 \"낸드플래시 수요 또한 미국을 중심으로 개선되는 흐름을 보인다\"고 설명했다.\\n반도체 부문에서 실적이 오르는 분위기에 힘입어 삼성전자는 올해 1분기에도 작년 4분기 대비 영업이익 개선세를 이어갈 것으로 예상된다. 4개 분기 연속 실적 개선 흐름이 계속될 수 있다는 것이다.\\n삼성전자는 DS 부문뿐만 아니라 다른 사업부에서도 실적 반등을 예상한다. 시장에서는 작년 4분기 삼성디스플레이(SDC)와 모바일경험(MX) 부문이 각각 2조원대, 2조5000억원대 이익을 거두고, 영상디스플레이(VD)·가전 부문이 100억원 안팎의 영업적자를 낸 것으로 분석한다.\\nMX 부문은 스마트폰 출하가 줄어드는 4분기의 계절적 특성에 부합하는 실적을 낸 것으로 평가받는다. MX 부문의 연간 이익은 2022년 실적(11조3800억원)을 초과해 달성한 것으로 추측된다. \\nVD·가전·MX사업부를 포괄하는 디바이스경험(DX) 부문은 AI가 적용된 제품을 올해의 \\'돌파구\\'로 삼겠다는 전략이다.\\n증권가에서는 올해 삼성전자의 연간 영업이익이 35조원대에 달할 것으로 추정한다. 반도체뿐만 아니라 MX·디스플레이·가전 등 모든 부문에서 흑자가 예상되는 데 따른 것이다.\\n삼성전자는 오는 31일 사업부별 실적을 포함해 작년 4분기와 연간 확정 실적을 발표한다.\\n[최승진 기자]', '토니 블링컨 미국 국무장관이 홍해 일대 중동 5개국을 돌면서 확전 방지를 설득하는 데 나서고 있지만 이스라엘은 공격을 멈추지 않았다. 8일(현지시간) 레바논 헤즈볼라의 사령관이 이스라엘의 공습으로 폭사하면서 중동 지역에 긴장이 고조되는 가운데 블링컨 장관은 이스라엘 텔아비브에서 베냐민 네타냐후 이스라엘 총리와 확전 방지를 위한 협상에 나섰다.\\n로이터통신에 따르면 헤즈볼라는 이날 이스라엘군의 공습으로 정예 라드완 부대의 지휘관인 위삼 하산 알타윌이 사망했다고 발표했다. 알타윌은 이스라엘과 접경 지역인 레바논 남부에서 작전을 진두지휘한 핵심 인물로 알려졌다. AP통신에 따르면 이스라엘과 레바논은 전쟁이 발발한 이후 소규모 교전을 지속해왔지만, 헤즈볼라의 고위 인사가 사살된 것은 이번이 처음이다.\\n미국 뉴욕타임스(NYT)는 \"이스라엘이 주요 표적으로 삼아온 라드완 부대 지휘관 알타윌이 폭사한 것은 중동에서 가자지구에 이은 또 다른 전쟁에 대한 공포를 키우는 사건\"이라고 평가했다. NYT는 2006년 이스라엘과 레바논 사이 전면전이 재현될 수 있다고 짚었다.\\n확전 방지를 목표로 중동을 순방하던 블링컨 장관에게는 날벼락 같은 소식이다. 그는 알타윌 사망과 관련해 \"긴장이 고조되고 실제 전쟁을 보게 되는 것은 이스라엘, 레바논, 헤즈볼라 누구의 이익에도 부합하지 않는다\"고 미 CNN 방송을 통해 말했다.\\n미국 입장에서는 홍해에서 역내 긴장감을 키우고 있는 예멘 후티 반군에 더해 헤즈볼라도 억제해야 하게 됐다. 앞서 블링컨 장관은 이날 사우디아라비아에서 \"홍해를 지나는 국제 상선들에 대한 예멘 후티 반군의 공격이 중단돼야 한다\"며 \"여러 나라가 후티의 공격이 계속될 경우 그에 따르는 결과가 있을 수밖에 없다는 점을 분명히 했다\"고 말했다.\\n블링컨 장관의 성과도 일부 빛이 바래게 됐다. 그는 아랍 국가 지도자들에게서 확전 방지를 위한 협조를 이끌어내고 있었다. 블링컨 장관은 무함마드 빈살만 사우디 왕세자와 만난 뒤 \"중동에서 만난 지도자들이 가자지구의 안정과 회복을 돕고 팔레스타인 주민을 위한 정치적 길을 계획하며 지역 전체의 장기적인 평화와 안보·안정을 위해 협력할 의향을 갖고 있었다\"며 \"지도자들은 필요한 약속을 할 준비가 돼 있다\"고 말했다.\\n또한 블링컨 장관은 빈살만 왕세자와 함께 사우디와 이스라엘의 국교 정상화 논의를 진행했다. 지난해 10월 7일 전쟁이 발발한 이후 아랍권의 민심이 악화하면서 관련 논의가 중단됐다. 이슬람 수니파 종주국인 사우디가 이스라엘과 대화하게 되면 지역에 평화 분위기가 조성될 수 있다는 기대가 나왔다.\\n하지만 이스라엘이 이슬람 무장단체 고위 인사에 대한 표적 공격을 지속하면서 중동 분위기가 급속도로 얼어붙고 있다. \\n[김상준 기자]', '조 바이든 미국 대통령이 남북전쟁의 원인은 노예제가 아니라는 취지의 발언을 한 도널드 트럼프 전 대통령의 주장을 \\'백인 우월주의\\'라고 비판하며 최근 지지율이 하락한 것으로 나타난 흑인 유권자 표심 잡기에 나섰다.\\n과거 남북전쟁에서 패배한 뒤 남부연합이 노예제가 전쟁 원인이 아닌 것처럼 역사를 왜곡했듯이, 트럼프 전 대통령이 2020년 대통령선거 패배를 뒤집기 위해 과격 지지자들의 의회 난동을 방관했다며 그를 저지해야 한다고 강조했다. 8일(현지시간) 바이든 대통령은 미국 사우스캐롤라이나주 찰스턴의 \\'이매뉴얼 아프리칸 감리교회\\'에서 트럼프 전 대통령이 남북전쟁을 협상으로 피할 수 있었다는 취지의 발언을 한 것과 관련해 \"이는 거짓말\"이라고 지적했다.\\n바이든 대통령은 \"모르는 것 같은 사람들을 위해 분명히 말한다. 노예제가 남북전쟁의 원인\"이라며 \"이것에 대해서는 협상이 있을 수 없다\"고 강조했다.\\n트럼프 전 대통령은 지난 6일 아이오와주 선거 유세에서 \"남북전쟁 당시 협상이 가능했다\"며 \"(에이브러햄) 링컨 대통령이 협상했다면 사람들은 그가 누군지 몰랐겠지만 괜찮았을 것\"이라고 말했다. \\n앞서 니키 헤일리 전 유엔 대사는 지난달 27일 뉴햄프셔주 유권자 행사에서 남북전쟁의 원인을 묻는 질문에 노골적으로 노예제를 거론하지 않아 구설에 올랐다. 최근 마가(MAGA·극우 공화당)는 선거 유세에서 대선 후보에게 남북전쟁의 원인을 질문해 사상을 검증하고 있다.\\n바이든 대통령은 트럼프 전 대통령과 헤일리 전 대사의 발언을 백인 우월주의와 연결 지었다. 그는 \"백인 우월주의라는 오래된 유령이 새로운 옷을 입었다\"고 말했다.\\n이날 연설 장소인 유서 깊은 흑인교회에서 바이든 대통령은 2015년 백인 우월주의자의 무차별 총격으로 흑인 9명이 사망한 사건을 언급하며 \"백인 우월주의는 미국의 역사 내내 나라를 분열시킨 독\"이라고 비판했다. \\n한편 트럼프 전 대통령이 2020년 대선 패배를 뒤집기 위해 자신의 지지층인 마가의 의회 난입을 방관한 것이 거짓말로 역사를 바꾸려는 시도이며, 이를 방관하면 위험이 닥칠 것이라고 경고했다. 바이든 대통령은 \"다시 한번 패배를 거짓말로 바꾸려고 하는 이들이 이 나라에 있는데, 만약 이들을 살도록 허락하면 또다시 이 나라에 끔찍한 피해를 가져올 것\"이라며 \"이번에 그 거짓말은 2020년 대선에 관한 것\"이라고 말했다. 바이든 대통령은 트럼프 전 대통령이 2021년 1월 6일 대선 패배를 뒤집기 위해 의회에 난입한 폭도들을 \\'애국자\\'라고 부르고 반란을 \\'평화 시위\\'라고 주장했다면서 \"패배한 대통령이 이끄는 마가가 선거를 훔치려고 했고, 이제 역사를 훔치려고 한다\"고 비판했다.\\n바이든 대통령이 자신에게 중요한 정치적 의미를 가진 사우스캐롤라이나주를 선택해 주요 지지층인 흑인 유권자의 집결을 꾀한 것은 전략적인 선택이라고 뉴욕타임스(NYT)는 분석했다. 1·6 의사당 폭동 3주년 바로 전날인 지난 5일 펜실베이니아주 선거 유세에서 트럼프 전 대통령에 대해 \\'민주주의에 대한 위협\\'이라고 발언한 데 이어 이날 백인 우월주의가 초래한 참사를 떠올리게 하는 교회에서 비판을 이어 가며 올해 11월 대선의 중요성을 상기시키려 했다는 것이다.\\n흑인 유권자가 많은 사우스캐롤라이나주는 바이든 대통령이 2020년 민주당 대선 후보 경선에서 겪었던 초반 부진을 반전시키는 압승을 거두게 한 곳이다. 그는 이곳의 승리에 힘입어 대선 후보가 됐다. 이번 대선에서 민주당은 바이든 대통령의 제안을 받아들여 주별 경선 순서를 바꿔 첫 공식 경선을 다음달 3일 열리는 사우스캐롤라이나 경선으로 진행한다. \\n흑인 유권자들 사이에서 바이든 대통령 지지율은 최근 하락세를 보였다. 지난 1일 미국 일간 USA투데이와 서포크대가 발표한 여론조사 결과에서 바이든 대통령에 대한 흑인 유권자들의 지지는 63%에 그쳤다. 2020년 대선 때 87%가 바이든 대통령을 선택한 것과 비교하면 지지율이 대폭 하락한 셈이다. \\n[김제관 기자]', '', '로봇 집사에서 메시지가 온다. 반려견이 집 안을 엉망으로 만드는 사진이다. \\'반려견에게 밥을 주라\\'고 로봇 집사에 문자를 보내면 사물인터넷(IoT)으로 연결된 사료기계로 로봇 집사가 명령을 내린다.\\n삼성전자가 8일(현지시간) 세계 최대 가전·정보기술(IT) 전시회 \\'CES 2024\\'에서 공개한 인공지능(AI) 컴패니언 \\'볼리(Ballie·사진)\\'의 모습이다. \\n바퀴가 달린 노란색 작은 공 모양인 볼리는 자율주행으로 움직인다. 프로젝터가 탑재돼 있어 벽, 천장, 바닥 어디든 화면을 비춰주고 주인과 소통한다. 집 안 모든 가전제품과 연결된 로봇 집사는 내가 지시하는 대로 불을 켜고, 내가 원하는 정보를 찾아서 화면으로 보여준다. 볼리는 라이다 기반으로 공간을 매핑하는 능력도 있어 집 구조를 집주인보다 더 잘 이해한다.\\n삼성전자는 이런 콘셉트 제품을 오랫동안 연구해 왔다. 2020년 CES에서 강아지처럼 사용자를 따라다니며 명령을 수행하는 \\'볼리 콘셉트\\'를 처음 공개한 지 4년 만에 볼리는 \\'AI 집사\\'라는 완성된 모습으로 복귀했다. 한종희 삼성전자 부회장은 \"삼성은 10년 넘게 AI에 투자해 왔고, 이런 투자는 오늘날 다양한 분야에서 실현되고 있다\"며 \"삼성의 목표는 전 세계 수백만 명에게 AI를 제공하는 것\"이라고 밝혔다.\\nLG전자도 같은 날 스마트홈 AI 에이전트를 내놓으며 맞불을 놨다. 로봇 형태의 반려 가전 콘셉트를 가진 이 로봇은 바퀴 달린 두 다리로 집 안을 자율주행으로 이동한다. 삼성전자 볼리가 스크린을 통한 확장 경험에 강점을 갖췄다면, LG AI 에이전트는 \\'감성\\' 소통에 특화돼 있다. 음성과 음향, 이미지를 모두 인식하는 멀티모달 기능이 있어 사용자의 상황과 상태를 인식하고 소통한다. 이날 시연에서 AI 에이전트는 주인 목소리를 듣고 건강 상태를 알아채 따뜻한 말을 건네기도 했다. LG전자는 이날 CES에서 AI 에이전트에 적용할 AI 엔진 \\'LG AI 브레인\\'도 개발 중이라고 밝혔다. \\n삼성과 LG가 공개한 로봇 집사는 사람에게 거부감을 일으키는 기계적 모습이 아니라 반려동물이면서 집사 역할도 하는 이중적인 모습을 갖췄다. AI 로봇에 대한 심리적 장벽을 허물기 위해 기능뿐만 아니라 감정적 부분도 고려했다.\\n[라스베이거스 이덕주 특파원 / 오찬종 기자]', '서울시는 12일부터 ‘2024년도 1월 자동차세 연세액 신고납부서’를 일제히 발송한다. 연세액 일괄 납부 신청은 오는 16일부터 받는다. 신청 후 31일까지 전화, 홈페이지, 스마트폰 어플리케이션 등을 통해 납부하면 된다.\\n자동차세는 지방세법에 따라 매년 6월과 12월 나누어 부과된다. 자동차 소유자가 신청하는 경우에는 1월 중 연세액을 한꺼번에 납부할 수 있다.\\n이번 신고납부서 발송 대상은 서울시 등록자동차 325만대 중 39%에 해당하는 128만대다. 연납 세액은 2899억원이 될 전망이다.\\n지난 해에 자동차세를 선납했다면 올해 다시 신청하지 않아도 연세액 신고납부서가 자동으로 발송된다. 서울시는 “선납하는 것은 3월, 6월, 9월에도 신청할 수 있지만 ‘연말까지 잔여기간에 대한 세액의 5%’를 할인해주므로 1월에 납부하는 것이 세금 절감 혜택이 가장 크다”고 설명했다.\\n연세액을 납부하고 차량을 양도하거나 폐차하면 소유 일수를 제외한 나머지 기간만큼 세금을 돌려받을 수 있다. 환급 신청은 관할구청 세무부서를 방문·전화하거나 서울시 지방세 인터넷 납부시스템으로 가능하다.\\n김진만 서울시 재무국장은 “자동차세 절감 혜택이 가장 큰 1월 일시 납부로 많은 시민들이 부담을 조금이나마 덜기를 바란다”며 “시민이 보다 편리하고 합리적으로 세금을 납부할 수 있는 시스템·제도를 지속적으로 제공할 것”이라고 밝혔다.', '지난해 9월1일 부산 동구 좌천동의\\xa0한 목욕탕에서 화재가 발생했다. 신고를 받고 출동한 소방이 20분 만에 큰 불길은 잡았지만, 원인 불명의 2차 폭발로 당시 현장을 확인 중이던 김진홍 부산 동구청장이 가슴 골절, 눈 부위 타박상, 등 부위 화상 등 부상을 입어\\xa0병원 치료를 받아야 했다. 김 구청장의 상해 피해는 분명 공무상 재해에 해당했지만 적절한 보상·지원이 이뤄지지 않아\\xa0자비 처리해야만 했다. 지방자치단체장의 경우 공무상 상해·사망 등에 대한 보상 규정이 현행 법률상 존재하지 않는 탓에 이런 상황이 벌어진 것이다.\\xa0김 구청장은 9일 통화에서\\xa0“제 개인의 보상이 중요한 게\\xa0아니라 직무상 사고 현장에 갈 일이 많은 지자체장이 다른 공무원과 달리\\xa0보상·지원 대상이 되지 못하는 건 문제”라고 말했다.\\xa0\\n일반 공무원의 경우\\xa0공무원 재해보상법에 따라 공무상 부상·질병·장애·사망에 대한 보상·지원이 이뤄진다. 이 법 적용 대상에서 선출직 공무원은 제외된다. 지자체장과 같은 선출직인 지방의회 의원의 경우 지방자치법에 따로 상해·사망 등에 대한 보상 규정이 명시돼 있다. 이 법 42조에\\xa0‘지방의회 의원이 직무로 인해 신체에 상해를 입거나 사망한 경우와 그 상해나 직무로 인한 질병으로 사망한 경우에는 보상금을 지급할 수 있다’고 돼 있다. 다른 선출직인 국회의원도\\xa0‘국회의원의 보좌직원과 수당 등에 관한 법률’에 관련 규정이 포함돼 있는 상태다.\\n지자체장의 경우 직무 특성상 주민 직접 접촉이 잦고 통상 근무시간 외에도 직무를 수행해야 하는 특수성이 있는데도 공무상 재해 보상 규정이 존재하지 않는 데 대해 지적이 나올 수밖에 없다.\\xa0대한민국시장군수구청장협의회 이상범 정책연구실장은 이와 관련해\\xa0“이전부터 형평성 차원에서 문제 제기가 있었는데 부산 동구청장 사고를 계기로 행정안전부에 개선을 건의했다”고 말했다.\\n현재 더불어민주당 노웅래 의원이 지자체장의 직무 중 상해·사망 등에 따른 보상 규정 신설을 골자로 하는 지방자치법 개정안 발의를 준비 중이다. 행정안전부 또한 노 의원 측의 이 개정안 관련 검토의견 요청에\\xa0“입법 취지에 공감한다”는 입장을 전했다.\\xa0노\\xa0의원은 “조속한 대책 마련을 위해 법안을 발의했다”며\\xa0“주무부처인 행정안전부 역시도 문제점을 공감하고 있기에 제도 개선이 신속하게 이뤄질 것”이라고 말했다.\\n김승환 기자 hwan@segye.com', '기상청은 서울 등에 내려진 대설특보는 대부분 해제됐지만, 눈구름이 남동쪽으로 이동하면서 경기 남부와 강원 남부, 충청 이남 지역엔 최대 10cm의 눈이 더 내릴 것이라고 9일 예보했습니다.\\n이어 \"내륙 곳곳에 많은 눈이 쌓인 가운데 밤사이 기온이 떨어지면서 빙판길 사고 위험이 커지겠다\"며 안전운전에 각별한 주의를 당부했습니다.\\n10일 아침 최저기온은 서울과 춘천 영하 2도, 인천 영하 1도, 대구 1도, 부산 4도 등으로 영하 5도에서 4도의 분포를 보이겠습니다.\\n낮 기온은 4~9도의 분포로, 평년과 비슷하거나 조금 높겠습니다.\\n미세먼지 농도는 수도권과 충북 지역 등에서 오전 한때 \\'나쁨\\' 수준을 보이겠고, 그 밖의 지역은 대부분 \\'좋음\\'에서 \\'보통\\' 수준을 나타내겠습니다.\\n광주와 전남 지역에도 이날 오전 눈 소식이 있습니다.\\n전남 동부 내륙 지역은 1~3cm, 광주와 전남 중부 내륙 지역은 1cm의 적설량을 기록하겠습니다.\\n아침 기온은 장성과 담양 영하 2도, 광주 0도 등으로 전날보다 조금 오르겠고, 낮 기온은 5~10도의 분포로 평년보다 1~3도 가량 높겠습니다.\\n#날씨 #눈 #비 #광주 #전남 #평년기온', ' 이태원 참사 특별법이 오늘(9일) 야당 주도로 국회에서 단독 처리됐습니다.\\n더불어민주당 등 야당은 이날 오후 본회의에서 이태원 참사 특별법을 단독으로 의결했습니다. 의원 177명이 투표에 참여해 전원 찬성으로 가결됐습니다.\\n여당인 국민의힘 의원들은 표결에 참여하지 않고 퇴장해 규탄대회를 열었습니다.\\n민주당이 최종 제출한 수정안에는 김진표 국회의장의 중재안을 반영해 특별조사위원회 구성을 전제로 특검 관련 조항을 삭제하고 특별법 시행일을 총선 이후인 4월 10일로 조정하는 내용이 담겼습니다.\\n또 조사위원회 활동기간 연장을 기존 6개월 이내에서 3개월 이내로 단축하고, 조사위원회 활동기간 동안 이태원 참사 관련 범죄행위의 공소시효를 정지하도록 한 조항도 삭제했습니다.\\n조사위원회 위원은 총 11명으로 국회의장이 관련 단체와 협의해 추천하는 3명을 포함시켰습니다. 상임위원은 국회의장 추천 1명, 대통령이 소속되거나 소속됐던 정당의 교섭단체가 추천하는 1명, 그 외 교섭단체가 추천하는 1명으로 구성하도록 조정했습니다.\\n조사위원회 영장청구 요건을 \\'정당한 이유 없이 2회 이상 거부할 때\\'로 강화하고, 관할 지방검찰청 검사장 말고도 고위공직자범죄수사처 처장에게도 청구할 수 있도록 했습니다.\\n수정안을 대표 발의한 박주민 의원은 제안 설명에서 \"원안에서 후퇴한 수정안을 제출하게 돼 마음이 매우 무겁고 유가족 의견을 100% 반영하지 못해 진심으로 죄송하다\"면서 \"윤석열 대통령의 거부권 행사 위험을 최소화하기 위해 뼈를 깎는 심정으로 이러한 수정안을 제출하게 됐다\"고 말했습니다.\\n그러면서 \"특별법 제정은 진상규명의 끝이 아닌 시작\"이라며 \"법이 통과되면 부디 윤 정부에서 신속하게 법에 따라 행정력 투입에 나서주시길 진심으로 부탁드린다\"고 당부했습니다.\\n이태원 참사 특별법은 야당 주도로 지난해 6월 신속처리안건으로 지정되면서 지난해 11월 본회의에 자동 부의됐습니다.\\n이후 여야는 오늘 오전까지 합의 처리를 위한 협상을 이어왔지만, 특조위 세부 내용에 대한 이견을 좁히지 못해 결국 합의에 실패했습니다.\\n민주당 홍익표 원내대표는 본회의 전 열린 의총에서 \"정부·여당이 특조위를 받는 조건으로 끊임없이 과거 세월호 참사 때와 같이 특조위 자체를 무력화시키기 위한 여러 가지 수정 제안을 반복적으로 하면서 결국은 협상이 결렬될 수밖에 없는 상황으로 간 것은 매우 유감스럽다\"고 밝혔습니다.\\n국민의힘 윤재옥 원내대표는 규탄대회에서 \"특별법은 유족과 피해자에게 실효적인 지원 방안을 마련하고 재발 방지가 최우선 목표여야 한다\"면서 \"재난을 정쟁화하고 사회적 갈등을 증폭하기 위한 정략적 의도가 깔린 특별법을 단독으로 통과시킨 것은 대한민국 안전이 아니라 정쟁과 갈등을 선택한 것\"이고 비판했습니다.\\n국민의힘은 대통령에게 재의요구권 행사를 건의할지에 대해서는 아직 입장을 정하지 않았습니다.\\n진선민 기자 (jsm@kbs.co.kr)', '오는 27일부터 상시 근로자 50인 미만(5~49인)인 소규모 기업도 중대재해처벌법 적용을 받게 될 가능성이 커졌다. 정부·여당이 더불어민주당이 제시한 중대재해법 유예 연장 조건을 충족하려 대책을 발표하고 경제계도 동참했으나, 민주당이 호응하고 있지 않아서다. 정부는 국회에 신속히 법을 개정해달라고 요청했다.\\n국회는 9일 본회의를 열었으나, 50인 미만 또는 공사금액 50억원 미만 사업장에 대해 중대재해처벌법 적용 시기를 늦추는 내용의 중대재해처벌법 개정안이 처리되지 않았다. 임이자 국민의힘 의원이 발의한 이 법안은 현재 법제사법위원회에 계류돼 있다. 다만 1월 임시국회가 오는 15일부터 열리는 만큼 27일 전 극적으로 처리될 가능성은 있다.\\n중대재해처벌법은 2022년 1월 27일부터 시행됐다. 50인 미만 기업과 50억 미만 사업장은 법 적용이 2년간 유예됐다. 정부·여당은 현실적으로 소규모 기업과 사업장은 중대재해처벌법 시행 준비가 부족해 혼란이 불가피하다는 점을 고려해 2년 더 유예하는 방향으로 법 개정을 추진 중이다.\\n중소기업중앙회가 50인 미만 중소기업을 대상으로 실시한 조사에서 80%가 전문인력과 예산이 부족해 중대재해처벌법 시행에 대비하지 못하고 있었다. 대한상의가 실시한 비슷한 조사에서는 76.4%가 법 시행 대비가 미흡하다고 답했고, 89.9%는 적용 유예가 필요하다고 했다.\\n중대재해처벌법을 개정하려면 거대 의석을 갖고 있는 민주당 협조가 필수적이다. 민주당은 국민의힘과 법 적용 2년 유예를 논의하면서 ▲준비 소홀에 대한 정부의 공개 사과 ▲유예기간(2년) 동안 실시할 구체적인 계획 및 재정지원안 ▲유예기간 종료 뒤 시행을 약속하는 정부·경제단체 합의서 ▲중소기업협동조합법 개정안 동시 처리 등 4대 선결조건을 내걸었다.\\n정부는 지난달 27일 83만7000개 사업장을 대상으로 2년간 안전보건관리체계 구축을 지원하는 내용의 ‘중대재해 취약분야 기업 지원대책’을 마련해 발표했다. 이정식 고용노동부 장관은 같은 날 국회에서 열린 당정협의회에서 “(지난 3년간 정부의 준비가) 현실적으로 충분하지 못하다는 점을 인정할 수 밖에 없는 상황”이라고 말하며 사실상 사과했다.\\n또 중기중앙회, 한국경영자총협회(경총), 대한상의, 무역협회 등 경제단체도 정부 대책에 적극 협력하고, 2년 뒤에는 추가 유예를 요구하지 않겠다고 약속했다. 민주당이 내건 4가지 조건 중 3가지가 충족된 셈이다. 그러나 그 뒤 여야 논의는 진척되지 않고 있다.\\n정부는 이날 발표한 입장문에서 “정부, 경제단체 등의 노력에도 불구하고 국회에서 적극적인 논의를 하지 않는 것은 83만7000 영세 중소기업의 현실적 어려움을 외면하는 것”이라며 “현장의 절박한 호소를 충분히 고려하여 법 전면 시행(27일) 전까지 적극적인 개정안 논의와 신속한 입법 처리를 간곡히 요청드린다”고 했다. 민주당이 내건 조건 4개와 관련해서는 “그간 정부는 유예 연장 전제조건 충족과 취약 분야 중대재해 대응 역량 획기적 강화를 위해 최선의 노력을 다해왔다”고 했다.\\n정부는 “50인 미만 기업 대다수는 영세기업 특성상 대표가 경영의 모든 부분을 책임진다”며 “중대재해로 대표가 처벌을 받으면 폐업뿐만 아니라 일자리 축소로 인한 근로자 피해 등을 우려해 적용 유예를 호소하고 있다”고 전했다. 정부는 이달 중 중대재해 대책 추진단을 조속히 구성･운영하여 50인 미만 사업장이 안전보건관리체계를 신속하게 구축하고 이행할 수 있도록 적극 뒷받침할 계획이다.\\n중기중앙회·경총·대한상의 등 경제 6단체는 이날 공동성명을 내고 50인 미만 사업장에 대한 중대재해처벌법 유예 법안 처리가 무산된 데 대해 “안타깝고 참담한 심정”이라고 했다. 이들은 “83만이 넘는 50인 미만 소규모 사업장들의 절박한 호소에도 불구하고, 국회에서 논의조차 하지 않은 것은 민생을 외면한 처사”라며 “국회 다수당인 민주당이 부디 전향적인 입장을 보여주기를 간곡히 호소한다”고 했다.\\n- Copyright ⓒ 조선비즈 & Chosun.com -', '제주시 아라동 / 오늘(9일) 오전제주시내 한 민간 유기견 보호소.\\n학대로 한쪽 눈을 잃고, 다리가 불편한 행운이는 안락사 직전 이곳에서 새 생명을 얻었습니다.\\n행운이처럼 갈 곳 없는 개들의 쉼터이면서도, 지난해에만 45마리를 분양 보내는 등 반려견 문화에도 일조하고 있습니다.\\n지난해 코와 입만 남긴 채 생매장됐던 \\'베리\\' 역시 이곳을 거쳤습니다.\\n이효형 기자\"이곳은 행운이를 비롯한 200여 마리의 유기견들이 생활하고 있지만, 지금은 철거될 위기에 놓여 있습니다\"\\n유기견 보호 시설이 임야에 지은 불법 건축물이라며 제주시가 철거를 명령했기 때문입니다.\\n토지주와 협의만 되면 문제가 없을 줄 알았던 보호소 입장에선 날벼락이었습니다.\\n고길자 / \\'ㅎ\\' 유기견보호소장\"눈 비 다 맞으면서 그냥 집만 놓고 맨땅에다 줄 매서 다 키우라는 건데, 그거거든요\"\\n보호소에서 철거에 나서지 않자 제주시는 결국 경찰에 고발했고, 다음 주 조사가 예정돼 있습니다.\\n올들어선 강제이행금 징수를 위해 통장까지 압류했습니다.\\n고길자 / \\'ㅎ\\' 유기견보호소장\"나올 돈이 어딨습니까. 하다 보니까 내 개인통장으로 압류가 돼 있더라고요. 시장 못 보는 건 괜찮아요. 내가 어디 가서 얻어먹어도 되니까.. 그런데 우선은 애들 문제죠. 애들 문제가 제일 힘들어요\"\\n게다가 최근 주변에선 도로 개설 등 개발까지 시작돼 땅값까지 들썩이면서 더 남기는 힘든 상황이 됐습니다.\\n이사도 알아보곤 있지만, 아직 갈 곳도 마땅치 않습니다.\\n제주시는 여러 민원에도 이미 충분한 시간을 줬다며, 더는 어렵다는 입장입니다.\\n또 보호소를 제도권에서 관리하려 해도 불법 문제가 걸려 있는 한 진행은 어렵다고 전했습니다. \\n보호소가 폐쇄되면 유기견들은 안락사 될 가능성이 높습니다.\\n하지만 이렇다 할 출구전략도 없이 보호소 유기견들은 이제 내일을 기약하기도 힘든 상황이 돼버렸습니다.\\nJIBS 이효형입니다.\\n(영상취재 강명철)\\nJIBS 제주방송 이효형 (getstarted@hanmail.net), 강명철 (kangjsp@naver.com) 기자', '제주4·3 단체와 기관들은 오늘(9일) 국회 본회의에서 가족관계 특례 조항 신설을 골자로 하는 4·3특별법 개정안이 통과된 것에 대해 환영의 입장을 밝혔습니다. \\n제주4·3희생자유족회, 제주4·3연구소, 제주4·3도민연대, 제주민예총, 제주4·3평화재단, 제주4·3기념위원회는 이날 공동 논평을 내고 \"제주4·3특별법 개정안이 사실상 여·야 합의로 오늘 국회 본회의를 통과했다\"며 환영했습니다. \\n단체들은 \"이번에 통과된 개정안은 4·3 광풍의 역사 속에서 뒤엉켜 버린 친족관계를 바로 잡는 계기를 마련했다는 점에서 의미가 적지 않다\"며 \"개정의 주요내용들은 4·3유족을 비롯해 4·3단체들이 꾸준하게 개정을 요구해왔던 내용\"이라고 평가했습니다. \\n그러면서 \"정부는 개정안의 내용이 제대로 이행될 수 있도록 시행령 등 후속대책 마련에 만전을 기해야 할 것\"이라고 강조했습니다. \\n한편, 국회는 이날 본회의를 열어 \\'혼인신고 특례\\'와 \\'입양신고 특례\\'가 신설된 4·3특별법 개정안을 가결했습니다. 이에 4·3희생자의 사실혼 배우자와 양자는 4·3위원회의 결정을 통해 가족관계를 바로잡을 수 있는 법적 근거가 마련됐습니다.\\xa0\\nJIBS 제주방송 신동원 (dongwon@jibs.co.kr) 기자']\n"
     ]
    }
   ],
   "source": [
    "df = get_news_list()\n",
    "article_list = []\n",
    "for news_url in df[\"url\"]:\n",
    "    print(news_url)\n",
    "#     print(type(news))\n",
    "    article_list.append(get_news(news_url))\n",
    "print(article_list)"
   ]
  },
  {
   "cell_type": "code",
   "execution_count": 137,
   "metadata": {},
   "outputs": [],
   "source": [
    "  \n",
    "    \n",
    "# article_list = get_news(news_url) for news_url in df[\"url\"]\n",
    "#표에 내용을 추가\n",
    "df['내용'] = article_list\n",
    "#표에 내용을 저장\n",
    "filename = f\"daum_news_list_{datetime.now().strftime('%Y-%m-%d')}.csv\"\n",
    "df.to_csv(filename, index = False)"
   ]
  },
  {
   "cell_type": "code",
   "execution_count": null,
   "metadata": {},
   "outputs": [],
   "source": [
    "df"
   ]
  },
  {
   "cell_type": "code",
   "execution_count": 138,
   "metadata": {},
   "outputs": [
    {
     "data": {
      "text/plain": [
       "20"
      ]
     },
     "execution_count": 138,
     "metadata": {},
     "output_type": "execute_result"
    }
   ],
   "source": [
    "len(article_list)"
   ]
  },
  {
   "cell_type": "code",
   "execution_count": null,
   "metadata": {},
   "outputs": [],
   "source": []
  },
  {
   "cell_type": "code",
   "execution_count": 55,
   "metadata": {},
   "outputs": [
    {
     "data": {
      "text/html": [
       "<div>\n",
       "<style scoped>\n",
       "    .dataframe tbody tr th:only-of-type {\n",
       "        vertical-align: middle;\n",
       "    }\n",
       "\n",
       "    .dataframe tbody tr th {\n",
       "        vertical-align: top;\n",
       "    }\n",
       "\n",
       "    .dataframe thead th {\n",
       "        text-align: right;\n",
       "    }\n",
       "</style>\n",
       "<table border=\"1\" class=\"dataframe\">\n",
       "  <thead>\n",
       "    <tr style=\"text-align: right;\">\n",
       "      <th></th>\n",
       "      <th>제목</th>\n",
       "      <th>url</th>\n",
       "    </tr>\n",
       "  </thead>\n",
       "  <tbody>\n",
       "    <tr>\n",
       "      <th>0</th>\n",
       "      <td>[단독]\"세제 혜택 국가전략기술, 시행령 아닌 국회가 법으로 정한다\"</td>\n",
       "      <td>https://v.daum.net/v/20240109152002015</td>\n",
       "    </tr>\n",
       "    <tr>\n",
       "      <th>1</th>\n",
       "      <td>1인가구 청년 만난 통합위…\"더 나은 미래로 가는 한 걸음 만들 것\"</td>\n",
       "      <td>https://v.daum.net/v/20240109153116651</td>\n",
       "    </tr>\n",
       "    <tr>\n",
       "      <th>2</th>\n",
       "      <td>'사령관 잡는 킬러' 드론…이스라엘, 하마스 이어 헤즈볼라 간부도 사살</td>\n",
       "      <td>https://v.daum.net/v/20240109140403533</td>\n",
       "    </tr>\n",
       "    <tr>\n",
       "      <th>3</th>\n",
       "      <td>경찰, 이재명 살인미수 피의자 당적 이어 신상도 비공개</td>\n",
       "      <td>https://v.daum.net/v/20240109153603954</td>\n",
       "    </tr>\n",
       "    <tr>\n",
       "      <th>4</th>\n",
       "      <td>고시생 남편 믿고 결혼했는데…공부는 ‘뒷전’ 게임만 합니다</td>\n",
       "      <td>https://v.daum.net/v/20240109153803066</td>\n",
       "    </tr>\n",
       "    <tr>\n",
       "      <th>5</th>\n",
       "      <td>윤 대통령 칭찬한 '충TV' 뭐길래...김선태 주무관 \"과분한 칭찬 감사\"</td>\n",
       "      <td>https://v.daum.net/v/20240109153522919</td>\n",
       "    </tr>\n",
       "    <tr>\n",
       "      <th>6</th>\n",
       "      <td>지속가능경영보고서 공시 기업 24%↑…현대차, 10개사 공시로 1위</td>\n",
       "      <td>https://v.daum.net/v/20240109153143673</td>\n",
       "    </tr>\n",
       "    <tr>\n",
       "      <th>7</th>\n",
       "      <td>임시완의 힘... 쿠팡플레이 월 사용자 660만명 돌파</td>\n",
       "      <td>https://v.daum.net/v/20240109124000627</td>\n",
       "    </tr>\n",
       "    <tr>\n",
       "      <th>8</th>\n",
       "      <td>네이버 치지직 vs 아프리카TV, 트위치 이용자 쟁탈전</td>\n",
       "      <td>https://v.daum.net/v/20240109153618975</td>\n",
       "    </tr>\n",
       "    <tr>\n",
       "      <th>9</th>\n",
       "      <td>월급 617만원 이상 직장인, 7월부터 국민연금 1만2150원 더 낸다 [오늘의 정...</td>\n",
       "      <td>https://v.daum.net/v/20240109144607431</td>\n",
       "    </tr>\n",
       "    <tr>\n",
       "      <th>10</th>\n",
       "      <td>‘복날’이라 개고기? 앞으론 ‘징역형’</td>\n",
       "      <td>https://v.daum.net/v/20240109153403840</td>\n",
       "    </tr>\n",
       "    <tr>\n",
       "      <th>11</th>\n",
       "      <td>전국 많은 눈 … 퇴근길 시간당 1∼3㎝ 눈 더 온다</td>\n",
       "      <td>https://v.daum.net/v/20240109151215694</td>\n",
       "    </tr>\n",
       "    <tr>\n",
       "      <th>12</th>\n",
       "      <td>'친명계' 현근택, 지역 정치인 女비서에 \"너네 같이 잤냐?\" 발언 논란</td>\n",
       "      <td>https://v.daum.net/v/20240109153203693</td>\n",
       "    </tr>\n",
       "    <tr>\n",
       "      <th>13</th>\n",
       "      <td>‘부동산 PF발 위기’ 건설사 옥석 가리기 본격화…“재개발 사업 리스크는 제한적”</td>\n",
       "      <td>https://v.daum.net/v/20240109152404264</td>\n",
       "    </tr>\n",
       "    <tr>\n",
       "      <th>14</th>\n",
       "      <td>제3지대 4인방 한자리에 모였다…'신당 연대' 주목</td>\n",
       "      <td>https://v.daum.net/v/20240109152604365</td>\n",
       "    </tr>\n",
       "    <tr>\n",
       "      <th>15</th>\n",
       "      <td>태영건설에 5242억 빌려준 은행들, 자구안에 \"끝까지 성의 보여야\"</td>\n",
       "      <td>https://v.daum.net/v/20240109152446311</td>\n",
       "    </tr>\n",
       "    <tr>\n",
       "      <th>16</th>\n",
       "      <td>[르포]\"할머니 때부터 이어온 가업, 이젠 끝\"…시한부 선고 받은 보신탕</td>\n",
       "      <td>https://v.daum.net/v/20240109152805480</td>\n",
       "    </tr>\n",
       "    <tr>\n",
       "      <th>17</th>\n",
       "      <td>“미혼 남성만 80만 명, ‘시한폭탄’ 터질 것”.. ‘짝’이 없어서, 어떡해?</td>\n",
       "      <td>https://v.daum.net/v/20240109151736902</td>\n",
       "    </tr>\n",
       "    <tr>\n",
       "      <th>18</th>\n",
       "      <td>대형마트 가던 40대가 이제는…편의점 '큰손' 된 이유 [송영찬의 신통유통]</td>\n",
       "      <td>https://v.daum.net/v/20240109152204115</td>\n",
       "    </tr>\n",
       "    <tr>\n",
       "      <th>19</th>\n",
       "      <td>윤석열만 모르는 ‘김건희 리스크’, 쌍특검법 총선 손익계산서 [김은지의 뉴스IN]</td>\n",
       "      <td>https://v.daum.net/v/20240109152522343</td>\n",
       "    </tr>\n",
       "  </tbody>\n",
       "</table>\n",
       "</div>"
      ],
      "text/plain": [
       "                                                   제목  \\\n",
       "0              [단독]\"세제 혜택 국가전략기술, 시행령 아닌 국회가 법으로 정한다\"   \n",
       "1              1인가구 청년 만난 통합위…\"더 나은 미래로 가는 한 걸음 만들 것\"   \n",
       "2             '사령관 잡는 킬러' 드론…이스라엘, 하마스 이어 헤즈볼라 간부도 사살   \n",
       "3                      경찰, 이재명 살인미수 피의자 당적 이어 신상도 비공개   \n",
       "4                    고시생 남편 믿고 결혼했는데…공부는 ‘뒷전’ 게임만 합니다   \n",
       "5           윤 대통령 칭찬한 '충TV' 뭐길래...김선태 주무관 \"과분한 칭찬 감사\"   \n",
       "6               지속가능경영보고서 공시 기업 24%↑…현대차, 10개사 공시로 1위   \n",
       "7                      임시완의 힘... 쿠팡플레이 월 사용자 660만명 돌파   \n",
       "8                      네이버 치지직 vs 아프리카TV, 트위치 이용자 쟁탈전   \n",
       "9   월급 617만원 이상 직장인, 7월부터 국민연금 1만2150원 더 낸다 [오늘의 정...   \n",
       "10                              ‘복날’이라 개고기? 앞으론 ‘징역형’   \n",
       "11                      전국 많은 눈 … 퇴근길 시간당 1∼3㎝ 눈 더 온다   \n",
       "12           '친명계' 현근택, 지역 정치인 女비서에 \"너네 같이 잤냐?\" 발언 논란   \n",
       "13      ‘부동산 PF발 위기’ 건설사 옥석 가리기 본격화…“재개발 사업 리스크는 제한적”   \n",
       "14                       제3지대 4인방 한자리에 모였다…'신당 연대' 주목   \n",
       "15             태영건설에 5242억 빌려준 은행들, 자구안에 \"끝까지 성의 보여야\"   \n",
       "16           [르포]\"할머니 때부터 이어온 가업, 이젠 끝\"…시한부 선고 받은 보신탕   \n",
       "17       “미혼 남성만 80만 명, ‘시한폭탄’ 터질 것”.. ‘짝’이 없어서, 어떡해?   \n",
       "18         대형마트 가던 40대가 이제는…편의점 '큰손' 된 이유 [송영찬의 신통유통]   \n",
       "19      윤석열만 모르는 ‘김건희 리스크’, 쌍특검법 총선 손익계산서 [김은지의 뉴스IN]   \n",
       "\n",
       "                                       url  \n",
       "0   https://v.daum.net/v/20240109152002015  \n",
       "1   https://v.daum.net/v/20240109153116651  \n",
       "2   https://v.daum.net/v/20240109140403533  \n",
       "3   https://v.daum.net/v/20240109153603954  \n",
       "4   https://v.daum.net/v/20240109153803066  \n",
       "5   https://v.daum.net/v/20240109153522919  \n",
       "6   https://v.daum.net/v/20240109153143673  \n",
       "7   https://v.daum.net/v/20240109124000627  \n",
       "8   https://v.daum.net/v/20240109153618975  \n",
       "9   https://v.daum.net/v/20240109144607431  \n",
       "10  https://v.daum.net/v/20240109153403840  \n",
       "11  https://v.daum.net/v/20240109151215694  \n",
       "12  https://v.daum.net/v/20240109153203693  \n",
       "13  https://v.daum.net/v/20240109152404264  \n",
       "14  https://v.daum.net/v/20240109152604365  \n",
       "15  https://v.daum.net/v/20240109152446311  \n",
       "16  https://v.daum.net/v/20240109152805480  \n",
       "17  https://v.daum.net/v/20240109151736902  \n",
       "18  https://v.daum.net/v/20240109152204115  \n",
       "19  https://v.daum.net/v/20240109152522343  "
      ]
     },
     "execution_count": 55,
     "metadata": {},
     "output_type": "execute_result"
    }
   ],
   "source": [
    "df"
   ]
  },
  {
   "cell_type": "code",
   "execution_count": 52,
   "metadata": {},
   "outputs": [
    {
     "data": {
      "text/plain": [
       "['[단독]\"세제 혜택 국가전략기술, 시행령 아닌 국회가 법으로 정한다\"',\n",
       " '1인가구 청년 만난 통합위…\"더 나은 미래로 가는 한 걸음 만들 것\"',\n",
       " \"'사령관 잡는 킬러' 드론…이스라엘, 하마스 이어 헤즈볼라 간부도 사살\",\n",
       " '경찰, 이재명 살인미수 피의자 당적 이어 신상도 비공개',\n",
       " '고시생 남편 믿고 결혼했는데…공부는 ‘뒷전’ 게임만 합니다',\n",
       " '윤 대통령 칭찬한 \\'충TV\\' 뭐길래...김선태 주무관 \"과분한 칭찬 감사\"',\n",
       " '지속가능경영보고서 공시 기업 24%↑…현대차, 10개사 공시로 1위',\n",
       " '임시완의 힘... 쿠팡플레이 월 사용자 660만명 돌파',\n",
       " '네이버 치지직 vs 아프리카TV, 트위치 이용자 쟁탈전',\n",
       " '월급 617만원 이상 직장인, 7월부터 국민연금 1만2150원 더 낸다 [오늘의 정책 이슈]',\n",
       " '‘복날’이라 개고기? 앞으론 ‘징역형’',\n",
       " '전국 많은 눈 … 퇴근길 시간당 1∼3㎝ 눈 더 온다',\n",
       " '\\'친명계\\' 현근택, 지역 정치인 女비서에 \"너네 같이 잤냐?\" 발언 논란',\n",
       " '‘부동산 PF발 위기’ 건설사 옥석 가리기 본격화…“재개발 사업 리스크는 제한적”',\n",
       " \"제3지대 4인방 한자리에 모였다…'신당 연대' 주목\",\n",
       " '태영건설에 5242억 빌려준 은행들, 자구안에 \"끝까지 성의 보여야\"',\n",
       " '[르포]\"할머니 때부터 이어온 가업, 이젠 끝\"…시한부 선고 받은 보신탕',\n",
       " '“미혼 남성만 80만 명, ‘시한폭탄’ 터질 것”.. ‘짝’이 없어서, 어떡해?',\n",
       " \"대형마트 가던 40대가 이제는…편의점 '큰손' 된 이유 [송영찬의 신통유통]\",\n",
       " '윤석열만 모르는 ‘김건희 리스크’, 쌍특검법 총선 손익계산서 [김은지의 뉴스IN]']"
      ]
     },
     "execution_count": 52,
     "metadata": {},
     "output_type": "execute_result"
    }
   ],
   "source": [
    "# link_list\n",
    "title_list"
   ]
  },
  {
   "cell_type": "code",
   "execution_count": null,
   "metadata": {},
   "outputs": [],
   "source": [
    "<a href=\"https://v.daum.net/v/20240109145038627\" \n",
    "class=\"link_txt\" data-tiara-layer=\"article_main\" data-tiara-id=\"20240109145038627\" data-tiara-type=\"harmony\" data-tiara-ordnum=\"1\" data-tiara-custom=\"contentUniqueKey=hamny-20240109145038627&amp;clusterId=5000019,5889429,5590543,5201407,5201410,5150094&amp;clusterTitle=경제,경제,[언론사픽] 주요뉴스,카테고리별,경제일반,섹션 실시간뉴스-경제&amp;keywordType=NONE,NONE,NONE,NONE,NONE,NONE\">\n",
    "                                    발품 줄어도 ‘손품’은 그대로···시중은행 참여 저조한 ‘주담대 갈아타기’\n",
    "                                </a>"
   ]
  },
  {
   "cell_type": "markdown",
   "metadata": {},
   "source": [
    "## 이미지 다운로드"
   ]
  },
  {
   "cell_type": "code",
   "execution_count": 8,
   "metadata": {},
   "outputs": [
    {
     "ename": "ModuleNotFoundError",
     "evalue": "No module named 'reqests'",
     "output_type": "error",
     "traceback": [
      "\u001b[1;31m---------------------------------------------------------------------------\u001b[0m",
      "\u001b[1;31mModuleNotFoundError\u001b[0m                       Traceback (most recent call last)",
      "Cell \u001b[1;32mIn[8], line 1\u001b[0m\n\u001b[1;32m----> 1\u001b[0m \u001b[38;5;28;01mimport\u001b[39;00m \u001b[38;5;21;01mreqests\u001b[39;00m\n\u001b[0;32m      3\u001b[0m img_url \u001b[38;5;241m=\u001b[39m \u001b[38;5;124m\"\u001b[39m\u001b[38;5;124mdata:image/jpeg;base64,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\u001b[39m\u001b[38;5;124m\"\u001b[39m\n\u001b[0;32m      4\u001b[0m res \u001b[38;5;241m=\u001b[39m requests\u001b[38;5;241m.\u001b[39mget(img_url)\n",
      "\u001b[1;31mModuleNotFoundError\u001b[0m: No module named 'reqests'"
     ]
    }
   ],
   "source": [
    "import reqests\n",
    "\n",
    "# img_url = \"data:image/jpeg;base64,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\"\n",
    "res = requests.get(img_url)\n",
    "\n",
    "if res.status_code == 200:\n",
    "    print(type(res.content))\n",
    "    with open(\"down_image.jpg\", \"wb\") as fw:\n",
    "        fw.write(res.content)\n",
    "        \n",
    "else:\n",
    "    print(res.status_codeus_code)"
   ]
  },
  {
   "cell_type": "code",
   "execution_count": null,
   "metadata": {},
   "outputs": [],
   "source": []
  }
 ],
 "metadata": {
  "kernelspec": {
   "display_name": "Python 3 (ipykernel)",
   "language": "python",
   "name": "python3"
  },
  "language_info": {
   "codemirror_mode": {
    "name": "ipython",
    "version": 3
   },
   "file_extension": ".py",
   "mimetype": "text/x-python",
   "name": "python",
   "nbconvert_exporter": "python",
   "pygments_lexer": "ipython3",
   "version": "3.11.5"
  },
  "toc": {
   "base_numbering": 1,
   "nav_menu": {},
   "number_sections": true,
   "sideBar": false,
   "skip_h1_title": false,
   "title_cell": "Table of Contents",
   "title_sidebar": "Contents",
   "toc_cell": false,
   "toc_position": {},
   "toc_section_display": false,
   "toc_window_display": false
  },
  "varInspector": {
   "cols": {
    "lenName": 16,
    "lenType": 16,
    "lenVar": 40
   },
   "kernels_config": {
    "python": {
     "delete_cmd_postfix": "",
     "delete_cmd_prefix": "del ",
     "library": "var_list.py",
     "varRefreshCmd": "print(var_dic_list())"
    },
    "r": {
     "delete_cmd_postfix": ") ",
     "delete_cmd_prefix": "rm(",
     "library": "var_list.r",
     "varRefreshCmd": "cat(var_dic_list()) "
    }
   },
   "types_to_exclude": [
    "module",
    "function",
    "builtin_function_or_method",
    "instance",
    "_Feature"
   ],
   "window_display": false
  }
 },
 "nbformat": 4,
 "nbformat_minor": 2
}
