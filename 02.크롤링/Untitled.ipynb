{
 "cells": [
  {
   "cell_type": "code",
   "execution_count": 47,
   "id": "8d424c9c",
   "metadata": {},
   "outputs": [
    {
     "name": "stdout",
     "output_type": "stream",
     "text": [
      "제목 : 민주, ‘양지’ 지역구에 ‘반윤’ 검사들 꽂나\n",
      "--------------------------------------------------\n",
      "내용 : 이성윤·신성식 검사장 등 반윤(반윤석열) 성향의 검사들이 4월 국회의원 총선거 출마 행보에 본격 돌입했다. 윤석열 정부 출범에 기여한 친윤(친윤석열) 검사들도 대통령실 등을 거쳐 총선에 나설 태세다. 반윤 검사들은 텃밭인 호남 출마 가능성이 거론되고 친윤 검사들은 부산이나 서울 강남 등을 염두에 두고 있지만 여권 일각에서는 수도권 험지 출마 필요론이 거론된다.\n",
      "\n",
      "문재인 정부에서 서울중앙지검장을 지낸 이 검사장(법무연수원 연구위원)은 9일 전북 전주에서 출판기념회를 연다. 이 검사장은 전날 사직서를 제출했다. 전주고를 졸업한 이 검사장은 전북 전주을 혹은 고향인 고창 출마가 거론된다. 민주당에서 인재영입 절차를 거쳐 전략공천할 것이라는 관측도 나온다. 이 지검장 시절 중앙지검 3차장을 지낸 신 검사장(법무연수원 연구위원)은 지난해 12월 사직서를 내고 민주당에 입당했다. 전남 순천 출마를 염두에 두고 10일 순천에서 북콘서트를 연다. 당내에선 이들이 ‘반윤’의 상징성을 내세워 한동훈 국민의힘 비상대책위원장 등 친윤 검사들과 맞서 ‘검찰정권 심판’ 프레임을 부각시켜야 한다는 구상이 제기된다. 한 정치권 관계자는 “이재명 대표의 사법 리스크 등을 염두에 두고 검찰과 전면전이 불가피한 상황에서 ‘반윤 검사’들이 총선에서 중요한 역할을 할 것”이라면서도 “현직 검사가 사표를 내고 바로 정치권에 뛰어드는 게 바람직한지는 따져봐야 한다”고 말했다.\n",
      "\n",
      "대통령선거 때부터 윤석열 대통령을 도운 대통령실 주진우 전 법률비서관·이원모 전 인사비서관도 사실상 출마 준비에 나섰다. 주 전 비서관은 불출마를 선언한 하태경 의원 지역구인 부산 해운대갑, 이 전 비서관은 서울 서초 등 강남권을 염두에 두고 있는 것으로 알려졌다. 이들은 총선에 출마하진 않지만 국민의힘 선거를 이끌 한동훈 위원장과 함께 대표적인 검찰 출신 친윤 인사로 꼽힌다. 윤 정부에서 국무총리 비서실장을 지낸 박성근 전 광주지검 순천지청장도 부산 중·영도 지역 출마선언을 했다. \n",
      "\n",
      "한 국민의힘 의원은 “야권에서 검사 출신 수십 명이 공천받을 것처럼 얘기하지만 진작에 정치에 뛰어든 원희룡·박민식 전 장관 등은 정치인으로 봐야 하고 지역위원장을 맡은 김진모(충북 청주서원), 최기식(경기 의왕·과천) 등도 검찰 출신으로만 묶을 수는 없다”고 설명했다. 단 여권에서는 친윤 검사 출신들이 영남이나 서울 강남권 등 당선이 유력한 지역만 염두에 두고 움직이는 데 대한 부정적 기류도 읽힌다. 한 관계자는 “수도권 격전지에 윤 대통령과 가까운 인사들이 솔선수범해 나서야 한다”고 강조했다. \n",
      "\n",
      "한 관계자는 “친윤·반윤 검사 출신들이 대거 선거판에 뛰어들며 검찰 출신들이 가장 많이 공천받는 총선이 될 것”이라고 전망했다. \n",
      "\n",
      "민병기·이은지 기자\n"
     ]
    }
   ],
   "source": [
    "import requests\n",
    "from bs4 import BeautifulSoup\n",
    "import pandas as pd\n",
    "\n",
    "url = \"https://v.daum.net/v/20240109120314859\"\n",
    "user_agent = \"Mozilla/5.0 (Windows NT 10.0; Win64; x64) AppleWebKit/537.36 (KHTML, like Gecko) Chrome/120.0.0.0 Safari/537.36\"\n",
    "\n",
    "res = requests.get(url, headers = {'user_agent' : user_agent})\n",
    "\n",
    "if res.status_code == 200:\n",
    "    soup = BeautifulSoup(res.text,\"lxml\")\n",
    "    \n",
    "    tag_list = soup.select(\"#mArticle > div.head_view > h3\")\n",
    "    tag2_list = soup.select(\"#mArticle > div.news_view.fs_type1 > div.article_view > section > p\")\n",
    "#     print(len(tag_list))\n",
    "#     print(len(tag2_list))\n",
    "#     print(tag_list)\n",
    "#     print(tag2_list)\n",
    "    \n",
    "    a_list = []\n",
    "    b_list = []\n",
    "    for tag in tag_list:\n",
    "        a_list.append(tag.get_text())\n",
    "#         print(a_list)\n",
    "#     a = pd.DataFrame({\"제목\" : a_list})\n",
    "    for tag2 in tag2_list:\n",
    "        b_list.append(tag2.get_text())\n",
    "#         print(b_list)\n",
    "#     b = pd.DataFrame({\"내용\" : b_list})\n",
    "    제목 = \"\".join(a_list)\n",
    "    print(f'제목 : {제목}')\n",
    "    print(\"-\"*50)\n",
    "    내용 = \"\\n\\n\".join(b_list)\n",
    "    print(f'내용 : {내용}')\n",
    "        \n",
    "#     df = pd.DataFrame({\n",
    "#         \"제목\" : a_list,\n",
    "#         \"내용\" : b_list\n",
    "#     })\n",
    "        "
   ]
  },
  {
   "cell_type": "markdown",
   "id": "c1221570",
   "metadata": {},
   "source": [
    "함수화"
   ]
  },
  {
   "cell_type": "code",
   "execution_count": 52,
   "id": "0413e40c",
   "metadata": {},
   "outputs": [
    {
     "name": "stdout",
     "output_type": "stream",
     "text": [
      "제목 :  이용주 \"대통령 거부권, 아내한테 쓰라고 준거 아냐\"\n",
      "내용 :  오는 4월 총선 전남 여수갑 출마를 선언한 더불어민주당 이용주 예비후보가 윤석열 대통령의 김건희·대장동 쌍특검 거부권 행사와 관련해 헌법재판소 권한쟁의 심판 청구를 촉구하고 나섰다.\n",
      "\n",
      "이 예비후보는 9일 보도자료를 내 \"대통령의 거부권 행사가 대통령 본인과 가족에 대한 이해 충돌의 여지가 충분하다\"며 \"대통령의 권력은 국민을 위해서 쓰라고 부여된 것이지 자기 아내를 위해서 쓰라고 주어진 것이 아니\"라고 비판했다.\n",
      "\n",
      "이 예비후보는 이어 \"죄를 지었으면 벌을 받는 것이 순리\"라며 \"만인이 법 앞에 평등해야 한다는 국가의 기본적 법치 질서마저 무시한 대통령의 아내 챙기기 횡포\"라고 지적했다. \n",
      "\n",
      "그러면서 이 예비후보는 \"이를 방관할 경우 대통령의 가족, 친지, 친구에 대한 그 어떤 수사나 기소가 불가능하게 되어 말 그대로 나라를 자기 나름대로 하는 왕정이나 다름없게 된다\"면서 \"윤석열 대통령의 국민을 무시하고 국민을 적으로 두고 싸우려는 태도를 용인할 수 없다\"고 주장했다.\n",
      "\n",
      "전남CBS 최창민 기자 ccmin@cbs.co.kr\n",
      "\n",
      "▶ 기자와 카톡 채팅하기▶ 노컷뉴스 영상 구독하기 \n"
     ]
    }
   ],
   "source": [
    "#개별 뉴스 기사 조회.\n",
    "\n",
    "url =\"https://v.daum.net/v/20240109145704943\"\n",
    "    \n",
    "res_news = requests.get(url , headers = {\"user_agent\" : user_agent})\n",
    "\n",
    "if res_news.status_code == 200:\n",
    "    soup = BeautifulSoup(res_news.text, \"lxml\")\n",
    "    title = soup.select_one(\"#mArticle > div.head_view > h3\").get_text()\n",
    "    print(\"제목 : \", title)\n",
    "    \n",
    "    p_tag_list = soup.select(\"#mArticle > div.news_view.fs_type1 > div.article_view > section > p\")  #리스\n",
    "#     print(len(p_tag_list))\n",
    "    \n",
    "    content_list = []\n",
    "    for p_tag in p_tag_list:\n",
    "        content_list.append(p_tag.get_text())\n",
    "#   [p_tag.get_text() for p_tag in p_tag_list]\n",
    "\n",
    "    news = \"\\n\\n\".join(content_list)\n",
    "    print(\"내용 : \", news)\n",
    "        \n",
    "\n",
    "        \n",
    "        \n",
    "        \n"
   ]
  },
  {
   "cell_type": "code",
   "execution_count": null,
   "id": "0f42a409",
   "metadata": {},
   "outputs": [],
   "source": []
  }
 ],
 "metadata": {
  "kernelspec": {
   "display_name": "Python 3 (ipykernel)",
   "language": "python",
   "name": "python3"
  },
  "language_info": {
   "codemirror_mode": {
    "name": "ipython",
    "version": 3
   },
   "file_extension": ".py",
   "mimetype": "text/x-python",
   "name": "python",
   "nbconvert_exporter": "python",
   "pygments_lexer": "ipython3",
   "version": "3.11.5"
  }
 },
 "nbformat": 4,
 "nbformat_minor": 5
}
