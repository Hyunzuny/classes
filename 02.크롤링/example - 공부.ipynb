{
 "cells": [
  {
   "cell_type": "code",
   "execution_count": null,
   "id": "429f2eda",
   "metadata": {},
   "outputs": [],
   "source": [
    "<!-- html태그: 문서의 시작과 끝 표시-->\n",
    "<!-- head: 문서의 설명 작성하는 태그-->\n",
    "<!-- body: 문서의 내용을 작성하는 태그-->\n",
    "<html>\n",
    "    <head>\n",
    "         <title>example.html 테스트</title>\n",
    "         <meta charset='utf-8'>\n",
    "         <style>\n",
    "             #animal1{color:red}   css 들어감\n",
    "         </style>\t \n",
    "    </head>\n",
    "    <body>\n",
    "        <h1>동물 목록</h1>\n",
    "        <div id = \"animal1\">   div :영역 지정, 엔터효과 id =\"\" : id는 하나만 지정\n",
    "            <div class=\"animal\">사자</div>  class : <div>를 지정해주는 식별자, 같은 이름으로 묶을 수 있음.  \n",
    "            <div class=\"count\">3마리</div>\n",
    "        </div>\n",
    "        <div id=\"animal2\">\n",
    "            <div class=\"animal\">호랑이</div>\n",
    "            <div class=\"count\">10마리</div>\n",
    "        </div>\n",
    "        <div id=\"animal3\">\n",
    "            <div class=\"animal\">곰</div>\n",
    "            <div class=\"count\">5마리</div>\n",
    "        </div>\n",
    "        <div id=\"content\">\n",
    "            우리 동물원에는 <span class=\"animal\">기린</span>도 \n",
    "           <b class=\"count\">30마리</b> 있습니다.\n",
    "        </div>\n",
    "        <h1>다른 동물원</h1>\n",
    "        <!--ul 태그: 순서가 없는 목록, ol: 순서가 있는 목록 -->\n",
    "        <!--li 태그: ul/ol의 하위태그 - 목록을 구성하는 item을 작성-->\n",
    "        <ul>\n",
    "            <li><a href=\"https://grandpark.seoul.go.kr/main/ko.do\">서울대공원</a></li>\n",
    "            <li><a href=\"https://www.everland.com/web/everland/favorite/zootopia/index.html\">에버랜드 동물원</a></li>\n",
    "            <li><a href=\"https://www.coexaqua.com\">코엑스 아쿠아리움</a></li>\n",
    "        </ul>\n",
    "        <a href=\"https://www.google.co.kr\">구&nbsp;글</a><br>\n",
    "        <a href=\"https://www.w3schools.com\">HTML배우기</a>\n",
    "    </body>\n",
    "</html>"
   ]
  },
  {
   "cell_type": "markdown",
   "id": "dad5d554",
   "metadata": {},
   "source": [
    "\n",
    "\n",
    "\n",
    "#content > div.article > div.section > div.news_area._replaceNewsLink > div > ul > li:nth-child(1) > span > a\n"
   ]
  }
 ],
 "metadata": {
  "kernelspec": {
   "display_name": "Python 3 (ipykernel)",
   "language": "python",
   "name": "python3"
  },
  "language_info": {
   "codemirror_mode": {
    "name": "ipython",
    "version": 3
   },
   "file_extension": ".py",
   "mimetype": "text/x-python",
   "name": "python",
   "nbconvert_exporter": "python",
   "pygments_lexer": "ipython3",
   "version": "3.11.5"
  }
 },
 "nbformat": 4,
 "nbformat_minor": 5
}
