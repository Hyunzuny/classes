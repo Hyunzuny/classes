{
 "cells": [
  {
   "cell_type": "code",
   "execution_count": 3,
   "id": "510930e4",
   "metadata": {},
   "outputs": [],
   "source": [
    "from webdriver_manager.chrome import ChromeDriverManager\n",
    "from selenium import webdriver\n",
    "from selenium.webdriver.chrome.service import Service\n",
    "from selenium.webdriver.common.by import By\n",
    "from selenium.webdriver.common.keys import Keys\n",
    "\n",
    "from selenium.webdriver.support.ui import WebDriverWait\n",
    "from selenium.webdriver.support import expected_conditions as EC\n",
    "import time\n",
    "from bs4 import BeautifulSoup"
   ]
  },
  {
   "cell_type": "code",
   "execution_count": 19,
   "id": "232686eb",
   "metadata": {},
   "outputs": [
    {
     "ename": "AttributeError",
     "evalue": "module 'selenium.webdriver.support.expected_conditions' has no attribute 'presence_of_all_element_located'",
     "output_type": "error",
     "traceback": [
      "\u001b[1;31m---------------------------------------------------------------------------\u001b[0m",
      "\u001b[1;31mAttributeError\u001b[0m                            Traceback (most recent call last)",
      "Cell \u001b[1;32mIn[19], line 13\u001b[0m\n\u001b[0;32m      8\u001b[0m browser \u001b[38;5;241m=\u001b[39m webdriver\u001b[38;5;241m.\u001b[39mChrome(service \u001b[38;5;241m=\u001b[39mservice)\n\u001b[0;32m     10\u001b[0m browser\u001b[38;5;241m.\u001b[39mget(url)\n\u001b[0;32m     12\u001b[0m more_btn \u001b[38;5;241m=\u001b[39m WebDriverWait(browser, \u001b[38;5;241m10\u001b[39m)\u001b[38;5;241m.\u001b[39muntil(\n\u001b[1;32m---> 13\u001b[0m     EC\u001b[38;5;241m.\u001b[39mpresence_of_all_element_located((By\u001b[38;5;241m.\u001b[39mCSS_SELECTOR, \u001b[38;5;124m\"\u001b[39m\u001b[38;5;124m.taLnk.ulBlueLinks\u001b[39m\u001b[38;5;124m\"\u001b[39m))\n\u001b[0;32m     14\u001b[0m )\n\u001b[0;32m     16\u001b[0m more_btn\u001b[38;5;241m.\u001b[39mclick()\n\u001b[0;32m     18\u001b[0m time\u001b[38;5;241m.\u001b[39msleep(\u001b[38;5;241m1\u001b[39m)  \u001b[38;5;66;03m#내용이 나올 떄 까지 1초정도 대기\u001b[39;00m\n",
      "\u001b[1;31mAttributeError\u001b[0m: module 'selenium.webdriver.support.expected_conditions' has no attribute 'presence_of_all_element_located'"
     ]
    }
   ],
   "source": [
    "#1페이지 리뷰 조회\n",
    "\n",
    "review_list = []\n",
    "url =\"https://www.tripadvisor.co.kr/Restaurant_Review-g294197-d3200324-Reviews-or50-Jungsik-Seoul.html\"\n",
    "\n",
    "driver = ChromeDriverManager().install()\n",
    "service = Service(executable_path= driver)\n",
    "browser = webdriver.Chrome(service =service)\n",
    "\n",
    "browser.get(url)\n",
    "\n",
    "more_btn = WebDriverWait(browser, 10).until(\n",
    "    EC.presence_of_all_element_located((By.CSS_SELECTOR, \".taLnk.ulBlueLinks\"))\n",
    ")\n",
    "\n",
    "more_btn.click()\n",
    "\n",
    "time.sleep(1)  #내용이 나올 떄 까지 1초정도 대기\n",
    "\n",
    "#html 문자열 조회\n",
    "html_txt = browser.page_source\n",
    "soup  = BeautifulSoup(html_txt, \"lxml\")\n",
    "tag_list = soup.select(\".partial_entry\")\n",
    "\n",
    "for tag in tag_list:\n",
    "#     print(tag.get_text().strip())\n",
    "#     print(\"-\"*20)\n",
    "    review_listiew_list.append(tag.get_text().strip())"
   ]
  },
  {
   "cell_type": "code",
   "execution_count": null,
   "id": "07e15866",
   "metadata": {},
   "outputs": [],
   "source": []
  },
  {
   "cell_type": "code",
   "execution_count": null,
   "id": "422c4606",
   "metadata": {},
   "outputs": [],
   "source": [
    "browser.close()"
   ]
  },
  {
   "cell_type": "code",
   "execution_count": 17,
   "id": "86ff75cb",
   "metadata": {},
   "outputs": [
    {
     "ename": "IndentationError",
     "evalue": "unexpected indent (2291065511.py, line 39)",
     "output_type": "error",
     "traceback": [
      "\u001b[1;36m  Cell \u001b[1;32mIn[17], line 39\u001b[1;36m\u001b[0m\n\u001b[1;33m    next_btn.click()\u001b[0m\n\u001b[1;37m    ^\u001b[0m\n\u001b[1;31mIndentationError\u001b[0m\u001b[1;31m:\u001b[0m unexpected indent\n"
     ]
    }
   ],
   "source": [
    "#전체 리뷰 조회\n",
    "\n",
    "review_list = []\n",
    "\n",
    "url =\"https://www.tripadvisor.co.kr/Restaurant_Review-g294197-d3200324-Reviews-or50-Jungsik-Seoul.html\"\n",
    "\n",
    "driver = ChromeDriverManager().install()\n",
    "service = Service(executable_path= driver)\n",
    "browser = webdriver.Chrome(service =service)\n",
    "\n",
    "browser.get(url)\n",
    "\n",
    "\n",
    "#반복문 안에서 한페이지 리뷰 조회하는 코드를 실행.\n",
    "#반복문은 '다음'버튼을 클릭 할 수 없을때 까지 클릭.\n",
    "while True:\n",
    "    more_btn = WebDriverWait(browser, 10).until(\n",
    "        EC.presence_of_all_element_located((By.CSS_SELECTOR, \".taLnk.ulBlueLinks\"))\n",
    "    )\n",
    "\n",
    "    more_btn.click()\n",
    "\n",
    "    time.sleep(1)  #내용이 나올 떄 까지 1초정도 대기\n",
    "\n",
    "    #html 문자열 조회\n",
    "    html_txt = browser.page_source\n",
    "    soup  = BeautifulSoup(html_txt, \"lxml\")\n",
    "    tag_list = soup.select(\".partial_entry\")\n",
    "\n",
    "    for tag in tag_list:\n",
    "    #     print(tag.get_text().strip())\n",
    "    #     print(\"-\"*20)\n",
    "        review_list.append(tag.get_text().strip())\n",
    "    \n",
    "    ##다음버튼 클릭.\n",
    "    try:\n",
    "        next_btn =WebDriverWait(browser, 5).until(\n",
    "            EC.presence_of_element_located((By.CSS_SELECTOR, \"#taplc_location_reviews_list_resp_rr_resp_0 > div > div:nth-child(12) > div > div > a.nav.next.ui_button.primary\")))\n",
    "            next_btn.click()\n",
    "    except:\n",
    "        #selector 다음버튼이 없다.\n",
    "        break\n",
    "    \n",
    "    time.sleep(1)\n",
    "        \n",
    "        \n",
    "print('종료')\n"
   ]
  },
  {
   "cell_type": "code",
   "execution_count": null,
   "id": "9e221077",
   "metadata": {},
   "outputs": [],
   "source": []
  },
  {
   "cell_type": "code",
   "execution_count": null,
   "id": "10803656",
   "metadata": {},
   "outputs": [],
   "source": []
  },
  {
   "cell_type": "code",
   "execution_count": null,
   "id": "7ed0a3f7",
   "metadata": {},
   "outputs": [],
   "source": []
  },
  {
   "cell_type": "code",
   "execution_count": null,
   "id": "2f53ebe9",
   "metadata": {},
   "outputs": [],
   "source": []
  },
  {
   "cell_type": "code",
   "execution_count": null,
   "id": "93ce09c0",
   "metadata": {},
   "outputs": [],
   "source": []
  },
  {
   "cell_type": "code",
   "execution_count": null,
   "id": "74dbe1ff",
   "metadata": {},
   "outputs": [],
   "source": []
  },
  {
   "cell_type": "code",
   "execution_count": null,
   "id": "7100d8ca",
   "metadata": {},
   "outputs": [],
   "source": []
  },
  {
   "cell_type": "code",
   "execution_count": null,
   "id": "7e3ff3e2",
   "metadata": {},
   "outputs": [],
   "source": []
  },
  {
   "cell_type": "code",
   "execution_count": null,
   "id": "1bbda210",
   "metadata": {},
   "outputs": [],
   "source": []
  }
 ],
 "metadata": {
  "kernelspec": {
   "display_name": "Python 3 (ipykernel)",
   "language": "python",
   "name": "python3"
  },
  "language_info": {
   "codemirror_mode": {
    "name": "ipython",
    "version": 3
   },
   "file_extension": ".py",
   "mimetype": "text/x-python",
   "name": "python",
   "nbconvert_exporter": "python",
   "pygments_lexer": "ipython3",
   "version": "3.11.5"
  }
 },
 "nbformat": 4,
 "nbformat_minor": 5
}
