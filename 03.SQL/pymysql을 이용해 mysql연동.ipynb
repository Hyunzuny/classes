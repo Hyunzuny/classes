{
 "cells": [
  {
   "cell_type": "markdown",
   "id": "a2f58681",
   "metadata": {},
   "source": [
    "# pymysql\n",
    "- 파이썬에서 MySQL, MariaDB DBMS와 연동하는 다양한 함수를 제공하는 모듈\n",
    "- Python [DB API 2.0](http://www.python.org/dev/peps/pep-0249) 표준을 따른다.\n",
    "- https://github.com/PyMySQL/PyMySQL/\n",
    "- https://pymysql.readthedocs.io/en/latest/"
   ]
  },
  {
   "cell_type": "markdown",
   "id": "43cccb80",
   "metadata": {},
   "source": [
    "# 설치\n",
    "- 조건\n",
    "    - python version 3.6 이상\n",
    "    - mysql version 5.6 이상\n",
    "- 설치\n",
    "    - `pip install pymysql`\n",
    "    - `conda install -c conda-forge pymysql`"
   ]
  },
  {
   "cell_type": "code",
   "execution_count": null,
   "id": "16ddb3ec",
   "metadata": {},
   "outputs": [],
   "source": []
  },
  {
   "cell_type": "markdown",
   "id": "7572463d",
   "metadata": {},
   "source": [
    "# 기본 작성 절차\n",
    "\n",
    "1. Database 연결\n",
    "    ```python\n",
    "       connection =  pymysql.connect(host=\"DBMS 서버 ip\", \n",
    "                                     port=\"port번호\", \n",
    "                                     user=\"계정명\", \n",
    "                                     password=\"비밀번호\", \n",
    "                                     db=\"연결할데이터베이스이름\", \n",
    "                                     charset='utf8')\n",
    "    ```\n",
    "    - port 번호 기본값: 3306\n",
    "2. Connection을 이용해 Cursor 생성\n",
    "    - Cursor: 연결된 Database에 sql문을 전송하고 select결과 조회 기능을 제공하는 객체\n",
    "    ```python\n",
    "        cursor = connection.cursor()\n",
    "    ```\n",
    "3. Cusror를 이용해 SQL문 전송\n",
    "    ```python\n",
    "        cursor.execute(\"sql문\")\n",
    "    ```\n",
    "4. 연결 닫기\n",
    "    - cursor, connection 연결을 닫는다.\n",
    "    - with문을 이용할 수 있다. \n",
    "    ```python\n",
    "    cursor.close()\n",
    "    connection.close()\n",
    "    ```"
   ]
  },
  {
   "cell_type": "markdown",
   "id": "3262b127",
   "metadata": {},
   "source": [
    "# 예제\n",
    "\n",
    "## 테이블 생성"
   ]
  },
  {
   "cell_type": "code",
   "execution_count": 1,
   "id": "17df0a04",
   "metadata": {},
   "outputs": [],
   "source": [
    "CREATE_SQL = \"\"\"\n",
    "create table member(\n",
    "id int auto_increment primary key,\n",
    "name varchar(30) not null,\n",
    "email varchar(100) not null unique,\n",
    "tall decimal(5,2),\n",
    "birthday date,\n",
    "created_at datetime\n",
    ")\n",
    "\"\"\""
   ]
  },
  {
   "cell_type": "code",
   "execution_count": 2,
   "id": "b4d9cf89",
   "metadata": {},
   "outputs": [
    {
     "name": "stdout",
     "output_type": "stream",
     "text": [
      "<class 'pymysql.connections.Connection'>\n",
      "<class 'pymysql.cursors.Cursor'>\n",
      "cnt: 0\n"
     ]
    }
   ],
   "source": [
    "import pymysql\n",
    "\n",
    "## 1. DB와 연결\n",
    "conn = pymysql.connect(host=\"127.0.0.1\", ## DB 서버 ip\n",
    "                       port = 3306,      ## 연결할 DBMS port 번호\n",
    "                       user = \"hyunzuny\",\n",
    "                       password = \"qweqwe\",\n",
    "                       db='testdb'       ## 연결할 database 이름\n",
    "                      )\n",
    "\n",
    "print(type(conn))\n",
    "\n",
    "## 2. connection 객체를 이용해 cursor(sql 작업을 관리)를 생성\n",
    "cursor = conn.cursor()\n",
    "print(type(cursor))\n",
    "\n",
    "## 3. sql 문을 실행 - cursor execute()메소드 이용\n",
    "cnt = cursor.execute(CREATE_SQL)\n",
    "print(\"cnt:\", cnt) #sql을 적용받은 데이터 수를 변환.\n",
    "\n",
    "## database와 연결 닫기 ( 반드시 해야함. )\n",
    "cursor.close()\n",
    "conn.close()"
   ]
  },
  {
   "cell_type": "code",
   "execution_count": null,
   "id": "35616157",
   "metadata": {},
   "outputs": [],
   "source": []
  },
  {
   "cell_type": "markdown",
   "id": "59b4e786",
   "metadata": {},
   "source": [
    "## DML\n",
    "### insert"
   ]
  },
  {
   "cell_type": "code",
   "execution_count": 3,
   "id": "61deab37",
   "metadata": {},
   "outputs": [
    {
     "name": "stdout",
     "output_type": "stream",
     "text": [
      "insert 개수 : 1\n"
     ]
    }
   ],
   "source": [
    "#sql문 -> mysql기준\n",
    "insertSQL = \"insert into member(name, email, tall, birthday, created_at) values('이순신', 'lee@a.com', '180.23', '1990-10-02',now())\" #sql에서 \"\"을 줄바꿈 할때 \\는 줄바꿈 포함시킴.\n",
    "\n",
    "# 1.DB 연결.\n",
    "with pymysql.connect(host = \"127.0.0.1\", port = 3306,\n",
    "                    user = \"hyunzuny\", password = \"qweqwe\", db = \"testdb\") as conn:\n",
    "    # 2.cursor 생성\n",
    "    with conn.cursor() as cursor:\n",
    "        # 3.sql문 실행\n",
    "        cnt = cursor.execute(insertSQL)\n",
    "        print('insert 개수 :', cnt)\n",
    "        conn.commit()\n",
    "        ### pymysql 은 수동 commit이 default임. 그래서\n",
    "        \n",
    "        \n",
    "# 4.연결 닫기 -> cursor/DB -> with block 나오면서 자동으로 끊긴다.    #with open(~~~~) as f 파이썬에서 오픈문 비슷"
   ]
  },
  {
   "cell_type": "code",
   "execution_count": null,
   "id": "c78ebebd",
   "metadata": {},
   "outputs": [],
   "source": []
  },
  {
   "cell_type": "markdown",
   "id": "c1d9de83",
   "metadata": {
    "ExecuteTime": {
     "end_time": "2022-04-19T06:23:30.323879Z",
     "start_time": "2022-04-19T06:23:30.304888Z"
    }
   },
   "source": [
    "### Parameterized Query\n",
    "- Parameterized Query\n",
    "    - SQL 문에서 컬럼 값이 들어가는 자리에 값대신 `%s` placeholder를 사용한뒤 execute()에서 placeholder에 넣을 값을 list나 tuple로 제공한다.\n",
    "    - query문을 쉽게 작성할 수 있는 장점이 있다.        "
   ]
  },
  {
   "cell_type": "code",
   "execution_count": 4,
   "id": "5c060325",
   "metadata": {},
   "outputs": [],
   "source": [
    "sql = \"insert into member (name, email, tall, birthday, created_at)\\\n",
    "values(%s, %s, %s, %s, %s)\""
   ]
  },
  {
   "cell_type": "code",
   "execution_count": 5,
   "id": "d361d309",
   "metadata": {},
   "outputs": [
    {
     "data": {
      "text/plain": [
       "datetime.date(2000, 1, 2)"
      ]
     },
     "execution_count": 5,
     "metadata": {},
     "output_type": "execute_result"
    }
   ],
   "source": [
    "import datetime\n",
    "datetime.date(2000,1,2)\n",
    "# datetime.datetime.now()"
   ]
  },
  {
   "cell_type": "code",
   "execution_count": 6,
   "id": "7dbc54a9",
   "metadata": {},
   "outputs": [],
   "source": [
    "with pymysql.connect(host=\"127.0.0.1\", \n",
    "                       port = 3306,     \n",
    "                       user = \"hyunzuny\",\n",
    "                       password = \"qweqwe\",\n",
    "                       db='testdb'      \n",
    "                      ) as conn:\n",
    "    with conn.cursor() as cursor:\n",
    "        cnt = cursor.execute(sql,(\"강감찬\", \"eqwd2a.com\",180.3, datetime.date(2000,1,2), datetime.datetime.now()))\n",
    "        \n",
    "        conn.commit()\n"
   ]
  },
  {
   "cell_type": "markdown",
   "id": "37335b7b",
   "metadata": {},
   "source": [
    "### Parameterized Query를 이용해 여러개 행 insert\n",
    "\n",
    "#### for문 사용"
   ]
  },
  {
   "cell_type": "code",
   "execution_count": 7,
   "id": "0fc2331b",
   "metadata": {},
   "outputs": [],
   "source": [
    "from datetime import date, datetime\n",
    "\n",
    "datas = [\n",
    "    ['name1', 'abc1@abc.com', 165, date(2000,1,12), datetime.now()],\n",
    "    ['name2', 'def1@abc.com', 175, date(1995,12,20), datetime.now()],\n",
    "    ['name3', 'ghi1@abc.com', 185, date(1988, 7, 21), datetime.now()]\n",
    "]"
   ]
  },
  {
   "cell_type": "code",
   "execution_count": 8,
   "id": "cd598d70",
   "metadata": {},
   "outputs": [
    {
     "name": "stdout",
     "output_type": "stream",
     "text": [
      "3 : 행추가.\n"
     ]
    }
   ],
   "source": [
    "sql = \"insert into member (name, email, tall, birthday, created_at)\\\n",
    "values(%s, %s, %s, %s, %s)\"\n",
    "\n",
    "with pymysql.connect(host=\"127.0.0.1\", \n",
    "                       port = 3306,     \n",
    "                       user = \"hyunzuny\",\n",
    "                       password = \"qweqwe\",\n",
    "                       db='testdb'      \n",
    "                      ) as conn:\n",
    "    with conn.cursor() as cursor:\n",
    "        cnt= 0\n",
    "        for data  in datas:\n",
    "            i = cursor.execute(sql,data)\n",
    "            cnt += i\n",
    "            conn.commit()\n",
    "\n",
    "        \n",
    "print(f'{cnt} : 행추가.')"
   ]
  },
  {
   "cell_type": "markdown",
   "id": "7322f3bb",
   "metadata": {},
   "source": [
    "#### executemany() 사용\n",
    "- insert할 값들을 가진 리스트를 넣어 한번에 여러 행을 insert한다."
   ]
  },
  {
   "cell_type": "code",
   "execution_count": 9,
   "id": "f72beeb1",
   "metadata": {},
   "outputs": [],
   "source": [
    "datas = [\n",
    "    ['이름1', 'abc2@a.com', 165, date(2000,1,12), datetime.now()],\n",
    "    ['이름2', 'def2@a.com', 175, date(1995,12,20), datetime.now()],\n",
    "    ['이름1', 'ghi2@a.com', 185, date(1988, 7, 21), datetime.now()]\n",
    "]"
   ]
  },
  {
   "cell_type": "code",
   "execution_count": 10,
   "id": "2792bae6",
   "metadata": {},
   "outputs": [
    {
     "name": "stdout",
     "output_type": "stream",
     "text": [
      "3\n"
     ]
    }
   ],
   "source": [
    "sql = \"insert into member (name, email, tall, birthday, created_at)\\\n",
    "values(%s, %s, %s, %s, %s)\"\n",
    "\n",
    "with pymysql.connect(host=\"127.0.0.1\", \n",
    "                       port = 3306,     \n",
    "                       user = \"hyunzuny\",\n",
    "                       password = \"qweqwe\",\n",
    "                       db='testdb'      \n",
    "                      ) as conn:\n",
    "    with conn.cursor() as cursor:\n",
    "        cnt = cursor.executemany(sql, datas)\n",
    "        print(cnt)\n",
    "        conn.commit()"
   ]
  },
  {
   "cell_type": "code",
   "execution_count": 11,
   "id": "0f66c3cb",
   "metadata": {},
   "outputs": [],
   "source": [
    "import datetime"
   ]
  },
  {
   "cell_type": "markdown",
   "id": "d78f4253",
   "metadata": {},
   "source": [
    "### update/delete\n",
    "- 코딩 절차는 insert 와 동일"
   ]
  },
  {
   "cell_type": "code",
   "execution_count": 18,
   "id": "5f056266",
   "metadata": {
    "scrolled": true
   },
   "outputs": [
    {
     "name": "stdout",
     "output_type": "stream",
     "text": [
      "1\n"
     ]
    }
   ],
   "source": [
    "\n",
    "update_sql = \"update member set name=%s, email=%s, tall=%s, birthday=%s where id=%s\"\n",
    "with pymysql.connect(host=\"127.0.0.1\", \n",
    "                       port = 3306,     \n",
    "                       user = \"hyunzuny\",\n",
    "                       password = \"qweqwe\",\n",
    "                       db='testdb'      \n",
    "                      ) as conn:\n",
    "    with conn.cursor() as cursor:\n",
    "        cnt = cursor.execute(update_sql,('새이름', \n",
    "                                         'hyunzuny@d.com',\n",
    "                                         181.2,\n",
    "                                         date(2000,11,11),\n",
    "                                         2))\n",
    "        conn.commit()\n",
    "\n",
    "print(cnt)        "
   ]
  },
  {
   "cell_type": "code",
   "execution_count": 41,
   "id": "55cc6af5",
   "metadata": {},
   "outputs": [
    {
     "name": "stdout",
     "output_type": "stream",
     "text": [
      "삭제할 ID:4\n",
      "1\n"
     ]
    }
   ],
   "source": [
    "delete_sql = \"delete from member where id = %s\"\n",
    "del_id = int(input(\"삭제할 ID:\"))\n",
    "with pymysql.connect(host=\"127.0.0.1\", \n",
    "                       port = 3306,     \n",
    "                       user = \"hyunzuny\",\n",
    "                       password = \"qweqwe\",\n",
    "                       db='testdb'      \n",
    "                      ) as conn:\n",
    "    with conn.cursor() as cursor:\n",
    "        cnt = cursor.execute(delete_sql, del_id)\n",
    "        conn.commit()\n",
    "print(cnt)\n",
    "        "
   ]
  },
  {
   "cell_type": "code",
   "execution_count": 42,
   "id": "ea34cdb7",
   "metadata": {},
   "outputs": [
    {
     "data": {
      "text/plain": [
       "{'id': 3,\n",
       " 'name': 'name1',\n",
       " 'email': 'abc1@abc.com',\n",
       " 'tall': Decimal('165.00'),\n",
       " 'birthday': datetime.date(2000, 1, 12),\n",
       " 'created_at': datetime.datetime(2024, 1, 17, 14, 48, 10)}"
      ]
     },
     "execution_count": 42,
     "metadata": {},
     "output_type": "execute_result"
    }
   ],
   "source": [
    "result"
   ]
  },
  {
   "cell_type": "markdown",
   "id": "096891b8",
   "metadata": {},
   "source": [
    "## select (DQL - Data Query Language)\n",
    "- 조회결과 조회\n",
    "    - cursor.execute(\"select문\") 실행 후 cursor의 결과 조회 메소드(fetch메소드)를 이용해 결과를 받는다.\n",
    "- fetch메소드\n",
    "    - **fetchall()**\n",
    "        - 조회한 모든 행을을 반환\n",
    "    - **fetchmany(size=개수)**\n",
    "        - 지정한 size개수 만큼 반환\n",
    "    - **fetchone()**\n",
    "        - 조회결과 중 첫번째 행만 반환\n",
    "        - 주로 pk 동등 조건으로 조회한 경우 사용"
   ]
  },
  {
   "cell_type": "markdown",
   "id": "524f4cb8",
   "metadata": {},
   "source": [
    "### fetchall()"
   ]
  },
  {
   "cell_type": "code",
   "execution_count": 21,
   "id": "93a06bf2",
   "metadata": {},
   "outputs": [],
   "source": [
    "import pymysql"
   ]
  },
  {
   "cell_type": "code",
   "execution_count": 22,
   "id": "cebb65c0",
   "metadata": {},
   "outputs": [],
   "source": [
    "from pprint import pprint"
   ]
  },
  {
   "cell_type": "code",
   "execution_count": 23,
   "id": "82a62b01",
   "metadata": {},
   "outputs": [],
   "source": [
    "select_sql = \"select * from member\"\n",
    "with pymysql.connect(host=\"127.0.0.1\", \n",
    "                       port = 3306,     \n",
    "                       user = \"hyunzuny\",\n",
    "                       password = \"qweqwe\",\n",
    "                       db='testdb'      \n",
    "                      ) as conn:\n",
    "    with conn.cursor() as cursor:\n",
    "        cnt = cursor.execute(select_sql)\n",
    "        # select 결과 조회 - fetchxxxx\n",
    "        result = cursor.fetchall()\n",
    "        "
   ]
  },
  {
   "cell_type": "code",
   "execution_count": 24,
   "id": "bad30f82",
   "metadata": {},
   "outputs": [
    {
     "name": "stdout",
     "output_type": "stream",
     "text": [
      "8\n"
     ]
    }
   ],
   "source": [
    "print(cnt) #조회 행수."
   ]
  },
  {
   "cell_type": "code",
   "execution_count": 25,
   "id": "0cbd17ef",
   "metadata": {},
   "outputs": [
    {
     "name": "stdout",
     "output_type": "stream",
     "text": [
      "((1,\n",
      "  '이순신',\n",
      "  'lee@a.com',\n",
      "  Decimal('180.23'),\n",
      "  datetime.date(1990, 10, 2),\n",
      "  datetime.datetime(2024, 1, 17, 14, 48, 5)),\n",
      " (2,\n",
      "  '새이름',\n",
      "  'hyunzuny@d.com',\n",
      "  Decimal('181.20'),\n",
      "  datetime.date(2000, 11, 11),\n",
      "  datetime.datetime(2024, 1, 17, 14, 48, 9)),\n",
      " (3,\n",
      "  'name1',\n",
      "  'abc1@abc.com',\n",
      "  Decimal('165.00'),\n",
      "  datetime.date(2000, 1, 12),\n",
      "  datetime.datetime(2024, 1, 17, 14, 48, 10)),\n",
      " (4,\n",
      "  'name2',\n",
      "  'def1@abc.com',\n",
      "  Decimal('175.00'),\n",
      "  datetime.date(1995, 12, 20),\n",
      "  datetime.datetime(2024, 1, 17, 14, 48, 10)),\n",
      " (5,\n",
      "  'name3',\n",
      "  'ghi1@abc.com',\n",
      "  Decimal('185.00'),\n",
      "  datetime.date(1988, 7, 21),\n",
      "  datetime.datetime(2024, 1, 17, 14, 48, 10)),\n",
      " (6,\n",
      "  '이름1',\n",
      "  'abc2@a.com',\n",
      "  Decimal('165.00'),\n",
      "  datetime.date(2000, 1, 12),\n",
      "  datetime.datetime(2024, 1, 17, 14, 48, 12)),\n",
      " (7,\n",
      "  '이름2',\n",
      "  'def2@a.com',\n",
      "  Decimal('175.00'),\n",
      "  datetime.date(1995, 12, 20),\n",
      "  datetime.datetime(2024, 1, 17, 14, 48, 12)),\n",
      " (8,\n",
      "  '이름1',\n",
      "  'ghi2@a.com',\n",
      "  Decimal('185.00'),\n",
      "  datetime.date(1988, 7, 21),\n",
      "  datetime.datetime(2024, 1, 17, 14, 48, 12)))\n"
     ]
    }
   ],
   "source": [
    "pprint(result)"
   ]
  },
  {
   "cell_type": "code",
   "execution_count": null,
   "id": "73aff8ca",
   "metadata": {},
   "outputs": [],
   "source": []
  },
  {
   "cell_type": "markdown",
   "id": "b3a9867d",
   "metadata": {},
   "source": [
    "### fetchone()"
   ]
  },
  {
   "cell_type": "code",
   "execution_count": 27,
   "id": "97500b7b",
   "metadata": {},
   "outputs": [
    {
     "name": "stdout",
     "output_type": "stream",
     "text": [
      "조회할 ID :1\n"
     ]
    }
   ],
   "source": [
    "select_sql = \"select * from member where id = %s\"\n",
    "id_num=int(input(\"조회할 ID :\"))\n",
    "with pymysql.connect(host=\"127.0.0.1\", \n",
    "                       port = 3306,     \n",
    "                       user = \"hyunzuny\",\n",
    "                       password = \"qweqwe\",\n",
    "                       db='testdb'      \n",
    "                      ) as conn:\n",
    "    with conn.cursor() as cursor:\n",
    "        cnt = cursor.execute(select_sql, id_num)\n",
    "        result = cursor.fetchone()"
   ]
  },
  {
   "cell_type": "code",
   "execution_count": 28,
   "id": "b0eaf81d",
   "metadata": {},
   "outputs": [
    {
     "name": "stdout",
     "output_type": "stream",
     "text": [
      "1\n"
     ]
    }
   ],
   "source": [
    "print(cnt)"
   ]
  },
  {
   "cell_type": "code",
   "execution_count": 29,
   "id": "5130005e",
   "metadata": {},
   "outputs": [
    {
     "name": "stdout",
     "output_type": "stream",
     "text": [
      "(1, '이순신', 'lee@a.com', Decimal('180.23'), datetime.date(1990, 10, 2), datetime.datetime(2024, 1, 17, 14, 48, 5))\n"
     ]
    }
   ],
   "source": [
    "print(result)"
   ]
  },
  {
   "cell_type": "code",
   "execution_count": 31,
   "id": "baad53db",
   "metadata": {},
   "outputs": [
    {
     "data": {
      "text/plain": [
       "('이순신', 'lee@a.com')"
      ]
     },
     "execution_count": 31,
     "metadata": {},
     "output_type": "execute_result"
    }
   ],
   "source": [
    "result[1], result[2]"
   ]
  },
  {
   "cell_type": "code",
   "execution_count": 39,
   "id": "da014b15",
   "metadata": {},
   "outputs": [
    {
     "name": "stdout",
     "output_type": "stream",
     "text": [
      "조회할 ID :3\n"
     ]
    }
   ],
   "source": [
    "\n",
    "        \n",
    "select_sql = \"select * from member where id = %s\"\n",
    "id_num=int(input(\"조회할 ID :\"))\n",
    "with pymysql.connect(host=\"127.0.0.1\", \n",
    "                       port = 3306,     \n",
    "                       user = \"hyunzuny\",\n",
    "                       password = \"qweqwe\",\n",
    "                       db='testdb',\n",
    "                        cursorclass=pymysql.cursors.DictCursor) as conn:\n",
    "    with conn.cursor() as cursor:\n",
    "        cnt = cursor.execute(select_sql, id_num)\n",
    "        result = cursor.fetchone()"
   ]
  },
  {
   "cell_type": "code",
   "execution_count": 40,
   "id": "3d0338a9",
   "metadata": {},
   "outputs": [
    {
     "data": {
      "text/plain": [
       "{'id': 3,\n",
       " 'name': 'name1',\n",
       " 'email': 'abc1@abc.com',\n",
       " 'tall': Decimal('165.00'),\n",
       " 'birthday': datetime.date(2000, 1, 12),\n",
       " 'created_at': datetime.datetime(2024, 1, 17, 14, 48, 10)}"
      ]
     },
     "execution_count": 40,
     "metadata": {},
     "output_type": "execute_result"
    }
   ],
   "source": [
    "result"
   ]
  },
  {
   "cell_type": "code",
   "execution_count": null,
   "id": "89ebbea6",
   "metadata": {},
   "outputs": [],
   "source": []
  },
  {
   "cell_type": "markdown",
   "id": "cc8054bc",
   "metadata": {},
   "source": [
    "### fetchmany()"
   ]
  },
  {
   "cell_type": "code",
   "execution_count": 33,
   "id": "7d72f49c",
   "metadata": {},
   "outputs": [],
   "source": [
    "select_sql = \"select * from member\"\n",
    "with pymysql.connect(host=\"127.0.0.1\", \n",
    "                       port = 3306,     \n",
    "                       user = \"hyunzuny\",\n",
    "                       password = \"qweqwe\",\n",
    "                       db='testdb'      \n",
    "                      ) as conn:\n",
    "    with conn.cursor() as cursor:\n",
    "        cnt = cursor.execute(select_sql)\n",
    "        # select 결과 조회 - fetchxxxx\n",
    "        result1 = cursor.fetchmany(size = 2)\n",
    "        result2 = cursor.fetchmany(size = 2)\n",
    "        result3 = cursor.fetchmany(size = 2)\n",
    "        result4 = cursor.fetchmany(size = 2)"
   ]
  },
  {
   "cell_type": "code",
   "execution_count": 30,
   "id": "50fffed5",
   "metadata": {},
   "outputs": [
    {
     "name": "stdout",
     "output_type": "stream",
     "text": [
      "8\n"
     ]
    }
   ],
   "source": [
    "print(cnt)"
   ]
  },
  {
   "cell_type": "code",
   "execution_count": 32,
   "id": "607879a4",
   "metadata": {},
   "outputs": [
    {
     "name": "stdout",
     "output_type": "stream",
     "text": [
      "2\n"
     ]
    },
    {
     "data": {
      "text/plain": [
       "((1,\n",
       "  '이순신',\n",
       "  'lee@a.com',\n",
       "  Decimal('180.23'),\n",
       "  datetime.date(1990, 10, 2),\n",
       "  datetime.datetime(2024, 1, 17, 12, 28, 56)),\n",
       " (2,\n",
       "  '이름1',\n",
       "  'abc2@a.com',\n",
       "  Decimal('165.00'),\n",
       "  datetime.date(2000, 1, 12),\n",
       "  datetime.datetime(2024, 1, 17, 12, 49, 6)))"
      ]
     },
     "execution_count": 32,
     "metadata": {},
     "output_type": "execute_result"
    }
   ],
   "source": [
    "print(len(result))\n",
    "result"
   ]
  },
  {
   "cell_type": "code",
   "execution_count": 35,
   "id": "02d0e152",
   "metadata": {},
   "outputs": [
    {
     "name": "stdout",
     "output_type": "stream",
     "text": [
      "((3,\n",
      "  '이름2',\n",
      "  'def2@a.com',\n",
      "  Decimal('175.00'),\n",
      "  datetime.date(1995, 12, 20),\n",
      "  datetime.datetime(2024, 1, 17, 12, 49, 6)),\n",
      " (4,\n",
      "  '이름1',\n",
      "  'ghi2@a.com',\n",
      "  Decimal('185.00'),\n",
      "  datetime.date(1988, 7, 21),\n",
      "  datetime.datetime(2024, 1, 17, 12, 49, 6)))\n"
     ]
    }
   ],
   "source": [
    "pprint(result2)"
   ]
  },
  {
   "cell_type": "markdown",
   "id": "fca900bd",
   "metadata": {},
   "source": [
    "### cursor 는 iterable 타입\n",
    "- for문에 select 실행한 cursor를 사용하면 조회결과를 한 행씩 조회할 수 있다."
   ]
  },
  {
   "cell_type": "code",
   "execution_count": 69,
   "id": "e3821fe8",
   "metadata": {},
   "outputs": [
    {
     "name": "stdout",
     "output_type": "stream",
     "text": [
      "2\n",
      "((3,\n",
      "  'name1',\n",
      "  'abc1@abc.com',\n",
      "  Decimal('165.00'),\n",
      "  datetime.date(2000, 1, 12),\n",
      "  datetime.datetime(2024, 1, 17, 14, 48, 10)),\n",
      " (5,\n",
      "  'name3',\n",
      "  'ghi1@abc.com',\n",
      "  Decimal('185.00'),\n",
      "  datetime.date(1988, 7, 21),\n",
      "  datetime.datetime(2024, 1, 17, 14, 48, 10)))\n"
     ]
    }
   ],
   "source": [
    "select_sql = \"select * from member where name like %s\"\n",
    "with pymysql.connect(host=\"127.0.0.1\", \n",
    "                       port = 3306,     \n",
    "                       user = \"hyunzuny\",\n",
    "                       password = \"qweqwe\",\n",
    "                       db='testdb'      \n",
    "                      ) as conn:\n",
    "    with conn.cursor() as cursor:\n",
    "        cnt = cursor.execute(select_sql,'n%' )\n",
    "        result = cursor.fetchall()\n",
    "        sum_tall=0\n",
    "        for data in cursor:\n",
    "            sum_tall+=float(data[3])\n",
    "\n",
    "        \n",
    "        \n",
    "\n",
    "print(cnt)\n",
    "pprint(result)"
   ]
  },
  {
   "cell_type": "code",
   "execution_count": 70,
   "id": "e134db36",
   "metadata": {},
   "outputs": [
    {
     "data": {
      "text/plain": [
       "0"
      ]
     },
     "execution_count": 70,
     "metadata": {},
     "output_type": "execute_result"
    }
   ],
   "source": [
    "sum_tall"
   ]
  },
  {
   "cell_type": "code",
   "execution_count": null,
   "id": "d9ab137f",
   "metadata": {},
   "outputs": [],
   "source": []
  },
  {
   "cell_type": "markdown",
   "id": "32433b68",
   "metadata": {},
   "source": [
    "# 함수 구현\n",
    "\n",
    "보통 테이블과 관련해서 CRUD를 처리하는 함수 또는 클래스를 정의해서 사용한다.  \n",
    "다음은 Member 테이블의 CRUD를 처리하는 함수를 작성한다.\n",
    "\n",
    "1. name, email, tall, birthday를 매개변수로 받아서 insert하는 함수. (id는 자동증가, created_at은 실행시점의 일시가 insert되도록 한다.)\n",
    "2. id, name, email, tall, birthday를 매개변수로 받아서 id의 member의 나머지 정보를 update하는 함수. (created_at은 update하지 않는다.)\n",
    "3. id를 매개변수로 받아서 그 member 를 삭제하는 함수.\n",
    "4. id를 매개변수로 받아서 그 id의 회원 정보를 조회하여 반환하는 함수.\n",
    "5. 전체 회원정보를 조회하는 함수\n",
    "\n",
    "\n",
    "- insert, update, delete 는 적용된 행의 개수를 반환한다.\n",
    "- select 처리 함수는 조회결과를 반환한다.\n"
   ]
  },
  {
   "cell_type": "code",
   "execution_count": 93,
   "id": "3435607a",
   "metadata": {},
   "outputs": [
    {
     "name": "stdout",
     "output_type": "stream",
     "text": [
      "Writing member_dao.py\n"
     ]
    }
   ],
   "source": [
    "%%writefile member_dao.py\n",
    "\n",
    "def insert_member(corsor, name, email, tall, birthday):\n",
    "    \n",
    "    sql = 'insert into member (name, email, tall, birthday, created_at) values (%s, %s, %s, %s, now())'\n",
    "    return cursor.execute(sql, (name, email, tall, birthday))\n",
    "     \n",
    "def update_member(cursor, id, name, email, tail, birthday):\n",
    "    sql = \"update member set name = %s, email = %s, tall =%s, birthday = %s where id =%s\"\n",
    "    return cursor.execute(sql, (name, email, tail, birthday, id))\n",
    "\n",
    "def delete_memberb_by_id(sursor, id):\n",
    "    sql = \"delete from member where id=%s\"\n",
    "    return cursor.execute(sql, id)\n",
    "\n",
    "def select_members(cursor):\n",
    "    sql = \"select * from member\"\n",
    "    cursor.execute(sql)\n",
    "    return cursor.fetchall()\n",
    "\n",
    "def select_member_by_id(cursor, id):\n",
    "    sql = \"select*from member where id =%s\"\n",
    "    cursor.execute(sql,id)\n",
    "    return cursor.fetchone()"
   ]
  },
  {
   "cell_type": "code",
   "execution_count": 94,
   "id": "46dc1398",
   "metadata": {},
   "outputs": [],
   "source": [
    "from member_dao import *"
   ]
  },
  {
   "cell_type": "code",
   "execution_count": 95,
   "id": "abdb1650",
   "metadata": {},
   "outputs": [
    {
     "name": "stdout",
     "output_type": "stream",
     "text": [
      "[2, '새이름', 'hyunzuny@d.com', Decimal('181.20'), datetime.date(2000, 11, 11), datetime.datetime(2024, 1, 17, 14, 48, 9)]\n"
     ]
    }
   ],
   "source": [
    "with pymysql.connect(host=\"127.0.0.1\", \n",
    "                       port = 3306,     \n",
    "                       user = \"hyunzuny\",\n",
    "                       password = \"qweqwe\",\n",
    "                       db='testdb'      \n",
    "                      ) as conn:\n",
    "    with conn.cursor() as cursor:\n",
    "        #id = 5 를 조회 후 이름을 변경\n",
    "        result = list(select_member_by_id(cursor, 2))\n",
    "        print(result)\n",
    "        result[1] = \"새로운 이름입니다.\"\n",
    "        if len(result) ==0:\n",
    "            conn.rollback()\n",
    "            raise Exception() # 예외발생\n",
    "        update_member(cursor, result[0], result[1], result[2], result[3], result[4])\n",
    "        \n",
    "        \n",
    "        \n",
    "        "
   ]
  },
  {
   "cell_type": "code",
   "execution_count": null,
   "id": "11c3fdeb",
   "metadata": {},
   "outputs": [],
   "source": []
  },
  {
   "cell_type": "code",
   "execution_count": null,
   "id": "b7720161",
   "metadata": {},
   "outputs": [],
   "source": []
  },
  {
   "cell_type": "code",
   "execution_count": null,
   "id": "c3a282c6",
   "metadata": {},
   "outputs": [],
   "source": []
  },
  {
   "cell_type": "code",
   "execution_count": null,
   "id": "32f1965d",
   "metadata": {},
   "outputs": [],
   "source": []
  },
  {
   "cell_type": "code",
   "execution_count": null,
   "id": "865b13d5",
   "metadata": {},
   "outputs": [],
   "source": []
  },
  {
   "cell_type": "code",
   "execution_count": null,
   "id": "cd34bcb5",
   "metadata": {},
   "outputs": [],
   "source": []
  },
  {
   "cell_type": "code",
   "execution_count": null,
   "id": "ee55fc76",
   "metadata": {},
   "outputs": [],
   "source": []
  },
  {
   "cell_type": "code",
   "execution_count": null,
   "id": "b13a2e49",
   "metadata": {},
   "outputs": [],
   "source": []
  },
  {
   "cell_type": "code",
   "execution_count": null,
   "id": "75e36c3f",
   "metadata": {},
   "outputs": [],
   "source": []
  }
 ],
 "metadata": {
  "kernelspec": {
   "display_name": "Python 3 (ipykernel)",
   "language": "python",
   "name": "python3"
  },
  "language_info": {
   "codemirror_mode": {
    "name": "ipython",
    "version": 3
   },
   "file_extension": ".py",
   "mimetype": "text/x-python",
   "name": "python",
   "nbconvert_exporter": "python",
   "pygments_lexer": "ipython3",
   "version": "3.11.5"
  },
  "toc": {
   "base_numbering": 1,
   "nav_menu": {},
   "number_sections": false,
   "sideBar": true,
   "skip_h1_title": false,
   "title_cell": "Table of Contents",
   "title_sidebar": "Contents",
   "toc_cell": false,
   "toc_position": {},
   "toc_section_display": true,
   "toc_window_display": false
  },
  "varInspector": {
   "cols": {
    "lenName": 16,
    "lenType": 16,
    "lenVar": 40
   },
   "kernels_config": {
    "python": {
     "delete_cmd_postfix": "",
     "delete_cmd_prefix": "del ",
     "library": "var_list.py",
     "varRefreshCmd": "print(var_dic_list())"
    },
    "r": {
     "delete_cmd_postfix": ") ",
     "delete_cmd_prefix": "rm(",
     "library": "var_list.r",
     "varRefreshCmd": "cat(var_dic_list()) "
    }
   },
   "types_to_exclude": [
    "module",
    "function",
    "builtin_function_or_method",
    "instance",
    "_Feature"
   ],
   "window_display": false
  }
 },
 "nbformat": 4,
 "nbformat_minor": 5
}
