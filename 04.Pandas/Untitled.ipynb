{
 "cells": [
  {
   "cell_type": "markdown",
   "id": "700c1493",
   "metadata": {},
   "source": [
    "li=[]\n",
    "n = int(input())\n",
    "for i in range(n):\n",
    "    _ = int(input())\n",
    "    li.insert(i,_)\n",
    "print(li)\n",
    "n = 0\n",
    "num = 0\n",
    "for i in range(len(li)):\n",
    "    k = int(li.pop())              \n",
    "    if k > n:\n",
    "        n = k\n",
    "        num +=1\n",
    "print(num)"
   ]
  },
  {
   "cell_type": "code",
   "execution_count": 7,
   "id": "e4d02db9",
   "metadata": {},
   "outputs": [
    {
     "ename": "ValueError",
     "evalue": "invalid literal for int() with base 10: ''",
     "output_type": "error",
     "traceback": [
      "\u001b[1;31m---------------------------------------------------------------------------\u001b[0m",
      "\u001b[1;31mValueError\u001b[0m                                Traceback (most recent call last)",
      "Cell \u001b[1;32mIn[7], line 4\u001b[0m\n\u001b[0;32m      1\u001b[0m \u001b[38;5;28;01mimport\u001b[39;00m \u001b[38;5;21;01msys\u001b[39;00m\n\u001b[0;32m      3\u001b[0m li\u001b[38;5;241m=\u001b[39m[]\n\u001b[1;32m----> 4\u001b[0m n \u001b[38;5;241m=\u001b[39m \u001b[38;5;28mint\u001b[39m(sys\u001b[38;5;241m.\u001b[39mstdin\u001b[38;5;241m.\u001b[39mreadline())\n\u001b[0;32m      5\u001b[0m \u001b[38;5;28;01mfor\u001b[39;00m i \u001b[38;5;129;01min\u001b[39;00m \u001b[38;5;28mrange\u001b[39m(n):\n\u001b[0;32m      6\u001b[0m     _ \u001b[38;5;241m=\u001b[39m \u001b[38;5;28mint\u001b[39m(sys\u001b[38;5;241m.\u001b[39mstdin\u001b[38;5;241m.\u001b[39mreadline())\n",
      "\u001b[1;31mValueError\u001b[0m: invalid literal for int() with base 10: ''"
     ]
    }
   ],
   "source": [
    "import sys\n",
    "\n",
    "li=[]\n",
    "n = int(sys.stdin.readline())\n",
    "for i in range(n):\n",
    "    _ = int(sys.stdin.readline())\n",
    "    li.insert(i,_)\n",
    "n = 0\n",
    "num = 0\n",
    "for i in range(len(li)):\n",
    "    k = int(li.pop())              \n",
    "    if k > n:\n",
    "        n = k\n",
    "        num +=1\n",
    "print(num)"
   ]
  }
 ],
 "metadata": {
  "kernelspec": {
   "display_name": "Python 3 (ipykernel)",
   "language": "python",
   "name": "python3"
  },
  "language_info": {
   "codemirror_mode": {
    "name": "ipython",
    "version": 3
   },
   "file_extension": ".py",
   "mimetype": "text/x-python",
   "name": "python",
   "nbconvert_exporter": "python",
   "pygments_lexer": "ipython3",
   "version": "3.11.5"
  }
 },
 "nbformat": 4,
 "nbformat_minor": 5
}
