{
 "cells": [
  {
   "cell_type": "code",
   "execution_count": null,
   "id": "fcc6e5e7-2acc-4f82-a0bd-57c77b69370b",
   "metadata": {},
   "outputs": [],
   "source": [
    "pt = df3.pivot_table(index='구', columns='월', values=['휘발유','고급휘발유'], aggfunc='mean')  \n",
    "pt.swaplevel(0,1, axis=1).sort_index(axis=1).head(3)"
   ]
  }
 ],
 "metadata": {
  "kernelspec": {
   "display_name": "Python 3 (ipykernel)",
   "language": "python",
   "name": "python3"
  },
  "language_info": {
   "codemirror_mode": {
    "name": "ipython",
    "version": 3
   },
   "file_extension": ".py",
   "mimetype": "text/x-python",
   "name": "python",
   "nbconvert_exporter": "python",
   "pygments_lexer": "ipython3",
   "version": "3.11.5"
  }
 },
 "nbformat": 4,
 "nbformat_minor": 5
}
