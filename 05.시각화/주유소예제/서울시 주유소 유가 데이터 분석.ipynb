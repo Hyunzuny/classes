{
 "cells": [
  {
   "cell_type": "markdown",
   "metadata": {},
   "source": [
    "kgmyh@naver.com 으로 `이름_주유소가격 데이터 분석.html` 로 제출\n",
    "- html 파일로 변환\n",
    "    - File > Download as > HTML (.html) 선택\n",
    "    - File > Save and Export Notebook As .. > HTML 선택"
   ]
  },
  {
   "cell_type": "markdown",
   "metadata": {},
   "source": [
    "# 데이터 불러오기"
   ]
  },
  {
   "cell_type": "markdown",
   "metadata": {
    "ExecuteTime": {
     "end_time": "2021-03-12T05:10:15.329775Z",
     "start_time": "2021-03-12T05:10:15.314775Z"
    }
   },
   "source": [
    "- 2022년 주유소들의 일자별 가격 데이터\n",
    "- https://www.opinet.co.kr/user/opdown/opDownload.do"
   ]
  },
  {
   "cell_type": "code",
   "execution_count": 1,
   "metadata": {
    "tags": []
   },
   "outputs": [],
   "source": [
    "import pandas as pd\n",
    "import matplotlib.pyplot as plt"
   ]
  },
  {
   "cell_type": "code",
   "execution_count": 2,
   "metadata": {
    "tags": []
   },
   "outputs": [
    {
     "data": {
      "text/html": [
       "<div>\n",
       "<style scoped>\n",
       "    .dataframe tbody tr th:only-of-type {\n",
       "        vertical-align: middle;\n",
       "    }\n",
       "\n",
       "    .dataframe tbody tr th {\n",
       "        vertical-align: top;\n",
       "    }\n",
       "\n",
       "    .dataframe thead th {\n",
       "        text-align: right;\n",
       "    }\n",
       "</style>\n",
       "<table border=\"1\" class=\"dataframe\">\n",
       "  <thead>\n",
       "    <tr style=\"text-align: right;\">\n",
       "      <th></th>\n",
       "      <th>번호</th>\n",
       "      <th>지역</th>\n",
       "      <th>상호</th>\n",
       "      <th>주소</th>\n",
       "      <th>기간</th>\n",
       "      <th>상표</th>\n",
       "      <th>셀프여부</th>\n",
       "      <th>고급휘발유</th>\n",
       "      <th>휘발유</th>\n",
       "      <th>경유</th>\n",
       "      <th>실내등유</th>\n",
       "    </tr>\n",
       "  </thead>\n",
       "  <tbody>\n",
       "    <tr>\n",
       "      <th>0</th>\n",
       "      <td>A0006039</td>\n",
       "      <td>서울 강남구</td>\n",
       "      <td>(유)동하석유 힐탑셀프주유소</td>\n",
       "      <td>서울 강남구 논현로 640</td>\n",
       "      <td>20220101</td>\n",
       "      <td>SK에너지</td>\n",
       "      <td>셀프</td>\n",
       "      <td>1887</td>\n",
       "      <td>1737</td>\n",
       "      <td>1587</td>\n",
       "      <td>0</td>\n",
       "    </tr>\n",
       "    <tr>\n",
       "      <th>1</th>\n",
       "      <td>A0006039</td>\n",
       "      <td>서울 강남구</td>\n",
       "      <td>(유)동하석유 힐탑셀프주유소</td>\n",
       "      <td>서울 강남구 논현로 640</td>\n",
       "      <td>20220102</td>\n",
       "      <td>SK에너지</td>\n",
       "      <td>셀프</td>\n",
       "      <td>1887</td>\n",
       "      <td>1737</td>\n",
       "      <td>1587</td>\n",
       "      <td>0</td>\n",
       "    </tr>\n",
       "    <tr>\n",
       "      <th>2</th>\n",
       "      <td>A0006039</td>\n",
       "      <td>서울 강남구</td>\n",
       "      <td>(유)동하석유 힐탑셀프주유소</td>\n",
       "      <td>서울 강남구 논현로 640</td>\n",
       "      <td>20220103</td>\n",
       "      <td>SK에너지</td>\n",
       "      <td>셀프</td>\n",
       "      <td>1887</td>\n",
       "      <td>1737</td>\n",
       "      <td>1587</td>\n",
       "      <td>0</td>\n",
       "    </tr>\n",
       "    <tr>\n",
       "      <th>3</th>\n",
       "      <td>A0006039</td>\n",
       "      <td>서울 강남구</td>\n",
       "      <td>(유)동하석유 힐탑셀프주유소</td>\n",
       "      <td>서울 강남구 논현로 640</td>\n",
       "      <td>20220104</td>\n",
       "      <td>SK에너지</td>\n",
       "      <td>셀프</td>\n",
       "      <td>1887</td>\n",
       "      <td>1737</td>\n",
       "      <td>1587</td>\n",
       "      <td>0</td>\n",
       "    </tr>\n",
       "    <tr>\n",
       "      <th>4</th>\n",
       "      <td>A0006039</td>\n",
       "      <td>서울 강남구</td>\n",
       "      <td>(유)동하석유 힐탑셀프주유소</td>\n",
       "      <td>서울 강남구 논현로 640</td>\n",
       "      <td>20220105</td>\n",
       "      <td>SK에너지</td>\n",
       "      <td>셀프</td>\n",
       "      <td>1887</td>\n",
       "      <td>1737</td>\n",
       "      <td>1587</td>\n",
       "      <td>0</td>\n",
       "    </tr>\n",
       "    <tr>\n",
       "      <th>...</th>\n",
       "      <td>...</td>\n",
       "      <td>...</td>\n",
       "      <td>...</td>\n",
       "      <td>...</td>\n",
       "      <td>...</td>\n",
       "      <td>...</td>\n",
       "      <td>...</td>\n",
       "      <td>...</td>\n",
       "      <td>...</td>\n",
       "      <td>...</td>\n",
       "      <td>...</td>\n",
       "    </tr>\n",
       "    <tr>\n",
       "      <th>82684</th>\n",
       "      <td>A0009197</td>\n",
       "      <td>서울 중랑구</td>\n",
       "      <td>현대오일뱅크㈜직영 중랑교셀프주유소</td>\n",
       "      <td>서울 중랑구 망우로 229 (중화동)</td>\n",
       "      <td>20220507</td>\n",
       "      <td>현대오일뱅크</td>\n",
       "      <td>셀프</td>\n",
       "      <td>2152</td>\n",
       "      <td>1910</td>\n",
       "      <td>1841</td>\n",
       "      <td>0</td>\n",
       "    </tr>\n",
       "    <tr>\n",
       "      <th>82685</th>\n",
       "      <td>A0009197</td>\n",
       "      <td>서울 중랑구</td>\n",
       "      <td>현대오일뱅크㈜직영 중랑교셀프주유소</td>\n",
       "      <td>서울 중랑구 망우로 229 (중화동)</td>\n",
       "      <td>20220508</td>\n",
       "      <td>현대오일뱅크</td>\n",
       "      <td>셀프</td>\n",
       "      <td>2152</td>\n",
       "      <td>1910</td>\n",
       "      <td>1841</td>\n",
       "      <td>0</td>\n",
       "    </tr>\n",
       "    <tr>\n",
       "      <th>82686</th>\n",
       "      <td>A0009197</td>\n",
       "      <td>서울 중랑구</td>\n",
       "      <td>현대오일뱅크㈜직영 중랑교셀프주유소</td>\n",
       "      <td>서울 중랑구 망우로 229 (중화동)</td>\n",
       "      <td>20220509</td>\n",
       "      <td>현대오일뱅크</td>\n",
       "      <td>셀프</td>\n",
       "      <td>2152</td>\n",
       "      <td>1910</td>\n",
       "      <td>1841</td>\n",
       "      <td>0</td>\n",
       "    </tr>\n",
       "    <tr>\n",
       "      <th>82687</th>\n",
       "      <td>A0009197</td>\n",
       "      <td>서울 중랑구</td>\n",
       "      <td>현대오일뱅크㈜직영 중랑교셀프주유소</td>\n",
       "      <td>서울 중랑구 망우로 229 (중화동)</td>\n",
       "      <td>20220510</td>\n",
       "      <td>현대오일뱅크</td>\n",
       "      <td>셀프</td>\n",
       "      <td>2152</td>\n",
       "      <td>1910</td>\n",
       "      <td>1841</td>\n",
       "      <td>0</td>\n",
       "    </tr>\n",
       "    <tr>\n",
       "      <th>82688</th>\n",
       "      <td>A0009197</td>\n",
       "      <td>서울 중랑구</td>\n",
       "      <td>현대오일뱅크㈜직영 중랑교셀프주유소</td>\n",
       "      <td>서울 중랑구 망우로 229 (중화동)</td>\n",
       "      <td>20220511</td>\n",
       "      <td>현대오일뱅크</td>\n",
       "      <td>셀프</td>\n",
       "      <td>2152</td>\n",
       "      <td>1910</td>\n",
       "      <td>1841</td>\n",
       "      <td>0</td>\n",
       "    </tr>\n",
       "  </tbody>\n",
       "</table>\n",
       "<p>82689 rows × 11 columns</p>\n",
       "</div>"
      ],
      "text/plain": [
       "             번호      지역                  상호                    주소        기간  \\\n",
       "0      A0006039  서울 강남구     (유)동하석유 힐탑셀프주유소        서울 강남구 논현로 640  20220101   \n",
       "1      A0006039  서울 강남구     (유)동하석유 힐탑셀프주유소        서울 강남구 논현로 640  20220102   \n",
       "2      A0006039  서울 강남구     (유)동하석유 힐탑셀프주유소        서울 강남구 논현로 640  20220103   \n",
       "3      A0006039  서울 강남구     (유)동하석유 힐탑셀프주유소        서울 강남구 논현로 640  20220104   \n",
       "4      A0006039  서울 강남구     (유)동하석유 힐탑셀프주유소        서울 강남구 논현로 640  20220105   \n",
       "...         ...     ...                 ...                   ...       ...   \n",
       "82684  A0009197  서울 중랑구  현대오일뱅크㈜직영 중랑교셀프주유소  서울 중랑구 망우로 229 (중화동)  20220507   \n",
       "82685  A0009197  서울 중랑구  현대오일뱅크㈜직영 중랑교셀프주유소  서울 중랑구 망우로 229 (중화동)  20220508   \n",
       "82686  A0009197  서울 중랑구  현대오일뱅크㈜직영 중랑교셀프주유소  서울 중랑구 망우로 229 (중화동)  20220509   \n",
       "82687  A0009197  서울 중랑구  현대오일뱅크㈜직영 중랑교셀프주유소  서울 중랑구 망우로 229 (중화동)  20220510   \n",
       "82688  A0009197  서울 중랑구  현대오일뱅크㈜직영 중랑교셀프주유소  서울 중랑구 망우로 229 (중화동)  20220511   \n",
       "\n",
       "           상표 셀프여부  고급휘발유   휘발유    경유  실내등유  \n",
       "0       SK에너지   셀프   1887  1737  1587     0  \n",
       "1       SK에너지   셀프   1887  1737  1587     0  \n",
       "2       SK에너지   셀프   1887  1737  1587     0  \n",
       "3       SK에너지   셀프   1887  1737  1587     0  \n",
       "4       SK에너지   셀프   1887  1737  1587     0  \n",
       "...       ...  ...    ...   ...   ...   ...  \n",
       "82684  현대오일뱅크   셀프   2152  1910  1841     0  \n",
       "82685  현대오일뱅크   셀프   2152  1910  1841     0  \n",
       "82686  현대오일뱅크   셀프   2152  1910  1841     0  \n",
       "82687  현대오일뱅크   셀프   2152  1910  1841     0  \n",
       "82688  현대오일뱅크   셀프   2152  1910  1841     0  \n",
       "\n",
       "[82689 rows x 11 columns]"
      ]
     },
     "execution_count": 2,
     "metadata": {},
     "output_type": "execute_result"
    }
   ],
   "source": [
    "df = pd.read_csv('data/2022년_서울_상반기_일별_가격.csv', encoding='cp949')\n",
    "df"
   ]
  },
  {
   "cell_type": "code",
   "execution_count": 3,
   "metadata": {
    "collapsed": true,
    "jupyter": {
     "outputs_hidden": true
    },
    "tags": []
   },
   "outputs": [
    {
     "data": {
      "text/html": [
       "<div>\n",
       "<style scoped>\n",
       "    .dataframe tbody tr th:only-of-type {\n",
       "        vertical-align: middle;\n",
       "    }\n",
       "\n",
       "    .dataframe tbody tr th {\n",
       "        vertical-align: top;\n",
       "    }\n",
       "\n",
       "    .dataframe thead th {\n",
       "        text-align: right;\n",
       "    }\n",
       "</style>\n",
       "<table border=\"1\" class=\"dataframe\">\n",
       "  <thead>\n",
       "    <tr style=\"text-align: right;\">\n",
       "      <th></th>\n",
       "      <th>번호</th>\n",
       "      <th>지역</th>\n",
       "      <th>상호</th>\n",
       "      <th>주소</th>\n",
       "      <th>기간</th>\n",
       "      <th>상표</th>\n",
       "      <th>셀프여부</th>\n",
       "      <th>고급휘발유</th>\n",
       "      <th>휘발유</th>\n",
       "      <th>경유</th>\n",
       "      <th>실내등유</th>\n",
       "    </tr>\n",
       "  </thead>\n",
       "  <tbody>\n",
       "    <tr>\n",
       "      <th>0</th>\n",
       "      <td>A0006039</td>\n",
       "      <td>서울 강남구</td>\n",
       "      <td>(유)동하석유 힐탑셀프주유소</td>\n",
       "      <td>서울 강남구 논현로 640</td>\n",
       "      <td>20220701</td>\n",
       "      <td>SK에너지</td>\n",
       "      <td>셀프</td>\n",
       "      <td>2487</td>\n",
       "      <td>2287</td>\n",
       "      <td>2297</td>\n",
       "      <td>0</td>\n",
       "    </tr>\n",
       "    <tr>\n",
       "      <th>1</th>\n",
       "      <td>A0006039</td>\n",
       "      <td>서울 강남구</td>\n",
       "      <td>(유)동하석유 힐탑셀프주유소</td>\n",
       "      <td>서울 강남구 논현로 640</td>\n",
       "      <td>20220702</td>\n",
       "      <td>SK에너지</td>\n",
       "      <td>셀프</td>\n",
       "      <td>2447</td>\n",
       "      <td>2247</td>\n",
       "      <td>2277</td>\n",
       "      <td>0</td>\n",
       "    </tr>\n",
       "    <tr>\n",
       "      <th>2</th>\n",
       "      <td>A0006039</td>\n",
       "      <td>서울 강남구</td>\n",
       "      <td>(유)동하석유 힐탑셀프주유소</td>\n",
       "      <td>서울 강남구 논현로 640</td>\n",
       "      <td>20220703</td>\n",
       "      <td>SK에너지</td>\n",
       "      <td>셀프</td>\n",
       "      <td>2447</td>\n",
       "      <td>2247</td>\n",
       "      <td>2277</td>\n",
       "      <td>0</td>\n",
       "    </tr>\n",
       "    <tr>\n",
       "      <th>3</th>\n",
       "      <td>A0006039</td>\n",
       "      <td>서울 강남구</td>\n",
       "      <td>(유)동하석유 힐탑셀프주유소</td>\n",
       "      <td>서울 강남구 논현로 640</td>\n",
       "      <td>20220704</td>\n",
       "      <td>SK에너지</td>\n",
       "      <td>셀프</td>\n",
       "      <td>2447</td>\n",
       "      <td>2247</td>\n",
       "      <td>2277</td>\n",
       "      <td>0</td>\n",
       "    </tr>\n",
       "    <tr>\n",
       "      <th>4</th>\n",
       "      <td>A0006039</td>\n",
       "      <td>서울 강남구</td>\n",
       "      <td>(유)동하석유 힐탑셀프주유소</td>\n",
       "      <td>서울 강남구 논현로 640</td>\n",
       "      <td>20220705</td>\n",
       "      <td>SK에너지</td>\n",
       "      <td>셀프</td>\n",
       "      <td>2447</td>\n",
       "      <td>2247</td>\n",
       "      <td>2277</td>\n",
       "      <td>0</td>\n",
       "    </tr>\n",
       "    <tr>\n",
       "      <th>...</th>\n",
       "      <td>...</td>\n",
       "      <td>...</td>\n",
       "      <td>...</td>\n",
       "      <td>...</td>\n",
       "      <td>...</td>\n",
       "      <td>...</td>\n",
       "      <td>...</td>\n",
       "      <td>...</td>\n",
       "      <td>...</td>\n",
       "      <td>...</td>\n",
       "      <td>...</td>\n",
       "    </tr>\n",
       "    <tr>\n",
       "      <th>81788</th>\n",
       "      <td>A0009138</td>\n",
       "      <td>서울 중랑구</td>\n",
       "      <td>우림주유소</td>\n",
       "      <td>서울 중랑구 용마산로 487 (망우제3동)</td>\n",
       "      <td>20221227</td>\n",
       "      <td>GS칼텍스</td>\n",
       "      <td>셀프</td>\n",
       "      <td>0</td>\n",
       "      <td>1525</td>\n",
       "      <td>1745</td>\n",
       "      <td>0</td>\n",
       "    </tr>\n",
       "    <tr>\n",
       "      <th>81789</th>\n",
       "      <td>A0009138</td>\n",
       "      <td>서울 중랑구</td>\n",
       "      <td>우림주유소</td>\n",
       "      <td>서울 중랑구 용마산로 487 (망우제3동)</td>\n",
       "      <td>20221228</td>\n",
       "      <td>GS칼텍스</td>\n",
       "      <td>셀프</td>\n",
       "      <td>0</td>\n",
       "      <td>1525</td>\n",
       "      <td>1720</td>\n",
       "      <td>0</td>\n",
       "    </tr>\n",
       "    <tr>\n",
       "      <th>81790</th>\n",
       "      <td>A0009138</td>\n",
       "      <td>서울 중랑구</td>\n",
       "      <td>우림주유소</td>\n",
       "      <td>서울 중랑구 용마산로 487 (망우제3동)</td>\n",
       "      <td>20221229</td>\n",
       "      <td>GS칼텍스</td>\n",
       "      <td>셀프</td>\n",
       "      <td>0</td>\n",
       "      <td>1525</td>\n",
       "      <td>1720</td>\n",
       "      <td>0</td>\n",
       "    </tr>\n",
       "    <tr>\n",
       "      <th>81791</th>\n",
       "      <td>A0009138</td>\n",
       "      <td>서울 중랑구</td>\n",
       "      <td>우림주유소</td>\n",
       "      <td>서울 중랑구 용마산로 487 (망우제3동)</td>\n",
       "      <td>20221230</td>\n",
       "      <td>GS칼텍스</td>\n",
       "      <td>셀프</td>\n",
       "      <td>0</td>\n",
       "      <td>1515</td>\n",
       "      <td>1715</td>\n",
       "      <td>0</td>\n",
       "    </tr>\n",
       "    <tr>\n",
       "      <th>81792</th>\n",
       "      <td>A0009138</td>\n",
       "      <td>서울 중랑구</td>\n",
       "      <td>우림주유소</td>\n",
       "      <td>서울 중랑구 용마산로 487 (망우제3동)</td>\n",
       "      <td>20221231</td>\n",
       "      <td>GS칼텍스</td>\n",
       "      <td>셀프</td>\n",
       "      <td>0</td>\n",
       "      <td>1515</td>\n",
       "      <td>1715</td>\n",
       "      <td>0</td>\n",
       "    </tr>\n",
       "  </tbody>\n",
       "</table>\n",
       "<p>81793 rows × 11 columns</p>\n",
       "</div>"
      ],
      "text/plain": [
       "             번호      지역               상호                       주소        기간  \\\n",
       "0      A0006039  서울 강남구  (유)동하석유 힐탑셀프주유소           서울 강남구 논현로 640  20220701   \n",
       "1      A0006039  서울 강남구  (유)동하석유 힐탑셀프주유소           서울 강남구 논현로 640  20220702   \n",
       "2      A0006039  서울 강남구  (유)동하석유 힐탑셀프주유소           서울 강남구 논현로 640  20220703   \n",
       "3      A0006039  서울 강남구  (유)동하석유 힐탑셀프주유소           서울 강남구 논현로 640  20220704   \n",
       "4      A0006039  서울 강남구  (유)동하석유 힐탑셀프주유소           서울 강남구 논현로 640  20220705   \n",
       "...         ...     ...              ...                      ...       ...   \n",
       "81788  A0009138  서울 중랑구            우림주유소  서울 중랑구 용마산로 487 (망우제3동)  20221227   \n",
       "81789  A0009138  서울 중랑구            우림주유소  서울 중랑구 용마산로 487 (망우제3동)  20221228   \n",
       "81790  A0009138  서울 중랑구            우림주유소  서울 중랑구 용마산로 487 (망우제3동)  20221229   \n",
       "81791  A0009138  서울 중랑구            우림주유소  서울 중랑구 용마산로 487 (망우제3동)  20221230   \n",
       "81792  A0009138  서울 중랑구            우림주유소  서울 중랑구 용마산로 487 (망우제3동)  20221231   \n",
       "\n",
       "          상표 셀프여부  고급휘발유   휘발유    경유  실내등유  \n",
       "0      SK에너지   셀프   2487  2287  2297     0  \n",
       "1      SK에너지   셀프   2447  2247  2277     0  \n",
       "2      SK에너지   셀프   2447  2247  2277     0  \n",
       "3      SK에너지   셀프   2447  2247  2277     0  \n",
       "4      SK에너지   셀프   2447  2247  2277     0  \n",
       "...      ...  ...    ...   ...   ...   ...  \n",
       "81788  GS칼텍스   셀프      0  1525  1745     0  \n",
       "81789  GS칼텍스   셀프      0  1525  1720     0  \n",
       "81790  GS칼텍스   셀프      0  1525  1720     0  \n",
       "81791  GS칼텍스   셀프      0  1515  1715     0  \n",
       "81792  GS칼텍스   셀프      0  1515  1715     0  \n",
       "\n",
       "[81793 rows x 11 columns]"
      ]
     },
     "execution_count": 3,
     "metadata": {},
     "output_type": "execute_result"
    }
   ],
   "source": [
    "df2 = pd.read_csv('data/2022년_서울_하반기_일별_가격.csv', encoding = 'cp949')\n",
    "df2"
   ]
  },
  {
   "cell_type": "code",
   "execution_count": 7,
   "metadata": {
    "ExecuteTime": {
     "end_time": "2022-06-17T04:38:27.371953Z",
     "start_time": "2022-06-17T04:38:27.353003Z"
    },
    "tags": []
   },
   "outputs": [
    {
     "data": {
      "text/plain": [
       "((82689, 11), (81793, 11))"
      ]
     },
     "execution_count": 7,
     "metadata": {},
     "output_type": "execute_result"
    }
   ],
   "source": [
    "# 상반기, 하반기 주유소 가격 데이터 조회\n",
    "df.shape, df2.shape"
   ]
  },
  {
   "cell_type": "code",
   "execution_count": 5,
   "metadata": {
    "ExecuteTime": {
     "end_time": "2022-06-17T04:38:27.371953Z",
     "start_time": "2022-06-17T04:38:27.353003Z"
    },
    "collapsed": true,
    "jupyter": {
     "outputs_hidden": true
    },
    "tags": []
   },
   "outputs": [
    {
     "data": {
      "text/plain": [
       "(       고급휘발유   휘발유    경유  실내등유\n",
       " 0       1887  1737  1587     0\n",
       " 1       1887  1737  1587     0\n",
       " 2       1887  1737  1587     0\n",
       " 3       1887  1737  1587     0\n",
       " 4       1887  1737  1587     0\n",
       " ...      ...   ...   ...   ...\n",
       " 82684   2152  1910  1841     0\n",
       " 82685   2152  1910  1841     0\n",
       " 82686   2152  1910  1841     0\n",
       " 82687   2152  1910  1841     0\n",
       " 82688   2152  1910  1841     0\n",
       " \n",
       " [82689 rows x 4 columns],\n",
       "        고급휘발유   휘발유    경유  실내등유\n",
       " 0       1887  1737  1587     0\n",
       " 1       1887  1737  1587     0\n",
       " 2       1887  1737  1587     0\n",
       " 3       1887  1737  1587     0\n",
       " 4       1887  1737  1587     0\n",
       " ...      ...   ...   ...   ...\n",
       " 82684   2152  1910  1841     0\n",
       " 82685   2152  1910  1841     0\n",
       " 82686   2152  1910  1841     0\n",
       " 82687   2152  1910  1841     0\n",
       " 82688   2152  1910  1841     0\n",
       " \n",
       " [82689 rows x 4 columns])"
      ]
     },
     "execution_count": 5,
     "metadata": {},
     "output_type": "execute_result"
    }
   ],
   "source": [
    "df.filter(like='유') ,df.filter(like='유')"
   ]
  },
  {
   "cell_type": "code",
   "execution_count": 6,
   "metadata": {
    "ExecuteTime": {
     "end_time": "2022-06-17T04:38:27.387910Z",
     "start_time": "2022-06-17T04:38:27.374908Z"
    },
    "tags": []
   },
   "outputs": [],
   "source": [
    "# 상반기, 하반기 DataFrame 합치기"
   ]
  },
  {
   "cell_type": "code",
   "execution_count": 8,
   "metadata": {
    "ExecuteTime": {
     "end_time": "2022-06-17T04:38:27.387910Z",
     "start_time": "2022-06-17T04:38:27.374908Z"
    },
    "collapsed": true,
    "jupyter": {
     "outputs_hidden": true
    },
    "tags": []
   },
   "outputs": [
    {
     "data": {
      "text/html": [
       "<div>\n",
       "<style scoped>\n",
       "    .dataframe tbody tr th:only-of-type {\n",
       "        vertical-align: middle;\n",
       "    }\n",
       "\n",
       "    .dataframe tbody tr th {\n",
       "        vertical-align: top;\n",
       "    }\n",
       "\n",
       "    .dataframe thead th {\n",
       "        text-align: right;\n",
       "    }\n",
       "</style>\n",
       "<table border=\"1\" class=\"dataframe\">\n",
       "  <thead>\n",
       "    <tr style=\"text-align: right;\">\n",
       "      <th></th>\n",
       "      <th>번호</th>\n",
       "      <th>지역</th>\n",
       "      <th>상호</th>\n",
       "      <th>주소</th>\n",
       "      <th>기간</th>\n",
       "      <th>상표</th>\n",
       "      <th>셀프여부</th>\n",
       "      <th>고급휘발유</th>\n",
       "      <th>휘발유</th>\n",
       "      <th>경유</th>\n",
       "      <th>실내등유</th>\n",
       "    </tr>\n",
       "  </thead>\n",
       "  <tbody>\n",
       "    <tr>\n",
       "      <th>0</th>\n",
       "      <td>A0006039</td>\n",
       "      <td>서울 강남구</td>\n",
       "      <td>(유)동하석유 힐탑셀프주유소</td>\n",
       "      <td>서울 강남구 논현로 640</td>\n",
       "      <td>20220101</td>\n",
       "      <td>SK에너지</td>\n",
       "      <td>셀프</td>\n",
       "      <td>1887</td>\n",
       "      <td>1737</td>\n",
       "      <td>1587</td>\n",
       "      <td>0</td>\n",
       "    </tr>\n",
       "    <tr>\n",
       "      <th>1</th>\n",
       "      <td>A0006039</td>\n",
       "      <td>서울 강남구</td>\n",
       "      <td>(유)동하석유 힐탑셀프주유소</td>\n",
       "      <td>서울 강남구 논현로 640</td>\n",
       "      <td>20220102</td>\n",
       "      <td>SK에너지</td>\n",
       "      <td>셀프</td>\n",
       "      <td>1887</td>\n",
       "      <td>1737</td>\n",
       "      <td>1587</td>\n",
       "      <td>0</td>\n",
       "    </tr>\n",
       "    <tr>\n",
       "      <th>2</th>\n",
       "      <td>A0006039</td>\n",
       "      <td>서울 강남구</td>\n",
       "      <td>(유)동하석유 힐탑셀프주유소</td>\n",
       "      <td>서울 강남구 논현로 640</td>\n",
       "      <td>20220103</td>\n",
       "      <td>SK에너지</td>\n",
       "      <td>셀프</td>\n",
       "      <td>1887</td>\n",
       "      <td>1737</td>\n",
       "      <td>1587</td>\n",
       "      <td>0</td>\n",
       "    </tr>\n",
       "    <tr>\n",
       "      <th>3</th>\n",
       "      <td>A0006039</td>\n",
       "      <td>서울 강남구</td>\n",
       "      <td>(유)동하석유 힐탑셀프주유소</td>\n",
       "      <td>서울 강남구 논현로 640</td>\n",
       "      <td>20220104</td>\n",
       "      <td>SK에너지</td>\n",
       "      <td>셀프</td>\n",
       "      <td>1887</td>\n",
       "      <td>1737</td>\n",
       "      <td>1587</td>\n",
       "      <td>0</td>\n",
       "    </tr>\n",
       "    <tr>\n",
       "      <th>4</th>\n",
       "      <td>A0006039</td>\n",
       "      <td>서울 강남구</td>\n",
       "      <td>(유)동하석유 힐탑셀프주유소</td>\n",
       "      <td>서울 강남구 논현로 640</td>\n",
       "      <td>20220105</td>\n",
       "      <td>SK에너지</td>\n",
       "      <td>셀프</td>\n",
       "      <td>1887</td>\n",
       "      <td>1737</td>\n",
       "      <td>1587</td>\n",
       "      <td>0</td>\n",
       "    </tr>\n",
       "    <tr>\n",
       "      <th>...</th>\n",
       "      <td>...</td>\n",
       "      <td>...</td>\n",
       "      <td>...</td>\n",
       "      <td>...</td>\n",
       "      <td>...</td>\n",
       "      <td>...</td>\n",
       "      <td>...</td>\n",
       "      <td>...</td>\n",
       "      <td>...</td>\n",
       "      <td>...</td>\n",
       "      <td>...</td>\n",
       "    </tr>\n",
       "    <tr>\n",
       "      <th>81788</th>\n",
       "      <td>A0009138</td>\n",
       "      <td>서울 중랑구</td>\n",
       "      <td>우림주유소</td>\n",
       "      <td>서울 중랑구 용마산로 487 (망우제3동)</td>\n",
       "      <td>20221227</td>\n",
       "      <td>GS칼텍스</td>\n",
       "      <td>셀프</td>\n",
       "      <td>0</td>\n",
       "      <td>1525</td>\n",
       "      <td>1745</td>\n",
       "      <td>0</td>\n",
       "    </tr>\n",
       "    <tr>\n",
       "      <th>81789</th>\n",
       "      <td>A0009138</td>\n",
       "      <td>서울 중랑구</td>\n",
       "      <td>우림주유소</td>\n",
       "      <td>서울 중랑구 용마산로 487 (망우제3동)</td>\n",
       "      <td>20221228</td>\n",
       "      <td>GS칼텍스</td>\n",
       "      <td>셀프</td>\n",
       "      <td>0</td>\n",
       "      <td>1525</td>\n",
       "      <td>1720</td>\n",
       "      <td>0</td>\n",
       "    </tr>\n",
       "    <tr>\n",
       "      <th>81790</th>\n",
       "      <td>A0009138</td>\n",
       "      <td>서울 중랑구</td>\n",
       "      <td>우림주유소</td>\n",
       "      <td>서울 중랑구 용마산로 487 (망우제3동)</td>\n",
       "      <td>20221229</td>\n",
       "      <td>GS칼텍스</td>\n",
       "      <td>셀프</td>\n",
       "      <td>0</td>\n",
       "      <td>1525</td>\n",
       "      <td>1720</td>\n",
       "      <td>0</td>\n",
       "    </tr>\n",
       "    <tr>\n",
       "      <th>81791</th>\n",
       "      <td>A0009138</td>\n",
       "      <td>서울 중랑구</td>\n",
       "      <td>우림주유소</td>\n",
       "      <td>서울 중랑구 용마산로 487 (망우제3동)</td>\n",
       "      <td>20221230</td>\n",
       "      <td>GS칼텍스</td>\n",
       "      <td>셀프</td>\n",
       "      <td>0</td>\n",
       "      <td>1515</td>\n",
       "      <td>1715</td>\n",
       "      <td>0</td>\n",
       "    </tr>\n",
       "    <tr>\n",
       "      <th>81792</th>\n",
       "      <td>A0009138</td>\n",
       "      <td>서울 중랑구</td>\n",
       "      <td>우림주유소</td>\n",
       "      <td>서울 중랑구 용마산로 487 (망우제3동)</td>\n",
       "      <td>20221231</td>\n",
       "      <td>GS칼텍스</td>\n",
       "      <td>셀프</td>\n",
       "      <td>0</td>\n",
       "      <td>1515</td>\n",
       "      <td>1715</td>\n",
       "      <td>0</td>\n",
       "    </tr>\n",
       "  </tbody>\n",
       "</table>\n",
       "<p>164482 rows × 11 columns</p>\n",
       "</div>"
      ],
      "text/plain": [
       "             번호      지역               상호                       주소        기간  \\\n",
       "0      A0006039  서울 강남구  (유)동하석유 힐탑셀프주유소           서울 강남구 논현로 640  20220101   \n",
       "1      A0006039  서울 강남구  (유)동하석유 힐탑셀프주유소           서울 강남구 논현로 640  20220102   \n",
       "2      A0006039  서울 강남구  (유)동하석유 힐탑셀프주유소           서울 강남구 논현로 640  20220103   \n",
       "3      A0006039  서울 강남구  (유)동하석유 힐탑셀프주유소           서울 강남구 논현로 640  20220104   \n",
       "4      A0006039  서울 강남구  (유)동하석유 힐탑셀프주유소           서울 강남구 논현로 640  20220105   \n",
       "...         ...     ...              ...                      ...       ...   \n",
       "81788  A0009138  서울 중랑구            우림주유소  서울 중랑구 용마산로 487 (망우제3동)  20221227   \n",
       "81789  A0009138  서울 중랑구            우림주유소  서울 중랑구 용마산로 487 (망우제3동)  20221228   \n",
       "81790  A0009138  서울 중랑구            우림주유소  서울 중랑구 용마산로 487 (망우제3동)  20221229   \n",
       "81791  A0009138  서울 중랑구            우림주유소  서울 중랑구 용마산로 487 (망우제3동)  20221230   \n",
       "81792  A0009138  서울 중랑구            우림주유소  서울 중랑구 용마산로 487 (망우제3동)  20221231   \n",
       "\n",
       "          상표 셀프여부  고급휘발유   휘발유    경유  실내등유  \n",
       "0      SK에너지   셀프   1887  1737  1587     0  \n",
       "1      SK에너지   셀프   1887  1737  1587     0  \n",
       "2      SK에너지   셀프   1887  1737  1587     0  \n",
       "3      SK에너지   셀프   1887  1737  1587     0  \n",
       "4      SK에너지   셀프   1887  1737  1587     0  \n",
       "...      ...  ...    ...   ...   ...   ...  \n",
       "81788  GS칼텍스   셀프      0  1525  1745     0  \n",
       "81789  GS칼텍스   셀프      0  1525  1720     0  \n",
       "81790  GS칼텍스   셀프      0  1525  1720     0  \n",
       "81791  GS칼텍스   셀프      0  1515  1715     0  \n",
       "81792  GS칼텍스   셀프      0  1515  1715     0  \n",
       "\n",
       "[164482 rows x 11 columns]"
      ]
     },
     "execution_count": 8,
     "metadata": {},
     "output_type": "execute_result"
    }
   ],
   "source": [
    "result = pd.concat([df, df2])\n",
    "result"
   ]
  },
  {
   "cell_type": "code",
   "execution_count": 8,
   "metadata": {
    "ExecuteTime": {
     "end_time": "2022-06-17T04:38:27.403867Z",
     "start_time": "2022-06-17T04:38:27.390875Z"
    },
    "collapsed": true,
    "jupyter": {
     "outputs_hidden": true
    },
    "tags": []
   },
   "outputs": [
    {
     "data": {
      "text/plain": [
       "<bound method DataFrame.info of              번호      지역               상호                       주소        기간  \\\n",
       "0      A0006039  서울 강남구  (유)동하석유 힐탑셀프주유소           서울 강남구 논현로 640  20220101   \n",
       "1      A0006039  서울 강남구  (유)동하석유 힐탑셀프주유소           서울 강남구 논현로 640  20220102   \n",
       "2      A0006039  서울 강남구  (유)동하석유 힐탑셀프주유소           서울 강남구 논현로 640  20220103   \n",
       "3      A0006039  서울 강남구  (유)동하석유 힐탑셀프주유소           서울 강남구 논현로 640  20220104   \n",
       "4      A0006039  서울 강남구  (유)동하석유 힐탑셀프주유소           서울 강남구 논현로 640  20220105   \n",
       "...         ...     ...              ...                      ...       ...   \n",
       "81788  A0009138  서울 중랑구            우림주유소  서울 중랑구 용마산로 487 (망우제3동)  20221227   \n",
       "81789  A0009138  서울 중랑구            우림주유소  서울 중랑구 용마산로 487 (망우제3동)  20221228   \n",
       "81790  A0009138  서울 중랑구            우림주유소  서울 중랑구 용마산로 487 (망우제3동)  20221229   \n",
       "81791  A0009138  서울 중랑구            우림주유소  서울 중랑구 용마산로 487 (망우제3동)  20221230   \n",
       "81792  A0009138  서울 중랑구            우림주유소  서울 중랑구 용마산로 487 (망우제3동)  20221231   \n",
       "\n",
       "          상표 셀프여부  고급휘발유   휘발유    경유  실내등유  \n",
       "0      SK에너지   셀프   1887  1737  1587     0  \n",
       "1      SK에너지   셀프   1887  1737  1587     0  \n",
       "2      SK에너지   셀프   1887  1737  1587     0  \n",
       "3      SK에너지   셀프   1887  1737  1587     0  \n",
       "4      SK에너지   셀프   1887  1737  1587     0  \n",
       "...      ...  ...    ...   ...   ...   ...  \n",
       "81788  GS칼텍스   셀프      0  1525  1745     0  \n",
       "81789  GS칼텍스   셀프      0  1525  1720     0  \n",
       "81790  GS칼텍스   셀프      0  1525  1720     0  \n",
       "81791  GS칼텍스   셀프      0  1515  1715     0  \n",
       "81792  GS칼텍스   셀프      0  1515  1715     0  \n",
       "\n",
       "[164482 rows x 11 columns]>"
      ]
     },
     "execution_count": 8,
     "metadata": {},
     "output_type": "execute_result"
    }
   ],
   "source": [
    "# DataFrame 기본 정보 조회\n",
    "result.info"
   ]
  },
  {
   "cell_type": "code",
   "execution_count": 10,
   "metadata": {
    "ExecuteTime": {
     "end_time": "2022-06-17T04:38:27.419791Z",
     "start_time": "2022-06-17T04:38:27.407821Z"
    },
    "tags": []
   },
   "outputs": [
    {
     "data": {
      "text/plain": [
       "array(['SK에너지', 'GS칼텍스', '현대오일뱅크', 'S-OIL', '알뜰주유소', '자가상표', '알뜰(ex)'],\n",
       "      dtype=object)"
      ]
     },
     "execution_count": 10,
     "metadata": {},
     "output_type": "execute_result"
    }
   ],
   "source": [
    "# 상표 컬럼의 고유값 조회\n",
    "result['상표'].unique()"
   ]
  },
  {
   "cell_type": "code",
   "execution_count": 15,
   "metadata": {
    "collapsed": true,
    "jupyter": {
     "outputs_hidden": true
    },
    "tags": []
   },
   "outputs": [
    {
     "data": {
      "text/plain": [
       "상표\n",
       "SK에너지     48267\n",
       "현대오일뱅크    42351\n",
       "GS칼텍스     40449\n",
       "S-OIL     28762\n",
       "알뜰주유소      3551\n",
       "자가상표        737\n",
       "알뜰(ex)      365\n",
       "Name: count, dtype: int64"
      ]
     },
     "execution_count": 15,
     "metadata": {},
     "output_type": "execute_result"
    }
   ],
   "source": [
    "result['상표'].value_counts()"
   ]
  },
  {
   "cell_type": "code",
   "execution_count": 18,
   "metadata": {
    "tags": []
   },
   "outputs": [
    {
     "data": {
      "text/plain": [
       "상표\n",
       "SK에너지     0.293449\n",
       "현대오일뱅크    0.257481\n",
       "GS칼텍스     0.245917\n",
       "S-OIL     0.174864\n",
       "알뜰주유소     0.021589\n",
       "자가상표      0.004481\n",
       "알뜰(ex)    0.002219\n",
       "Name: proportion, dtype: float64"
      ]
     },
     "execution_count": 18,
     "metadata": {},
     "output_type": "execute_result"
    }
   ],
   "source": [
    "result['상표'].value_counts(normalize=True)"
   ]
  },
  {
   "cell_type": "code",
   "execution_count": 22,
   "metadata": {
    "ExecuteTime": {
     "end_time": "2022-06-17T04:38:27.435783Z",
     "start_time": "2022-06-17T04:38:27.422780Z"
    },
    "tags": []
   },
   "outputs": [
    {
     "data": {
      "text/plain": [
       "지역\n",
       "서울 강남구     0.074646\n",
       "서울 강서구     0.071892\n",
       "서울 송파구     0.068670\n",
       "서울 서초구     0.068281\n",
       "서울 영등포구    0.059666\n",
       "서울 양천구     0.054808\n",
       "서울 성북구     0.051811\n",
       "서울 구로구     0.044892\n",
       "서울 동대문구    0.039968\n",
       "서울 성동구     0.036515\n",
       "서울 도봉구     0.036430\n",
       "서울 은평구     0.035305\n",
       "서울 노원구     0.033280\n",
       "서울 서대문구    0.033268\n",
       "서울 강동구     0.031067\n",
       "서울 광진구     0.031049\n",
       "서울 관악구     0.031031\n",
       "서울 중랑구     0.029626\n",
       "서울 용산구     0.028192\n",
       "서울 강북구     0.027115\n",
       "서울 마포구     0.026599\n",
       "서울 금천구     0.024726\n",
       "서울 중구      0.022148\n",
       "서울 동작구     0.020890\n",
       "서울 종로구     0.018124\n",
       "Name: proportion, dtype: float64"
      ]
     },
     "execution_count": 22,
     "metadata": {},
     "output_type": "execute_result"
    }
   ],
   "source": [
    "# 지역 컬럼의 고유값 value_countssult[['지역']]\n",
    "result['지역'].value_counts(normalize = True)"
   ]
  },
  {
   "cell_type": "markdown",
   "metadata": {},
   "source": [
    "> ### str accessor\n",
    "> - `Series.str.String메소드()`\n",
    "> - 문자열 타입 Series에 String 메소드들을 사용하여 일괄처리 할 수 있도록 한다.\n",
    "> - str accessor 메소드 : https://pandas.pydata.org/pandas-docs/stable/reference/series.html#api-series-str\n",
    "\n",
    "> ### datetime으로 변환\n",
    "> - `pd.to_datetime(변환할 Series, format=\"날짜형식\")`\n",
    "> - x 또는 y 축이 날짜 일 경우 datetime 타입으로 처리하는 것이 좋다.\n",
    "> - format: 년월일의 형식을 strftime 형식문자열로 지정한다. \n",
    ">      - [strftime 형식](https://docs.python.org/3/library/datetime.html#strftime-and-strptime-format-codes)  \n",
    "> - datetime을 변환하면 날짜만의 기능을 다룰 수 있다.\n",
    ">     - dt accessor를 이용해 datetime의 속성값들을(년, 월, 일 등) 추출할 수 있다.\n",
    ">     - https://pandas.pydata.org/pandas-docs/stable/reference/api/pandas.Series.dt.html\n"
   ]
  },
  {
   "cell_type": "code",
   "execution_count": 26,
   "metadata": {
    "tags": []
   },
   "outputs": [],
   "source": [
    "y = pd.to_datetime(result['기간'], format='%Y%m%d')\n"
   ]
  },
  {
   "cell_type": "code",
   "execution_count": 29,
   "metadata": {
    "tags": []
   },
   "outputs": [
    {
     "data": {
      "text/plain": [
       "'강남구'"
      ]
     },
     "execution_count": 29,
     "metadata": {},
     "output_type": "execute_result"
    }
   ],
   "source": [
    "'서울 강남구'.split()[1]"
   ]
  },
  {
   "cell_type": "code",
   "execution_count": 31,
   "metadata": {
    "tags": []
   },
   "outputs": [
    {
     "data": {
      "text/plain": [
       "'강남구'"
      ]
     },
     "execution_count": 31,
     "metadata": {},
     "output_type": "execute_result"
    }
   ],
   "source": [
    "'서울 강남구'[3:]"
   ]
  },
  {
   "cell_type": "code",
   "execution_count": null,
   "metadata": {
    "tags": []
   },
   "outputs": [],
   "source": [
    "df['바꾼기간'] = k"
   ]
  },
  {
   "cell_type": "code",
   "execution_count": null,
   "metadata": {
    "tags": []
   },
   "outputs": [],
   "source": [
    "result['월'] = df['바꾼기간'].dt.month"
   ]
  },
  {
   "cell_type": "code",
   "execution_count": null,
   "metadata": {
    "tags": []
   },
   "outputs": [],
   "source": [
    "result['일'] = df['바꾼기간'].dt.day"
   ]
  },
  {
   "cell_type": "code",
   "execution_count": null,
   "metadata": {
    "tags": []
   },
   "outputs": [],
   "source": [
    "result"
   ]
  },
  {
   "cell_type": "code",
   "execution_count": 32,
   "metadata": {
    "ExecuteTime": {
     "end_time": "2022-06-17T04:38:27.451702Z",
     "start_time": "2022-06-17T04:38:27.438737Z"
    },
    "tags": []
   },
   "outputs": [
    {
     "data": {
      "text/plain": [
       "'강남구'"
      ]
     },
     "execution_count": 32,
     "metadata": {},
     "output_type": "execute_result"
    }
   ],
   "source": [
    "# 지역 컬럼의 값을 이용하여 \"구\" 컬럼 생성 (지역에서 구만 추출해서 파생변수컬럼 생성)\n",
    "'서울 강남구'.split()[1]"
   ]
  },
  {
   "cell_type": "code",
   "execution_count": null,
   "metadata": {},
   "outputs": [],
   "source": []
  },
  {
   "cell_type": "code",
   "execution_count": 33,
   "metadata": {
    "ExecuteTime": {
     "end_time": "2022-06-17T04:38:27.467660Z",
     "start_time": "2022-06-17T04:38:27.454702Z"
    },
    "tags": []
   },
   "outputs": [
    {
     "data": {
      "text/plain": [
       "0       2022-01-01\n",
       "1       2022-01-02\n",
       "2       2022-01-03\n",
       "3       2022-01-04\n",
       "4       2022-01-05\n",
       "           ...    \n",
       "82684   2022-05-07\n",
       "82685   2022-05-08\n",
       "82686   2022-05-09\n",
       "82687   2022-05-10\n",
       "82688   2022-05-11\n",
       "Name: 기간, Length: 82689, dtype: datetime64[ns]"
      ]
     },
     "execution_count": 33,
     "metadata": {},
     "output_type": "execute_result"
    }
   ],
   "source": [
    "# 기간 컬럼을 datetime 타입으로 변경\n",
    "k = pd.to_datetime(df['기간'], format = '%Y%m%d')\n",
    "k"
   ]
  },
  {
   "cell_type": "code",
   "execution_count": 41,
   "metadata": {
    "ExecuteTime": {
     "end_time": "2022-06-17T04:38:27.483617Z",
     "start_time": "2022-06-17T04:38:27.470653Z"
    },
    "tags": []
   },
   "outputs": [
    {
     "data": {
      "text/plain": [
       "0         1\n",
       "1         2\n",
       "2         3\n",
       "3         4\n",
       "4         5\n",
       "         ..\n",
       "82684     7\n",
       "82685     8\n",
       "82686     9\n",
       "82687    10\n",
       "82688    11\n",
       "Name: 기간, Length: 82689, dtype: int32"
      ]
     },
     "execution_count": 41,
     "metadata": {},
     "output_type": "execute_result"
    }
   ],
   "source": [
    "# 기간 컬럼을 이용해 \"월\", \"일\", \"요일\" 컬럼 생성 (dt accessor 이용)\n",
    "m = k.dt.month\n",
    "k.dt.day"
   ]
  },
  {
   "cell_type": "code",
   "execution_count": 46,
   "metadata": {
    "ExecuteTime": {
     "end_time": "2022-06-17T04:38:27.499576Z",
     "start_time": "2022-06-17T04:38:27.486611Z"
    },
    "tags": []
   },
   "outputs": [
    {
     "data": {
      "text/plain": [
       "0        토요일\n",
       "1        일요일\n",
       "2        월요일\n",
       "3        화요일\n",
       "4        수요일\n",
       "        ... \n",
       "81788    일요일\n",
       "81789    월요일\n",
       "81790    화요일\n",
       "81791    수요일\n",
       "81792    목요일\n",
       "Name: 요일, Length: 164482, dtype: object"
      ]
     },
     "execution_count": 46,
     "metadata": {},
     "output_type": "execute_result"
    }
   ],
   "source": [
    "# 요일 - 0:월, 1:화, 2:수, 3:목, 4:금, 5:토, 6:일 로 변경\n",
    "result['요일'] = k.dt.weekday\n",
    "result['요일'].apply(lambda x : '월화수목금토일'[x]+\"요일\")"
   ]
  },
  {
   "cell_type": "code",
   "execution_count": 44,
   "metadata": {
    "tags": []
   },
   "outputs": [
    {
     "name": "stdout",
     "output_type": "stream",
     "text": [
      "수\n"
     ]
    }
   ],
   "source": [
    "a = '월화수목금토일'[2]\n",
    "print(a)"
   ]
  },
  {
   "cell_type": "code",
   "execution_count": 58,
   "metadata": {
    "ExecuteTime": {
     "end_time": "2022-06-17T04:38:27.515547Z",
     "start_time": "2022-06-17T04:38:27.505561Z"
    },
    "tags": []
   },
   "outputs": [
    {
     "data": {
      "text/html": [
       "<div>\n",
       "<style scoped>\n",
       "    .dataframe tbody tr th:only-of-type {\n",
       "        vertical-align: middle;\n",
       "    }\n",
       "\n",
       "    .dataframe tbody tr th {\n",
       "        vertical-align: top;\n",
       "    }\n",
       "\n",
       "    .dataframe thead th {\n",
       "        text-align: right;\n",
       "    }\n",
       "</style>\n",
       "<table border=\"1\" class=\"dataframe\">\n",
       "  <thead>\n",
       "    <tr style=\"text-align: right;\">\n",
       "      <th></th>\n",
       "      <th>번호</th>\n",
       "      <th>지역</th>\n",
       "      <th>상호</th>\n",
       "      <th>주소</th>\n",
       "      <th>기간</th>\n",
       "      <th>상표</th>\n",
       "      <th>셀프여부</th>\n",
       "      <th>고급휘발유</th>\n",
       "      <th>휘발유</th>\n",
       "      <th>경유</th>\n",
       "      <th>실내등유</th>\n",
       "      <th>요일</th>\n",
       "    </tr>\n",
       "  </thead>\n",
       "  <tbody>\n",
       "    <tr>\n",
       "      <th>78935</th>\n",
       "      <td>A0000767</td>\n",
       "      <td>서울 중구</td>\n",
       "      <td>서남주유소</td>\n",
       "      <td>서울 중구 통일로 30</td>\n",
       "      <td>20220622</td>\n",
       "      <td>SK에너지</td>\n",
       "      <td>일반</td>\n",
       "      <td>3496</td>\n",
       "      <td>3096</td>\n",
       "      <td>3223</td>\n",
       "      <td>2719</td>\n",
       "      <td>2</td>\n",
       "    </tr>\n",
       "    <tr>\n",
       "      <th>78939</th>\n",
       "      <td>A0000767</td>\n",
       "      <td>서울 중구</td>\n",
       "      <td>서남주유소</td>\n",
       "      <td>서울 중구 통일로 30</td>\n",
       "      <td>20220626</td>\n",
       "      <td>SK에너지</td>\n",
       "      <td>일반</td>\n",
       "      <td>3496</td>\n",
       "      <td>3096</td>\n",
       "      <td>3223</td>\n",
       "      <td>2719</td>\n",
       "      <td>6</td>\n",
       "    </tr>\n",
       "    <tr>\n",
       "      <th>78937</th>\n",
       "      <td>A0000767</td>\n",
       "      <td>서울 중구</td>\n",
       "      <td>서남주유소</td>\n",
       "      <td>서울 중구 통일로 30</td>\n",
       "      <td>20220624</td>\n",
       "      <td>SK에너지</td>\n",
       "      <td>일반</td>\n",
       "      <td>3496</td>\n",
       "      <td>3096</td>\n",
       "      <td>3223</td>\n",
       "      <td>2719</td>\n",
       "      <td>4</td>\n",
       "    </tr>\n",
       "    <tr>\n",
       "      <th>78936</th>\n",
       "      <td>A0000767</td>\n",
       "      <td>서울 중구</td>\n",
       "      <td>서남주유소</td>\n",
       "      <td>서울 중구 통일로 30</td>\n",
       "      <td>20220623</td>\n",
       "      <td>SK에너지</td>\n",
       "      <td>일반</td>\n",
       "      <td>3496</td>\n",
       "      <td>3096</td>\n",
       "      <td>3223</td>\n",
       "      <td>2719</td>\n",
       "      <td>3</td>\n",
       "    </tr>\n",
       "    <tr>\n",
       "      <th>78940</th>\n",
       "      <td>A0000767</td>\n",
       "      <td>서울 중구</td>\n",
       "      <td>서남주유소</td>\n",
       "      <td>서울 중구 통일로 30</td>\n",
       "      <td>20220627</td>\n",
       "      <td>SK에너지</td>\n",
       "      <td>일반</td>\n",
       "      <td>3496</td>\n",
       "      <td>3096</td>\n",
       "      <td>3223</td>\n",
       "      <td>2719</td>\n",
       "      <td>0</td>\n",
       "    </tr>\n",
       "  </tbody>\n",
       "</table>\n",
       "</div>"
      ],
      "text/plain": [
       "             번호     지역     상호            주소        기간     상표 셀프여부  고급휘발유  \\\n",
       "78935  A0000767  서울 중구  서남주유소  서울 중구 통일로 30  20220622  SK에너지   일반   3496   \n",
       "78939  A0000767  서울 중구  서남주유소  서울 중구 통일로 30  20220626  SK에너지   일반   3496   \n",
       "78937  A0000767  서울 중구  서남주유소  서울 중구 통일로 30  20220624  SK에너지   일반   3496   \n",
       "78936  A0000767  서울 중구  서남주유소  서울 중구 통일로 30  20220623  SK에너지   일반   3496   \n",
       "78940  A0000767  서울 중구  서남주유소  서울 중구 통일로 30  20220627  SK에너지   일반   3496   \n",
       "\n",
       "        휘발유    경유  실내등유  요일  \n",
       "78935  3096  3223  2719   2  \n",
       "78939  3096  3223  2719   6  \n",
       "78937  3096  3223  2719   4  \n",
       "78936  3096  3223  2719   3  \n",
       "78940  3096  3223  2719   0  "
      ]
     },
     "execution_count": 58,
     "metadata": {},
     "output_type": "execute_result"
    }
   ],
   "source": [
    "# 휘발유 가격이 가장 비싼 5개 행 조회\n",
    "result.sort_values('휘발유', ascending= False).head()"
   ]
  },
  {
   "cell_type": "code",
   "execution_count": 75,
   "metadata": {
    "collapsed": true,
    "jupyter": {
     "outputs_hidden": true
    },
    "tags": []
   },
   "outputs": [
    {
     "data": {
      "text/html": [
       "<div>\n",
       "<style scoped>\n",
       "    .dataframe tbody tr th:only-of-type {\n",
       "        vertical-align: middle;\n",
       "    }\n",
       "\n",
       "    .dataframe tbody tr th {\n",
       "        vertical-align: top;\n",
       "    }\n",
       "\n",
       "    .dataframe thead th {\n",
       "        text-align: right;\n",
       "    }\n",
       "</style>\n",
       "<table border=\"1\" class=\"dataframe\">\n",
       "  <thead>\n",
       "    <tr style=\"text-align: right;\">\n",
       "      <th></th>\n",
       "      <th>번호</th>\n",
       "      <th>지역</th>\n",
       "      <th>상호</th>\n",
       "      <th>주소</th>\n",
       "      <th>기간</th>\n",
       "      <th>상표</th>\n",
       "      <th>셀프여부</th>\n",
       "      <th>고급휘발유</th>\n",
       "      <th>휘발유</th>\n",
       "      <th>경유</th>\n",
       "      <th>실내등유</th>\n",
       "      <th>요일</th>\n",
       "    </tr>\n",
       "  </thead>\n",
       "  <tbody>\n",
       "    <tr>\n",
       "      <th>78935</th>\n",
       "      <td>A0000767</td>\n",
       "      <td>서울 중구</td>\n",
       "      <td>서남주유소</td>\n",
       "      <td>서울 중구 통일로 30</td>\n",
       "      <td>20220622</td>\n",
       "      <td>SK에너지</td>\n",
       "      <td>일반</td>\n",
       "      <td>3496</td>\n",
       "      <td>3096</td>\n",
       "      <td>3223</td>\n",
       "      <td>2719</td>\n",
       "      <td>2</td>\n",
       "    </tr>\n",
       "    <tr>\n",
       "      <th>78936</th>\n",
       "      <td>A0000767</td>\n",
       "      <td>서울 중구</td>\n",
       "      <td>서남주유소</td>\n",
       "      <td>서울 중구 통일로 30</td>\n",
       "      <td>20220623</td>\n",
       "      <td>SK에너지</td>\n",
       "      <td>일반</td>\n",
       "      <td>3496</td>\n",
       "      <td>3096</td>\n",
       "      <td>3223</td>\n",
       "      <td>2719</td>\n",
       "      <td>3</td>\n",
       "    </tr>\n",
       "    <tr>\n",
       "      <th>78937</th>\n",
       "      <td>A0000767</td>\n",
       "      <td>서울 중구</td>\n",
       "      <td>서남주유소</td>\n",
       "      <td>서울 중구 통일로 30</td>\n",
       "      <td>20220624</td>\n",
       "      <td>SK에너지</td>\n",
       "      <td>일반</td>\n",
       "      <td>3496</td>\n",
       "      <td>3096</td>\n",
       "      <td>3223</td>\n",
       "      <td>2719</td>\n",
       "      <td>4</td>\n",
       "    </tr>\n",
       "    <tr>\n",
       "      <th>78938</th>\n",
       "      <td>A0000767</td>\n",
       "      <td>서울 중구</td>\n",
       "      <td>서남주유소</td>\n",
       "      <td>서울 중구 통일로 30</td>\n",
       "      <td>20220625</td>\n",
       "      <td>SK에너지</td>\n",
       "      <td>일반</td>\n",
       "      <td>3496</td>\n",
       "      <td>3096</td>\n",
       "      <td>3223</td>\n",
       "      <td>2719</td>\n",
       "      <td>5</td>\n",
       "    </tr>\n",
       "    <tr>\n",
       "      <th>78939</th>\n",
       "      <td>A0000767</td>\n",
       "      <td>서울 중구</td>\n",
       "      <td>서남주유소</td>\n",
       "      <td>서울 중구 통일로 30</td>\n",
       "      <td>20220626</td>\n",
       "      <td>SK에너지</td>\n",
       "      <td>일반</td>\n",
       "      <td>3496</td>\n",
       "      <td>3096</td>\n",
       "      <td>3223</td>\n",
       "      <td>2719</td>\n",
       "      <td>6</td>\n",
       "    </tr>\n",
       "    <tr>\n",
       "      <th>...</th>\n",
       "      <td>...</td>\n",
       "      <td>...</td>\n",
       "      <td>...</td>\n",
       "      <td>...</td>\n",
       "      <td>...</td>\n",
       "      <td>...</td>\n",
       "      <td>...</td>\n",
       "      <td>...</td>\n",
       "      <td>...</td>\n",
       "      <td>...</td>\n",
       "      <td>...</td>\n",
       "      <td>...</td>\n",
       "    </tr>\n",
       "    <tr>\n",
       "      <th>65744</th>\n",
       "      <td>A0001005</td>\n",
       "      <td>서울 양천구</td>\n",
       "      <td>현대주유소</td>\n",
       "      <td>서울 양천구 남부순환로 372 (신월동)</td>\n",
       "      <td>20221226</td>\n",
       "      <td>S-OIL</td>\n",
       "      <td>셀프</td>\n",
       "      <td>0</td>\n",
       "      <td>1410</td>\n",
       "      <td>1660</td>\n",
       "      <td>0</td>\n",
       "      <td>0</td>\n",
       "    </tr>\n",
       "    <tr>\n",
       "      <th>15153</th>\n",
       "      <td>A0000549</td>\n",
       "      <td>서울 강서구</td>\n",
       "      <td>이케이에너지(주) 강서주유소</td>\n",
       "      <td>서울 강서구 화곡로 273 (화곡동)</td>\n",
       "      <td>20221227</td>\n",
       "      <td>현대오일뱅크</td>\n",
       "      <td>셀프</td>\n",
       "      <td>0</td>\n",
       "      <td>1410</td>\n",
       "      <td>1660</td>\n",
       "      <td>0</td>\n",
       "      <td>0</td>\n",
       "    </tr>\n",
       "    <tr>\n",
       "      <th>16809</th>\n",
       "      <td>A0000519</td>\n",
       "      <td>서울 강서구</td>\n",
       "      <td>화곡역주유소</td>\n",
       "      <td>서울 강서구 강서로 154 (화곡동)</td>\n",
       "      <td>20221227</td>\n",
       "      <td>알뜰주유소</td>\n",
       "      <td>셀프</td>\n",
       "      <td>0</td>\n",
       "      <td>1410</td>\n",
       "      <td>1660</td>\n",
       "      <td>0</td>\n",
       "      <td>6</td>\n",
       "    </tr>\n",
       "    <tr>\n",
       "      <th>65745</th>\n",
       "      <td>A0001005</td>\n",
       "      <td>서울 양천구</td>\n",
       "      <td>현대주유소</td>\n",
       "      <td>서울 양천구 남부순환로 372 (신월동)</td>\n",
       "      <td>20221227</td>\n",
       "      <td>S-OIL</td>\n",
       "      <td>셀프</td>\n",
       "      <td>0</td>\n",
       "      <td>1410</td>\n",
       "      <td>1660</td>\n",
       "      <td>0</td>\n",
       "      <td>1</td>\n",
       "    </tr>\n",
       "    <tr>\n",
       "      <th>65746</th>\n",
       "      <td>A0001005</td>\n",
       "      <td>서울 양천구</td>\n",
       "      <td>현대주유소</td>\n",
       "      <td>서울 양천구 남부순환로 372 (신월동)</td>\n",
       "      <td>20221228</td>\n",
       "      <td>S-OIL</td>\n",
       "      <td>셀프</td>\n",
       "      <td>0</td>\n",
       "      <td>1410</td>\n",
       "      <td>1660</td>\n",
       "      <td>0</td>\n",
       "      <td>2</td>\n",
       "    </tr>\n",
       "  </tbody>\n",
       "</table>\n",
       "<p>164181 rows × 12 columns</p>\n",
       "</div>"
      ],
      "text/plain": [
       "             번호      지역               상호                      주소        기간  \\\n",
       "78935  A0000767   서울 중구            서남주유소            서울 중구 통일로 30  20220622   \n",
       "78936  A0000767   서울 중구            서남주유소            서울 중구 통일로 30  20220623   \n",
       "78937  A0000767   서울 중구            서남주유소            서울 중구 통일로 30  20220624   \n",
       "78938  A0000767   서울 중구            서남주유소            서울 중구 통일로 30  20220625   \n",
       "78939  A0000767   서울 중구            서남주유소            서울 중구 통일로 30  20220626   \n",
       "...         ...     ...              ...                     ...       ...   \n",
       "65744  A0001005  서울 양천구            현대주유소  서울 양천구 남부순환로 372 (신월동)  20221226   \n",
       "15153  A0000549  서울 강서구  이케이에너지(주) 강서주유소    서울 강서구 화곡로 273 (화곡동)  20221227   \n",
       "16809  A0000519  서울 강서구           화곡역주유소    서울 강서구 강서로 154 (화곡동)  20221227   \n",
       "65745  A0001005  서울 양천구            현대주유소  서울 양천구 남부순환로 372 (신월동)  20221227   \n",
       "65746  A0001005  서울 양천구            현대주유소  서울 양천구 남부순환로 372 (신월동)  20221228   \n",
       "\n",
       "           상표 셀프여부  고급휘발유   휘발유    경유  실내등유  요일  \n",
       "78935   SK에너지   일반   3496  3096  3223  2719   2  \n",
       "78936   SK에너지   일반   3496  3096  3223  2719   3  \n",
       "78937   SK에너지   일반   3496  3096  3223  2719   4  \n",
       "78938   SK에너지   일반   3496  3096  3223  2719   5  \n",
       "78939   SK에너지   일반   3496  3096  3223  2719   6  \n",
       "...       ...  ...    ...   ...   ...   ...  ..  \n",
       "65744   S-OIL   셀프      0  1410  1660     0   0  \n",
       "15153  현대오일뱅크   셀프      0  1410  1660     0   0  \n",
       "16809   알뜰주유소   셀프      0  1410  1660     0   6  \n",
       "65745   S-OIL   셀프      0  1410  1660     0   1  \n",
       "65746   S-OIL   셀프      0  1410  1660     0   2  \n",
       "\n",
       "[164181 rows x 12 columns]"
      ]
     },
     "execution_count": 75,
     "metadata": {},
     "output_type": "execute_result"
    }
   ],
   "source": [
    "new = result[result['휘발유']>0]\n",
    "new.sort_values(['휘발유', '기간'], ascending = [False, True])"
   ]
  },
  {
   "cell_type": "code",
   "execution_count": 76,
   "metadata": {
    "ExecuteTime": {
     "end_time": "2022-06-17T04:38:27.531491Z",
     "start_time": "2022-06-17T04:38:27.520519Z"
    },
    "collapsed": true,
    "jupyter": {
     "outputs_hidden": true
    },
    "tags": []
   },
   "outputs": [
    {
     "data": {
      "text/html": [
       "<div>\n",
       "<style scoped>\n",
       "    .dataframe tbody tr th:only-of-type {\n",
       "        vertical-align: middle;\n",
       "    }\n",
       "\n",
       "    .dataframe tbody tr th {\n",
       "        vertical-align: top;\n",
       "    }\n",
       "\n",
       "    .dataframe thead th {\n",
       "        text-align: right;\n",
       "    }\n",
       "</style>\n",
       "<table border=\"1\" class=\"dataframe\">\n",
       "  <thead>\n",
       "    <tr style=\"text-align: right;\">\n",
       "      <th></th>\n",
       "      <th>번호</th>\n",
       "      <th>지역</th>\n",
       "      <th>상호</th>\n",
       "      <th>주소</th>\n",
       "      <th>기간</th>\n",
       "      <th>상표</th>\n",
       "      <th>셀프여부</th>\n",
       "      <th>고급휘발유</th>\n",
       "      <th>휘발유</th>\n",
       "      <th>경유</th>\n",
       "      <th>실내등유</th>\n",
       "      <th>요일</th>\n",
       "    </tr>\n",
       "  </thead>\n",
       "  <tbody>\n",
       "    <tr>\n",
       "      <th>16809</th>\n",
       "      <td>A0000519</td>\n",
       "      <td>서울 강서구</td>\n",
       "      <td>화곡역주유소</td>\n",
       "      <td>서울 강서구 강서로 154 (화곡동)</td>\n",
       "      <td>20221227</td>\n",
       "      <td>알뜰주유소</td>\n",
       "      <td>셀프</td>\n",
       "      <td>0</td>\n",
       "      <td>1410</td>\n",
       "      <td>1660</td>\n",
       "      <td>0</td>\n",
       "      <td>6</td>\n",
       "    </tr>\n",
       "    <tr>\n",
       "      <th>15150</th>\n",
       "      <td>A0000549</td>\n",
       "      <td>서울 강서구</td>\n",
       "      <td>이케이에너지(주) 강서주유소</td>\n",
       "      <td>서울 강서구 화곡로 273 (화곡동)</td>\n",
       "      <td>20221224</td>\n",
       "      <td>현대오일뱅크</td>\n",
       "      <td>셀프</td>\n",
       "      <td>0</td>\n",
       "      <td>1410</td>\n",
       "      <td>1660</td>\n",
       "      <td>0</td>\n",
       "      <td>4</td>\n",
       "    </tr>\n",
       "    <tr>\n",
       "      <th>15151</th>\n",
       "      <td>A0000549</td>\n",
       "      <td>서울 강서구</td>\n",
       "      <td>이케이에너지(주) 강서주유소</td>\n",
       "      <td>서울 강서구 화곡로 273 (화곡동)</td>\n",
       "      <td>20221225</td>\n",
       "      <td>현대오일뱅크</td>\n",
       "      <td>셀프</td>\n",
       "      <td>0</td>\n",
       "      <td>1410</td>\n",
       "      <td>1660</td>\n",
       "      <td>0</td>\n",
       "      <td>5</td>\n",
       "    </tr>\n",
       "    <tr>\n",
       "      <th>65744</th>\n",
       "      <td>A0001005</td>\n",
       "      <td>서울 양천구</td>\n",
       "      <td>현대주유소</td>\n",
       "      <td>서울 양천구 남부순환로 372 (신월동)</td>\n",
       "      <td>20221226</td>\n",
       "      <td>S-OIL</td>\n",
       "      <td>셀프</td>\n",
       "      <td>0</td>\n",
       "      <td>1410</td>\n",
       "      <td>1660</td>\n",
       "      <td>0</td>\n",
       "      <td>0</td>\n",
       "    </tr>\n",
       "    <tr>\n",
       "      <th>15149</th>\n",
       "      <td>A0000549</td>\n",
       "      <td>서울 강서구</td>\n",
       "      <td>이케이에너지(주) 강서주유소</td>\n",
       "      <td>서울 강서구 화곡로 273 (화곡동)</td>\n",
       "      <td>20221223</td>\n",
       "      <td>현대오일뱅크</td>\n",
       "      <td>셀프</td>\n",
       "      <td>0</td>\n",
       "      <td>1410</td>\n",
       "      <td>1660</td>\n",
       "      <td>0</td>\n",
       "      <td>3</td>\n",
       "    </tr>\n",
       "  </tbody>\n",
       "</table>\n",
       "</div>"
      ],
      "text/plain": [
       "             번호      지역               상호                      주소        기간  \\\n",
       "16809  A0000519  서울 강서구           화곡역주유소    서울 강서구 강서로 154 (화곡동)  20221227   \n",
       "15150  A0000549  서울 강서구  이케이에너지(주) 강서주유소    서울 강서구 화곡로 273 (화곡동)  20221224   \n",
       "15151  A0000549  서울 강서구  이케이에너지(주) 강서주유소    서울 강서구 화곡로 273 (화곡동)  20221225   \n",
       "65744  A0001005  서울 양천구            현대주유소  서울 양천구 남부순환로 372 (신월동)  20221226   \n",
       "15149  A0000549  서울 강서구  이케이에너지(주) 강서주유소    서울 강서구 화곡로 273 (화곡동)  20221223   \n",
       "\n",
       "           상표 셀프여부  고급휘발유   휘발유    경유  실내등유  요일  \n",
       "16809   알뜰주유소   셀프      0  1410  1660     0   6  \n",
       "15150  현대오일뱅크   셀프      0  1410  1660     0   4  \n",
       "15151  현대오일뱅크   셀프      0  1410  1660     0   5  \n",
       "65744   S-OIL   셀프      0  1410  1660     0   0  \n",
       "15149  현대오일뱅크   셀프      0  1410  1660     0   3  "
      ]
     },
     "execution_count": 76,
     "metadata": {},
     "output_type": "execute_result"
    }
   ],
   "source": [
    "# 휘발유 가격이 가장 저렴한 5개 행 조회 (단 0원인 주유소 제외)\n",
    "result[result['휘발유']>0].sort_values('휘발유').head()"
   ]
  },
  {
   "cell_type": "code",
   "execution_count": 85,
   "metadata": {
    "collapsed": true,
    "jupyter": {
     "outputs_hidden": true
    },
    "tags": []
   },
   "outputs": [
    {
     "data": {
      "text/plain": [
       "0        1737\n",
       "1        1737\n",
       "2        1737\n",
       "3        1737\n",
       "4        1737\n",
       "         ... \n",
       "82684    1910\n",
       "82685    1910\n",
       "82686    1910\n",
       "82687    1910\n",
       "82688    1910\n",
       "Name: 휘발유, Length: 82689, dtype: int64"
      ]
     },
     "execution_count": 85,
     "metadata": {},
     "output_type": "execute_result"
    }
   ],
   "source": [
    "df['휘발유']"
   ]
  },
  {
   "cell_type": "code",
   "execution_count": 80,
   "metadata": {
    "collapsed": true,
    "jupyter": {
     "outputs_hidden": true
    },
    "tags": []
   },
   "outputs": [
    {
     "data": {
      "text/html": [
       "<div>\n",
       "<style scoped>\n",
       "    .dataframe tbody tr th:only-of-type {\n",
       "        vertical-align: middle;\n",
       "    }\n",
       "\n",
       "    .dataframe tbody tr th {\n",
       "        vertical-align: top;\n",
       "    }\n",
       "\n",
       "    .dataframe thead th {\n",
       "        text-align: right;\n",
       "    }\n",
       "</style>\n",
       "<table border=\"1\" class=\"dataframe\">\n",
       "  <thead>\n",
       "    <tr style=\"text-align: right;\">\n",
       "      <th></th>\n",
       "      <th>번호</th>\n",
       "      <th>지역</th>\n",
       "      <th>상호</th>\n",
       "      <th>주소</th>\n",
       "      <th>기간</th>\n",
       "      <th>상표</th>\n",
       "      <th>셀프여부</th>\n",
       "      <th>고급휘발유</th>\n",
       "      <th>휘발유</th>\n",
       "      <th>경유</th>\n",
       "      <th>실내등유</th>\n",
       "    </tr>\n",
       "  </thead>\n",
       "  <tbody>\n",
       "    <tr>\n",
       "      <th>30507</th>\n",
       "      <td>A0009676</td>\n",
       "      <td>서울 도봉구</td>\n",
       "      <td>(주)자연에너지 햇살주유소</td>\n",
       "      <td>서울 도봉구 방학로 142 (방학동)</td>\n",
       "      <td>20220113</td>\n",
       "      <td>현대오일뱅크</td>\n",
       "      <td>셀프</td>\n",
       "      <td>1779</td>\n",
       "      <td>1545</td>\n",
       "      <td>1380</td>\n",
       "      <td>0</td>\n",
       "    </tr>\n",
       "    <tr>\n",
       "      <th>30508</th>\n",
       "      <td>A0009676</td>\n",
       "      <td>서울 도봉구</td>\n",
       "      <td>(주)자연에너지 햇살주유소</td>\n",
       "      <td>서울 도봉구 방학로 142 (방학동)</td>\n",
       "      <td>20220114</td>\n",
       "      <td>현대오일뱅크</td>\n",
       "      <td>셀프</td>\n",
       "      <td>1779</td>\n",
       "      <td>1545</td>\n",
       "      <td>1380</td>\n",
       "      <td>0</td>\n",
       "    </tr>\n",
       "    <tr>\n",
       "      <th>30509</th>\n",
       "      <td>A0009676</td>\n",
       "      <td>서울 도봉구</td>\n",
       "      <td>(주)자연에너지 햇살주유소</td>\n",
       "      <td>서울 도봉구 방학로 142 (방학동)</td>\n",
       "      <td>20220115</td>\n",
       "      <td>현대오일뱅크</td>\n",
       "      <td>셀프</td>\n",
       "      <td>1779</td>\n",
       "      <td>1545</td>\n",
       "      <td>1380</td>\n",
       "      <td>0</td>\n",
       "    </tr>\n",
       "    <tr>\n",
       "      <th>25803</th>\n",
       "      <td>A0001164</td>\n",
       "      <td>서울 금천구</td>\n",
       "      <td>(주)화동유업 화동주유소</td>\n",
       "      <td>서울 금천구 시흥대로 484</td>\n",
       "      <td>20220106</td>\n",
       "      <td>SK에너지</td>\n",
       "      <td>셀프</td>\n",
       "      <td>0</td>\n",
       "      <td>1546</td>\n",
       "      <td>1429</td>\n",
       "      <td>1200</td>\n",
       "    </tr>\n",
       "    <tr>\n",
       "      <th>25804</th>\n",
       "      <td>A0001164</td>\n",
       "      <td>서울 금천구</td>\n",
       "      <td>(주)화동유업 화동주유소</td>\n",
       "      <td>서울 금천구 시흥대로 484</td>\n",
       "      <td>20220107</td>\n",
       "      <td>SK에너지</td>\n",
       "      <td>셀프</td>\n",
       "      <td>0</td>\n",
       "      <td>1546</td>\n",
       "      <td>1397</td>\n",
       "      <td>1200</td>\n",
       "    </tr>\n",
       "    <tr>\n",
       "      <th>...</th>\n",
       "      <td>...</td>\n",
       "      <td>...</td>\n",
       "      <td>...</td>\n",
       "      <td>...</td>\n",
       "      <td>...</td>\n",
       "      <td>...</td>\n",
       "      <td>...</td>\n",
       "      <td>...</td>\n",
       "      <td>...</td>\n",
       "      <td>...</td>\n",
       "      <td>...</td>\n",
       "    </tr>\n",
       "    <tr>\n",
       "      <th>78936</th>\n",
       "      <td>A0000767</td>\n",
       "      <td>서울 중구</td>\n",
       "      <td>서남주유소</td>\n",
       "      <td>서울 중구 통일로 30</td>\n",
       "      <td>20220623</td>\n",
       "      <td>SK에너지</td>\n",
       "      <td>일반</td>\n",
       "      <td>3496</td>\n",
       "      <td>3096</td>\n",
       "      <td>3223</td>\n",
       "      <td>2719</td>\n",
       "    </tr>\n",
       "    <tr>\n",
       "      <th>78937</th>\n",
       "      <td>A0000767</td>\n",
       "      <td>서울 중구</td>\n",
       "      <td>서남주유소</td>\n",
       "      <td>서울 중구 통일로 30</td>\n",
       "      <td>20220624</td>\n",
       "      <td>SK에너지</td>\n",
       "      <td>일반</td>\n",
       "      <td>3496</td>\n",
       "      <td>3096</td>\n",
       "      <td>3223</td>\n",
       "      <td>2719</td>\n",
       "    </tr>\n",
       "    <tr>\n",
       "      <th>78938</th>\n",
       "      <td>A0000767</td>\n",
       "      <td>서울 중구</td>\n",
       "      <td>서남주유소</td>\n",
       "      <td>서울 중구 통일로 30</td>\n",
       "      <td>20220625</td>\n",
       "      <td>SK에너지</td>\n",
       "      <td>일반</td>\n",
       "      <td>3496</td>\n",
       "      <td>3096</td>\n",
       "      <td>3223</td>\n",
       "      <td>2719</td>\n",
       "    </tr>\n",
       "    <tr>\n",
       "      <th>78939</th>\n",
       "      <td>A0000767</td>\n",
       "      <td>서울 중구</td>\n",
       "      <td>서남주유소</td>\n",
       "      <td>서울 중구 통일로 30</td>\n",
       "      <td>20220626</td>\n",
       "      <td>SK에너지</td>\n",
       "      <td>일반</td>\n",
       "      <td>3496</td>\n",
       "      <td>3096</td>\n",
       "      <td>3223</td>\n",
       "      <td>2719</td>\n",
       "    </tr>\n",
       "    <tr>\n",
       "      <th>78940</th>\n",
       "      <td>A0000767</td>\n",
       "      <td>서울 중구</td>\n",
       "      <td>서남주유소</td>\n",
       "      <td>서울 중구 통일로 30</td>\n",
       "      <td>20220627</td>\n",
       "      <td>SK에너지</td>\n",
       "      <td>일반</td>\n",
       "      <td>3496</td>\n",
       "      <td>3096</td>\n",
       "      <td>3223</td>\n",
       "      <td>2719</td>\n",
       "    </tr>\n",
       "  </tbody>\n",
       "</table>\n",
       "<p>82611 rows × 11 columns</p>\n",
       "</div>"
      ],
      "text/plain": [
       "             번호      지역              상호                    주소        기간  \\\n",
       "30507  A0009676  서울 도봉구  (주)자연에너지 햇살주유소  서울 도봉구 방학로 142 (방학동)  20220113   \n",
       "30508  A0009676  서울 도봉구  (주)자연에너지 햇살주유소  서울 도봉구 방학로 142 (방학동)  20220114   \n",
       "30509  A0009676  서울 도봉구  (주)자연에너지 햇살주유소  서울 도봉구 방학로 142 (방학동)  20220115   \n",
       "25803  A0001164  서울 금천구   (주)화동유업 화동주유소       서울 금천구 시흥대로 484  20220106   \n",
       "25804  A0001164  서울 금천구   (주)화동유업 화동주유소       서울 금천구 시흥대로 484  20220107   \n",
       "...         ...     ...             ...                   ...       ...   \n",
       "78936  A0000767   서울 중구           서남주유소          서울 중구 통일로 30  20220623   \n",
       "78937  A0000767   서울 중구           서남주유소          서울 중구 통일로 30  20220624   \n",
       "78938  A0000767   서울 중구           서남주유소          서울 중구 통일로 30  20220625   \n",
       "78939  A0000767   서울 중구           서남주유소          서울 중구 통일로 30  20220626   \n",
       "78940  A0000767   서울 중구           서남주유소          서울 중구 통일로 30  20220627   \n",
       "\n",
       "           상표 셀프여부  고급휘발유   휘발유    경유  실내등유  \n",
       "30507  현대오일뱅크   셀프   1779  1545  1380     0  \n",
       "30508  현대오일뱅크   셀프   1779  1545  1380     0  \n",
       "30509  현대오일뱅크   셀프   1779  1545  1380     0  \n",
       "25803   SK에너지   셀프      0  1546  1429  1200  \n",
       "25804   SK에너지   셀프      0  1546  1397  1200  \n",
       "...       ...  ...    ...   ...   ...   ...  \n",
       "78936   SK에너지   일반   3496  3096  3223  2719  \n",
       "78937   SK에너지   일반   3496  3096  3223  2719  \n",
       "78938   SK에너지   일반   3496  3096  3223  2719  \n",
       "78939   SK에너지   일반   3496  3096  3223  2719  \n",
       "78940   SK에너지   일반   3496  3096  3223  2719  \n",
       "\n",
       "[82611 rows x 11 columns]"
      ]
     },
     "execution_count": 80,
     "metadata": {},
     "output_type": "execute_result"
    }
   ],
   "source": [
    "df.query('휘발유 !=0').sort_values(['휘발유', '기간'])"
   ]
  },
  {
   "cell_type": "code",
   "execution_count": null,
   "metadata": {
    "ExecuteTime": {
     "end_time": "2022-06-17T04:38:27.547464Z",
     "start_time": "2022-06-17T04:38:27.535482Z"
    },
    "tags": []
   },
   "outputs": [],
   "source": [
    "# 고급휘발유 가격이 가장 비싼 5개 행 조회\n",
    "result.sort_values('고급휘발유', ascending= False).head()"
   ]
  },
  {
   "cell_type": "code",
   "execution_count": null,
   "metadata": {
    "ExecuteTime": {
     "end_time": "2022-06-17T04:38:27.563404Z",
     "start_time": "2022-06-17T04:38:27.557420Z"
    },
    "tags": []
   },
   "outputs": [],
   "source": [
    "# 고급휘발유 가격이 가장 저렴한 5개 행 조회 (단 0원인 주유소 제외)\n",
    "result[result['고급휘발유']>0].sort_values('고급휘발유').head()"
   ]
  },
  {
   "cell_type": "code",
   "execution_count": null,
   "metadata": {
    "ExecuteTime": {
     "end_time": "2022-06-17T04:38:27.579370Z",
     "start_time": "2022-06-17T04:38:27.566396Z"
    },
    "tags": []
   },
   "outputs": [],
   "source": [
    "# 경유 가격이 가장 비싼 5개 행 조회\n",
    "result.sort_values('경유', ascending=False).head()"
   ]
  },
  {
   "cell_type": "code",
   "execution_count": null,
   "metadata": {
    "ExecuteTime": {
     "end_time": "2022-06-17T04:38:27.595319Z",
     "start_time": "2022-06-17T04:38:27.582353Z"
    },
    "tags": []
   },
   "outputs": [],
   "source": [
    "# 경유 가격이 가장 저렴한 5개 행 조회 (단 0원인 주유소 제외)\n",
    "result[result['경유']>0].sort_values('경유', ascending=False).head()"
   ]
  },
  {
   "cell_type": "code",
   "execution_count": null,
   "metadata": {
    "ExecuteTime": {
     "end_time": "2022-06-17T04:38:27.611277Z",
     "start_time": "2022-06-17T04:38:27.598311Z"
    },
    "tags": []
   },
   "outputs": [],
   "source": [
    "# 상표별 휘발유 평균가격 조회\n",
    "k = result.pivot_table(index = '상표',\n",
    "                  values = '휘발유',\n",
    "                  aggfunc= 'mean')\n",
    "k.columns = ['휘발유 평균']\n",
    "k"
   ]
  },
  {
   "cell_type": "code",
   "execution_count": null,
   "metadata": {
    "tags": []
   },
   "outputs": [],
   "source": [
    "k.columns"
   ]
  },
  {
   "cell_type": "code",
   "execution_count": null,
   "metadata": {},
   "outputs": [],
   "source": [
    "k.plt"
   ]
  },
  {
   "cell_type": "code",
   "execution_count": null,
   "metadata": {
    "tags": []
   },
   "outputs": [],
   "source": [
    "pd.DataFrame(result.groupby(['상표'])['휘발유'].mean())"
   ]
  },
  {
   "cell_type": "code",
   "execution_count": null,
   "metadata": {
    "ExecuteTime": {
     "end_time": "2022-06-17T04:38:27.628231Z",
     "start_time": "2022-06-17T04:38:27.614268Z"
    },
    "tags": []
   },
   "outputs": [],
   "source": [
    "# 상표별 휘발유 평균가격 시각화\n",
    "import matplotlib.pyplot as plt"
   ]
  },
  {
   "cell_type": "code",
   "execution_count": null,
   "metadata": {
    "tags": []
   },
   "outputs": [],
   "source": [
    "k.plot(kind = 'bar')\n",
    "plt.show()"
   ]
  },
  {
   "cell_type": "code",
   "execution_count": null,
   "metadata": {
    "tags": []
   },
   "outputs": [],
   "source": [
    "import pandas as pd"
   ]
  },
  {
   "cell_type": "code",
   "execution_count": null,
   "metadata": {
    "ExecuteTime": {
     "end_time": "2022-06-17T04:38:27.643201Z",
     "start_time": "2022-06-17T04:38:27.632220Z"
    },
    "tags": []
   },
   "outputs": [],
   "source": [
    "# 셀프주유소와 일반주유소 개수 확인\n",
    "result['셀프여부'].value_counts()"
   ]
  },
  {
   "cell_type": "code",
   "execution_count": null,
   "metadata": {
    "tags": []
   },
   "outputs": [],
   "source": [
    "# 셀프 여부에 따른 휘발유 평균 가격 비교\n",
    "result.pivot_table(index = '셀프여부',\n",
    "                  values = '휘발유',\n",
    "                  aggfunc= 'mean')"
   ]
  },
  {
   "cell_type": "code",
   "execution_count": null,
   "metadata": {
    "tags": []
   },
   "outputs": [],
   "source": [
    "# 상표별 일반/셀프 주유소의 휘발유 가격 평균 비교\n",
    "result.pivot_table(index = ['상표','셀프여부'],\n",
    "                  values='휘발유',\n",
    "                  aggfunc = 'mean')"
   ]
  },
  {
   "cell_type": "code",
   "execution_count": null,
   "metadata": {
    "tags": []
   },
   "outputs": [],
   "source": [
    "# 상표별 일반/셀프 주유소의 휘발유 가격 평균 비교\n",
    "result.pivot_table(index = '상표',\n",
    "                  columns = '셀프여부',\n",
    "                  values = '휘발유',\n",
    "                  aggfunc = 'mean')"
   ]
  },
  {
   "cell_type": "code",
   "execution_count": null,
   "metadata": {
    "ExecuteTime": {
     "end_time": "2022-06-17T04:38:27.691062Z",
     "start_time": "2022-06-17T04:38:27.678097Z"
    },
    "tags": []
   },
   "outputs": [],
   "source": [
    "# 상표별 일반/셀프 주유소의 휘발유 가격 평균 비교 시각화\n",
    "k = result.pivot_table(index = '상표',\n",
    "                  columns = '셀프여부',\n",
    "                  values = '휘발유',\n",
    "                  aggfunc = 'mean')\n",
    "k.plot(kind = 'bar')\n",
    "plt.show()"
   ]
  },
  {
   "cell_type": "code",
   "execution_count": null,
   "metadata": {
    "ExecuteTime": {
     "end_time": "2022-06-17T04:38:27.707023Z",
     "start_time": "2022-06-17T04:38:27.694054Z"
    },
    "tags": []
   },
   "outputs": [],
   "source": [
    "# 상표별 휘발유 가격의 분포를 boxplot으로 시각화\n",
    "result.pivot_table(index = '상표',\n",
    "                  values = '휘발유',\n",
    "                 c\n",
    "                  )\n"
   ]
  },
  {
   "cell_type": "code",
   "execution_count": null,
   "metadata": {
    "tags": []
   },
   "outputs": [],
   "source": [
    "result[['상호','휘발유']].boxplot()\n",
    "plt.show()"
   ]
  },
  {
   "cell_type": "code",
   "execution_count": null,
   "metadata": {
    "ExecuteTime": {
     "end_time": "2022-06-17T04:38:27.722976Z",
     "start_time": "2022-06-17T04:38:27.710012Z"
    },
    "tags": []
   },
   "outputs": [],
   "source": [
    "\n",
    "# 상표별 일반/셀프 주유소의 휘발유 가격에 대한 분포 확인 - boxplot으로 시각화\n",
    "k = result.pivot_table(index = ['상호','셀프여부'],\n",
    "                  values = '휘발유')\n",
    "k.sort_values('상호').boxplot()"
   ]
  },
  {
   "cell_type": "code",
   "execution_count": null,
   "metadata": {
    "ExecuteTime": {
     "end_time": "2022-06-17T04:38:27.738935Z",
     "start_time": "2022-06-17T04:38:27.725970Z"
    },
    "tags": []
   },
   "outputs": [],
   "source": [
    "# 구별 휘발유 가격의 평균\n",
    "k = result.pivot_table(index = '지역',\n",
    "                  values = '휘발유',\n",
    "                  aggfunc = 'mean').sort_values('휘발유')"
   ]
  },
  {
   "cell_type": "code",
   "execution_count": null,
   "metadata": {
    "ExecuteTime": {
     "end_time": "2022-06-17T04:38:27.753894Z",
     "start_time": "2022-06-17T04:38:27.740929Z"
    },
    "scrolled": true,
    "tags": []
   },
   "outputs": [],
   "source": [
    "# 평균 가격이 가장 높은 구의 상표별 휘발유 평균가격\n",
    "k = result.pivot_table(index = ['지역', '상표'],\n",
    "                  values = '휘발유',\n",
    "                  aggfunc = 'mean')\n",
    "k.rename(columns={'휘발유':'휘발유평균'}, inplace=True)\n",
    "k"
   ]
  },
  {
   "cell_type": "code",
   "execution_count": null,
   "metadata": {
    "ExecuteTime": {
     "end_time": "2022-06-17T04:38:27.768853Z",
     "start_time": "2022-06-17T04:38:27.756886Z"
    },
    "tags": []
   },
   "outputs": [],
   "source": [
    "# 월 평균 휘발유 가격\n",
    "result.pivot_table(index = '기간',\n",
    "                  values = '휘발유',\n",
    "                  aggfunc = 'mean')"
   ]
  },
  {
   "cell_type": "code",
   "execution_count": null,
   "metadata": {
    "ExecuteTime": {
     "end_time": "2022-06-17T04:38:27.784812Z",
     "start_time": "2022-06-17T04:38:27.771846Z"
    },
    "tags": []
   },
   "outputs": [],
   "source": [
    "# 각 구의 월별 평균 휘발유 가격 \n",
    "result.pivot_table(index = ['지역'],\n",
    "                  # columns= '기간',\n",
    "                  values = '휘발유',\n",
    "                  aggfunc = 'mean') "
   ]
  },
  {
   "cell_type": "code",
   "execution_count": null,
   "metadata": {
    "tags": []
   },
   "outputs": [],
   "source": [
    "result['기간']"
   ]
  },
  {
   "cell_type": "code",
   "execution_count": null,
   "metadata": {
    "tags": []
   },
   "outputs": [],
   "source": [
    "import pandas as pd"
   ]
  },
  {
   "cell_type": "code",
   "execution_count": null,
   "metadata": {
    "tags": []
   },
   "outputs": [],
   "source": [
    "result.groupby(['지역','월'])[['고급휘발유','휘발유','경유']].mean()"
   ]
  },
  {
   "cell_type": "code",
   "execution_count": 38,
   "metadata": {
    "ExecuteTime": {
     "end_time": "2022-06-17T04:38:27.800771Z",
     "start_time": "2022-06-17T04:38:27.790796Z"
    },
    "tags": []
   },
   "outputs": [
    {
     "data": {
      "text/plain": [
       "<Axes: xlabel='지역'>"
      ]
     },
     "execution_count": 38,
     "metadata": {},
     "output_type": "execute_result"
    },
    {
     "data": {
      "image/png": "[encoded data removed]",
      "text/plain": [
       "<Figure size 640x480 with 1 Axes>"
      ]
     },
     "metadata": {},
     "output_type": "display_data"
    }
   ],
   "source": [
    "# 각 구의 월별 평균가격의 변화추이 시각화\n",
    "result\n",
    "k = pd.to_datetime(result['기간'], format = '%Y%m%d')\n",
    "m = k.dt.month\n",
    "result['월별'] = m\n",
    "result\n",
    "pp = result.pivot_table(index = '지역',\n",
    "                  columns= '월별',\n",
    "                   values = ['휘발유', '경유'],\n",
    "                  aggfunc = 'mean')\n",
    "pp.swaplevel(0,1, axis = 1).sort_index(axis=1).plot(kind = 'bar')"
   ]
  },
  {
   "cell_type": "markdown",
   "metadata": {
    "tags": []
   },
   "source": [
    "1.shape 가 (2,5)이고 1~10인 정수랜덤 만들기\n",
    "2. axis =0인것에 대해 axis =1 [2,4] 값과 axis =1인 것에대해  [0,3] 값을 출력"
   ]
  },
  {
   "cell_type": "code",
   "execution_count": 67,
   "metadata": {
    "tags": []
   },
   "outputs": [
    {
     "data": {
      "text/html": [
       "<div>\n",
       "<style scoped>\n",
       "    .dataframe tbody tr th:only-of-type {\n",
       "        vertical-align: middle;\n",
       "    }\n",
       "\n",
       "    .dataframe tbody tr th {\n",
       "        vertical-align: top;\n",
       "    }\n",
       "\n",
       "    .dataframe thead th {\n",
       "        text-align: right;\n",
       "    }\n",
       "</style>\n",
       "<table border=\"1\" class=\"dataframe\">\n",
       "  <thead>\n",
       "    <tr style=\"text-align: right;\">\n",
       "      <th></th>\n",
       "      <th>휘발유</th>\n",
       "    </tr>\n",
       "    <tr>\n",
       "      <th>상호</th>\n",
       "      <th></th>\n",
       "    </tr>\n",
       "  </thead>\n",
       "  <tbody>\n",
       "    <tr>\n",
       "      <th>현대오일뱅크㈜직영 구로셀프주유소</th>\n",
       "      <td>2128</td>\n",
       "    </tr>\n",
       "    <tr>\n",
       "      <th>(유)동하석유 힐탑셀프주유소</th>\n",
       "      <td>2287</td>\n",
       "    </tr>\n",
       "    <tr>\n",
       "      <th>(주)MS에너지</th>\n",
       "      <td>2115</td>\n",
       "    </tr>\n",
       "    <tr>\n",
       "      <th>(주)가재울뉴타운주유소</th>\n",
       "      <td>2153</td>\n",
       "    </tr>\n",
       "    <tr>\n",
       "      <th>(주)강서오일</th>\n",
       "      <td>2099</td>\n",
       "    </tr>\n",
       "    <tr>\n",
       "      <th>...</th>\n",
       "      <td>...</td>\n",
       "    </tr>\n",
       "    <tr>\n",
       "      <th>형산석유(주)원주유소</th>\n",
       "      <td>2109</td>\n",
       "    </tr>\n",
       "    <tr>\n",
       "      <th>홍능주유소</th>\n",
       "      <td>2205</td>\n",
       "    </tr>\n",
       "    <tr>\n",
       "      <th>화곡역주유소</th>\n",
       "      <td>2129</td>\n",
       "    </tr>\n",
       "    <tr>\n",
       "      <th>화곡현대주유소</th>\n",
       "      <td>2193</td>\n",
       "    </tr>\n",
       "    <tr>\n",
       "      <th>화랑대주유소</th>\n",
       "      <td>2125</td>\n",
       "    </tr>\n",
       "  </tbody>\n",
       "</table>\n",
       "<p>464 rows × 1 columns</p>\n",
       "</div>"
      ],
      "text/plain": [
       "                     휘발유\n",
       "상호                      \n",
       " 현대오일뱅크㈜직영 구로셀프주유소  2128\n",
       "(유)동하석유 힐탑셀프주유소     2287\n",
       "(주)MS에너지            2115\n",
       "(주)가재울뉴타운주유소        2153\n",
       "(주)강서오일             2099\n",
       "...                  ...\n",
       "형산석유(주)원주유소         2109\n",
       "홍능주유소               2205\n",
       "화곡역주유소              2129\n",
       "화곡현대주유소             2193\n",
       "화랑대주유소              2125\n",
       "\n",
       "[464 rows x 1 columns]"
      ]
     },
     "execution_count": 67,
     "metadata": {},
     "output_type": "execute_result"
    }
   ],
   "source": []
  },
  {
   "cell_type": "code",
   "execution_count": 74,
   "metadata": {
    "ExecuteTime": {
     "end_time": "2022-06-17T04:38:27.815729Z",
     "start_time": "2022-06-17T04:38:27.803762Z"
    },
    "scrolled": true
   },
   "outputs": [
    {
     "data": {
      "text/html": [
       "<div>\n",
       "<style scoped>\n",
       "    .dataframe tbody tr th:only-of-type {\n",
       "        vertical-align: middle;\n",
       "    }\n",
       "\n",
       "    .dataframe tbody tr th {\n",
       "        vertical-align: top;\n",
       "    }\n",
       "\n",
       "    .dataframe thead th {\n",
       "        text-align: right;\n",
       "    }\n",
       "</style>\n",
       "<table border=\"1\" class=\"dataframe\">\n",
       "  <thead>\n",
       "    <tr style=\"text-align: right;\">\n",
       "      <th></th>\n",
       "      <th>번호</th>\n",
       "      <th>지역</th>\n",
       "      <th>상호</th>\n",
       "      <th>주소</th>\n",
       "      <th>기간</th>\n",
       "      <th>상표</th>\n",
       "      <th>셀프여부</th>\n",
       "      <th>고급휘발유</th>\n",
       "      <th>휘발유</th>\n",
       "      <th>경유</th>\n",
       "      <th>실내등유</th>\n",
       "      <th>월별</th>\n",
       "    </tr>\n",
       "  </thead>\n",
       "  <tbody>\n",
       "    <tr>\n",
       "      <th>0</th>\n",
       "      <td>A0006039</td>\n",
       "      <td>서울 강남구</td>\n",
       "      <td>(유)동하석유 힐탑셀프주유소</td>\n",
       "      <td>서울 강남구 논현로 640</td>\n",
       "      <td>20220101</td>\n",
       "      <td>SK에너지</td>\n",
       "      <td>셀프</td>\n",
       "      <td>1887</td>\n",
       "      <td>1737</td>\n",
       "      <td>1587</td>\n",
       "      <td>0</td>\n",
       "      <td>1</td>\n",
       "    </tr>\n",
       "    <tr>\n",
       "      <th>0</th>\n",
       "      <td>A0006039</td>\n",
       "      <td>서울 강남구</td>\n",
       "      <td>(유)동하석유 힐탑셀프주유소</td>\n",
       "      <td>서울 강남구 논현로 640</td>\n",
       "      <td>20220701</td>\n",
       "      <td>SK에너지</td>\n",
       "      <td>셀프</td>\n",
       "      <td>2487</td>\n",
       "      <td>2287</td>\n",
       "      <td>2297</td>\n",
       "      <td>0</td>\n",
       "      <td>7</td>\n",
       "    </tr>\n",
       "    <tr>\n",
       "      <th>1</th>\n",
       "      <td>A0006039</td>\n",
       "      <td>서울 강남구</td>\n",
       "      <td>(유)동하석유 힐탑셀프주유소</td>\n",
       "      <td>서울 강남구 논현로 640</td>\n",
       "      <td>20220702</td>\n",
       "      <td>SK에너지</td>\n",
       "      <td>셀프</td>\n",
       "      <td>2447</td>\n",
       "      <td>2247</td>\n",
       "      <td>2277</td>\n",
       "      <td>0</td>\n",
       "      <td>7</td>\n",
       "    </tr>\n",
       "    <tr>\n",
       "      <th>1</th>\n",
       "      <td>A0006039</td>\n",
       "      <td>서울 강남구</td>\n",
       "      <td>(유)동하석유 힐탑셀프주유소</td>\n",
       "      <td>서울 강남구 논현로 640</td>\n",
       "      <td>20220102</td>\n",
       "      <td>SK에너지</td>\n",
       "      <td>셀프</td>\n",
       "      <td>1887</td>\n",
       "      <td>1737</td>\n",
       "      <td>1587</td>\n",
       "      <td>0</td>\n",
       "      <td>1</td>\n",
       "    </tr>\n",
       "    <tr>\n",
       "      <th>2</th>\n",
       "      <td>A0006039</td>\n",
       "      <td>서울 강남구</td>\n",
       "      <td>(유)동하석유 힐탑셀프주유소</td>\n",
       "      <td>서울 강남구 논현로 640</td>\n",
       "      <td>20220103</td>\n",
       "      <td>SK에너지</td>\n",
       "      <td>셀프</td>\n",
       "      <td>1887</td>\n",
       "      <td>1737</td>\n",
       "      <td>1587</td>\n",
       "      <td>0</td>\n",
       "      <td>1</td>\n",
       "    </tr>\n",
       "    <tr>\n",
       "      <th>...</th>\n",
       "      <td>...</td>\n",
       "      <td>...</td>\n",
       "      <td>...</td>\n",
       "      <td>...</td>\n",
       "      <td>...</td>\n",
       "      <td>...</td>\n",
       "      <td>...</td>\n",
       "      <td>...</td>\n",
       "      <td>...</td>\n",
       "      <td>...</td>\n",
       "      <td>...</td>\n",
       "      <td>...</td>\n",
       "    </tr>\n",
       "    <tr>\n",
       "      <th>82684</th>\n",
       "      <td>A0009197</td>\n",
       "      <td>서울 중랑구</td>\n",
       "      <td>현대오일뱅크㈜직영 중랑교셀프주유소</td>\n",
       "      <td>서울 중랑구 망우로 229 (중화동)</td>\n",
       "      <td>20220507</td>\n",
       "      <td>현대오일뱅크</td>\n",
       "      <td>셀프</td>\n",
       "      <td>2152</td>\n",
       "      <td>1910</td>\n",
       "      <td>1841</td>\n",
       "      <td>0</td>\n",
       "      <td>5</td>\n",
       "    </tr>\n",
       "    <tr>\n",
       "      <th>82685</th>\n",
       "      <td>A0009197</td>\n",
       "      <td>서울 중랑구</td>\n",
       "      <td>현대오일뱅크㈜직영 중랑교셀프주유소</td>\n",
       "      <td>서울 중랑구 망우로 229 (중화동)</td>\n",
       "      <td>20220508</td>\n",
       "      <td>현대오일뱅크</td>\n",
       "      <td>셀프</td>\n",
       "      <td>2152</td>\n",
       "      <td>1910</td>\n",
       "      <td>1841</td>\n",
       "      <td>0</td>\n",
       "      <td>5</td>\n",
       "    </tr>\n",
       "    <tr>\n",
       "      <th>82686</th>\n",
       "      <td>A0009197</td>\n",
       "      <td>서울 중랑구</td>\n",
       "      <td>현대오일뱅크㈜직영 중랑교셀프주유소</td>\n",
       "      <td>서울 중랑구 망우로 229 (중화동)</td>\n",
       "      <td>20220509</td>\n",
       "      <td>현대오일뱅크</td>\n",
       "      <td>셀프</td>\n",
       "      <td>2152</td>\n",
       "      <td>1910</td>\n",
       "      <td>1841</td>\n",
       "      <td>0</td>\n",
       "      <td>5</td>\n",
       "    </tr>\n",
       "    <tr>\n",
       "      <th>82687</th>\n",
       "      <td>A0009197</td>\n",
       "      <td>서울 중랑구</td>\n",
       "      <td>현대오일뱅크㈜직영 중랑교셀프주유소</td>\n",
       "      <td>서울 중랑구 망우로 229 (중화동)</td>\n",
       "      <td>20220510</td>\n",
       "      <td>현대오일뱅크</td>\n",
       "      <td>셀프</td>\n",
       "      <td>2152</td>\n",
       "      <td>1910</td>\n",
       "      <td>1841</td>\n",
       "      <td>0</td>\n",
       "      <td>5</td>\n",
       "    </tr>\n",
       "    <tr>\n",
       "      <th>82688</th>\n",
       "      <td>A0009197</td>\n",
       "      <td>서울 중랑구</td>\n",
       "      <td>현대오일뱅크㈜직영 중랑교셀프주유소</td>\n",
       "      <td>서울 중랑구 망우로 229 (중화동)</td>\n",
       "      <td>20220511</td>\n",
       "      <td>현대오일뱅크</td>\n",
       "      <td>셀프</td>\n",
       "      <td>2152</td>\n",
       "      <td>1910</td>\n",
       "      <td>1841</td>\n",
       "      <td>0</td>\n",
       "      <td>5</td>\n",
       "    </tr>\n",
       "  </tbody>\n",
       "</table>\n",
       "<p>164482 rows × 12 columns</p>\n",
       "</div>"
      ],
      "text/plain": [
       "             번호      지역                  상호                    주소        기간  \\\n",
       "0      A0006039  서울 강남구     (유)동하석유 힐탑셀프주유소        서울 강남구 논현로 640  20220101   \n",
       "0      A0006039  서울 강남구     (유)동하석유 힐탑셀프주유소        서울 강남구 논현로 640  20220701   \n",
       "1      A0006039  서울 강남구     (유)동하석유 힐탑셀프주유소        서울 강남구 논현로 640  20220702   \n",
       "1      A0006039  서울 강남구     (유)동하석유 힐탑셀프주유소        서울 강남구 논현로 640  20220102   \n",
       "2      A0006039  서울 강남구     (유)동하석유 힐탑셀프주유소        서울 강남구 논현로 640  20220103   \n",
       "...         ...     ...                 ...                   ...       ...   \n",
       "82684  A0009197  서울 중랑구  현대오일뱅크㈜직영 중랑교셀프주유소  서울 중랑구 망우로 229 (중화동)  20220507   \n",
       "82685  A0009197  서울 중랑구  현대오일뱅크㈜직영 중랑교셀프주유소  서울 중랑구 망우로 229 (중화동)  20220508   \n",
       "82686  A0009197  서울 중랑구  현대오일뱅크㈜직영 중랑교셀프주유소  서울 중랑구 망우로 229 (중화동)  20220509   \n",
       "82687  A0009197  서울 중랑구  현대오일뱅크㈜직영 중랑교셀프주유소  서울 중랑구 망우로 229 (중화동)  20220510   \n",
       "82688  A0009197  서울 중랑구  현대오일뱅크㈜직영 중랑교셀프주유소  서울 중랑구 망우로 229 (중화동)  20220511   \n",
       "\n",
       "           상표 셀프여부  고급휘발유   휘발유    경유  실내등유  월별  \n",
       "0       SK에너지   셀프   1887  1737  1587     0   1  \n",
       "0       SK에너지   셀프   2487  2287  2297     0   7  \n",
       "1       SK에너지   셀프   2447  2247  2277     0   7  \n",
       "1       SK에너지   셀프   1887  1737  1587     0   1  \n",
       "2       SK에너지   셀프   1887  1737  1587     0   1  \n",
       "...       ...  ...    ...   ...   ...   ...  ..  \n",
       "82684  현대오일뱅크   셀프   2152  1910  1841     0   5  \n",
       "82685  현대오일뱅크   셀프   2152  1910  1841     0   5  \n",
       "82686  현대오일뱅크   셀프   2152  1910  1841     0   5  \n",
       "82687  현대오일뱅크   셀프   2152  1910  1841     0   5  \n",
       "82688  현대오일뱅크   셀프   2152  1910  1841     0   5  \n",
       "\n",
       "[164482 rows x 12 columns]"
      ]
     },
     "execution_count": 74,
     "metadata": {},
     "output_type": "execute_result"
    }
   ],
   "source": [
    "#!!!!!!!!!!!! 가장 휘발유가격이 비싼 주유소 상위 5 - (같은 주유소가 여러개 나오므로 가장 비싼 가격을 기준으로 집계)\n",
    "oil_result = result.sort_values('휘발유', ascending= False)\n",
    "\n"
   ]
  },
  {
   "cell_type": "code",
   "execution_count": 60,
   "metadata": {
    "ExecuteTime": {
     "end_time": "2022-06-17T04:38:27.830866Z",
     "start_time": "2022-06-17T04:38:27.818721Z"
    },
    "scrolled": true
   },
   "outputs": [
    {
     "data": {
      "text/html": [
       "<div>\n",
       "<style scoped>\n",
       "    .dataframe tbody tr th:only-of-type {\n",
       "        vertical-align: middle;\n",
       "    }\n",
       "\n",
       "    .dataframe tbody tr th {\n",
       "        vertical-align: top;\n",
       "    }\n",
       "\n",
       "    .dataframe thead th {\n",
       "        text-align: right;\n",
       "    }\n",
       "</style>\n",
       "<table border=\"1\" class=\"dataframe\">\n",
       "  <thead>\n",
       "    <tr style=\"text-align: right;\">\n",
       "      <th></th>\n",
       "      <th>번호</th>\n",
       "      <th>지역</th>\n",
       "      <th>상호</th>\n",
       "      <th>주소</th>\n",
       "      <th>기간</th>\n",
       "      <th>상표</th>\n",
       "      <th>셀프여부</th>\n",
       "      <th>고급휘발유</th>\n",
       "      <th>휘발유</th>\n",
       "      <th>경유</th>\n",
       "      <th>실내등유</th>\n",
       "      <th>월별</th>\n",
       "    </tr>\n",
       "  </thead>\n",
       "  <tbody>\n",
       "    <tr>\n",
       "      <th>16809</th>\n",
       "      <td>A0000519</td>\n",
       "      <td>서울 강서구</td>\n",
       "      <td>화곡역주유소</td>\n",
       "      <td>서울 강서구 강서로 154 (화곡동)</td>\n",
       "      <td>20221227</td>\n",
       "      <td>알뜰주유소</td>\n",
       "      <td>셀프</td>\n",
       "      <td>0</td>\n",
       "      <td>1410</td>\n",
       "      <td>1660</td>\n",
       "      <td>0</td>\n",
       "      <td>12</td>\n",
       "    </tr>\n",
       "    <tr>\n",
       "      <th>15150</th>\n",
       "      <td>A0000549</td>\n",
       "      <td>서울 강서구</td>\n",
       "      <td>이케이에너지(주) 강서주유소</td>\n",
       "      <td>서울 강서구 화곡로 273 (화곡동)</td>\n",
       "      <td>20221224</td>\n",
       "      <td>현대오일뱅크</td>\n",
       "      <td>셀프</td>\n",
       "      <td>0</td>\n",
       "      <td>1410</td>\n",
       "      <td>1660</td>\n",
       "      <td>0</td>\n",
       "      <td>12</td>\n",
       "    </tr>\n",
       "    <tr>\n",
       "      <th>15151</th>\n",
       "      <td>A0000549</td>\n",
       "      <td>서울 강서구</td>\n",
       "      <td>이케이에너지(주) 강서주유소</td>\n",
       "      <td>서울 강서구 화곡로 273 (화곡동)</td>\n",
       "      <td>20221225</td>\n",
       "      <td>현대오일뱅크</td>\n",
       "      <td>셀프</td>\n",
       "      <td>0</td>\n",
       "      <td>1410</td>\n",
       "      <td>1660</td>\n",
       "      <td>0</td>\n",
       "      <td>12</td>\n",
       "    </tr>\n",
       "    <tr>\n",
       "      <th>65744</th>\n",
       "      <td>A0001005</td>\n",
       "      <td>서울 양천구</td>\n",
       "      <td>현대주유소</td>\n",
       "      <td>서울 양천구 남부순환로 372 (신월동)</td>\n",
       "      <td>20221226</td>\n",
       "      <td>S-OIL</td>\n",
       "      <td>셀프</td>\n",
       "      <td>0</td>\n",
       "      <td>1410</td>\n",
       "      <td>1660</td>\n",
       "      <td>0</td>\n",
       "      <td>12</td>\n",
       "    </tr>\n",
       "    <tr>\n",
       "      <th>15149</th>\n",
       "      <td>A0000549</td>\n",
       "      <td>서울 강서구</td>\n",
       "      <td>이케이에너지(주) 강서주유소</td>\n",
       "      <td>서울 강서구 화곡로 273 (화곡동)</td>\n",
       "      <td>20221223</td>\n",
       "      <td>현대오일뱅크</td>\n",
       "      <td>셀프</td>\n",
       "      <td>0</td>\n",
       "      <td>1410</td>\n",
       "      <td>1660</td>\n",
       "      <td>0</td>\n",
       "      <td>12</td>\n",
       "    </tr>\n",
       "    <tr>\n",
       "      <th>...</th>\n",
       "      <td>...</td>\n",
       "      <td>...</td>\n",
       "      <td>...</td>\n",
       "      <td>...</td>\n",
       "      <td>...</td>\n",
       "      <td>...</td>\n",
       "      <td>...</td>\n",
       "      <td>...</td>\n",
       "      <td>...</td>\n",
       "      <td>...</td>\n",
       "      <td>...</td>\n",
       "      <td>...</td>\n",
       "    </tr>\n",
       "    <tr>\n",
       "      <th>78939</th>\n",
       "      <td>A0000767</td>\n",
       "      <td>서울 중구</td>\n",
       "      <td>서남주유소</td>\n",
       "      <td>서울 중구 통일로 30</td>\n",
       "      <td>20220626</td>\n",
       "      <td>SK에너지</td>\n",
       "      <td>일반</td>\n",
       "      <td>3496</td>\n",
       "      <td>3096</td>\n",
       "      <td>3223</td>\n",
       "      <td>2719</td>\n",
       "      <td>6</td>\n",
       "    </tr>\n",
       "    <tr>\n",
       "      <th>78938</th>\n",
       "      <td>A0000767</td>\n",
       "      <td>서울 중구</td>\n",
       "      <td>서남주유소</td>\n",
       "      <td>서울 중구 통일로 30</td>\n",
       "      <td>20220625</td>\n",
       "      <td>SK에너지</td>\n",
       "      <td>일반</td>\n",
       "      <td>3496</td>\n",
       "      <td>3096</td>\n",
       "      <td>3223</td>\n",
       "      <td>2719</td>\n",
       "      <td>6</td>\n",
       "    </tr>\n",
       "    <tr>\n",
       "      <th>78937</th>\n",
       "      <td>A0000767</td>\n",
       "      <td>서울 중구</td>\n",
       "      <td>서남주유소</td>\n",
       "      <td>서울 중구 통일로 30</td>\n",
       "      <td>20220624</td>\n",
       "      <td>SK에너지</td>\n",
       "      <td>일반</td>\n",
       "      <td>3496</td>\n",
       "      <td>3096</td>\n",
       "      <td>3223</td>\n",
       "      <td>2719</td>\n",
       "      <td>6</td>\n",
       "    </tr>\n",
       "    <tr>\n",
       "      <th>78936</th>\n",
       "      <td>A0000767</td>\n",
       "      <td>서울 중구</td>\n",
       "      <td>서남주유소</td>\n",
       "      <td>서울 중구 통일로 30</td>\n",
       "      <td>20220623</td>\n",
       "      <td>SK에너지</td>\n",
       "      <td>일반</td>\n",
       "      <td>3496</td>\n",
       "      <td>3096</td>\n",
       "      <td>3223</td>\n",
       "      <td>2719</td>\n",
       "      <td>6</td>\n",
       "    </tr>\n",
       "    <tr>\n",
       "      <th>78935</th>\n",
       "      <td>A0000767</td>\n",
       "      <td>서울 중구</td>\n",
       "      <td>서남주유소</td>\n",
       "      <td>서울 중구 통일로 30</td>\n",
       "      <td>20220622</td>\n",
       "      <td>SK에너지</td>\n",
       "      <td>일반</td>\n",
       "      <td>3496</td>\n",
       "      <td>3096</td>\n",
       "      <td>3223</td>\n",
       "      <td>2719</td>\n",
       "      <td>6</td>\n",
       "    </tr>\n",
       "  </tbody>\n",
       "</table>\n",
       "<p>164181 rows × 12 columns</p>\n",
       "</div>"
      ],
      "text/plain": [
       "             번호      지역               상호                      주소        기간  \\\n",
       "16809  A0000519  서울 강서구           화곡역주유소    서울 강서구 강서로 154 (화곡동)  20221227   \n",
       "15150  A0000549  서울 강서구  이케이에너지(주) 강서주유소    서울 강서구 화곡로 273 (화곡동)  20221224   \n",
       "15151  A0000549  서울 강서구  이케이에너지(주) 강서주유소    서울 강서구 화곡로 273 (화곡동)  20221225   \n",
       "65744  A0001005  서울 양천구            현대주유소  서울 양천구 남부순환로 372 (신월동)  20221226   \n",
       "15149  A0000549  서울 강서구  이케이에너지(주) 강서주유소    서울 강서구 화곡로 273 (화곡동)  20221223   \n",
       "...         ...     ...              ...                     ...       ...   \n",
       "78939  A0000767   서울 중구            서남주유소            서울 중구 통일로 30  20220626   \n",
       "78938  A0000767   서울 중구            서남주유소            서울 중구 통일로 30  20220625   \n",
       "78937  A0000767   서울 중구            서남주유소            서울 중구 통일로 30  20220624   \n",
       "78936  A0000767   서울 중구            서남주유소            서울 중구 통일로 30  20220623   \n",
       "78935  A0000767   서울 중구            서남주유소            서울 중구 통일로 30  20220622   \n",
       "\n",
       "           상표 셀프여부  고급휘발유   휘발유    경유  실내등유  월별  \n",
       "16809   알뜰주유소   셀프      0  1410  1660     0  12  \n",
       "15150  현대오일뱅크   셀프      0  1410  1660     0  12  \n",
       "15151  현대오일뱅크   셀프      0  1410  1660     0  12  \n",
       "65744   S-OIL   셀프      0  1410  1660     0  12  \n",
       "15149  현대오일뱅크   셀프      0  1410  1660     0  12  \n",
       "...       ...  ...    ...   ...   ...   ...  ..  \n",
       "78939   SK에너지   일반   3496  3096  3223  2719   6  \n",
       "78938   SK에너지   일반   3496  3096  3223  2719   6  \n",
       "78937   SK에너지   일반   3496  3096  3223  2719   6  \n",
       "78936   SK에너지   일반   3496  3096  3223  2719   6  \n",
       "78935   SK에너지   일반   3496  3096  3223  2719   6  \n",
       "\n",
       "[164181 rows x 12 columns]"
      ]
     },
     "execution_count": 60,
     "metadata": {},
     "output_type": "execute_result"
    }
   ],
   "source": [
    "#!!!!!! 가장 휘발유가격이 저렴한 주유소 상위 5 - (같은 주유소가 여러개 나오므로 가장 비싼 가격을 기준으로 집계)\n",
    "# result.sort_values('휘발유', ascending= True)\n",
    "result[result['휘발유']>0].sort_values('휘발유', ascending= False)"
   ]
  },
  {
   "cell_type": "code",
   "execution_count": 68,
   "metadata": {
    "ExecuteTime": {
     "end_time": "2022-06-17T04:38:27.847021Z",
     "start_time": "2022-06-17T04:38:27.834852Z"
    }
   },
   "outputs": [
    {
     "data": {
      "text/html": [
       "<div>\n",
       "<style scoped>\n",
       "    .dataframe tbody tr th:only-of-type {\n",
       "        vertical-align: middle;\n",
       "    }\n",
       "\n",
       "    .dataframe tbody tr th {\n",
       "        vertical-align: top;\n",
       "    }\n",
       "\n",
       "    .dataframe thead th {\n",
       "        text-align: right;\n",
       "    }\n",
       "</style>\n",
       "<table border=\"1\" class=\"dataframe\">\n",
       "  <thead>\n",
       "    <tr style=\"text-align: right;\">\n",
       "      <th></th>\n",
       "      <th>번호</th>\n",
       "      <th>지역</th>\n",
       "      <th>상호</th>\n",
       "      <th>주소</th>\n",
       "      <th>기간</th>\n",
       "      <th>상표</th>\n",
       "      <th>셀프여부</th>\n",
       "      <th>고급휘발유</th>\n",
       "      <th>휘발유</th>\n",
       "      <th>경유</th>\n",
       "      <th>실내등유</th>\n",
       "      <th>월별</th>\n",
       "    </tr>\n",
       "  </thead>\n",
       "  <tbody>\n",
       "    <tr>\n",
       "      <th>0</th>\n",
       "      <td>A0006039</td>\n",
       "      <td>서울 강남구</td>\n",
       "      <td>(유)동하석유 힐탑셀프주유소</td>\n",
       "      <td>서울 강남구 논현로 640</td>\n",
       "      <td>20220101</td>\n",
       "      <td>SK에너지</td>\n",
       "      <td>셀프</td>\n",
       "      <td>1887</td>\n",
       "      <td>1737</td>\n",
       "      <td>1587</td>\n",
       "      <td>0</td>\n",
       "      <td>1</td>\n",
       "    </tr>\n",
       "    <tr>\n",
       "      <th>1</th>\n",
       "      <td>A0006039</td>\n",
       "      <td>서울 강남구</td>\n",
       "      <td>(유)동하석유 힐탑셀프주유소</td>\n",
       "      <td>서울 강남구 논현로 640</td>\n",
       "      <td>20220102</td>\n",
       "      <td>SK에너지</td>\n",
       "      <td>셀프</td>\n",
       "      <td>1887</td>\n",
       "      <td>1737</td>\n",
       "      <td>1587</td>\n",
       "      <td>0</td>\n",
       "      <td>1</td>\n",
       "    </tr>\n",
       "    <tr>\n",
       "      <th>2</th>\n",
       "      <td>A0006039</td>\n",
       "      <td>서울 강남구</td>\n",
       "      <td>(유)동하석유 힐탑셀프주유소</td>\n",
       "      <td>서울 강남구 논현로 640</td>\n",
       "      <td>20220103</td>\n",
       "      <td>SK에너지</td>\n",
       "      <td>셀프</td>\n",
       "      <td>1887</td>\n",
       "      <td>1737</td>\n",
       "      <td>1587</td>\n",
       "      <td>0</td>\n",
       "      <td>1</td>\n",
       "    </tr>\n",
       "    <tr>\n",
       "      <th>3</th>\n",
       "      <td>A0006039</td>\n",
       "      <td>서울 강남구</td>\n",
       "      <td>(유)동하석유 힐탑셀프주유소</td>\n",
       "      <td>서울 강남구 논현로 640</td>\n",
       "      <td>20220104</td>\n",
       "      <td>SK에너지</td>\n",
       "      <td>셀프</td>\n",
       "      <td>1887</td>\n",
       "      <td>1737</td>\n",
       "      <td>1587</td>\n",
       "      <td>0</td>\n",
       "      <td>1</td>\n",
       "    </tr>\n",
       "    <tr>\n",
       "      <th>4</th>\n",
       "      <td>A0006039</td>\n",
       "      <td>서울 강남구</td>\n",
       "      <td>(유)동하석유 힐탑셀프주유소</td>\n",
       "      <td>서울 강남구 논현로 640</td>\n",
       "      <td>20220105</td>\n",
       "      <td>SK에너지</td>\n",
       "      <td>셀프</td>\n",
       "      <td>1887</td>\n",
       "      <td>1737</td>\n",
       "      <td>1587</td>\n",
       "      <td>0</td>\n",
       "      <td>1</td>\n",
       "    </tr>\n",
       "    <tr>\n",
       "      <th>...</th>\n",
       "      <td>...</td>\n",
       "      <td>...</td>\n",
       "      <td>...</td>\n",
       "      <td>...</td>\n",
       "      <td>...</td>\n",
       "      <td>...</td>\n",
       "      <td>...</td>\n",
       "      <td>...</td>\n",
       "      <td>...</td>\n",
       "      <td>...</td>\n",
       "      <td>...</td>\n",
       "      <td>...</td>\n",
       "    </tr>\n",
       "    <tr>\n",
       "      <th>81788</th>\n",
       "      <td>A0009138</td>\n",
       "      <td>서울 중랑구</td>\n",
       "      <td>우림주유소</td>\n",
       "      <td>서울 중랑구 용마산로 487 (망우제3동)</td>\n",
       "      <td>20221227</td>\n",
       "      <td>GS칼텍스</td>\n",
       "      <td>셀프</td>\n",
       "      <td>0</td>\n",
       "      <td>1525</td>\n",
       "      <td>1745</td>\n",
       "      <td>0</td>\n",
       "      <td>12</td>\n",
       "    </tr>\n",
       "    <tr>\n",
       "      <th>81789</th>\n",
       "      <td>A0009138</td>\n",
       "      <td>서울 중랑구</td>\n",
       "      <td>우림주유소</td>\n",
       "      <td>서울 중랑구 용마산로 487 (망우제3동)</td>\n",
       "      <td>20221228</td>\n",
       "      <td>GS칼텍스</td>\n",
       "      <td>셀프</td>\n",
       "      <td>0</td>\n",
       "      <td>1525</td>\n",
       "      <td>1720</td>\n",
       "      <td>0</td>\n",
       "      <td>12</td>\n",
       "    </tr>\n",
       "    <tr>\n",
       "      <th>81790</th>\n",
       "      <td>A0009138</td>\n",
       "      <td>서울 중랑구</td>\n",
       "      <td>우림주유소</td>\n",
       "      <td>서울 중랑구 용마산로 487 (망우제3동)</td>\n",
       "      <td>20221229</td>\n",
       "      <td>GS칼텍스</td>\n",
       "      <td>셀프</td>\n",
       "      <td>0</td>\n",
       "      <td>1525</td>\n",
       "      <td>1720</td>\n",
       "      <td>0</td>\n",
       "      <td>12</td>\n",
       "    </tr>\n",
       "    <tr>\n",
       "      <th>81791</th>\n",
       "      <td>A0009138</td>\n",
       "      <td>서울 중랑구</td>\n",
       "      <td>우림주유소</td>\n",
       "      <td>서울 중랑구 용마산로 487 (망우제3동)</td>\n",
       "      <td>20221230</td>\n",
       "      <td>GS칼텍스</td>\n",
       "      <td>셀프</td>\n",
       "      <td>0</td>\n",
       "      <td>1515</td>\n",
       "      <td>1715</td>\n",
       "      <td>0</td>\n",
       "      <td>12</td>\n",
       "    </tr>\n",
       "    <tr>\n",
       "      <th>81792</th>\n",
       "      <td>A0009138</td>\n",
       "      <td>서울 중랑구</td>\n",
       "      <td>우림주유소</td>\n",
       "      <td>서울 중랑구 용마산로 487 (망우제3동)</td>\n",
       "      <td>20221231</td>\n",
       "      <td>GS칼텍스</td>\n",
       "      <td>셀프</td>\n",
       "      <td>0</td>\n",
       "      <td>1515</td>\n",
       "      <td>1715</td>\n",
       "      <td>0</td>\n",
       "      <td>12</td>\n",
       "    </tr>\n",
       "  </tbody>\n",
       "</table>\n",
       "<p>164482 rows × 12 columns</p>\n",
       "</div>"
      ],
      "text/plain": [
       "             번호      지역               상호                       주소        기간  \\\n",
       "0      A0006039  서울 강남구  (유)동하석유 힐탑셀프주유소           서울 강남구 논현로 640  20220101   \n",
       "1      A0006039  서울 강남구  (유)동하석유 힐탑셀프주유소           서울 강남구 논현로 640  20220102   \n",
       "2      A0006039  서울 강남구  (유)동하석유 힐탑셀프주유소           서울 강남구 논현로 640  20220103   \n",
       "3      A0006039  서울 강남구  (유)동하석유 힐탑셀프주유소           서울 강남구 논현로 640  20220104   \n",
       "4      A0006039  서울 강남구  (유)동하석유 힐탑셀프주유소           서울 강남구 논현로 640  20220105   \n",
       "...         ...     ...              ...                      ...       ...   \n",
       "81788  A0009138  서울 중랑구            우림주유소  서울 중랑구 용마산로 487 (망우제3동)  20221227   \n",
       "81789  A0009138  서울 중랑구            우림주유소  서울 중랑구 용마산로 487 (망우제3동)  20221228   \n",
       "81790  A0009138  서울 중랑구            우림주유소  서울 중랑구 용마산로 487 (망우제3동)  20221229   \n",
       "81791  A0009138  서울 중랑구            우림주유소  서울 중랑구 용마산로 487 (망우제3동)  20221230   \n",
       "81792  A0009138  서울 중랑구            우림주유소  서울 중랑구 용마산로 487 (망우제3동)  20221231   \n",
       "\n",
       "          상표 셀프여부  고급휘발유   휘발유    경유  실내등유  월별  \n",
       "0      SK에너지   셀프   1887  1737  1587     0   1  \n",
       "1      SK에너지   셀프   1887  1737  1587     0   1  \n",
       "2      SK에너지   셀프   1887  1737  1587     0   1  \n",
       "3      SK에너지   셀프   1887  1737  1587     0   1  \n",
       "4      SK에너지   셀프   1887  1737  1587     0   1  \n",
       "...      ...  ...    ...   ...   ...   ...  ..  \n",
       "81788  GS칼텍스   셀프      0  1525  1745     0  12  \n",
       "81789  GS칼텍스   셀프      0  1525  1720     0  12  \n",
       "81790  GS칼텍스   셀프      0  1525  1720     0  12  \n",
       "81791  GS칼텍스   셀프      0  1515  1715     0  12  \n",
       "81792  GS칼텍스   셀프      0  1515  1715     0  12  \n",
       "\n",
       "[164482 rows x 12 columns]"
      ]
     },
     "execution_count": 68,
     "metadata": {},
     "output_type": "execute_result"
    }
   ],
   "source": [
    "# 휘발유 비싼 주유소의 상위 5개의 상호, 주소, 상표, 셀프여부,  조회 - 위에서 조회한 결과에 추가 정보(상표, 셀프여부 등) 조회 (중복제거-drop_duplicates)\n",
    "result"
   ]
  },
  {
   "cell_type": "code",
   "execution_count": 81,
   "metadata": {
    "ExecuteTime": {
     "end_time": "2022-06-17T04:38:27.877936Z",
     "start_time": "2022-06-17T04:38:27.858987Z"
    }
   },
   "outputs": [
    {
     "data": {
      "text/html": [
       "<div>\n",
       "<style scoped>\n",
       "    .dataframe tbody tr th:only-of-type {\n",
       "        vertical-align: middle;\n",
       "    }\n",
       "\n",
       "    .dataframe tbody tr th {\n",
       "        vertical-align: top;\n",
       "    }\n",
       "\n",
       "    .dataframe thead th {\n",
       "        text-align: right;\n",
       "    }\n",
       "</style>\n",
       "<table border=\"1\" class=\"dataframe\">\n",
       "  <thead>\n",
       "    <tr style=\"text-align: right;\">\n",
       "      <th></th>\n",
       "      <th>번호</th>\n",
       "      <th>지역</th>\n",
       "      <th>상호</th>\n",
       "      <th>주소</th>\n",
       "      <th>기간</th>\n",
       "      <th>상표</th>\n",
       "      <th>셀프여부</th>\n",
       "      <th>고급휘발유</th>\n",
       "      <th>휘발유</th>\n",
       "      <th>경유</th>\n",
       "      <th>실내등유</th>\n",
       "      <th>월별</th>\n",
       "    </tr>\n",
       "  </thead>\n",
       "  <tbody>\n",
       "    <tr>\n",
       "      <th>0</th>\n",
       "      <td>A0006039</td>\n",
       "      <td>서울 강남구</td>\n",
       "      <td>(유)동하석유 힐탑셀프주유소</td>\n",
       "      <td>서울 강남구 논현로 640</td>\n",
       "      <td>20220101</td>\n",
       "      <td>SK에너지</td>\n",
       "      <td>셀프</td>\n",
       "      <td>1887</td>\n",
       "      <td>1737</td>\n",
       "      <td>1587</td>\n",
       "      <td>0</td>\n",
       "      <td>1</td>\n",
       "    </tr>\n",
       "    <tr>\n",
       "      <th>1</th>\n",
       "      <td>A0006039</td>\n",
       "      <td>서울 강남구</td>\n",
       "      <td>(유)동하석유 힐탑셀프주유소</td>\n",
       "      <td>서울 강남구 논현로 640</td>\n",
       "      <td>20220102</td>\n",
       "      <td>SK에너지</td>\n",
       "      <td>셀프</td>\n",
       "      <td>1887</td>\n",
       "      <td>1737</td>\n",
       "      <td>1587</td>\n",
       "      <td>0</td>\n",
       "      <td>1</td>\n",
       "    </tr>\n",
       "    <tr>\n",
       "      <th>2</th>\n",
       "      <td>A0006039</td>\n",
       "      <td>서울 강남구</td>\n",
       "      <td>(유)동하석유 힐탑셀프주유소</td>\n",
       "      <td>서울 강남구 논현로 640</td>\n",
       "      <td>20220103</td>\n",
       "      <td>SK에너지</td>\n",
       "      <td>셀프</td>\n",
       "      <td>1887</td>\n",
       "      <td>1737</td>\n",
       "      <td>1587</td>\n",
       "      <td>0</td>\n",
       "      <td>1</td>\n",
       "    </tr>\n",
       "    <tr>\n",
       "      <th>3</th>\n",
       "      <td>A0006039</td>\n",
       "      <td>서울 강남구</td>\n",
       "      <td>(유)동하석유 힐탑셀프주유소</td>\n",
       "      <td>서울 강남구 논현로 640</td>\n",
       "      <td>20220104</td>\n",
       "      <td>SK에너지</td>\n",
       "      <td>셀프</td>\n",
       "      <td>1887</td>\n",
       "      <td>1737</td>\n",
       "      <td>1587</td>\n",
       "      <td>0</td>\n",
       "      <td>1</td>\n",
       "    </tr>\n",
       "    <tr>\n",
       "      <th>4</th>\n",
       "      <td>A0006039</td>\n",
       "      <td>서울 강남구</td>\n",
       "      <td>(유)동하석유 힐탑셀프주유소</td>\n",
       "      <td>서울 강남구 논현로 640</td>\n",
       "      <td>20220105</td>\n",
       "      <td>SK에너지</td>\n",
       "      <td>셀프</td>\n",
       "      <td>1887</td>\n",
       "      <td>1737</td>\n",
       "      <td>1587</td>\n",
       "      <td>0</td>\n",
       "      <td>1</td>\n",
       "    </tr>\n",
       "    <tr>\n",
       "      <th>...</th>\n",
       "      <td>...</td>\n",
       "      <td>...</td>\n",
       "      <td>...</td>\n",
       "      <td>...</td>\n",
       "      <td>...</td>\n",
       "      <td>...</td>\n",
       "      <td>...</td>\n",
       "      <td>...</td>\n",
       "      <td>...</td>\n",
       "      <td>...</td>\n",
       "      <td>...</td>\n",
       "      <td>...</td>\n",
       "    </tr>\n",
       "    <tr>\n",
       "      <th>81788</th>\n",
       "      <td>A0009138</td>\n",
       "      <td>서울 중랑구</td>\n",
       "      <td>우림주유소</td>\n",
       "      <td>서울 중랑구 용마산로 487 (망우제3동)</td>\n",
       "      <td>20221227</td>\n",
       "      <td>GS칼텍스</td>\n",
       "      <td>셀프</td>\n",
       "      <td>0</td>\n",
       "      <td>1525</td>\n",
       "      <td>1745</td>\n",
       "      <td>0</td>\n",
       "      <td>12</td>\n",
       "    </tr>\n",
       "    <tr>\n",
       "      <th>81789</th>\n",
       "      <td>A0009138</td>\n",
       "      <td>서울 중랑구</td>\n",
       "      <td>우림주유소</td>\n",
       "      <td>서울 중랑구 용마산로 487 (망우제3동)</td>\n",
       "      <td>20221228</td>\n",
       "      <td>GS칼텍스</td>\n",
       "      <td>셀프</td>\n",
       "      <td>0</td>\n",
       "      <td>1525</td>\n",
       "      <td>1720</td>\n",
       "      <td>0</td>\n",
       "      <td>12</td>\n",
       "    </tr>\n",
       "    <tr>\n",
       "      <th>81790</th>\n",
       "      <td>A0009138</td>\n",
       "      <td>서울 중랑구</td>\n",
       "      <td>우림주유소</td>\n",
       "      <td>서울 중랑구 용마산로 487 (망우제3동)</td>\n",
       "      <td>20221229</td>\n",
       "      <td>GS칼텍스</td>\n",
       "      <td>셀프</td>\n",
       "      <td>0</td>\n",
       "      <td>1525</td>\n",
       "      <td>1720</td>\n",
       "      <td>0</td>\n",
       "      <td>12</td>\n",
       "    </tr>\n",
       "    <tr>\n",
       "      <th>81791</th>\n",
       "      <td>A0009138</td>\n",
       "      <td>서울 중랑구</td>\n",
       "      <td>우림주유소</td>\n",
       "      <td>서울 중랑구 용마산로 487 (망우제3동)</td>\n",
       "      <td>20221230</td>\n",
       "      <td>GS칼텍스</td>\n",
       "      <td>셀프</td>\n",
       "      <td>0</td>\n",
       "      <td>1515</td>\n",
       "      <td>1715</td>\n",
       "      <td>0</td>\n",
       "      <td>12</td>\n",
       "    </tr>\n",
       "    <tr>\n",
       "      <th>81792</th>\n",
       "      <td>A0009138</td>\n",
       "      <td>서울 중랑구</td>\n",
       "      <td>우림주유소</td>\n",
       "      <td>서울 중랑구 용마산로 487 (망우제3동)</td>\n",
       "      <td>20221231</td>\n",
       "      <td>GS칼텍스</td>\n",
       "      <td>셀프</td>\n",
       "      <td>0</td>\n",
       "      <td>1515</td>\n",
       "      <td>1715</td>\n",
       "      <td>0</td>\n",
       "      <td>12</td>\n",
       "    </tr>\n",
       "  </tbody>\n",
       "</table>\n",
       "<p>164181 rows × 12 columns</p>\n",
       "</div>"
      ],
      "text/plain": [
       "             번호      지역               상호                       주소        기간  \\\n",
       "0      A0006039  서울 강남구  (유)동하석유 힐탑셀프주유소           서울 강남구 논현로 640  20220101   \n",
       "1      A0006039  서울 강남구  (유)동하석유 힐탑셀프주유소           서울 강남구 논현로 640  20220102   \n",
       "2      A0006039  서울 강남구  (유)동하석유 힐탑셀프주유소           서울 강남구 논현로 640  20220103   \n",
       "3      A0006039  서울 강남구  (유)동하석유 힐탑셀프주유소           서울 강남구 논현로 640  20220104   \n",
       "4      A0006039  서울 강남구  (유)동하석유 힐탑셀프주유소           서울 강남구 논현로 640  20220105   \n",
       "...         ...     ...              ...                      ...       ...   \n",
       "81788  A0009138  서울 중랑구            우림주유소  서울 중랑구 용마산로 487 (망우제3동)  20221227   \n",
       "81789  A0009138  서울 중랑구            우림주유소  서울 중랑구 용마산로 487 (망우제3동)  20221228   \n",
       "81790  A0009138  서울 중랑구            우림주유소  서울 중랑구 용마산로 487 (망우제3동)  20221229   \n",
       "81791  A0009138  서울 중랑구            우림주유소  서울 중랑구 용마산로 487 (망우제3동)  20221230   \n",
       "81792  A0009138  서울 중랑구            우림주유소  서울 중랑구 용마산로 487 (망우제3동)  20221231   \n",
       "\n",
       "          상표 셀프여부  고급휘발유   휘발유    경유  실내등유  월별  \n",
       "0      SK에너지   셀프   1887  1737  1587     0   1  \n",
       "1      SK에너지   셀프   1887  1737  1587     0   1  \n",
       "2      SK에너지   셀프   1887  1737  1587     0   1  \n",
       "3      SK에너지   셀프   1887  1737  1587     0   1  \n",
       "4      SK에너지   셀프   1887  1737  1587     0   1  \n",
       "...      ...  ...    ...   ...   ...   ...  ..  \n",
       "81788  GS칼텍스   셀프      0  1525  1745     0  12  \n",
       "81789  GS칼텍스   셀프      0  1525  1720     0  12  \n",
       "81790  GS칼텍스   셀프      0  1525  1720     0  12  \n",
       "81791  GS칼텍스   셀프      0  1515  1715     0  12  \n",
       "81792  GS칼텍스   셀프      0  1515  1715     0  12  \n",
       "\n",
       "[164181 rows x 12 columns]"
      ]
     },
     "execution_count": 81,
     "metadata": {},
     "output_type": "execute_result"
    }
   ],
   "source": [
    "# 휘발유 저렴한 주유소의 상위 5개의 상호, 주소, 상표, 셀프여부,  조회 - 위에서 조회한 결과에 추가 정보(상표, 셀프여부 등) 조회 (중복제거-drop_duplicates)\n",
    "less_oil = result[result['휘발유']>0]\n",
    "less_oil.pivot_table(index)"
   ]
  },
  {
   "cell_type": "code",
   "execution_count": null,
   "metadata": {
    "ExecuteTime": {
     "end_time": "2021-03-15T00:08:33.086454Z",
     "start_time": "2021-03-15T00:08:33.041006Z"
    }
   },
   "outputs": [],
   "source": [
    "# 고급 휘발유를 가장 많이 파는 구 조회"
   ]
  },
  {
   "cell_type": "code",
   "execution_count": null,
   "metadata": {},
   "outputs": [],
   "source": []
  },
  {
   "cell_type": "code",
   "execution_count": null,
   "metadata": {},
   "outputs": [],
   "source": [
    "###############################################################################\n",
    "# 주유소 가격 데이터를 이용해서 알고 싶은 정보들을 추가 분석해 보세요.\n",
    "###############################################################################\n"
   ]
  },
  {
   "cell_type": "code",
   "execution_count": null,
   "metadata": {},
   "outputs": [],
   "source": []
  },
  {
   "cell_type": "code",
   "execution_count": null,
   "metadata": {},
   "outputs": [],
   "source": []
  },
  {
   "cell_type": "code",
   "execution_count": null,
   "metadata": {},
   "outputs": [],
   "source": []
  },
  {
   "cell_type": "code",
   "execution_count": null,
   "metadata": {},
   "outputs": [],
   "source": [
    "a = np.arange(1,16).reshape(3,5)\n",
    "a"
   ]
  },
  {
   "cell_type": "code",
   "execution_count": null,
   "metadata": {
    "tags": []
   },
   "outputs": [],
   "source": [
    "a[0,0],a[1,2],a[2,4]#1"
   ]
  },
  {
   "cell_type": "code",
   "execution_count": null,
   "metadata": {
    "tags": []
   },
   "outputs": [],
   "source": [
    "a[[0,1,2],[0,2,4]]#2"
   ]
  },
  {
   "cell_type": "code",
   "execution_count": null,
   "metadata": {
    "tags": []
   },
   "outputs": [],
   "source": [
    "a[[0,1,2,0,1,2,0,1,2],[0,0,0,2,2,2,4,4,4]]#3"
   ]
  },
  {
   "cell_type": "code",
   "execution_count": null,
   "metadata": {
    "tags": []
   },
   "outputs": [],
   "source": [
    "a[[0,2],[0,2]]"
   ]
  },
  {
   "cell_type": "code",
   "execution_count": null,
   "metadata": {
    "tags": []
   },
   "outputs": [],
   "source": [
    "a[[],[]]"
   ]
  },
  {
   "cell_type": "code",
   "execution_count": null,
   "metadata": {},
   "outputs": [],
   "source": [
    "([[ 1,  2,  3,  4,  5],\n",
    "       [ 6,  7,  8,  9, 10],\n",
    "       [11, 12, 13, 14, 15]])\n",
    "([[ 1,  2,  3,  4,  5],\n",
    "       [ 6,  7,  8,  9, 10],\n",
    "       [11, 12, 13, 14, 15]])\n",
    "([[ 1,  2,  3,  4,  5],\n",
    "       [ 6,  7,  8,  9, 10],\n",
    "       [11, 12, 13, 14, 15]])"
   ]
  },
  {
   "cell_type": "code",
   "execution_count": null,
   "metadata": {
    "tags": []
   },
   "outputs": [],
   "source": [
    "a[[0,2,0,2],[0,0,2,2]]  #4"
   ]
  },
  {
   "cell_type": "code",
   "execution_count": null,
   "metadata": {
    "tags": []
   },
   "outputs": [],
   "source": [
    "a[[[0],[2]],[0,2]]"
   ]
  },
  {
   "cell_type": "code",
   "execution_count": null,
   "metadata": {},
   "outputs": [],
   "source": [
    "a[[0,2],[0,2]]"
   ]
  },
  {
   "cell_type": "code",
   "execution_count": null,
   "metadata": {},
   "outputs": [],
   "source": [
    "0 - 0\n",
    "2 - 2"
   ]
  },
  {
   "cell_type": "code",
   "execution_count": null,
   "metadata": {},
   "outputs": [],
   "source": [
    "[0,2]  [0,2]"
   ]
  },
  {
   "cell_type": "code",
   "execution_count": null,
   "metadata": {},
   "outputs": [],
   "source": [
    "[0],[2]  [0,2]"
   ]
  },
  {
   "cell_type": "code",
   "execution_count": null,
   "metadata": {},
   "outputs": [],
   "source": [
    "[0] - [0,2]\n",
    "[2] - [0,2]"
   ]
  },
  {
   "cell_type": "code",
   "execution_count": null,
   "metadata": {},
   "outputs": [],
   "source": []
  }
 ],
 "metadata": {
  "kernelspec": {
   "display_name": "Python 3 (ipykernel)",
   "language": "python",
   "name": "python3"
  },
  "language_info": {
   "codemirror_mode": {
    "name": "ipython",
    "version": 3
   },
   "file_extension": ".py",
   "mimetype": "text/x-python",
   "name": "python",
   "nbconvert_exporter": "python",
   "pygments_lexer": "ipython3",
   "version": "3.11.5"
  },
  "toc": {
   "base_numbering": 1,
   "nav_menu": {},
   "number_sections": true,
   "sideBar": true,
   "skip_h1_title": false,
   "title_cell": "Table of Contents",
   "title_sidebar": "Contents",
   "toc_cell": false,
   "toc_position": {},
   "toc_section_display": true,
   "toc_window_display": false
  },
  "varInspector": {
   "cols": {
    "lenName": 16,
    "lenType": 16,
    "lenVar": 40
   },
   "kernels_config": {
    "python": {
     "delete_cmd_postfix": "",
     "delete_cmd_prefix": "del ",
     "library": "var_list.py",
     "varRefreshCmd": "print(var_dic_list())"
    },
    "r": {
     "delete_cmd_postfix": ") ",
     "delete_cmd_prefix": "rm(",
     "library": "var_list.r",
     "varRefreshCmd": "cat(var_dic_list()) "
    }
   },
   "types_to_exclude": [
    "module",
    "function",
    "builtin_function_or_method",
    "instance",
    "_Feature"
   ],
   "window_display": false
  }
 },
 "nbformat": 4,
 "nbformat_minor": 4
}
