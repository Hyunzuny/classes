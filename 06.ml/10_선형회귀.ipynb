{
 "cells": [
  {
   "cell_type": "markdown",
   "metadata": {
    "slideshow": {
     "slide_type": "slide"
    }
   },
   "source": [
    "# 선형회귀 개요\n",
    "\n",
    "선형 회귀(線型回歸, Linear regression)는 종속 변수 y와 한 개 이상의 독립 변수X와의 선형 상관 관계를 모델링하는 회귀분석 기법. [위키백과](https://ko.wikipedia.org/wiki/%EC%84%A0%ED%98%95_%ED%9A%8C%EA%B7%80)"
   ]
  },
  {
   "cell_type": "markdown",
   "metadata": {
    "slideshow": {
     "slide_type": "fragment"
    }
   },
   "source": [
    "## 선형회귀 모델\n",
    "- 각 Feature들에 가중치(Weight)를 곱하고 편향(bias)를 더해 예측 결과를 출력한다.\n",
    "- Weight와 bias가 학습 대상 Parameter가 된다.\n",
    "\n",
    "$$\n",
    "\\hat{y_i} = w_1 x_{i1} + w_2 x_{i2}... + w_{p} x_{ip} + b\n",
    "\\\\\n",
    "\\hat{y_i} = \\mathbf{w}^{T} \\cdot \\mathbf{X} \n",
    "$$\n",
    "\n",
    "- $\\hat{y_i}$: 예측값\n",
    "- $x$: 특성(feature-컬럼)\n",
    "- $w$: 가중치(weight), 회귀계수(regression coefficient). 특성이 $\\hat{y_i}$ 에 얼마나 영향을 주는지 정도\n",
    "- $b$: 절편\n",
    "- $p$: p 번째 특성(feature)/p번째 가중치\n",
    "- $i$: i번째 관측치(sample)"
   ]
  },
  {
   "cell_type": "markdown",
   "metadata": {
    "slideshow": {
     "slide_type": "slide"
    }
   },
   "source": [
    "## LinearRegression\n",
    "- 가장 기본적인 선형 회귀 모델\n",
    "- 각 Feauture에 가중합으로 Y값을 추론한다.\n",
    "### 데이터 전처리\n",
    "\n",
    "- **선형회귀 모델사용시 전처리**\n",
    "    - **범주형 Feature**\n",
    "        - : 원핫 인코딩\n",
    "    - **연속형 Feature**\n",
    "        - Feature Scaling을 통해서 각 컬럼들의 값의 단위를 맞춰준다.\n",
    "        - StandardScaler를 사용할 때 성능이 더 잘나오는 경향이 있다."
   ]
  },
  {
   "cell_type": "code",
   "execution_count": 6,
   "metadata": {
    "tags": []
   },
   "outputs": [],
   "source": [
    "from dataset import get_boston_dataset\n",
    "X_train, X_test, y_train, y_test = get_boston_dataset()"
   ]
  },
  {
   "cell_type": "code",
   "execution_count": 9,
   "metadata": {
    "tags": []
   },
   "outputs": [
    {
     "data": {
      "text/plain": [
       "(379, 13)"
      ]
     },
     "execution_count": 9,
     "metadata": {},
     "output_type": "execute_result"
    }
   ],
   "source": [
    "X_train.shape"
   ]
  },
  {
   "cell_type": "markdown",
   "metadata": {},
   "source": [
    "트리, 부스팅은 피쳐스케일링 사용할 필요없고 나머지는 다한다 생각하면됨."
   ]
  },
  {
   "cell_type": "code",
   "execution_count": 4,
   "metadata": {
    "tags": []
   },
   "outputs": [],
   "source": [
    "from sklearn.preprocessing import StandardScaler\n",
    "scaler = StandardScaler()\n",
    "X_train_scaled = scaler.fit_transform(X_train)\n",
    "X_test_scaled = scaler.transform(X_test)"
   ]
  },
  {
   "cell_type": "code",
   "execution_count": 5,
   "metadata": {
    "tags": []
   },
   "outputs": [
    {
     "data": {
      "text/html": [
       "<style>#sk-container-id-1 {color: black;}#sk-container-id-1 pre{padding: 0;}#sk-container-id-1 div.sk-toggleable {background-color: white;}#sk-container-id-1 label.sk-toggleable__label {cursor: pointer;display: block;width: 100%;margin-bottom: 0;padding: 0.3em;box-sizing: border-box;text-align: center;}#sk-container-id-1 label.sk-toggleable__label-arrow:before {content: \"▸\";float: left;margin-right: 0.25em;color: #696969;}#sk-container-id-1 label.sk-toggleable__label-arrow:hover:before {color: black;}#sk-container-id-1 div.sk-estimator:hover label.sk-toggleable__label-arrow:before {color: black;}#sk-container-id-1 div.sk-toggleable__content {max-height: 0;max-width: 0;overflow: hidden;text-align: left;background-color: #f0f8ff;}#sk-container-id-1 div.sk-toggleable__content pre {margin: 0.2em;color: black;border-radius: 0.25em;background-color: #f0f8ff;}#sk-container-id-1 input.sk-toggleable__control:checked~div.sk-toggleable__content {max-height: 200px;max-width: 100%;overflow: auto;}#sk-container-id-1 input.sk-toggleable__control:checked~label.sk-toggleable__label-arrow:before {content: \"▾\";}#sk-container-id-1 div.sk-estimator input.sk-toggleable__control:checked~label.sk-toggleable__label {background-color: #d4ebff;}#sk-container-id-1 div.sk-label input.sk-toggleable__control:checked~label.sk-toggleable__label {background-color: #d4ebff;}#sk-container-id-1 input.sk-hidden--visually {border: 0;clip: rect(1px 1px 1px 1px);clip: rect(1px, 1px, 1px, 1px);height: 1px;margin: -1px;overflow: hidden;padding: 0;position: absolute;width: 1px;}#sk-container-id-1 div.sk-estimator {font-family: monospace;background-color: #f0f8ff;border: 1px dotted black;border-radius: 0.25em;box-sizing: border-box;margin-bottom: 0.5em;}#sk-container-id-1 div.sk-estimator:hover {background-color: #d4ebff;}#sk-container-id-1 div.sk-parallel-item::after {content: \"\";width: 100%;border-bottom: 1px solid gray;flex-grow: 1;}#sk-container-id-1 div.sk-label:hover label.sk-toggleable__label {background-color: #d4ebff;}#sk-container-id-1 div.sk-serial::before {content: \"\";position: absolute;border-left: 1px solid gray;box-sizing: border-box;top: 0;bottom: 0;left: 50%;z-index: 0;}#sk-container-id-1 div.sk-serial {display: flex;flex-direction: column;align-items: center;background-color: white;padding-right: 0.2em;padding-left: 0.2em;position: relative;}#sk-container-id-1 div.sk-item {position: relative;z-index: 1;}#sk-container-id-1 div.sk-parallel {display: flex;align-items: stretch;justify-content: center;background-color: white;position: relative;}#sk-container-id-1 div.sk-item::before, #sk-container-id-1 div.sk-parallel-item::before {content: \"\";position: absolute;border-left: 1px solid gray;box-sizing: border-box;top: 0;bottom: 0;left: 50%;z-index: -1;}#sk-container-id-1 div.sk-parallel-item {display: flex;flex-direction: column;z-index: 1;position: relative;background-color: white;}#sk-container-id-1 div.sk-parallel-item:first-child::after {align-self: flex-end;width: 50%;}#sk-container-id-1 div.sk-parallel-item:last-child::after {align-self: flex-start;width: 50%;}#sk-container-id-1 div.sk-parallel-item:only-child::after {width: 0;}#sk-container-id-1 div.sk-dashed-wrapped {border: 1px dashed gray;margin: 0 0.4em 0.5em 0.4em;box-sizing: border-box;padding-bottom: 0.4em;background-color: white;}#sk-container-id-1 div.sk-label label {font-family: monospace;font-weight: bold;display: inline-block;line-height: 1.2em;}#sk-container-id-1 div.sk-label-container {text-align: center;}#sk-container-id-1 div.sk-container {/* jupyter's `normalize.less` sets `[hidden] { display: none; }` but bootstrap.min.css set `[hidden] { display: none !important; }` so we also need the `!important` here to be able to override the default hidden behavior on the sphinx rendered scikit-learn.org. See: https://github.com/scikit-learn/scikit-learn/issues/21755 */display: inline-block !important;position: relative;}#sk-container-id-1 div.sk-text-repr-fallback {display: none;}</style><div id=\"sk-container-id-1\" class=\"sk-top-container\"><div class=\"sk-text-repr-fallback\"><pre>LinearRegression()</pre><b>In a Jupyter environment, please rerun this cell to show the HTML representation or trust the notebook. <br />On GitHub, the HTML representation is unable to render, please try loading this page with nbviewer.org.</b></div><div class=\"sk-container\" hidden><div class=\"sk-item\"><div class=\"sk-estimator sk-toggleable\"><input class=\"sk-toggleable__control sk-hidden--visually\" id=\"sk-estimator-id-1\" type=\"checkbox\" checked><label for=\"sk-estimator-id-1\" class=\"sk-toggleable__label sk-toggleable__label-arrow\">LinearRegression</label><div class=\"sk-toggleable__content\"><pre>LinearRegression()</pre></div></div></div></div></div>"
      ],
      "text/plain": [
       "LinearRegression()"
      ]
     },
     "execution_count": 5,
     "metadata": {},
     "output_type": "execute_result"
    }
   ],
   "source": [
    "from sklearn.linear_model import LinearRegression\n",
    "lr = LinearRegression()\n",
    "lr.fit(X_train_scaled, y_train)"
   ]
  },
  {
   "cell_type": "code",
   "execution_count": 10,
   "metadata": {
    "tags": []
   },
   "outputs": [
    {
     "data": {
      "text/plain": [
       "array([-0.97100092,  1.04667838, -0.04044753,  0.59408776, -1.80876877,\n",
       "        2.60991991, -0.19823317, -3.00216551,  2.08021582, -1.93289037,\n",
       "       -2.15743759,  0.75199122, -3.59027047])"
      ]
     },
     "execution_count": 10,
     "metadata": {},
     "output_type": "execute_result"
    }
   ],
   "source": [
    "# 학습후 각 feature들에 곱할 가중치들.\n",
    "lr.coef_ #가중치"
   ]
  },
  {
   "cell_type": "code",
   "execution_count": 16,
   "metadata": {
    "tags": []
   },
   "outputs": [
    {
     "data": {
      "text/plain": [
       "22.608707124010557"
      ]
     },
     "execution_count": 16,
     "metadata": {},
     "output_type": "execute_result"
    }
   ],
   "source": [
    "# bias(편향-절편)\n",
    "lr.intercept_  # 편향절편 b값"
   ]
  },
  {
   "cell_type": "code",
   "execution_count": 17,
   "metadata": {
    "tags": []
   },
   "outputs": [
    {
     "data": {
      "text/plain": [
       "(379, 1)"
      ]
     },
     "execution_count": 17,
     "metadata": {},
     "output_type": "execute_result"
    }
   ],
   "source": [
    "pred_train = X_train_scaled @ lr.coef_.reshape(-1,1) + lr.intercept_\n",
    "pred_train.shape"
   ]
  },
  {
   "cell_type": "markdown",
   "metadata": {
    "ExecuteTime": {
     "end_time": "2021-11-22T02:53:53.375962Z",
     "start_time": "2021-11-22T02:53:53.353025Z"
    },
    "slideshow": {
     "slide_type": "notes"
    }
   },
   "source": [
    "> ### Coeficient의 부호\n",
    "> - weight가 \n",
    "> - 양수: Feature가 1 증가할때 y(집값)도 weight만큼 증가한다.\n",
    "> - 음수: Feature가 1 증가할때 y(집값)도 weight만큼 감소한다.\n",
    "> - 절대값 기준으로 0에 가까울 수록 집값에 영향을 주지 않고 크면 클수록(0에서 멀어질 수록) 집값에 영향을 많이 주는 Feature 란 의미가 된다."
   ]
  },
  {
   "cell_type": "code",
   "execution_count": 18,
   "metadata": {
    "tags": []
   },
   "outputs": [
    {
     "data": {
      "text/plain": [
       "array([13.54334096])"
      ]
     },
     "execution_count": 18,
     "metadata": {},
     "output_type": "execute_result"
    }
   ],
   "source": [
    "#추론\n",
    "pred_1 = lr.predict(X_train_scaled[0].reshape(1, -1))\n",
    "pred_1"
   ]
  },
  {
   "cell_type": "code",
   "execution_count": 19,
   "metadata": {
    "tags": []
   },
   "outputs": [
    {
     "data": {
      "text/plain": [
       "array([[-0.3906002 ,  0.42637011, -0.74491444, -0.265747  , -1.07873298,\n",
       "        -1.02196078,  0.05196998,  1.99457086, -0.27832777, -0.42799376,\n",
       "         0.27878885,  0.34049624,  0.82212111]])"
      ]
     },
     "execution_count": 19,
     "metadata": {},
     "output_type": "execute_result"
    }
   ],
   "source": [
    "X_train_scaled[0].reshape(1,-1)"
   ]
  },
  {
   "cell_type": "code",
   "execution_count": 20,
   "metadata": {
    "tags": []
   },
   "outputs": [
    {
     "data": {
      "text/plain": [
       "13.543340962285875"
      ]
     },
     "execution_count": 20,
     "metadata": {},
     "output_type": "execute_result"
    }
   ],
   "source": [
    "X_train_scaled[0] @ lr.coef_ + lr.intercept_"
   ]
  },
  {
   "cell_type": "code",
   "execution_count": 21,
   "metadata": {
    "tags": []
   },
   "outputs": [
    {
     "data": {
      "text/plain": [
       "(379, 1)"
      ]
     },
     "execution_count": 21,
     "metadata": {},
     "output_type": "execute_result"
    }
   ],
   "source": [
    "pred_train = X_train_scaled @ lr.coef_.reshape(-1, 1) + lr.intercept_\n",
    "pred_train.shape"
   ]
  },
  {
   "cell_type": "code",
   "execution_count": 22,
   "metadata": {
    "tags": []
   },
   "outputs": [
    {
     "data": {
      "text/plain": [
       "(379,)"
      ]
     },
     "execution_count": 22,
     "metadata": {},
     "output_type": "execute_result"
    }
   ],
   "source": [
    "pred_train2 = lr.predict(X_train_scaled)\n",
    "pred_train2.shape"
   ]
  },
  {
   "cell_type": "code",
   "execution_count": 23,
   "metadata": {
    "tags": []
   },
   "outputs": [
    {
     "data": {
      "text/plain": [
       "array([13.54334096, 21.03611757, 35.25707372, 19.31180705, 12.9193462 ,\n",
       "       13.83454251, 22.66868871, 14.2409856 , 31.24023391, 25.2746277 ])"
      ]
     },
     "execution_count": 23,
     "metadata": {},
     "output_type": "execute_result"
    }
   ],
   "source": [
    "pred_train2[:10]"
   ]
  },
  {
   "cell_type": "code",
   "execution_count": 24,
   "metadata": {
    "tags": []
   },
   "outputs": [
    {
     "data": {
      "text/plain": [
       "379"
      ]
     },
     "execution_count": 24,
     "metadata": {},
     "output_type": "execute_result"
    }
   ],
   "source": [
    "(pred_train == pred_train2).sum()"
   ]
  },
  {
   "cell_type": "markdown",
   "metadata": {
    "slideshow": {
     "slide_type": "fragment"
    }
   },
   "source": [
    "##### 평가"
   ]
  },
  {
   "cell_type": "code",
   "execution_count": 25,
   "metadata": {
    "tags": []
   },
   "outputs": [
    {
     "name": "stdout",
     "output_type": "stream",
     "text": [
      "============train set============\n",
      "MSE: 19.640519427908043\n",
      "RMSE: 4.431762564477935\n",
      "R2: 0.7697699488741149\n"
     ]
    }
   ],
   "source": [
    "from metrics import print_metrics_regression\n",
    "print_metrics_regression(y_train, pred_train, \"train set\")"
   ]
  },
  {
   "cell_type": "code",
   "execution_count": 27,
   "metadata": {
    "tags": []
   },
   "outputs": [
    {
     "name": "stdout",
     "output_type": "stream",
     "text": [
      "============test set============\n",
      "MSE: 29.78224509230234\n",
      "RMSE: 5.457311159564052\n",
      "R2: 0.6354638433202132\n"
     ]
    }
   ],
   "source": [
    "pred_test = lr.predict(X_test_scaled)\n",
    "print_metrics_regression(y_test, pred_test, \"test set\")"
   ]
  },
  {
   "cell_type": "code",
   "execution_count": 28,
   "metadata": {
    "tags": []
   },
   "outputs": [
    {
     "data": {
      "image/png": "[encoded data removed]",
      "text/plain": [
       "<Figure size 2000x700 with 1 Axes>"
      ]
     },
     "metadata": {},
     "output_type": "display_data"
    }
   ],
   "source": [
    "import matplotlib.pyplot as plt\n",
    "plt.figure(figsize=(20, 7))\n",
    "x = range(len(y_test))\n",
    "plt.plot(x, y_test, marker='x', label=\"정답\")\n",
    "plt.plot(x, pred_test, marker='o', label=\"추정값\")\n",
    "plt.legend()\n",
    "plt.grid(True, linestyle=':')\n",
    "plt.title(\"정답, 모델 추정값 비교\")\n",
    "plt.show()"
   ]
  },
  {
   "cell_type": "markdown",
   "metadata": {
    "slideshow": {
     "slide_type": "slide"
    }
   },
   "source": [
    "# 다항회귀 (Polynomial Regression)\n",
    "- **데이터 전처리방식 중 하나**로 Feature가 너무 적어 y의 값들을 다 설명하지 못하여 underfitting이 된 경우 Feature를 늘려준다.\n",
    "- 각 Feature들을 거듭제곱한 것과 Feature들 끼리 곱한 새로운 특성들을 추가한다.\n",
    "    - 파라미터 가중치를 기준으로는 일차식이 되어 선형모델이다. 입력데이터(X)들을 기준으로는 N차식이 되어 비선형 데이터를 추론할 수 있는 모델이 된다.\n",
    "- `PolynomialFeatures` Transformer를 사용해서 변환한다."
   ]
  },
  {
   "cell_type": "markdown",
   "metadata": {
    "slideshow": {
     "slide_type": "slide"
    }
   },
   "source": [
    "## 예제"
   ]
  },
  {
   "cell_type": "markdown",
   "metadata": {
    "slideshow": {
     "slide_type": "fragment"
    }
   },
   "source": [
    "##### 데이터셋 만들기"
   ]
  },
  {
   "cell_type": "code",
   "execution_count": 29,
   "metadata": {
    "tags": []
   },
   "outputs": [],
   "source": [
    "import numpy as np\n",
    "import pandas as pd\n",
    "import matplotlib.pyplot as plt\n",
    "\n",
    "np.random.seed(0)\n",
    "\n",
    "# 우리가 찾아야 하는 함수\n",
    "def func(X):\n",
    "    return X**2 + X + 2 + np.random.normal(0,1, (X.size,1))\n",
    "\n",
    "N = 100 # 생성할 데이터 개수\n",
    "X = 6 * np.random.rand(N, 1) - 3   # X값\n",
    "y = func(X)"
   ]
  },
  {
   "cell_type": "code",
   "execution_count": 30,
   "metadata": {
    "tags": []
   },
   "outputs": [
    {
     "data": {
      "image/png": "[encoded data removed]",
      "text/plain": [
       "<Figure size 640x480 with 1 Axes>"
      ]
     },
     "metadata": {},
     "output_type": "display_data"
    }
   ],
   "source": [
    "plt.scatter(X, y);\n",
    "plt.show()"
   ]
  },
  {
   "cell_type": "code",
   "execution_count": 34,
   "metadata": {
    "tags": []
   },
   "outputs": [
    {
     "name": "stdout",
     "output_type": "stream",
     "text": [
      "MSE: 7.729204760808937\n",
      "RMSE: 2.7801447373848966\n",
      "R2: 0.19138252437306003\n"
     ]
    }
   ],
   "source": [
    "from sklearn.linear_model import LinearRegression\n",
    "from metrics import print_metrics_regression\n",
    "\n",
    "lr = LinearRegression()\n",
    "lr.fit(X, y)\n",
    "\n",
    "print_metrics_regression(y, lr.predict(X))"
   ]
  },
  {
   "cell_type": "code",
   "execution_count": null,
   "metadata": {},
   "outputs": [],
   "source": []
  },
  {
   "cell_type": "code",
   "execution_count": 41,
   "metadata": {
    "tags": []
   },
   "outputs": [
    {
     "data": {
      "image/png": "[encoded data removed]",
      "text/plain": [
       "<Figure size 640x480 with 1 Axes>"
      ]
     },
     "metadata": {},
     "output_type": "display_data"
    }
   ],
   "source": [
    "X_new = np.linspace(-5, 5, 1000).reshape(-1, 1)\n",
    "# X_new.shape\n",
    "pred = lr.predict(X_new)\n",
    "\n",
    "plt.scatter(X, y)\n",
    "plt.plot(X_new, pred, color='red')\n",
    "plt.show()"
   ]
  },
  {
   "cell_type": "code",
   "execution_count": 36,
   "metadata": {
    "tags": []
   },
   "outputs": [
    {
     "data": {
      "text/plain": [
       "(1000, 1)"
      ]
     },
     "execution_count": 36,
     "metadata": {},
     "output_type": "execute_result"
    }
   ],
   "source": [
    "X_new.shape"
   ]
  },
  {
   "cell_type": "code",
   "execution_count": 7,
   "metadata": {},
   "outputs": [
    {
     "data": {
      "text/plain": [
       "array([[-5.        ],\n",
       "       [-4.98998999],\n",
       "       [-4.97997998],\n",
       "       [-4.96996997],\n",
       "       [-4.95995996],\n",
       "       [-4.94994995],\n",
       "       [-4.93993994],\n",
       "       [-4.92992993],\n",
       "       [-4.91991992],\n",
       "       [-4.90990991]])"
      ]
     },
     "execution_count": 7,
     "metadata": {},
     "output_type": "execute_result"
    }
   ],
   "source": [
    "X_new[:10]"
   ]
  },
  {
   "cell_type": "code",
   "execution_count": 38,
   "metadata": {
    "tags": []
   },
   "outputs": [
    {
     "data": {
      "text/plain": [
       "((100, 1), (100, 5))"
      ]
     },
     "execution_count": 38,
     "metadata": {},
     "output_type": "execute_result"
    }
   ],
   "source": [
    "# PolynomialFeatures 를 이용해서 feature를 N 제곱한 파생변수(컬럼)을 생성.\n",
    "from sklearn.preprocessing import PolynomialFeatures\n",
    "\n",
    "# degree: 몇 제곱까지한 파생변수들을 생성할지 최고차를 지정.  degree=4,  X1-> X1, X1**2, X1**3, X1**4\n",
    "pn = PolynomialFeatures(degree=5,\n",
    "                        include_bias=False # True(기본값)- 상수항 컬럼 생성 -> 모든 값이 1로 구성된 컬럼.\n",
    "                       )\n",
    "X_poly = pn.fit_transform(X)  # fit(), transform()\n",
    "X.shape, X_poly.shape"
   ]
  },
  {
   "cell_type": "code",
   "execution_count": 39,
   "metadata": {
    "tags": []
   },
   "outputs": [
    {
     "data": {
      "text/plain": [
       "array([[0.29288102],\n",
       "       [1.2911362 ],\n",
       "       [0.61658026],\n",
       "       [0.2692991 ]])"
      ]
     },
     "execution_count": 39,
     "metadata": {},
     "output_type": "execute_result"
    }
   ],
   "source": [
    "X[:4]"
   ]
  },
  {
   "cell_type": "code",
   "execution_count": 40,
   "metadata": {
    "tags": []
   },
   "outputs": [
    {
     "data": {
      "text/plain": [
       "array([[2.92881024e-01, 8.57792940e-02, 2.51231274e-02, 7.35808727e-03,\n",
       "        2.15504413e-03],\n",
       "       [1.29113620e+00, 1.66703268e+00, 2.15236624e+00, 2.77899796e+00,\n",
       "        3.58806487e+00],\n",
       "       [6.16580256e-01, 3.80171213e-01, 2.34406064e-01, 1.44530151e-01,\n",
       "        8.91144375e-02],\n",
       "       [2.69299098e-01, 7.25220042e-02, 1.95301103e-02, 5.25944109e-03,\n",
       "        1.41636274e-03]])"
      ]
     },
     "execution_count": 40,
     "metadata": {},
     "output_type": "execute_result"
    }
   ],
   "source": [
    "X_poly[:4]"
   ]
  },
  {
   "cell_type": "markdown",
   "metadata": {
    "slideshow": {
     "slide_type": "slide"
    }
   },
   "source": [
    "##### 모델생성, 학습"
   ]
  },
  {
   "cell_type": "code",
   "execution_count": 44,
   "metadata": {
    "tags": []
   },
   "outputs": [
    {
     "data": {
      "text/plain": [
       "(array([[ 8.95010583e-01,  9.24689757e-01,  1.98166445e-02,\n",
       "          3.13177300e-03, -7.48608971e-04]]),\n",
       " array([2.36755048]))"
      ]
     },
     "execution_count": 44,
     "metadata": {},
     "output_type": "execute_result"
    }
   ],
   "source": [
    "lr = LinearRegression()\n",
    "lr.fit(X_poly, y)\n",
    "lr.coef_, lr.intercept_"
   ]
  },
  {
   "cell_type": "code",
   "execution_count": 45,
   "metadata": {
    "tags": []
   },
   "outputs": [
    {
     "data": {
      "image/png": "[encoded data removed]",
      "text/plain": [
       "<Figure size 640x480 with 1 Axes>"
      ]
     },
     "metadata": {},
     "output_type": "display_data"
    }
   ],
   "source": [
    "#Train set과 전처리한것과 동일한 전처리를 한다.\n",
    "X_new_poly = pn.transform(X_new)\n",
    "# X_new_poly.shape\n",
    "pred2 = lr.predict(X_new_poly)\n",
    "\n",
    "plt.scatter(X, y, label='정답')\n",
    "plt.plot(X_new, pred2, color='red', label='추정')\n",
    "plt.legend()\n",
    "plt.show()"
   ]
  },
  {
   "cell_type": "code",
   "execution_count": 46,
   "metadata": {
    "tags": []
   },
   "outputs": [
    {
     "name": "stdout",
     "output_type": "stream",
     "text": [
      "============평가============\n",
      "MSE: 0.9707019813909312\n",
      "RMSE: 0.9852420927827491\n",
      "R2: 0.8984466565359496\n"
     ]
    }
   ],
   "source": [
    "print_metrics_regression(y, lr.predict(X_poly), '평가')"
   ]
  },
  {
   "cell_type": "markdown",
   "metadata": {
    "slideshow": {
     "slide_type": "slide"
    }
   },
   "source": [
    "## degree를 크게\n",
    "- Feature가 너무 많으면 Overfitting 문제가 생긴다."
   ]
  },
  {
   "cell_type": "code",
   "execution_count": 48,
   "metadata": {
    "tags": []
   },
   "outputs": [
    {
     "name": "stdout",
     "output_type": "stream",
     "text": [
      "(100, 1) (100, 30)\n"
     ]
    },
    {
     "data": {
      "text/plain": [
       "array(['x0', 'x0^2', 'x0^3', 'x0^4', 'x0^5', 'x0^6', 'x0^7', 'x0^8',\n",
       "       'x0^9', 'x0^10', 'x0^11', 'x0^12', 'x0^13', 'x0^14', 'x0^15',\n",
       "       'x0^16', 'x0^17', 'x0^18', 'x0^19', 'x0^20', 'x0^21', 'x0^22',\n",
       "       'x0^23', 'x0^24', 'x0^25', 'x0^26', 'x0^27', 'x0^28', 'x0^29',\n",
       "       'x0^30'], dtype=object)"
      ]
     },
     "execution_count": 48,
     "metadata": {},
     "output_type": "execute_result"
    }
   ],
   "source": [
    "pn2 = PolynomialFeatures(degree=30, include_bias=False)\n",
    "X_poly2 = pn2.fit_transform(X)\n",
    "print(X.shape, X_poly2.shape)\n",
    "pn2.get_feature_names_out() # 변환된 Feature가 어떤 연산을 통해 생성됬는지를 알려준다."
   ]
  },
  {
   "cell_type": "code",
   "execution_count": 49,
   "metadata": {
    "scrolled": true,
    "tags": []
   },
   "outputs": [
    {
     "name": "stdout",
     "output_type": "stream",
     "text": [
      "[[ 3.78426467e-01  2.95702962e+00  4.57210795e+00  4.79841348e-01\n",
      "  -4.30554249e+00 -3.11112683e+00 -1.78192936e+00 -9.44591210e-01\n",
      "   3.17238625e+00  2.72502468e+00  9.85010153e-01  8.91255448e-01\n",
      "  -3.01283434e+00 -3.10371107e+00  1.96467916e+00  2.22924228e+00\n",
      "  -6.90311720e-01 -8.62090534e-01  1.52864514e-01  2.09066463e-01\n",
      "  -2.25415866e-02 -3.33342788e-02  2.23844963e-03  3.50410731e-03\n",
      "  -1.45538450e-04 -2.34389610e-04  5.65017470e-06  9.05710077e-06\n",
      "  -9.98977174e-08 -1.54109850e-07]]\n",
      "[1.76774574]\n"
     ]
    }
   ],
   "source": [
    "lr3 = LinearRegression()\n",
    "lr3.fit(X_poly2, y)\n",
    "print(lr3.coef_)\n",
    "print(lr3.intercept_)"
   ]
  },
  {
   "cell_type": "code",
   "execution_count": 52,
   "metadata": {
    "tags": []
   },
   "outputs": [
    {
     "name": "stdout",
     "output_type": "stream",
     "text": [
      "MSE: 1.427630810424566\n",
      "RMSE: 1.194835055739731\n",
      "R2: 0.8506434675005381\n"
     ]
    }
   ],
   "source": [
    "print_metrics_regression(y, lr3.predict(X_poly2))"
   ]
  },
  {
   "cell_type": "code",
   "execution_count": 53,
   "metadata": {
    "tags": []
   },
   "outputs": [
    {
     "data": {
      "image/png": "[encoded data removed]",
      "text/plain": [
       "<Figure size 640x480 with 1 Axes>"
      ]
     },
     "metadata": {},
     "output_type": "display_data"
    }
   ],
   "source": [
    "X_new_3 = pn2.transform(X_new)\n",
    "pred_3 = lr3.predict(X_new_3)\n",
    "\n",
    "plt.scatter(X, y, label='정답')\n",
    "plt.plot(X_new, pred_3, label=\"추정\", color='red')\n",
    "plt.legend()\n",
    "# plt.xlim(-3, 3)\n",
    "plt.ylim(-1, 20)\n",
    "plt.show()"
   ]
  },
  {
   "cell_type": "markdown",
   "metadata": {
    "slideshow": {
     "slide_type": "slide"
    }
   },
   "source": [
    "### PolynomialFeatures 예제"
   ]
  },
  {
   "cell_type": "code",
   "execution_count": 55,
   "metadata": {
    "tags": []
   },
   "outputs": [
    {
     "data": {
      "text/plain": [
       "array([[ 0,  1],\n",
       "       [ 2,  3],\n",
       "       [ 4,  5],\n",
       "       [ 6,  7],\n",
       "       [ 8,  9],\n",
       "       [10, 11]])"
      ]
     },
     "execution_count": 55,
     "metadata": {},
     "output_type": "execute_result"
    }
   ],
   "source": [
    "data = np.arange(12).reshape(6, 2)\n",
    "data.shape\n",
    "data"
   ]
  },
  {
   "cell_type": "code",
   "execution_count": 57,
   "metadata": {
    "tags": []
   },
   "outputs": [
    {
     "data": {
      "text/plain": [
       "(6, 5)"
      ]
     },
     "execution_count": 57,
     "metadata": {},
     "output_type": "execute_result"
    }
   ],
   "source": [
    "pn = PolynomialFeatures(degree=2, include_bias=False)\n",
    "# pn = PolynomialFeatures(degree=3, include_bias=False)\n",
    "data_poly = pn.fit_transform(data)\n",
    "data_poly.shape"
   ]
  },
  {
   "cell_type": "code",
   "execution_count": 58,
   "metadata": {
    "tags": []
   },
   "outputs": [
    {
     "data": {
      "text/plain": [
       "array(['x0', 'x1', 'x0^2', 'x0 x1', 'x1^2'], dtype=object)"
      ]
     },
     "execution_count": 58,
     "metadata": {},
     "output_type": "execute_result"
    }
   ],
   "source": [
    "pn.get_feature_names_out()"
   ]
  },
  {
   "cell_type": "code",
   "execution_count": 59,
   "metadata": {
    "tags": []
   },
   "outputs": [
    {
     "data": {
      "text/plain": [
       "array([[  0.,   1.,   0.,   0.,   1.],\n",
       "       [  2.,   3.,   4.,   6.,   9.],\n",
       "       [  4.,   5.,  16.,  20.,  25.],\n",
       "       [  6.,   7.,  36.,  42.,  49.],\n",
       "       [  8.,   9.,  64.,  72.,  81.],\n",
       "       [ 10.,  11., 100., 110., 121.]])"
      ]
     },
     "execution_count": 59,
     "metadata": {},
     "output_type": "execute_result"
    }
   ],
   "source": [
    "data_poly"
   ]
  },
  {
   "cell_type": "markdown",
   "metadata": {
    "slideshow": {
     "slide_type": "slide"
    }
   },
   "source": [
    "### PolynomialFeatures를 Boston Dataset에 적용"
   ]
  },
  {
   "cell_type": "code",
   "execution_count": 61,
   "metadata": {
    "tags": []
   },
   "outputs": [],
   "source": [
    "from sklearn.preprocessing import StandardScaler\n",
    "from dataset import get_boston_dataset\n",
    "\n",
    "X_train, X_test, y_train, y_test = get_boston_dataset()\n"
   ]
  },
  {
   "cell_type": "code",
   "execution_count": 64,
   "metadata": {
    "tags": []
   },
   "outputs": [],
   "source": [
    "pn = PolynomialFeatures(degree=2, include_bias=False)\n",
    "X_train_poly = pn.fit_transform(X_train)\n",
    "X_test_poly = pn.transform(X_test)"
   ]
  },
  {
   "cell_type": "code",
   "execution_count": 65,
   "metadata": {
    "tags": []
   },
   "outputs": [
    {
     "data": {
      "text/plain": [
       "((379, 104), (379, 13))"
      ]
     },
     "execution_count": 65,
     "metadata": {},
     "output_type": "execute_result"
    }
   ],
   "source": [
    "X_train_poly.shape , X_train.shape"
   ]
  },
  {
   "cell_type": "code",
   "execution_count": 66,
   "metadata": {
    "tags": []
   },
   "outputs": [],
   "source": [
    "scaler = StandardScaler()\n",
    "X_train_scaled_poly = scaler.fit_transform(X_train_poly)\n",
    "X_test_scaled_poly = scaler.transform(X_test_poly)"
   ]
  },
  {
   "cell_type": "code",
   "execution_count": 67,
   "metadata": {
    "tags": []
   },
   "outputs": [
    {
     "data": {
      "text/plain": [
       "(379, 104)"
      ]
     },
     "execution_count": 67,
     "metadata": {},
     "output_type": "execute_result"
    }
   ],
   "source": [
    "X_train_scaled_poly.shape"
   ]
  },
  {
   "cell_type": "code",
   "execution_count": 68,
   "metadata": {
    "tags": []
   },
   "outputs": [
    {
     "data": {
      "text/html": [
       "<style>#sk-container-id-2 {color: black;}#sk-container-id-2 pre{padding: 0;}#sk-container-id-2 div.sk-toggleable {background-color: white;}#sk-container-id-2 label.sk-toggleable__label {cursor: pointer;display: block;width: 100%;margin-bottom: 0;padding: 0.3em;box-sizing: border-box;text-align: center;}#sk-container-id-2 label.sk-toggleable__label-arrow:before {content: \"▸\";float: left;margin-right: 0.25em;color: #696969;}#sk-container-id-2 label.sk-toggleable__label-arrow:hover:before {color: black;}#sk-container-id-2 div.sk-estimator:hover label.sk-toggleable__label-arrow:before {color: black;}#sk-container-id-2 div.sk-toggleable__content {max-height: 0;max-width: 0;overflow: hidden;text-align: left;background-color: #f0f8ff;}#sk-container-id-2 div.sk-toggleable__content pre {margin: 0.2em;color: black;border-radius: 0.25em;background-color: #f0f8ff;}#sk-container-id-2 input.sk-toggleable__control:checked~div.sk-toggleable__content {max-height: 200px;max-width: 100%;overflow: auto;}#sk-container-id-2 input.sk-toggleable__control:checked~label.sk-toggleable__label-arrow:before {content: \"▾\";}#sk-container-id-2 div.sk-estimator input.sk-toggleable__control:checked~label.sk-toggleable__label {background-color: #d4ebff;}#sk-container-id-2 div.sk-label input.sk-toggleable__control:checked~label.sk-toggleable__label {background-color: #d4ebff;}#sk-container-id-2 input.sk-hidden--visually {border: 0;clip: rect(1px 1px 1px 1px);clip: rect(1px, 1px, 1px, 1px);height: 1px;margin: -1px;overflow: hidden;padding: 0;position: absolute;width: 1px;}#sk-container-id-2 div.sk-estimator {font-family: monospace;background-color: #f0f8ff;border: 1px dotted black;border-radius: 0.25em;box-sizing: border-box;margin-bottom: 0.5em;}#sk-container-id-2 div.sk-estimator:hover {background-color: #d4ebff;}#sk-container-id-2 div.sk-parallel-item::after {content: \"\";width: 100%;border-bottom: 1px solid gray;flex-grow: 1;}#sk-container-id-2 div.sk-label:hover label.sk-toggleable__label {background-color: #d4ebff;}#sk-container-id-2 div.sk-serial::before {content: \"\";position: absolute;border-left: 1px solid gray;box-sizing: border-box;top: 0;bottom: 0;left: 50%;z-index: 0;}#sk-container-id-2 div.sk-serial {display: flex;flex-direction: column;align-items: center;background-color: white;padding-right: 0.2em;padding-left: 0.2em;position: relative;}#sk-container-id-2 div.sk-item {position: relative;z-index: 1;}#sk-container-id-2 div.sk-parallel {display: flex;align-items: stretch;justify-content: center;background-color: white;position: relative;}#sk-container-id-2 div.sk-item::before, #sk-container-id-2 div.sk-parallel-item::before {content: \"\";position: absolute;border-left: 1px solid gray;box-sizing: border-box;top: 0;bottom: 0;left: 50%;z-index: -1;}#sk-container-id-2 div.sk-parallel-item {display: flex;flex-direction: column;z-index: 1;position: relative;background-color: white;}#sk-container-id-2 div.sk-parallel-item:first-child::after {align-self: flex-end;width: 50%;}#sk-container-id-2 div.sk-parallel-item:last-child::after {align-self: flex-start;width: 50%;}#sk-container-id-2 div.sk-parallel-item:only-child::after {width: 0;}#sk-container-id-2 div.sk-dashed-wrapped {border: 1px dashed gray;margin: 0 0.4em 0.5em 0.4em;box-sizing: border-box;padding-bottom: 0.4em;background-color: white;}#sk-container-id-2 div.sk-label label {font-family: monospace;font-weight: bold;display: inline-block;line-height: 1.2em;}#sk-container-id-2 div.sk-label-container {text-align: center;}#sk-container-id-2 div.sk-container {/* jupyter's `normalize.less` sets `[hidden] { display: none; }` but bootstrap.min.css set `[hidden] { display: none !important; }` so we also need the `!important` here to be able to override the default hidden behavior on the sphinx rendered scikit-learn.org. See: https://github.com/scikit-learn/scikit-learn/issues/21755 */display: inline-block !important;position: relative;}#sk-container-id-2 div.sk-text-repr-fallback {display: none;}</style><div id=\"sk-container-id-2\" class=\"sk-top-container\"><div class=\"sk-text-repr-fallback\"><pre>LinearRegression()</pre><b>In a Jupyter environment, please rerun this cell to show the HTML representation or trust the notebook. <br />On GitHub, the HTML representation is unable to render, please try loading this page with nbviewer.org.</b></div><div class=\"sk-container\" hidden><div class=\"sk-item\"><div class=\"sk-estimator sk-toggleable\"><input class=\"sk-toggleable__control sk-hidden--visually\" id=\"sk-estimator-id-2\" type=\"checkbox\" checked><label for=\"sk-estimator-id-2\" class=\"sk-toggleable__label sk-toggleable__label-arrow\">LinearRegression</label><div class=\"sk-toggleable__content\"><pre>LinearRegression()</pre></div></div></div></div></div>"
      ],
      "text/plain": [
       "LinearRegression()"
      ]
     },
     "execution_count": 68,
     "metadata": {},
     "output_type": "execute_result"
    }
   ],
   "source": [
    "lr = LinearRegression()\n",
    "lr.fit(X_train_scaled_poly, y_train)"
   ]
  },
  {
   "cell_type": "code",
   "execution_count": 69,
   "metadata": {
    "tags": []
   },
   "outputs": [
    {
     "name": "stdout",
     "output_type": "stream",
     "text": [
      "============train set============\n",
      "MSE: 4.090362612543775\n",
      "RMSE: 2.022464489810334\n",
      "R2: 0.9520519609032729\n",
      "============test set============\n",
      "MSE: 32.069135121582306\n",
      "RMSE: 5.6629616916929875\n",
      "R2: 0.6074721959665852\n"
     ]
    }
   ],
   "source": [
    "pred_train = lr.predict(X_train_scaled_poly)\n",
    "pred_test = lr.predict(X_test_scaled_poly)\n",
    "print_metrics_regression(y_train, pred_train, \"train set\")\n",
    "print_metrics_regression(y_test, pred_test, \"test set\")"
   ]
  },
  {
   "cell_type": "code",
   "execution_count": null,
   "metadata": {},
   "outputs": [],
   "source": [
    "lr2 = LinearRegression()\n",
    "lr2.fit(X_train_scaled , y_train)\n",
    "print_metrics_regression(y_train, lr2.predict(X_train_scaled), \"train\")\n",
    "print_metrics_regression(y_test, lr2.predict(X_test_scaled), \"test\")"
   ]
  },
  {
   "cell_type": "code",
   "execution_count": 70,
   "metadata": {
    "tags": []
   },
   "outputs": [
    {
     "data": {
      "text/plain": [
       "[('polynomialfeatures', PolynomialFeatures(include_bias=False)),\n",
       " ('standardscaler', StandardScaler()),\n",
       " ('linearregression', LinearRegression())]"
      ]
     },
     "execution_count": 70,
     "metadata": {},
     "output_type": "execute_result"
    }
   ],
   "source": [
    "### pipeline 적용\n",
    "from sklearn.pipeline import make_pipeline\n",
    "\n",
    "pipeline = make_pipeline(PolynomialFeatures(degree=2, include_bias=False), \n",
    "                         StandardScaler(), \n",
    "                         LinearRegression())\n",
    "pipeline.steps"
   ]
  },
  {
   "cell_type": "code",
   "execution_count": 71,
   "metadata": {
    "tags": []
   },
   "outputs": [
    {
     "name": "stdout",
     "output_type": "stream",
     "text": [
      "============pipeline============\n",
      "MSE: 32.069135121582306\n",
      "RMSE: 5.6629616916929875\n",
      "R2: 0.6074721959665852\n"
     ]
    }
   ],
   "source": [
    "pipeline.fit(X_train, y_train)\n",
    "pred_test = pipeline.predict(X_test)\n",
    "\n",
    "print_metrics_regression(y_test, pred_test, \"pipeline\")"
   ]
  },
  {
   "cell_type": "code",
   "execution_count": 74,
   "metadata": {
    "tags": []
   },
   "outputs": [
    {
     "data": {
      "text/plain": [
       "(379, 104)"
      ]
     },
     "execution_count": 74,
     "metadata": {},
     "output_type": "execute_result"
    }
   ],
   "source": [
    "pipeline = make_pipeline(PolynomialFeatures(degree=2, include_bias=False), \n",
    "                         StandardScaler())\n",
    "result = pipeline.fit_transform(X_train)\n",
    "result.shape"
   ]
  },
  {
   "cell_type": "code",
   "execution_count": 75,
   "metadata": {
    "tags": []
   },
   "outputs": [
    {
     "data": {
      "text/plain": [
       "array([1., 1., 1., 1., 1., 1., 1., 1., 1., 1., 1., 1., 1., 1., 1., 1., 1.,\n",
       "       1., 1., 1., 1., 1., 1., 1., 1., 1., 1., 1., 1., 1., 1., 1., 1., 1.,\n",
       "       1., 1., 1., 1., 1., 1., 1., 1., 1., 1., 1., 1., 1., 1., 1., 1., 1.,\n",
       "       1., 1., 1., 1., 1., 1., 1., 1., 1., 1., 1., 1., 1., 1., 1., 1., 1.,\n",
       "       1., 1., 1., 1., 1., 1., 1., 1., 1., 1., 1., 1., 1., 1., 1., 1., 1.,\n",
       "       1., 1., 1., 1., 1., 1., 1., 1., 1., 1., 1., 1., 1., 1., 1., 1., 1.,\n",
       "       1., 1.])"
      ]
     },
     "execution_count": 75,
     "metadata": {},
     "output_type": "execute_result"
    }
   ],
   "source": [
    "result.std(axis=0)"
   ]
  },
  {
   "cell_type": "code",
   "execution_count": null,
   "metadata": {},
   "outputs": [],
   "source": []
  },
  {
   "cell_type": "markdown",
   "metadata": {
    "slideshow": {
     "slide_type": "slide"
    }
   },
   "source": [
    "## 규제 (Regularization)\n",
    "- 선형 회귀 모델에서 과대적합(Overfitting) 문제를 해결하기 위해 가중치(회귀계수)에 페널티 값을 적용한다.\n",
    "- 입력데이터의 Feature들이 너무 많은 경우 Overfitting이 발생.\n",
    "    - Feature수에 비해 관측치 수가 적은 경우 모델이 복잡해 지면서 Overfitting이 발생한다.\n",
    "- 해결\n",
    "    - 데이터를 더 수집한다. \n",
    "    - Feature selection\n",
    "        - 불필요한 Features들을 제거한다.\n",
    "    - 규제 (Regularization) 을 통해 Feature들에 곱해지는 가중치가 커지지 않도록 제한한다.(0에 가까운 값으로 만들어 준다.)\n",
    "        - LinearRegression의 규제는 학습시 계산하는 오차를 키워서 모델이 오차를 줄이기 위해 가중치를 0에 가까운 값으로 만들도록 하는 방식을 사용한다.\n",
    "        - L1 규제 (Lasso)\n",
    "        - L2 규제 (Ridge)\n",
    "    "
   ]
  },
  {
   "cell_type": "markdown",
   "metadata": {
    "slideshow": {
     "slide_type": "slide"
    }
   },
   "source": [
    "## Ridge Regression (L2 규제)\n",
    "- 손실함수(loss function)에 규제항으로 $\\alpha \\sum_{i=1}^{n}{w_{i}^{2}}$ (L2 Norm)을 더해준다.\n",
    "- $\\alpha$는 하이퍼파라미터로 모델을 얼마나 많이 규제할지 조절한다. \n",
    "    - $\\alpha = 0$ 에 가까울수록 규제가 약해진다. (0일 경우 선형 회귀동일)\n",
    "    - $\\alpha$ 가 커질 수록 모든 가중치가 작아져(0에 가깝게된다.) 입력데이터의 Feature들 중 중요하지 않은 Feature의 예측에 대한 영향력이 작아지게 된다.\n",
    "\n",
    "$$\n",
    "\\text{손실함수}(w) = \\text{MSE}(w) + \\alpha \\cfrac{1}{2}\\sum_{i=1}^{n}{w_{i}^{2}}\n",
    "$$\n",
    "\n",
    "> **손실함수(Loss Function):** 모델의 예측한 값과 실제값 사이의 차이를 정의하는 함수로 모델이 학습할 때 사용된다."
   ]
  },
  {
   "cell_type": "code",
   "execution_count": 76,
   "metadata": {
    "tags": []
   },
   "outputs": [],
   "source": [
    "from sklearn.linear_model import Ridge, Lasso"
   ]
  },
  {
   "cell_type": "code",
   "execution_count": 80,
   "metadata": {
    "tags": []
   },
   "outputs": [],
   "source": [
    "X_train, X_test, y_train, y_test = get_boston_dataset()\n",
    "scaler = StandardScaler()\n",
    "X_train_scaled = scaler.fit_transform(X_train)\n",
    "X_test_scaled = scaler.transform(X_test)"
   ]
  },
  {
   "cell_type": "code",
   "execution_count": 83,
   "metadata": {
    "tags": []
   },
   "outputs": [
    {
     "name": "stdout",
     "output_type": "stream",
     "text": [
      "MSE: 19.64194935381896\n",
      "RMSE: 4.431923888540839\n",
      "R2: 0.76975318699993\n",
      "=========================\n",
      "MSE: 29.85376333454762\n",
      "RMSE: 5.463859746968952\n",
      "R2: 0.6345884564889053\n"
     ]
    }
   ],
   "source": [
    "alpha = 1  \n",
    "# 규제항의 값을 조정하는 하이퍼파라미터. 기본값: 1 - 클수록 강한규제(모델 단순화.)\n",
    "#  overfitting: alpha를 키운다. , underfitting: alpha를 줄인다.\n",
    "ridge = Ridge(alpha=alpha, random_state=0)\n",
    "ridge.fit(X_train_scaled, y_train)\n",
    "\n",
    "print_metrics_regression(y_train, ridge.predict(X_train_scaled))\n",
    "print(\"=========================\")\n",
    "print_metrics_regression(y_test, ridge.predict(X_test_scaled))"
   ]
  },
  {
   "cell_type": "code",
   "execution_count": 85,
   "metadata": {
    "tags": []
   },
   "outputs": [
    {
     "name": "stdout",
     "output_type": "stream",
     "text": [
      "-------------0.001---------------\n",
      "============train============\n",
      "MSE: 19.640519429425122\n",
      "RMSE: 4.431762564649095\n",
      "R2: 0.7697699488563313\n",
      "============test============\n",
      "MSE: 29.78231701652625\n",
      "RMSE: 5.4573177492726455\n",
      "R2: 0.6354629629641462\n",
      "-------------0.01---------------\n",
      "============train============\n",
      "MSE: 19.640519579533198\n",
      "RMSE: 4.431762581584577\n",
      "R2: 0.7697699470967349\n",
      "============test============\n",
      "MSE: 29.782964300126427\n",
      "RMSE: 5.4573770531388455\n",
      "R2: 0.6354550401807846\n",
      "-------------0.1---------------\n",
      "============train============\n",
      "MSE: 19.640534507978842\n",
      "RMSE: 4.431764265840281\n",
      "R2: 0.769769772102544\n",
      "============test============\n",
      "MSE: 29.789433705566626\n",
      "RMSE: 5.457969742089693\n",
      "R2: 0.6353758543374116\n",
      "-------------1---------------\n",
      "============train============\n",
      "MSE: 19.64194935381896\n",
      "RMSE: 4.431923888540839\n",
      "R2: 0.76975318699993\n",
      "============test============\n",
      "MSE: 29.85376333454762\n",
      "RMSE: 5.463859746968952\n",
      "R2: 0.6345884564889053\n",
      "-------------10---------------\n",
      "============train============\n",
      "MSE: 19.73371712013752\n",
      "RMSE: 4.442264863798367\n",
      "R2: 0.7686774671031736\n",
      "============test============\n",
      "MSE: 30.45190337374192\n",
      "RMSE: 5.518324326617812\n",
      "R2: 0.6272671927504456\n",
      "-------------100---------------\n",
      "============train============\n",
      "MSE: 21.6232886760854\n",
      "RMSE: 4.650084803106864\n",
      "R2: 0.7465275358078873\n",
      "============test============\n",
      "MSE: 34.00022384210579\n",
      "RMSE: 5.830971089115928\n",
      "R2: 0.5838355742745133\n",
      "-------------500---------------\n",
      "============train============\n",
      "MSE: 30.016258914714925\n",
      "RMSE: 5.478709603064843\n",
      "R2: 0.6481434796106769\n",
      "============test============\n",
      "MSE: 41.73984940003688\n",
      "RMSE: 6.460638466903784\n",
      "R2: 0.48910217367678355\n",
      "-------------1000---------------\n",
      "============train============\n",
      "MSE: 37.63791270191481\n",
      "RMSE: 6.134974547780521\n",
      "R2: 0.5588009473252298\n",
      "============test============\n",
      "MSE: 47.385118128796044\n",
      "RMSE: 6.883684923701552\n",
      "R2: 0.42000380451661745\n"
     ]
    }
   ],
   "source": [
    "alpha_list = [0.001, 0.01, 0.1, 1, 10, 100, 500, 1000]\n",
    "# alpha 의 변화에 따른 weight의 변화를 저장할 DataFrame\n",
    "coef_df = pd.DataFrame()\n",
    "bias_list = []\n",
    "\n",
    "for alpha in alpha_list:\n",
    "    ridge = Ridge(alpha=alpha, random_state=0)\n",
    "    ridge.fit(X_train_scaled, y_train)\n",
    "    \n",
    "    # weight와 bias 저장\n",
    "    coef_df[f\"alpha: {alpha}\"] = ridge.coef_\n",
    "    bias_list.append(ridge.intercept_)\n",
    "    \n",
    "    print(f\"-------------{alpha}---------------\")\n",
    "    print_metrics_regression(y_train, ridge.predict(X_train_scaled), \"train\")\n",
    "    print_metrics_regression(y_test, ridge.predict(X_test_scaled), \"test\")"
   ]
  },
  {
   "cell_type": "code",
   "execution_count": 86,
   "metadata": {
    "tags": []
   },
   "outputs": [
    {
     "data": {
      "text/plain": [
       "[22.608707124010557,\n",
       " 22.608707124010557,\n",
       " 22.608707124010557,\n",
       " 22.608707124010557,\n",
       " 22.608707124010557,\n",
       " 22.608707124010557,\n",
       " 22.608707124010557,\n",
       " 22.608707124010557]"
      ]
     },
     "execution_count": 86,
     "metadata": {},
     "output_type": "execute_result"
    }
   ],
   "source": [
    "bias_list"
   ]
  },
  {
   "cell_type": "code",
   "execution_count": 87,
   "metadata": {
    "tags": []
   },
   "outputs": [
    {
     "data": {
      "text/html": [
       "<div>\n",
       "<style scoped>\n",
       "    .dataframe tbody tr th:only-of-type {\n",
       "        vertical-align: middle;\n",
       "    }\n",
       "\n",
       "    .dataframe tbody tr th {\n",
       "        vertical-align: top;\n",
       "    }\n",
       "\n",
       "    .dataframe thead th {\n",
       "        text-align: right;\n",
       "    }\n",
       "</style>\n",
       "<table border=\"1\" class=\"dataframe\">\n",
       "  <thead>\n",
       "    <tr style=\"text-align: right;\">\n",
       "      <th></th>\n",
       "      <th>alpha: 0.001</th>\n",
       "      <th>alpha: 0.01</th>\n",
       "      <th>alpha: 0.1</th>\n",
       "      <th>alpha: 1</th>\n",
       "      <th>alpha: 10</th>\n",
       "      <th>alpha: 100</th>\n",
       "      <th>alpha: 500</th>\n",
       "      <th>alpha: 1000</th>\n",
       "    </tr>\n",
       "  </thead>\n",
       "  <tbody>\n",
       "    <tr>\n",
       "      <th>0</th>\n",
       "      <td>-0.970992</td>\n",
       "      <td>-0.970907</td>\n",
       "      <td>-0.970063</td>\n",
       "      <td>-0.961875</td>\n",
       "      <td>-0.898519</td>\n",
       "      <td>-0.702647</td>\n",
       "      <td>-0.534735</td>\n",
       "      <td>-0.442678</td>\n",
       "    </tr>\n",
       "    <tr>\n",
       "      <th>1</th>\n",
       "      <td>1.046659</td>\n",
       "      <td>1.046484</td>\n",
       "      <td>1.044735</td>\n",
       "      <td>1.027755</td>\n",
       "      <td>0.895907</td>\n",
       "      <td>0.542402</td>\n",
       "      <td>0.432019</td>\n",
       "      <td>0.382202</td>\n",
       "    </tr>\n",
       "    <tr>\n",
       "      <th>2</th>\n",
       "      <td>-0.040477</td>\n",
       "      <td>-0.040742</td>\n",
       "      <td>-0.043379</td>\n",
       "      <td>-0.068611</td>\n",
       "      <td>-0.241628</td>\n",
       "      <td>-0.539236</td>\n",
       "      <td>-0.571494</td>\n",
       "      <td>-0.512882</td>\n",
       "    </tr>\n",
       "    <tr>\n",
       "      <th>3</th>\n",
       "      <td>0.594092</td>\n",
       "      <td>0.594130</td>\n",
       "      <td>0.594509</td>\n",
       "      <td>0.598141</td>\n",
       "      <td>0.623200</td>\n",
       "      <td>0.643067</td>\n",
       "      <td>0.469501</td>\n",
       "      <td>0.333552</td>\n",
       "    </tr>\n",
       "    <tr>\n",
       "      <th>4</th>\n",
       "      <td>-1.808732</td>\n",
       "      <td>-1.808405</td>\n",
       "      <td>-1.805134</td>\n",
       "      <td>-1.773184</td>\n",
       "      <td>-1.512895</td>\n",
       "      <td>-0.685798</td>\n",
       "      <td>-0.406040</td>\n",
       "      <td>-0.371299</td>\n",
       "    </tr>\n",
       "    <tr>\n",
       "      <th>5</th>\n",
       "      <td>2.609931</td>\n",
       "      <td>2.610030</td>\n",
       "      <td>2.611019</td>\n",
       "      <td>2.620567</td>\n",
       "      <td>2.689748</td>\n",
       "      <td>2.650139</td>\n",
       "      <td>1.776278</td>\n",
       "      <td>1.253866</td>\n",
       "    </tr>\n",
       "    <tr>\n",
       "      <th>6</th>\n",
       "      <td>-0.198240</td>\n",
       "      <td>-0.198300</td>\n",
       "      <td>-0.198901</td>\n",
       "      <td>-0.204668</td>\n",
       "      <td>-0.245227</td>\n",
       "      <td>-0.308313</td>\n",
       "      <td>-0.332627</td>\n",
       "      <td>-0.327295</td>\n",
       "    </tr>\n",
       "    <tr>\n",
       "      <th>7</th>\n",
       "      <td>-3.002128</td>\n",
       "      <td>-3.001789</td>\n",
       "      <td>-2.998407</td>\n",
       "      <td>-2.965049</td>\n",
       "      <td>-2.671723</td>\n",
       "      <td>-1.379397</td>\n",
       "      <td>-0.332010</td>\n",
       "      <td>-0.062878</td>\n",
       "    </tr>\n",
       "    <tr>\n",
       "      <th>8</th>\n",
       "      <td>2.080133</td>\n",
       "      <td>2.079392</td>\n",
       "      <td>2.072006</td>\n",
       "      <td>2.000910</td>\n",
       "      <td>1.486602</td>\n",
       "      <td>0.301828</td>\n",
       "      <td>-0.209340</td>\n",
       "      <td>-0.283024</td>\n",
       "    </tr>\n",
       "    <tr>\n",
       "      <th>9</th>\n",
       "      <td>-1.932813</td>\n",
       "      <td>-1.932113</td>\n",
       "      <td>-1.925143</td>\n",
       "      <td>-1.858407</td>\n",
       "      <td>-1.398256</td>\n",
       "      <td>-0.630364</td>\n",
       "      <td>-0.526917</td>\n",
       "      <td>-0.477386</td>\n",
       "    </tr>\n",
       "    <tr>\n",
       "      <th>10</th>\n",
       "      <td>-2.157430</td>\n",
       "      <td>-2.157357</td>\n",
       "      <td>-2.156634</td>\n",
       "      <td>-2.149559</td>\n",
       "      <td>-2.090199</td>\n",
       "      <td>-1.783409</td>\n",
       "      <td>-1.200892</td>\n",
       "      <td>-0.879779</td>\n",
       "    </tr>\n",
       "    <tr>\n",
       "      <th>11</th>\n",
       "      <td>0.751991</td>\n",
       "      <td>0.751989</td>\n",
       "      <td>0.751965</td>\n",
       "      <td>0.751760</td>\n",
       "      <td>0.750952</td>\n",
       "      <td>0.714219</td>\n",
       "      <td>0.534700</td>\n",
       "      <td>0.422577</td>\n",
       "    </tr>\n",
       "    <tr>\n",
       "      <th>12</th>\n",
       "      <td>-3.590253</td>\n",
       "      <td>-3.590101</td>\n",
       "      <td>-3.588575</td>\n",
       "      <td>-3.573501</td>\n",
       "      <td>-3.438105</td>\n",
       "      <td>-2.683581</td>\n",
       "      <td>-1.621575</td>\n",
       "      <td>-1.162839</td>\n",
       "    </tr>\n",
       "  </tbody>\n",
       "</table>\n",
       "</div>"
      ],
      "text/plain": [
       "    alpha: 0.001  alpha: 0.01  alpha: 0.1  alpha: 1  alpha: 10  alpha: 100  \\\n",
       "0      -0.970992    -0.970907   -0.970063 -0.961875  -0.898519   -0.702647   \n",
       "1       1.046659     1.046484    1.044735  1.027755   0.895907    0.542402   \n",
       "2      -0.040477    -0.040742   -0.043379 -0.068611  -0.241628   -0.539236   \n",
       "3       0.594092     0.594130    0.594509  0.598141   0.623200    0.643067   \n",
       "4      -1.808732    -1.808405   -1.805134 -1.773184  -1.512895   -0.685798   \n",
       "5       2.609931     2.610030    2.611019  2.620567   2.689748    2.650139   \n",
       "6      -0.198240    -0.198300   -0.198901 -0.204668  -0.245227   -0.308313   \n",
       "7      -3.002128    -3.001789   -2.998407 -2.965049  -2.671723   -1.379397   \n",
       "8       2.080133     2.079392    2.072006  2.000910   1.486602    0.301828   \n",
       "9      -1.932813    -1.932113   -1.925143 -1.858407  -1.398256   -0.630364   \n",
       "10     -2.157430    -2.157357   -2.156634 -2.149559  -2.090199   -1.783409   \n",
       "11      0.751991     0.751989    0.751965  0.751760   0.750952    0.714219   \n",
       "12     -3.590253    -3.590101   -3.588575 -3.573501  -3.438105   -2.683581   \n",
       "\n",
       "    alpha: 500  alpha: 1000  \n",
       "0    -0.534735    -0.442678  \n",
       "1     0.432019     0.382202  \n",
       "2    -0.571494    -0.512882  \n",
       "3     0.469501     0.333552  \n",
       "4    -0.406040    -0.371299  \n",
       "5     1.776278     1.253866  \n",
       "6    -0.332627    -0.327295  \n",
       "7    -0.332010    -0.062878  \n",
       "8    -0.209340    -0.283024  \n",
       "9    -0.526917    -0.477386  \n",
       "10   -1.200892    -0.879779  \n",
       "11    0.534700     0.422577  \n",
       "12   -1.621575    -1.162839  "
      ]
     },
     "execution_count": 87,
     "metadata": {},
     "output_type": "execute_result"
    }
   ],
   "source": [
    "coef_df"
   ]
  },
  {
   "cell_type": "markdown",
   "metadata": {
    "slideshow": {
     "slide_type": "slide"
    }
   },
   "source": [
    "## Lasso(Least Absolut Shrinkage and Selection Operator) Regression (L1 규제)\n",
    "\n",
    "- 손실함수에 규제항으로 $\\alpha \\sum_{i=1}^{n}{\\left| w_i \\right|}$ (L1 Norm)더한다.\n",
    "- Lasso 회귀의 상대적으로 덜 중요한 특성의 가중치를 0으로 만들어 자동으로 Feature Selection이 된다.\n",
    "\n",
    "$$\n",
    "\\text{손실함수}(w) = \\text{MSE}(w) + \\alpha \\sum_{i=1}^{n}{\\left| w_i \\right|}\n",
    "$$"
   ]
  },
  {
   "cell_type": "code",
   "execution_count": 88,
   "metadata": {
    "tags": []
   },
   "outputs": [
    {
     "name": "stdout",
     "output_type": "stream",
     "text": [
      "alphaL 0.001-----------------------\n",
      "============train============\n",
      "MSE: 19.64056676571224\n",
      "RMSE: 4.431767905217086\n",
      "R2: 0.7697693939710166\n",
      "============test============\n",
      "MSE: 29.79125513018357\n",
      "RMSE: 5.45813659871055\n",
      "R2: 0.635353560009785\n",
      "alphaL 0.01-----------------------\n",
      "============train============\n",
      "MSE: 19.64524407852245\n",
      "RMSE: 4.432295576619688\n",
      "R2: 0.769714565585679\n",
      "============test============\n",
      "MSE: 29.876831576246804\n",
      "RMSE: 5.465970323396094\n",
      "R2: 0.6343061000666705\n",
      "alphaL 0.1-----------------------\n",
      "============train============\n",
      "MSE: 20.105612524082833\n",
      "RMSE: 4.483928246981973\n",
      "R2: 0.7643180356646064\n",
      "============test============\n",
      "MSE: 31.173724839373957\n",
      "RMSE: 5.583343517944598\n",
      "R2: 0.6184320622196556\n",
      "alphaL 1-----------------------\n",
      "============train============\n",
      "MSE: 25.38793844433231\n",
      "RMSE: 5.038644504659196\n",
      "R2: 0.702397567056503\n",
      "============test============\n",
      "MSE: 35.489636168280335\n",
      "RMSE: 5.957317866983458\n",
      "R2: 0.5656050935497575\n",
      "alphaL 5-----------------------\n",
      "============train============\n",
      "MSE: 60.02112606173853\n",
      "RMSE: 7.747330253818959\n",
      "R2: 0.2964204957740715\n",
      "============test============\n",
      "MSE: 59.87237303347597\n",
      "RMSE: 7.737724021537339\n",
      "R2: 0.2671591853038978\n",
      "alphaL 10-----------------------\n",
      "============train============\n",
      "MSE: 85.30823553163789\n",
      "RMSE: 9.236245748768159\n",
      "R2: 0.0\n",
      "============test============\n",
      "MSE: 81.7904659829155\n",
      "RMSE: 9.043808157126925\n",
      "R2: -0.001119359203955339\n"
     ]
    }
   ],
   "source": [
    "alpha_list2 = [0.001, 0.01, 0.1, 1, 5, 10]\n",
    "\n",
    "coef_df2 = pd.DataFrame()\n",
    "bias_list2 = []\n",
    "\n",
    "for alpha in alpha_list2:\n",
    "    \n",
    "    lasso = Lasso(alpha=alpha, random_state=0)\n",
    "    lasso.fit(X_train_scaled, y_train)\n",
    "    \n",
    "    coef_df2[f'alpha: {alpha}'] = lasso.coef_\n",
    "    bias_list2.append(lasso.intercept_)\n",
    "    \n",
    "    print(f\"alphaL {alpha}-----------------------\")\n",
    "    print_metrics_regression(y_train, lasso.predict(X_train_scaled), \"train\")\n",
    "    print_metrics_regression(y_test, lasso.predict(X_test_scaled), \"test\")"
   ]
  },
  {
   "cell_type": "code",
   "execution_count": 89,
   "metadata": {
    "tags": []
   },
   "outputs": [
    {
     "data": {
      "text/plain": [
       "[22.608707124010557,\n",
       " 22.608707124010557,\n",
       " 22.608707124010557,\n",
       " 22.608707124010557,\n",
       " 22.608707124010557,\n",
       " 22.608707124010557]"
      ]
     },
     "execution_count": 89,
     "metadata": {},
     "output_type": "execute_result"
    }
   ],
   "source": [
    "bias_list2"
   ]
  },
  {
   "cell_type": "code",
   "execution_count": 90,
   "metadata": {
    "tags": []
   },
   "outputs": [
    {
     "data": {
      "text/html": [
       "<div>\n",
       "<style scoped>\n",
       "    .dataframe tbody tr th:only-of-type {\n",
       "        vertical-align: middle;\n",
       "    }\n",
       "\n",
       "    .dataframe tbody tr th {\n",
       "        vertical-align: top;\n",
       "    }\n",
       "\n",
       "    .dataframe thead th {\n",
       "        text-align: right;\n",
       "    }\n",
       "</style>\n",
       "<table border=\"1\" class=\"dataframe\">\n",
       "  <thead>\n",
       "    <tr style=\"text-align: right;\">\n",
       "      <th></th>\n",
       "      <th>alpha: 0.001</th>\n",
       "      <th>alpha: 0.01</th>\n",
       "      <th>alpha: 0.1</th>\n",
       "      <th>alpha: 1</th>\n",
       "      <th>alpha: 5</th>\n",
       "      <th>alpha: 10</th>\n",
       "    </tr>\n",
       "  </thead>\n",
       "  <tbody>\n",
       "    <tr>\n",
       "      <th>0</th>\n",
       "      <td>-0.967848</td>\n",
       "      <td>-0.939492</td>\n",
       "      <td>-0.659315</td>\n",
       "      <td>-0.000000</td>\n",
       "      <td>-0.000000</td>\n",
       "      <td>-0.0</td>\n",
       "    </tr>\n",
       "    <tr>\n",
       "      <th>1</th>\n",
       "      <td>1.043088</td>\n",
       "      <td>1.010377</td>\n",
       "      <td>0.684820</td>\n",
       "      <td>0.000000</td>\n",
       "      <td>0.000000</td>\n",
       "      <td>0.0</td>\n",
       "    </tr>\n",
       "    <tr>\n",
       "      <th>2</th>\n",
       "      <td>-0.042280</td>\n",
       "      <td>-0.057475</td>\n",
       "      <td>-0.207389</td>\n",
       "      <td>-0.000000</td>\n",
       "      <td>-0.000000</td>\n",
       "      <td>-0.0</td>\n",
       "    </tr>\n",
       "    <tr>\n",
       "      <th>3</th>\n",
       "      <td>0.593919</td>\n",
       "      <td>0.592324</td>\n",
       "      <td>0.575874</td>\n",
       "      <td>0.000000</td>\n",
       "      <td>0.000000</td>\n",
       "      <td>0.0</td>\n",
       "    </tr>\n",
       "    <tr>\n",
       "      <th>4</th>\n",
       "      <td>-1.804056</td>\n",
       "      <td>-1.761604</td>\n",
       "      <td>-1.345790</td>\n",
       "      <td>-0.000000</td>\n",
       "      <td>-0.000000</td>\n",
       "      <td>-0.0</td>\n",
       "    </tr>\n",
       "    <tr>\n",
       "      <th>5</th>\n",
       "      <td>2.611194</td>\n",
       "      <td>2.622904</td>\n",
       "      <td>2.738958</td>\n",
       "      <td>2.529330</td>\n",
       "      <td>0.374985</td>\n",
       "      <td>0.0</td>\n",
       "    </tr>\n",
       "    <tr>\n",
       "      <th>6</th>\n",
       "      <td>-0.196298</td>\n",
       "      <td>-0.179110</td>\n",
       "      <td>-0.007398</td>\n",
       "      <td>-0.000000</td>\n",
       "      <td>-0.000000</td>\n",
       "      <td>-0.0</td>\n",
       "    </tr>\n",
       "    <tr>\n",
       "      <th>7</th>\n",
       "      <td>-2.994364</td>\n",
       "      <td>-2.923287</td>\n",
       "      <td>-2.216914</td>\n",
       "      <td>-0.000000</td>\n",
       "      <td>0.000000</td>\n",
       "      <td>0.0</td>\n",
       "    </tr>\n",
       "    <tr>\n",
       "      <th>8</th>\n",
       "      <td>2.065494</td>\n",
       "      <td>1.933983</td>\n",
       "      <td>0.632402</td>\n",
       "      <td>-0.000000</td>\n",
       "      <td>-0.000000</td>\n",
       "      <td>-0.0</td>\n",
       "    </tr>\n",
       "    <tr>\n",
       "      <th>9</th>\n",
       "      <td>-1.920598</td>\n",
       "      <td>-1.811185</td>\n",
       "      <td>-0.724794</td>\n",
       "      <td>-0.227631</td>\n",
       "      <td>-0.000000</td>\n",
       "      <td>-0.0</td>\n",
       "    </tr>\n",
       "    <tr>\n",
       "      <th>10</th>\n",
       "      <td>-2.156365</td>\n",
       "      <td>-2.147052</td>\n",
       "      <td>-2.055994</td>\n",
       "      <td>-1.700884</td>\n",
       "      <td>-0.000000</td>\n",
       "      <td>-0.0</td>\n",
       "    </tr>\n",
       "    <tr>\n",
       "      <th>11</th>\n",
       "      <td>0.750737</td>\n",
       "      <td>0.739642</td>\n",
       "      <td>0.629083</td>\n",
       "      <td>0.131861</td>\n",
       "      <td>0.000000</td>\n",
       "      <td>0.0</td>\n",
       "    </tr>\n",
       "    <tr>\n",
       "      <th>12</th>\n",
       "      <td>-3.590991</td>\n",
       "      <td>-3.597323</td>\n",
       "      <td>-3.658501</td>\n",
       "      <td>-3.605655</td>\n",
       "      <td>-1.752124</td>\n",
       "      <td>-0.0</td>\n",
       "    </tr>\n",
       "  </tbody>\n",
       "</table>\n",
       "</div>"
      ],
      "text/plain": [
       "    alpha: 0.001  alpha: 0.01  alpha: 0.1  alpha: 1  alpha: 5  alpha: 10\n",
       "0      -0.967848    -0.939492   -0.659315 -0.000000 -0.000000       -0.0\n",
       "1       1.043088     1.010377    0.684820  0.000000  0.000000        0.0\n",
       "2      -0.042280    -0.057475   -0.207389 -0.000000 -0.000000       -0.0\n",
       "3       0.593919     0.592324    0.575874  0.000000  0.000000        0.0\n",
       "4      -1.804056    -1.761604   -1.345790 -0.000000 -0.000000       -0.0\n",
       "5       2.611194     2.622904    2.738958  2.529330  0.374985        0.0\n",
       "6      -0.196298    -0.179110   -0.007398 -0.000000 -0.000000       -0.0\n",
       "7      -2.994364    -2.923287   -2.216914 -0.000000  0.000000        0.0\n",
       "8       2.065494     1.933983    0.632402 -0.000000 -0.000000       -0.0\n",
       "9      -1.920598    -1.811185   -0.724794 -0.227631 -0.000000       -0.0\n",
       "10     -2.156365    -2.147052   -2.055994 -1.700884 -0.000000       -0.0\n",
       "11      0.750737     0.739642    0.629083  0.131861  0.000000        0.0\n",
       "12     -3.590991    -3.597323   -3.658501 -3.605655 -1.752124       -0.0"
      ]
     },
     "execution_count": 90,
     "metadata": {},
     "output_type": "execute_result"
    }
   ],
   "source": [
    "coef_df2"
   ]
  },
  {
   "cell_type": "code",
   "execution_count": null,
   "metadata": {},
   "outputs": [],
   "source": []
  },
  {
   "cell_type": "code",
   "execution_count": 91,
   "metadata": {
    "tags": []
   },
   "outputs": [],
   "source": [
    "from sklearn.metrics import r2_score\n",
    "\n",
    "train_r2_list = []\n",
    "test_r2_list = []\n",
    "\n",
    "alpha_list = [0.01, 0.1, 1, 10, 100, 1000]\n",
    "for alpha in alpha_list:\n",
    "    \n",
    "    ridge = Ridge(alpha=alpha, random_state=0)\n",
    "    ridge.fit(X_train_scaled_poly, y_train)\n",
    "    \n",
    "    train_r2_list.append(r2_score(y_train, ridge.predict(X_train_scaled_poly)))\n",
    "    test_r2_list.append(r2_score(y_test, ridge.predict(X_test_scaled_poly)))\n",
    "    \n",
    "    "
   ]
  },
  {
   "cell_type": "code",
   "execution_count": 92,
   "metadata": {
    "tags": []
   },
   "outputs": [
    {
     "data": {
      "text/plain": [
       "array([-2., -1.,  0.,  1.,  2.,  3.])"
      ]
     },
     "execution_count": 92,
     "metadata": {},
     "output_type": "execute_result"
    }
   ],
   "source": [
    "np.log10(alpha_list)"
   ]
  },
  {
   "cell_type": "code",
   "execution_count": 93,
   "metadata": {
    "tags": []
   },
   "outputs": [
    {
     "data": {
      "text/html": [
       "<div>\n",
       "<style scoped>\n",
       "    .dataframe tbody tr th:only-of-type {\n",
       "        vertical-align: middle;\n",
       "    }\n",
       "\n",
       "    .dataframe tbody tr th {\n",
       "        vertical-align: top;\n",
       "    }\n",
       "\n",
       "    .dataframe thead th {\n",
       "        text-align: right;\n",
       "    }\n",
       "</style>\n",
       "<table border=\"1\" class=\"dataframe\">\n",
       "  <thead>\n",
       "    <tr style=\"text-align: right;\">\n",
       "      <th></th>\n",
       "      <th>train</th>\n",
       "      <th>test</th>\n",
       "    </tr>\n",
       "  </thead>\n",
       "  <tbody>\n",
       "    <tr>\n",
       "      <th>-2.0</th>\n",
       "      <td>0.950751</td>\n",
       "      <td>0.632598</td>\n",
       "    </tr>\n",
       "    <tr>\n",
       "      <th>-1.0</th>\n",
       "      <td>0.944655</td>\n",
       "      <td>0.674412</td>\n",
       "    </tr>\n",
       "    <tr>\n",
       "      <th>0.0</th>\n",
       "      <td>0.931780</td>\n",
       "      <td>0.761603</td>\n",
       "    </tr>\n",
       "    <tr>\n",
       "      <th>1.0</th>\n",
       "      <td>0.898743</td>\n",
       "      <td>0.766252</td>\n",
       "    </tr>\n",
       "    <tr>\n",
       "      <th>2.0</th>\n",
       "      <td>0.826360</td>\n",
       "      <td>0.690952</td>\n",
       "    </tr>\n",
       "    <tr>\n",
       "      <th>3.0</th>\n",
       "      <td>0.731646</td>\n",
       "      <td>0.581293</td>\n",
       "    </tr>\n",
       "  </tbody>\n",
       "</table>\n",
       "</div>"
      ],
      "text/plain": [
       "         train      test\n",
       "-2.0  0.950751  0.632598\n",
       "-1.0  0.944655  0.674412\n",
       " 0.0  0.931780  0.761603\n",
       " 1.0  0.898743  0.766252\n",
       " 2.0  0.826360  0.690952\n",
       " 3.0  0.731646  0.581293"
      ]
     },
     "execution_count": 93,
     "metadata": {},
     "output_type": "execute_result"
    }
   ],
   "source": [
    "result = pd.DataFrame({\"train\": train_r2_list, \n",
    "                       \"test\": test_r2_list}, \n",
    "                       index=np.log10(alpha_list))\n",
    "\n",
    "result"
   ]
  },
  {
   "cell_type": "code",
   "execution_count": 94,
   "metadata": {
    "tags": []
   },
   "outputs": [
    {
     "data": {
      "image/png": "[encoded data removed]",
      "text/plain": [
       "<Figure size 640x480 with 1 Axes>"
      ]
     },
     "metadata": {},
     "output_type": "display_data"
    }
   ],
   "source": [
    "result.plot();"
   ]
  },
  {
   "cell_type": "code",
   "execution_count": null,
   "metadata": {},
   "outputs": [],
   "source": []
  },
  {
   "cell_type": "markdown",
   "metadata": {
    "slideshow": {
     "slide_type": "slide"
    }
   },
   "source": [
    "# 정리\n",
    "- 일반적으로 선형회귀의 경우 어느정도 규제가 있는 경우가 성능이 좋다.\n",
    "- 기본적으로 **Ridge**를 사용한다.\n",
    "- Target에 영향을 주는 Feature가 몇 개뿐일 경우 특성의 가중치를 0으로 만들어 주는 **Lasso** 사용한다. "
   ]
  }
 ],
 "metadata": {
  "kernelspec": {
   "display_name": "Python 3 (ipykernel)",
   "language": "python",
   "name": "python3"
  },
  "language_info": {
   "codemirror_mode": {
    "name": "ipython",
    "version": 3
   },
   "file_extension": ".py",
   "mimetype": "text/x-python",
   "name": "python",
   "nbconvert_exporter": "python",
   "pygments_lexer": "ipython3",
   "version": "3.11.5"
  },
  "toc": {
   "base_numbering": 1,
   "nav_menu": {},
   "number_sections": false,
   "sideBar": true,
   "skip_h1_title": false,
   "title_cell": "Table of Contents",
   "title_sidebar": "Contents",
   "toc_cell": false,
   "toc_position": {},
   "toc_section_display": true,
   "toc_window_display": false
  },
  "varInspector": {
   "cols": {
    "lenName": 16,
    "lenType": 16,
    "lenVar": 40
   },
   "kernels_config": {
    "python": {
     "delete_cmd_postfix": "",
     "delete_cmd_prefix": "del ",
     "library": "var_list.py",
     "varRefreshCmd": "print(var_dic_list())"
    },
    "r": {
     "delete_cmd_postfix": ") ",
     "delete_cmd_prefix": "rm(",
     "library": "var_list.r",
     "varRefreshCmd": "cat(var_dic_list()) "
    }
   },
   "types_to_exclude": [
    "module",
    "function",
    "builtin_function_or_method",
    "instance",
    "_Feature"
   ],
   "window_display": false
  }
 },
 "nbformat": 4,
 "nbformat_minor": 4
}
