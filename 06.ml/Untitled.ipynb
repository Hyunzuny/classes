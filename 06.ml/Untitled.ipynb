{
 "cells": [
  {
   "cell_type": "code",
   "execution_count": 2,
   "id": "a2dbdf67-1f22-45ce-b885-f4c6a72e67d2",
   "metadata": {
    "tags": []
   },
   "outputs": [],
   "source": [
    "import numpy as np"
   ]
  },
  {
   "cell_type": "code",
   "execution_count": 6,
   "id": "bdc9abc5-647c-4aa5-961f-0b2bf1cb402d",
   "metadata": {
    "tags": []
   },
   "outputs": [
    {
     "data": {
      "text/plain": [
       "array([ 1,  3,  5,  7,  9, 11, 13])"
      ]
     },
     "execution_count": 6,
     "metadata": {},
     "output_type": "execute_result"
    }
   ],
   "source": [
    "np.arange(1,15,2)"
   ]
  },
  {
   "cell_type": "code",
   "execution_count": 13,
   "id": "883a8b78-019e-45d5-a70e-0d6c1287f7a7",
   "metadata": {
    "tags": []
   },
   "outputs": [
    {
     "data": {
      "text/plain": [
       "(array([ 1. ,  5.9, 10.8, 15.7, 20.6, 25.5, 30.4, 35.3, 40.2, 45.1]), 4.9)"
      ]
     },
     "execution_count": 13,
     "metadata": {},
     "output_type": "execute_result"
    }
   ],
   "source": [
    "np.linspace(1,50,10,endpoint= False, retstep =True)"
   ]
  },
  {
   "cell_type": "code",
   "execution_count": 14,
   "id": "c4b95924-002e-4fd8-a46e-6e72f360d1a7",
   "metadata": {
    "tags": []
   },
   "outputs": [
    {
     "data": {
      "text/plain": [
       "array([ 1. ,  5.9, 10.8, 15.7, 20.6, 25.5, 30.4, 35.3, 40.2, 45.1])"
      ]
     },
     "execution_count": 14,
     "metadata": {},
     "output_type": "execute_result"
    }
   ],
   "source": [
    "np.linspace(1,50,10,endpoint= False)"
   ]
  },
  {
   "cell_type": "code",
   "execution_count": 22,
   "id": "bab00fd4-debd-48ad-99f7-f2f225f6addc",
   "metadata": {
    "tags": []
   },
   "outputs": [],
   "source": [
    "import matplotlib.pyplot as plt"
   ]
  },
  {
   "cell_type": "code",
   "execution_count": 23,
   "id": "fad53260-880e-4276-93de-a79932f204cf",
   "metadata": {
    "tags": []
   },
   "outputs": [],
   "source": [
    "x = np.linspace(-3,3,100)"
   ]
  },
  {
   "cell_type": "code",
   "execution_count": 24,
   "id": "11e941f4-7bda-4c49-97b2-d9ef59c9e4bd",
   "metadata": {
    "tags": []
   },
   "outputs": [],
   "source": [
    "def f(x):\n",
    "    return x**3 + 2*x**2 +3"
   ]
  },
  {
   "cell_type": "code",
   "execution_count": 25,
   "id": "5ece8599-68ae-449e-920a-587cd28e4fdd",
   "metadata": {
    "tags": []
   },
   "outputs": [
    {
     "data": {
      "text/plain": [
       "array([-6.        , -5.11639814, -4.28288394, -3.49812171, -2.7607758 ,\n",
       "       -2.06951053, -1.42299023, -0.81987923, -0.25884186,  0.26145755,\n",
       "        0.74235468,  1.18518519,  1.59128475,  1.96198904,  2.29863372,\n",
       "        2.60255447,  2.87508696,  3.11756685,  3.33132983,  3.51771155,\n",
       "        3.67804769,  3.81367393,  3.92592593,  4.01613935,  4.08564989,\n",
       "        4.13579319,  4.16790494,  4.18332081,  4.18337646,  4.16940757,\n",
       "        4.14274981,  4.10473885,  4.05671035,  4.        ,  3.93594346,\n",
       "        3.86587639,  3.79113449,  3.7130534 ,  3.63296881,  3.55221638,\n",
       "        3.47213179,  3.3940507 ,  3.31930879,  3.24924173,  3.18518519,\n",
       "        3.12847483,  3.08044634,  3.04243537,  3.01577761,  3.00180872,\n",
       "        3.00186437,  3.01728024,  3.04939199,  3.0995353 ,  3.16904583,\n",
       "        3.25925926,  3.37151126,  3.50713749,  3.66747363,  3.85385536,\n",
       "        4.06761833,  4.31009823,  4.58263071,  4.88655147,  5.22319615,\n",
       "        5.59390044,  6.        ,  6.44283051,  6.92372763,  7.44402705,\n",
       "        8.00506442,  8.60817542,  9.25469572,  9.94596099, 10.6833069 ,\n",
       "       11.46806912, 12.30158333, 13.18518519, 14.12021037, 15.10799455,\n",
       "       16.14987339, 17.24718257, 18.40125776, 19.61343462, 20.88504884,\n",
       "       22.21743607, 23.61193199, 25.06987228, 26.59259259, 28.18142861,\n",
       "       29.837716  , 31.56279044, 33.35798759, 35.22464313, 37.16409272,\n",
       "       39.17767204, 41.26671675, 43.43256254, 45.67654506, 48.        ])"
      ]
     },
     "execution_count": 25,
     "metadata": {},
     "output_type": "execute_result"
    }
   ],
   "source": [
    "y = f(x)\n",
    "y"
   ]
  },
  {
   "cell_type": "code",
   "execution_count": 27,
   "id": "caf5e980-afe8-400e-925a-84b937e4e388",
   "metadata": {
    "tags": []
   },
   "outputs": [
    {
     "data": {
      "image/png": "[encoded data removed]",
      "text/plain": [
       "<Figure size 640x480 with 1 Axes>"
      ]
     },
     "metadata": {},
     "output_type": "display_data"
    }
   ],
   "source": [
    "plt.plot(x,y)\n",
    "plt.show()"
   ]
  },
  {
   "cell_type": "code",
   "execution_count": 48,
   "id": "6d438755-2d68-4737-ab53-ad2591286bcb",
   "metadata": {
    "tags": []
   },
   "outputs": [],
   "source": [
    "np.random.seed(0)"
   ]
  },
  {
   "cell_type": "code",
   "execution_count": 51,
   "id": "955e4ee9-80be-40fa-94cf-20b61a9bbe13",
   "metadata": {
    "tags": []
   },
   "outputs": [
    {
     "data": {
      "text/plain": [
       "0.6027633760716439"
      ]
     },
     "execution_count": 51,
     "metadata": {},
     "output_type": "execute_result"
    }
   ],
   "source": [
    "np.random.rand()"
   ]
  },
  {
   "cell_type": "code",
   "execution_count": null,
   "id": "f6eb84bc-bb75-4591-a295-652f31a8cd51",
   "metadata": {},
   "outputs": [],
   "source": [
    "0.5488135039273248 0.5488135039273248\n",
    "0.7151893663724195 0.7151893663724195\n",
    "0.6027633760716439 0.6027633760716439"
   ]
  },
  {
   "cell_type": "code",
   "execution_count": 54,
   "id": "7d1cef01-b532-4971-9c2c-c6dea74f1186",
   "metadata": {
    "tags": []
   },
   "outputs": [
    {
     "data": {
      "text/plain": [
       "array([[-1.34164101, 16.66772691,  5.78637973, 19.84962224, 16.33059265,\n",
       "         7.4706173 , 22.72600389],\n",
       "       [15.40405957, 12.42156077, 12.89570239,  9.09208714, 17.05102316,\n",
       "         8.12764155, 11.37599158],\n",
       "       [ 5.19622694, 11.88463487, 10.16719464, 13.40283622,  2.18251655,\n",
       "         7.1665119 ,  8.78925243]])"
      ]
     },
     "execution_count": 54,
     "metadata": {},
     "output_type": "execute_result"
    }
   ],
   "source": [
    "np.random.normal(loc = 10,scale = 5 , size=[3,7])"
   ]
  },
  {
   "cell_type": "code",
   "execution_count": 55,
   "id": "d14276e1-edb4-449f-8707-cb7855bf3aa2",
   "metadata": {
    "tags": []
   },
   "outputs": [
    {
     "data": {
      "text/plain": [
       "array([[3, 1, 1, 5, 6],\n",
       "       [6, 7, 9, 5, 2],\n",
       "       [5, 9, 2, 2, 8]])"
      ]
     },
     "execution_count": 55,
     "metadata": {},
     "output_type": "execute_result"
    }
   ],
   "source": [
    "a = np.random.randint(1,10,size=(3,5))\n",
    "a"
   ]
  },
  {
   "cell_type": "code",
   "execution_count": 57,
   "id": "273b5efe-fc9f-4b90-93ef-d4375954fce8",
   "metadata": {
    "tags": []
   },
   "outputs": [
    {
     "data": {
      "text/plain": [
       "(3, 5)"
      ]
     },
     "execution_count": 57,
     "metadata": {},
     "output_type": "execute_result"
    }
   ],
   "source": [
    "a.shape"
   ]
  },
  {
   "cell_type": "code",
   "execution_count": 58,
   "id": "9bf8b155-e815-4aed-87bf-434426d53300",
   "metadata": {
    "tags": []
   },
   "outputs": [
    {
     "data": {
      "text/plain": [
       "9"
      ]
     },
     "execution_count": 58,
     "metadata": {},
     "output_type": "execute_result"
    }
   ],
   "source": [
    "a[1][2]"
   ]
  },
  {
   "cell_type": "code",
   "execution_count": 60,
   "id": "1597552b-2f77-4b04-8821-42d571100204",
   "metadata": {
    "tags": []
   },
   "outputs": [
    {
     "data": {
      "text/plain": [
       "9"
      ]
     },
     "execution_count": 60,
     "metadata": {},
     "output_type": "execute_result"
    }
   ],
   "source": [
    "a[1,2]"
   ]
  },
  {
   "cell_type": "code",
   "execution_count": 61,
   "id": "b83fd72f-0707-487e-afe9-16019b158851",
   "metadata": {
    "tags": []
   },
   "outputs": [],
   "source": [
    "a =np.arange(100).reshape(2,50)"
   ]
  },
  {
   "cell_type": "code",
   "execution_count": 62,
   "id": "63d29994-402c-4599-ab7e-f0ae85c102c1",
   "metadata": {
    "tags": []
   },
   "outputs": [
    {
     "data": {
      "text/plain": [
       "array([[ 0,  1,  2,  3,  4,  5,  6,  7,  8,  9, 10, 11, 12, 13, 14, 15,\n",
       "        16, 17, 18, 19, 20, 21, 22, 23, 24, 25, 26, 27, 28, 29, 30, 31,\n",
       "        32, 33, 34, 35, 36, 37, 38, 39, 40, 41, 42, 43, 44, 45, 46, 47,\n",
       "        48, 49],\n",
       "       [50, 51, 52, 53, 54, 55, 56, 57, 58, 59, 60, 61, 62, 63, 64, 65,\n",
       "        66, 67, 68, 69, 70, 71, 72, 73, 74, 75, 76, 77, 78, 79, 80, 81,\n",
       "        82, 83, 84, 85, 86, 87, 88, 89, 90, 91, 92, 93, 94, 95, 96, 97,\n",
       "        98, 99]])"
      ]
     },
     "execution_count": 62,
     "metadata": {},
     "output_type": "execute_result"
    }
   ],
   "source": [
    "a"
   ]
  },
  {
   "cell_type": "markdown",
   "id": "d2a7341c-837d-4d9c-adda-a45f8c3ffcf9",
   "metadata": {
    "tags": []
   },
   "source": [
    "불리언 인덱싱"
   ]
  },
  {
   "cell_type": "code",
   "execution_count": 68,
   "id": "c305e5bb-1dfb-4cae-bcf8-ca64cb40e548",
   "metadata": {
    "tags": []
   },
   "outputs": [],
   "source": [
    "flag = np.random.choice([True, False], size = 10)\n",
    "c = np.random.randint(1,10,size=10)"
   ]
  },
  {
   "cell_type": "code",
   "execution_count": 69,
   "id": "3d20502f-6621-4b49-981a-703b2b0d8074",
   "metadata": {
    "tags": []
   },
   "outputs": [
    {
     "data": {
      "text/plain": [
       "array([ True, False, False,  True, False,  True,  True, False,  True,\n",
       "        True])"
      ]
     },
     "execution_count": 69,
     "metadata": {},
     "output_type": "execute_result"
    }
   ],
   "source": [
    "flag"
   ]
  },
  {
   "cell_type": "code",
   "execution_count": 70,
   "id": "8a11d865-1e95-49aa-8bcd-c13c3846bbc2",
   "metadata": {
    "tags": []
   },
   "outputs": [
    {
     "data": {
      "text/plain": [
       "array([5, 5, 4, 5, 5, 9, 5, 4, 8, 6])"
      ]
     },
     "execution_count": 70,
     "metadata": {},
     "output_type": "execute_result"
    }
   ],
   "source": [
    "c"
   ]
  },
  {
   "cell_type": "code",
   "execution_count": 71,
   "id": "0e26b704-6bba-4067-99a4-4d2f3ff2a45c",
   "metadata": {
    "tags": []
   },
   "outputs": [
    {
     "data": {
      "text/plain": [
       "array([5, 5, 9, 5, 8, 6])"
      ]
     },
     "execution_count": 71,
     "metadata": {},
     "output_type": "execute_result"
    }
   ],
   "source": [
    "c[flag]"
   ]
  },
  {
   "cell_type": "code",
   "execution_count": 73,
   "id": "5097e278-7031-4088-be65-e04fb4bc5dfc",
   "metadata": {
    "tags": []
   },
   "outputs": [
    {
     "data": {
      "text/plain": [
       "(array([0, 2], dtype=int64),)"
      ]
     },
     "execution_count": 73,
     "metadata": {},
     "output_type": "execute_result"
    }
   ],
   "source": [
    "np.where([True,False,True])"
   ]
  },
  {
   "cell_type": "code",
   "execution_count": 75,
   "id": "e82ef010-5aad-477e-84c0-fd83d4322752",
   "metadata": {
    "tags": []
   },
   "outputs": [
    {
     "data": {
      "text/plain": [
       "array([5, 5, 4, 5, 5, 9, 5, 4, 8, 6])"
      ]
     },
     "execution_count": 75,
     "metadata": {},
     "output_type": "execute_result"
    }
   ],
   "source": [
    "c"
   ]
  },
  {
   "cell_type": "code",
   "execution_count": 76,
   "id": "ccea9e39-43b2-4803-a0ec-07c933789eab",
   "metadata": {
    "tags": []
   },
   "outputs": [],
   "source": [
    "r = np.where(c>5)"
   ]
  },
  {
   "cell_type": "code",
   "execution_count": 77,
   "id": "516d22c1-ff08-4b69-a0c3-e4cb1cbdcbd7",
   "metadata": {
    "tags": []
   },
   "outputs": [
    {
     "data": {
      "text/plain": [
       "(array([5, 8, 9], dtype=int64),)"
      ]
     },
     "execution_count": 77,
     "metadata": {},
     "output_type": "execute_result"
    }
   ],
   "source": [
    "r"
   ]
  },
  {
   "cell_type": "code",
   "execution_count": 78,
   "id": "fc552ba2-b9e5-479b-83bb-62b14e2a0fc4",
   "metadata": {
    "tags": []
   },
   "outputs": [],
   "source": [
    "a = np.random.randint(1,10, size=(3,5))"
   ]
  },
  {
   "cell_type": "code",
   "execution_count": 79,
   "id": "eea74d79-1866-459a-9451-d728c874f97f",
   "metadata": {
    "tags": []
   },
   "outputs": [
    {
     "data": {
      "text/plain": [
       "array([[6, 1, 2, 6, 4],\n",
       "       [1, 6, 1, 2, 3],\n",
       "       [5, 3, 1, 4, 3]])"
      ]
     },
     "execution_count": 79,
     "metadata": {},
     "output_type": "execute_result"
    }
   ],
   "source": []
  },
  {
   "cell_type": "code",
   "execution_count": 81,
   "id": "a11f03c7-ab9b-4e69-85c9-e8cf99f13dcf",
   "metadata": {
    "tags": []
   },
   "outputs": [],
   "source": [
    "a = np.array([[9, 1, 6, 1, 6],\n",
    "       [1, 3, 3, 7, 7],\n",
    "       [6, 5, 1, 9, 8]])"
   ]
  },
  {
   "cell_type": "code",
   "execution_count": 82,
   "id": "8207be0c-c6b2-46e6-a552-f299e13ef893",
   "metadata": {
    "tags": []
   },
   "outputs": [
    {
     "data": {
      "text/plain": [
       "array([[9, 1, 6, 1, 6],\n",
       "       [1, 3, 3, 7, 7],\n",
       "       [6, 5, 1, 9, 8]])"
      ]
     },
     "execution_count": 82,
     "metadata": {},
     "output_type": "execute_result"
    }
   ],
   "source": [
    "a"
   ]
  },
  {
   "cell_type": "code",
   "execution_count": 83,
   "id": "418eb849-c219-4682-83c8-e3f6eee9a5e2",
   "metadata": {
    "tags": []
   },
   "outputs": [
    {
     "data": {
      "text/plain": [
       "3"
      ]
     },
     "execution_count": 83,
     "metadata": {},
     "output_type": "execute_result"
    }
   ],
   "source": [
    "a[1][2]"
   ]
  },
  {
   "cell_type": "code",
   "execution_count": 84,
   "id": "6611b234-2a0b-4af0-8bad-511913bb06aa",
   "metadata": {
    "tags": []
   },
   "outputs": [],
   "source": [
    "b = np.array([[[7, 7, 3, 8, 6],\n",
    "        [8, 1, 1, 5, 3]],\n",
    "\n",
    "       [[4, 2, 6, 9, 4],\n",
    "        [1, 6, 1, 1, 3]],\n",
    "\n",
    "       [[4, 6, 8, 1, 1],\n",
    "        [2, 7, 7, 1, 6]]])"
   ]
  },
  {
   "cell_type": "code",
   "execution_count": 87,
   "id": "7c79762c-30f3-43bd-b361-810e58b753f4",
   "metadata": {
    "tags": []
   },
   "outputs": [
    {
     "data": {
      "text/plain": [
       "array([[[7, 7, 3, 8, 6],\n",
       "        [8, 1, 1, 5, 3]],\n",
       "\n",
       "       [[4, 2, 6, 9, 4],\n",
       "        [1, 6, 1, 1, 3]],\n",
       "\n",
       "       [[4, 6, 8, 1, 1],\n",
       "        [2, 7, 7, 1, 6]]])"
      ]
     },
     "execution_count": 87,
     "metadata": {},
     "output_type": "execute_result"
    }
   ],
   "source": [
    "b"
   ]
  },
  {
   "cell_type": "code",
   "execution_count": 90,
   "id": "180595fb-a1fc-411d-9742-4b0c649f084d",
   "metadata": {
    "tags": []
   },
   "outputs": [
    {
     "data": {
      "text/plain": [
       "6"
      ]
     },
     "execution_count": 90,
     "metadata": {},
     "output_type": "execute_result"
    }
   ],
   "source": [
    "b[2,0,1]"
   ]
  },
  {
   "cell_type": "code",
   "execution_count": 91,
   "id": "16586850-1f81-42dd-90a7-b63fd432463e",
   "metadata": {
    "tags": []
   },
   "outputs": [
    {
     "data": {
      "text/plain": [
       "array([1, 6, 1, 1, 3])"
      ]
     },
     "execution_count": 91,
     "metadata": {},
     "output_type": "execute_result"
    }
   ],
   "source": [
    "b[1,1]"
   ]
  },
  {
   "cell_type": "code",
   "execution_count": 92,
   "id": "f99f61ff-2f46-4ef8-882d-90d894c58268",
   "metadata": {
    "tags": []
   },
   "outputs": [
    {
     "data": {
      "text/plain": [
       "array([[4, 6, 8, 1, 1],\n",
       "       [2, 7, 7, 1, 6]])"
      ]
     },
     "execution_count": 92,
     "metadata": {},
     "output_type": "execute_result"
    }
   ],
   "source": [
    "b[2]"
   ]
  },
  {
   "cell_type": "code",
   "execution_count": 93,
   "id": "71f99cc4-0e78-4318-8e2c-bb2a798a8574",
   "metadata": {
    "tags": []
   },
   "outputs": [],
   "source": [
    "c = np.array([5, 0, 3, 3, 7, 9, 3, 5, 2, 4])"
   ]
  },
  {
   "cell_type": "code",
   "execution_count": 94,
   "id": "e069a252-b568-4640-8253-547bf8ab92b7",
   "metadata": {
    "tags": []
   },
   "outputs": [
    {
     "data": {
      "text/plain": [
       "array([5, 0, 3, 3, 7, 9, 3, 5, 2, 4])"
      ]
     },
     "execution_count": 94,
     "metadata": {},
     "output_type": "execute_result"
    }
   ],
   "source": [
    "c"
   ]
  },
  {
   "cell_type": "code",
   "execution_count": 95,
   "id": "0863b292-dcfe-415c-960d-ef08ac3912f1",
   "metadata": {
    "tags": []
   },
   "outputs": [
    {
     "data": {
      "text/plain": [
       "array([5, 3, 7])"
      ]
     },
     "execution_count": 95,
     "metadata": {},
     "output_type": "execute_result"
    }
   ],
   "source": [
    "c[[0,2,4]]"
   ]
  },
  {
   "cell_type": "code",
   "execution_count": 96,
   "id": "bb0a34fb-2adf-4b04-90b1-8ad158fb5029",
   "metadata": {
    "tags": []
   },
   "outputs": [
    {
     "data": {
      "text/plain": [
       "array([[9, 1, 6, 1, 6],\n",
       "       [1, 3, 3, 7, 7],\n",
       "       [6, 5, 1, 9, 8]])"
      ]
     },
     "execution_count": 96,
     "metadata": {},
     "output_type": "execute_result"
    }
   ],
   "source": [
    "a"
   ]
  },
  {
   "cell_type": "code",
   "execution_count": 99,
   "id": "51b688d0-6bea-4b34-84b6-ec5a85838869",
   "metadata": {
    "tags": []
   },
   "outputs": [
    {
     "data": {
      "text/plain": [
       "array([7, 9])"
      ]
     },
     "execution_count": 99,
     "metadata": {},
     "output_type": "execute_result"
    }
   ],
   "source": [
    "a[[1,2],[3,3]]  #[행],[열]"
   ]
  },
  {
   "cell_type": "code",
   "execution_count": 100,
   "id": "dfbc877a-c7ab-4286-acc1-90365e09bbb9",
   "metadata": {
    "tags": []
   },
   "outputs": [],
   "source": [
    "c = np.array([9, 9, 5, 5, 1, 4, 8, 4, 3, 2])"
   ]
  },
  {
   "cell_type": "code",
   "execution_count": 101,
   "id": "dee1f55e-a389-474c-b2b8-ab4859194ea4",
   "metadata": {
    "tags": []
   },
   "outputs": [
    {
     "data": {
      "text/plain": [
       "array([9, 9, 5, 5, 1, 4, 8, 4, 3, 2])"
      ]
     },
     "execution_count": 101,
     "metadata": {},
     "output_type": "execute_result"
    }
   ],
   "source": [
    "c"
   ]
  },
  {
   "cell_type": "code",
   "execution_count": 102,
   "id": "4215c647-9100-40d2-aae0-636698effa96",
   "metadata": {
    "tags": []
   },
   "outputs": [
    {
     "data": {
      "text/plain": [
       "array([9, 9, 5, 5, 1])"
      ]
     },
     "execution_count": 102,
     "metadata": {},
     "output_type": "execute_result"
    }
   ],
   "source": [
    "c[:5]"
   ]
  },
  {
   "cell_type": "code",
   "execution_count": 104,
   "id": "e4c0b59e-fd3e-4b55-bea7-3c0ef02cc115",
   "metadata": {
    "tags": []
   },
   "outputs": [],
   "source": [
    "d = np.array([[[8, 9, 9, 3, 9, 7, 7, 2, 7, 9],\n",
    "        [9, 4, 3, 4, 7, 4, 7, 6, 8, 1]],\n",
    "\n",
    "       [[9, 5, 7, 6, 9, 3, 4, 8, 6, 4],\n",
    "        [5, 6, 4, 4, 8, 8, 4, 3, 4, 8]],\n",
    "\n",
    "       [[8, 6, 2, 3, 3, 9, 2, 6, 9, 5],\n",
    "        [1, 3, 6, 6, 1, 9, 2, 2, 1, 4]]])"
   ]
  },
  {
   "cell_type": "code",
   "execution_count": 105,
   "id": "28fdf553-c3ab-40c1-9a6c-940bc8249779",
   "metadata": {
    "tags": []
   },
   "outputs": [
    {
     "data": {
      "text/plain": [
       "array([[[8, 9, 9, 3, 9, 7, 7, 2, 7, 9],\n",
       "        [9, 4, 3, 4, 7, 4, 7, 6, 8, 1]],\n",
       "\n",
       "       [[9, 5, 7, 6, 9, 3, 4, 8, 6, 4],\n",
       "        [5, 6, 4, 4, 8, 8, 4, 3, 4, 8]],\n",
       "\n",
       "       [[8, 6, 2, 3, 3, 9, 2, 6, 9, 5],\n",
       "        [1, 3, 6, 6, 1, 9, 2, 2, 1, 4]]])"
      ]
     },
     "execution_count": 105,
     "metadata": {},
     "output_type": "execute_result"
    }
   ],
   "source": [
    "d"
   ]
  },
  {
   "cell_type": "code",
   "execution_count": 106,
   "id": "456efe36-cc48-4837-ae5a-85da9a0629d3",
   "metadata": {
    "tags": []
   },
   "outputs": [
    {
     "data": {
      "text/plain": [
       "array([9, 9, 3])"
      ]
     },
     "execution_count": 106,
     "metadata": {},
     "output_type": "execute_result"
    }
   ],
   "source": [
    "d[:,0 , 4]"
   ]
  },
  {
   "cell_type": "code",
   "execution_count": 109,
   "id": "ecbdc731-b179-429f-a1f7-c7be700e8014",
   "metadata": {
    "tags": []
   },
   "outputs": [
    {
     "data": {
      "text/plain": [
       "array([[7, 7],\n",
       "       [4, 4],\n",
       "       [2, 2]])"
      ]
     },
     "execution_count": 109,
     "metadata": {},
     "output_type": "execute_result"
    }
   ],
   "source": [
    "p = d[:,:,6]\n",
    "p"
   ]
  },
  {
   "cell_type": "code",
   "execution_count": 111,
   "id": "6899fcd0-74da-4e11-8cbd-a4de1366893d",
   "metadata": {
    "tags": []
   },
   "outputs": [
    {
     "data": {
      "text/plain": [
       "((3, 2), 6, 2)"
      ]
     },
     "execution_count": 111,
     "metadata": {},
     "output_type": "execute_result"
    }
   ],
   "source": [
    "p.shape, p.size, p.ndim"
   ]
  },
  {
   "cell_type": "code",
   "execution_count": 112,
   "id": "614aadf8-d7fb-45f0-b5be-276dc67db19f",
   "metadata": {
    "tags": []
   },
   "outputs": [
    {
     "data": {
      "text/plain": [
       "array([[[9, 3, 7, 2],\n",
       "        [4, 4, 4, 6]],\n",
       "\n",
       "       [[5, 6, 3, 8],\n",
       "        [6, 4, 8, 3]],\n",
       "\n",
       "       [[6, 3, 9, 6],\n",
       "        [3, 6, 9, 2]]])"
      ]
     },
     "execution_count": 112,
     "metadata": {},
     "output_type": "execute_result"
    }
   ],
   "source": [
    "d[:,:,1:9:2]"
   ]
  },
  {
   "cell_type": "code",
   "execution_count": 113,
   "id": "cdef4c00-6c0e-4fce-9275-361afaafc91f",
   "metadata": {
    "tags": []
   },
   "outputs": [
    {
     "data": {
      "text/plain": [
       "array([9, 9, 5, 5, 1, 4, 8, 4, 3, 2])"
      ]
     },
     "execution_count": 113,
     "metadata": {},
     "output_type": "execute_result"
    }
   ],
   "source": [
    "c"
   ]
  },
  {
   "cell_type": "code",
   "execution_count": 118,
   "id": "36ae832b-f6d2-46d1-93a9-03b3a2bd73a4",
   "metadata": {
    "tags": []
   },
   "outputs": [],
   "source": [
    "flag = np.random.choice([True, False], size = 10)"
   ]
  },
  {
   "cell_type": "code",
   "execution_count": 119,
   "id": "63da505e-264e-4ed9-a524-06ee3715da1e",
   "metadata": {
    "tags": []
   },
   "outputs": [
    {
     "data": {
      "text/plain": [
       "array([ True, False, False,  True,  True, False,  True, False,  True,\n",
       "       False])"
      ]
     },
     "execution_count": 119,
     "metadata": {},
     "output_type": "execute_result"
    }
   ],
   "source": [
    "flag"
   ]
  },
  {
   "cell_type": "code",
   "execution_count": 116,
   "id": "4a59f947-72a4-4605-8947-8a9c89db6b65",
   "metadata": {
    "tags": []
   },
   "outputs": [
    {
     "data": {
      "text/plain": [
       "array([False, False,  True,  True,  True, False,  True, False, False,\n",
       "       False])"
      ]
     },
     "execution_count": 116,
     "metadata": {},
     "output_type": "execute_result"
    }
   ],
   "source": []
  },
  {
   "cell_type": "code",
   "execution_count": 117,
   "id": "f6871663-60b3-4791-ab7c-23c6d5fcd293",
   "metadata": {
    "tags": []
   },
   "outputs": [
    {
     "data": {
      "text/plain": [
       "array([9, 4, 4, 3])"
      ]
     },
     "execution_count": 117,
     "metadata": {},
     "output_type": "execute_result"
    }
   ],
   "source": [
    "c[flag]"
   ]
  },
  {
   "cell_type": "code",
   "execution_count": 120,
   "id": "2cb475bb-9c23-45af-b4ca-8f1c18bc9dc6",
   "metadata": {
    "tags": []
   },
   "outputs": [
    {
     "data": {
      "text/plain": [
       "array([9, 9, 8])"
      ]
     },
     "execution_count": 120,
     "metadata": {},
     "output_type": "execute_result"
    }
   ],
   "source": [
    "c[c>5]"
   ]
  },
  {
   "cell_type": "code",
   "execution_count": 123,
   "id": "c59adbc9-6f8a-4131-9210-906de7490385",
   "metadata": {
    "tags": []
   },
   "outputs": [
    {
     "data": {
      "text/plain": [
       "array([9, 6, 6, 7, 7, 6, 9, 8])"
      ]
     },
     "execution_count": 123,
     "metadata": {},
     "output_type": "execute_result"
    }
   ],
   "source": [
    "a[a>5]"
   ]
  },
  {
   "cell_type": "code",
   "execution_count": 124,
   "id": "593ba03a-ede1-4c1e-b6e9-b1712a4a7eb3",
   "metadata": {
    "tags": []
   },
   "outputs": [
    {
     "data": {
      "text/plain": [
       "(array([0, 2], dtype=int64),)"
      ]
     },
     "execution_count": 124,
     "metadata": {},
     "output_type": "execute_result"
    }
   ],
   "source": [
    "np.where([True, False, True])"
   ]
  },
  {
   "cell_type": "code",
   "execution_count": 125,
   "id": "033a4cc7-06fd-49ba-bf99-6ed74592c0fc",
   "metadata": {
    "tags": []
   },
   "outputs": [
    {
     "data": {
      "text/plain": [
       "array([9, 9, 5, 5, 1, 4, 8, 4, 3, 2])"
      ]
     },
     "execution_count": 125,
     "metadata": {},
     "output_type": "execute_result"
    }
   ],
   "source": [
    "c"
   ]
  },
  {
   "cell_type": "code",
   "execution_count": 126,
   "id": "28e0065d-e3d6-447a-8bc8-ae041418b352",
   "metadata": {
    "tags": []
   },
   "outputs": [
    {
     "data": {
      "text/plain": [
       "(array([0, 1, 6], dtype=int64),)"
      ]
     },
     "execution_count": 126,
     "metadata": {},
     "output_type": "execute_result"
    }
   ],
   "source": [
    "np.where(c>5)"
   ]
  },
  {
   "cell_type": "code",
   "execution_count": 127,
   "id": "a735f1ae-8129-49d7-929b-3a910d7481c8",
   "metadata": {
    "tags": []
   },
   "outputs": [
    {
     "data": {
      "text/plain": [
       "array([[9, 1, 6, 1, 6],\n",
       "       [1, 3, 3, 7, 7],\n",
       "       [6, 5, 1, 9, 8]])"
      ]
     },
     "execution_count": 127,
     "metadata": {},
     "output_type": "execute_result"
    }
   ],
   "source": [
    "a"
   ]
  },
  {
   "cell_type": "code",
   "execution_count": 129,
   "id": "44dca868-7808-4f35-a54c-a8c9b198ec02",
   "metadata": {
    "tags": []
   },
   "outputs": [
    {
     "data": {
      "text/plain": [
       "array([9, 6, 6, 7, 7, 6, 9, 8])"
      ]
     },
     "execution_count": 129,
     "metadata": {},
     "output_type": "execute_result"
    }
   ],
   "source": [
    "a[a>5]"
   ]
  },
  {
   "cell_type": "code",
   "execution_count": 131,
   "id": "c2c730c8-79e0-4048-93d1-3e288f9565b1",
   "metadata": {
    "tags": []
   },
   "outputs": [
    {
     "data": {
      "text/plain": [
       "array([[ True, False,  True, False,  True],\n",
       "       [False, False, False,  True,  True],\n",
       "       [ True, False, False,  True,  True]])"
      ]
     },
     "execution_count": 131,
     "metadata": {},
     "output_type": "execute_result"
    }
   ],
   "source": [
    "k = (a>5)\n",
    "k"
   ]
  },
  {
   "cell_type": "code",
   "execution_count": 132,
   "id": "e5ee915c-34db-4e25-9e1d-45e5f1895454",
   "metadata": {
    "tags": []
   },
   "outputs": [
    {
     "data": {
      "text/plain": [
       "(array([0, 0, 0, 1, 1, 2, 2, 2], dtype=int64),\n",
       " array([0, 2, 4, 3, 4, 0, 3, 4], dtype=int64))"
      ]
     },
     "execution_count": 132,
     "metadata": {},
     "output_type": "execute_result"
    }
   ],
   "source": [
    "np.where(k)"
   ]
  },
  {
   "cell_type": "code",
   "execution_count": 133,
   "id": "252aa538-77b7-458f-9fa1-31dbb2929ce0",
   "metadata": {
    "tags": []
   },
   "outputs": [
    {
     "data": {
      "text/plain": [
       "array([['참', '거짓', '참', '거짓', '참'],\n",
       "       ['거짓', '거짓', '거짓', '참', '참'],\n",
       "       ['참', '거짓', '거짓', '참', '참']], dtype='<U2')"
      ]
     },
     "execution_count": 133,
     "metadata": {},
     "output_type": "execute_result"
    }
   ],
   "source": [
    "np.where(k, '참', '거짓')"
   ]
  },
  {
   "cell_type": "code",
   "execution_count": 134,
   "id": "f6a7719d-e3c2-4dc3-99f9-39932b56cbd2",
   "metadata": {
    "tags": []
   },
   "outputs": [
    {
     "data": {
      "text/plain": [
       "True"
      ]
     },
     "execution_count": 134,
     "metadata": {},
     "output_type": "execute_result"
    }
   ],
   "source": [
    "np.all(a>0)"
   ]
  },
  {
   "cell_type": "code",
   "execution_count": 135,
   "id": "a0af2137-7d07-423c-afcd-2414cf17b482",
   "metadata": {
    "tags": []
   },
   "outputs": [
    {
     "data": {
      "text/plain": [
       "True"
      ]
     },
     "execution_count": 135,
     "metadata": {},
     "output_type": "execute_result"
    }
   ],
   "source": [
    "np.any(c>=2)"
   ]
  },
  {
   "cell_type": "code",
   "execution_count": 138,
   "id": "31829300-e132-4189-bc15-20cbd9a691f3",
   "metadata": {
    "tags": []
   },
   "outputs": [],
   "source": [
    "a = np.arange(100).reshape(2,50)"
   ]
  },
  {
   "cell_type": "code",
   "execution_count": 139,
   "id": "4df994cf-5cc4-41c6-9d5a-da7b616b6025",
   "metadata": {
    "tags": []
   },
   "outputs": [
    {
     "data": {
      "text/plain": [
       "array([[ 0,  1,  2,  3,  4,  5,  6,  7,  8,  9, 10, 11, 12, 13, 14, 15,\n",
       "        16, 17, 18, 19, 20, 21, 22, 23, 24, 25, 26, 27, 28, 29, 30, 31,\n",
       "        32, 33, 34, 35, 36, 37, 38, 39, 40, 41, 42, 43, 44, 45, 46, 47,\n",
       "        48, 49],\n",
       "       [50, 51, 52, 53, 54, 55, 56, 57, 58, 59, 60, 61, 62, 63, 64, 65,\n",
       "        66, 67, 68, 69, 70, 71, 72, 73, 74, 75, 76, 77, 78, 79, 80, 81,\n",
       "        82, 83, 84, 85, 86, 87, 88, 89, 90, 91, 92, 93, 94, 95, 96, 97,\n",
       "        98, 99]])"
      ]
     },
     "execution_count": 139,
     "metadata": {},
     "output_type": "execute_result"
    }
   ],
   "source": [
    "a"
   ]
  },
  {
   "cell_type": "code",
   "execution_count": 140,
   "id": "c4aee835-bdef-4313-90d2-5a01e38f6d6f",
   "metadata": {
    "tags": []
   },
   "outputs": [],
   "source": [
    "a2 = a.reshape(10,2,5)"
   ]
  },
  {
   "cell_type": "code",
   "execution_count": 141,
   "id": "7c7ac24e-8939-43c0-9387-63685b3e046e",
   "metadata": {
    "tags": []
   },
   "outputs": [
    {
     "data": {
      "text/plain": [
       "array([[[ 0,  1,  2,  3,  4],\n",
       "        [ 5,  6,  7,  8,  9]],\n",
       "\n",
       "       [[10, 11, 12, 13, 14],\n",
       "        [15, 16, 17, 18, 19]],\n",
       "\n",
       "       [[20, 21, 22, 23, 24],\n",
       "        [25, 26, 27, 28, 29]],\n",
       "\n",
       "       [[30, 31, 32, 33, 34],\n",
       "        [35, 36, 37, 38, 39]],\n",
       "\n",
       "       [[40, 41, 42, 43, 44],\n",
       "        [45, 46, 47, 48, 49]],\n",
       "\n",
       "       [[50, 51, 52, 53, 54],\n",
       "        [55, 56, 57, 58, 59]],\n",
       "\n",
       "       [[60, 61, 62, 63, 64],\n",
       "        [65, 66, 67, 68, 69]],\n",
       "\n",
       "       [[70, 71, 72, 73, 74],\n",
       "        [75, 76, 77, 78, 79]],\n",
       "\n",
       "       [[80, 81, 82, 83, 84],\n",
       "        [85, 86, 87, 88, 89]],\n",
       "\n",
       "       [[90, 91, 92, 93, 94],\n",
       "        [95, 96, 97, 98, 99]]])"
      ]
     },
     "execution_count": 141,
     "metadata": {},
     "output_type": "execute_result"
    }
   ],
   "source": [
    "a2"
   ]
  },
  {
   "cell_type": "code",
   "execution_count": 142,
   "id": "83f6ef26-d3d2-4aa2-8e3a-4038cc38ee7a",
   "metadata": {
    "tags": []
   },
   "outputs": [],
   "source": [
    "a3 = a2.reshape(5,2,2,5)"
   ]
  },
  {
   "cell_type": "code",
   "execution_count": 143,
   "id": "28501424-b9f8-4a76-8077-068834e710ba",
   "metadata": {
    "tags": []
   },
   "outputs": [
    {
     "data": {
      "text/plain": [
       "array([[[[ 0,  1,  2,  3,  4],\n",
       "         [ 5,  6,  7,  8,  9]],\n",
       "\n",
       "        [[10, 11, 12, 13, 14],\n",
       "         [15, 16, 17, 18, 19]]],\n",
       "\n",
       "\n",
       "       [[[20, 21, 22, 23, 24],\n",
       "         [25, 26, 27, 28, 29]],\n",
       "\n",
       "        [[30, 31, 32, 33, 34],\n",
       "         [35, 36, 37, 38, 39]]],\n",
       "\n",
       "\n",
       "       [[[40, 41, 42, 43, 44],\n",
       "         [45, 46, 47, 48, 49]],\n",
       "\n",
       "        [[50, 51, 52, 53, 54],\n",
       "         [55, 56, 57, 58, 59]]],\n",
       "\n",
       "\n",
       "       [[[60, 61, 62, 63, 64],\n",
       "         [65, 66, 67, 68, 69]],\n",
       "\n",
       "        [[70, 71, 72, 73, 74],\n",
       "         [75, 76, 77, 78, 79]]],\n",
       "\n",
       "\n",
       "       [[[80, 81, 82, 83, 84],\n",
       "         [85, 86, 87, 88, 89]],\n",
       "\n",
       "        [[90, 91, 92, 93, 94],\n",
       "         [95, 96, 97, 98, 99]]]])"
      ]
     },
     "execution_count": 143,
     "metadata": {},
     "output_type": "execute_result"
    }
   ],
   "source": [
    "a3"
   ]
  },
  {
   "cell_type": "code",
   "execution_count": 144,
   "id": "e888fa3b-38ce-4d4b-93d2-1cb47ba6ab09",
   "metadata": {
    "tags": []
   },
   "outputs": [],
   "source": [
    "a4 = a.reshape(2,50,-1,1,1,1,1,1)"
   ]
  },
  {
   "cell_type": "code",
   "execution_count": 146,
   "id": "5287999e-8eaa-4ce7-bdfc-441a05404138",
   "metadata": {
    "tags": []
   },
   "outputs": [
    {
     "data": {
      "text/plain": [
       "array([[[[[[[[ 0]]]]]],\n",
       "\n",
       "\n",
       "\n",
       "\n",
       "\n",
       "        [[[[[[ 1]]]]]],\n",
       "\n",
       "\n",
       "\n",
       "\n",
       "\n",
       "        [[[[[[ 2]]]]]],\n",
       "\n",
       "\n",
       "\n",
       "\n",
       "\n",
       "        [[[[[[ 3]]]]]],\n",
       "\n",
       "\n",
       "\n",
       "\n",
       "\n",
       "        [[[[[[ 4]]]]]],\n",
       "\n",
       "\n",
       "\n",
       "\n",
       "\n",
       "        [[[[[[ 5]]]]]],\n",
       "\n",
       "\n",
       "\n",
       "\n",
       "\n",
       "        [[[[[[ 6]]]]]],\n",
       "\n",
       "\n",
       "\n",
       "\n",
       "\n",
       "        [[[[[[ 7]]]]]],\n",
       "\n",
       "\n",
       "\n",
       "\n",
       "\n",
       "        [[[[[[ 8]]]]]],\n",
       "\n",
       "\n",
       "\n",
       "\n",
       "\n",
       "        [[[[[[ 9]]]]]],\n",
       "\n",
       "\n",
       "\n",
       "\n",
       "\n",
       "        [[[[[[10]]]]]],\n",
       "\n",
       "\n",
       "\n",
       "\n",
       "\n",
       "        [[[[[[11]]]]]],\n",
       "\n",
       "\n",
       "\n",
       "\n",
       "\n",
       "        [[[[[[12]]]]]],\n",
       "\n",
       "\n",
       "\n",
       "\n",
       "\n",
       "        [[[[[[13]]]]]],\n",
       "\n",
       "\n",
       "\n",
       "\n",
       "\n",
       "        [[[[[[14]]]]]],\n",
       "\n",
       "\n",
       "\n",
       "\n",
       "\n",
       "        [[[[[[15]]]]]],\n",
       "\n",
       "\n",
       "\n",
       "\n",
       "\n",
       "        [[[[[[16]]]]]],\n",
       "\n",
       "\n",
       "\n",
       "\n",
       "\n",
       "        [[[[[[17]]]]]],\n",
       "\n",
       "\n",
       "\n",
       "\n",
       "\n",
       "        [[[[[[18]]]]]],\n",
       "\n",
       "\n",
       "\n",
       "\n",
       "\n",
       "        [[[[[[19]]]]]],\n",
       "\n",
       "\n",
       "\n",
       "\n",
       "\n",
       "        [[[[[[20]]]]]],\n",
       "\n",
       "\n",
       "\n",
       "\n",
       "\n",
       "        [[[[[[21]]]]]],\n",
       "\n",
       "\n",
       "\n",
       "\n",
       "\n",
       "        [[[[[[22]]]]]],\n",
       "\n",
       "\n",
       "\n",
       "\n",
       "\n",
       "        [[[[[[23]]]]]],\n",
       "\n",
       "\n",
       "\n",
       "\n",
       "\n",
       "        [[[[[[24]]]]]],\n",
       "\n",
       "\n",
       "\n",
       "\n",
       "\n",
       "        [[[[[[25]]]]]],\n",
       "\n",
       "\n",
       "\n",
       "\n",
       "\n",
       "        [[[[[[26]]]]]],\n",
       "\n",
       "\n",
       "\n",
       "\n",
       "\n",
       "        [[[[[[27]]]]]],\n",
       "\n",
       "\n",
       "\n",
       "\n",
       "\n",
       "        [[[[[[28]]]]]],\n",
       "\n",
       "\n",
       "\n",
       "\n",
       "\n",
       "        [[[[[[29]]]]]],\n",
       "\n",
       "\n",
       "\n",
       "\n",
       "\n",
       "        [[[[[[30]]]]]],\n",
       "\n",
       "\n",
       "\n",
       "\n",
       "\n",
       "        [[[[[[31]]]]]],\n",
       "\n",
       "\n",
       "\n",
       "\n",
       "\n",
       "        [[[[[[32]]]]]],\n",
       "\n",
       "\n",
       "\n",
       "\n",
       "\n",
       "        [[[[[[33]]]]]],\n",
       "\n",
       "\n",
       "\n",
       "\n",
       "\n",
       "        [[[[[[34]]]]]],\n",
       "\n",
       "\n",
       "\n",
       "\n",
       "\n",
       "        [[[[[[35]]]]]],\n",
       "\n",
       "\n",
       "\n",
       "\n",
       "\n",
       "        [[[[[[36]]]]]],\n",
       "\n",
       "\n",
       "\n",
       "\n",
       "\n",
       "        [[[[[[37]]]]]],\n",
       "\n",
       "\n",
       "\n",
       "\n",
       "\n",
       "        [[[[[[38]]]]]],\n",
       "\n",
       "\n",
       "\n",
       "\n",
       "\n",
       "        [[[[[[39]]]]]],\n",
       "\n",
       "\n",
       "\n",
       "\n",
       "\n",
       "        [[[[[[40]]]]]],\n",
       "\n",
       "\n",
       "\n",
       "\n",
       "\n",
       "        [[[[[[41]]]]]],\n",
       "\n",
       "\n",
       "\n",
       "\n",
       "\n",
       "        [[[[[[42]]]]]],\n",
       "\n",
       "\n",
       "\n",
       "\n",
       "\n",
       "        [[[[[[43]]]]]],\n",
       "\n",
       "\n",
       "\n",
       "\n",
       "\n",
       "        [[[[[[44]]]]]],\n",
       "\n",
       "\n",
       "\n",
       "\n",
       "\n",
       "        [[[[[[45]]]]]],\n",
       "\n",
       "\n",
       "\n",
       "\n",
       "\n",
       "        [[[[[[46]]]]]],\n",
       "\n",
       "\n",
       "\n",
       "\n",
       "\n",
       "        [[[[[[47]]]]]],\n",
       "\n",
       "\n",
       "\n",
       "\n",
       "\n",
       "        [[[[[[48]]]]]],\n",
       "\n",
       "\n",
       "\n",
       "\n",
       "\n",
       "        [[[[[[49]]]]]]],\n",
       "\n",
       "\n",
       "\n",
       "\n",
       "\n",
       "\n",
       "       [[[[[[[50]]]]]],\n",
       "\n",
       "\n",
       "\n",
       "\n",
       "\n",
       "        [[[[[[51]]]]]],\n",
       "\n",
       "\n",
       "\n",
       "\n",
       "\n",
       "        [[[[[[52]]]]]],\n",
       "\n",
       "\n",
       "\n",
       "\n",
       "\n",
       "        [[[[[[53]]]]]],\n",
       "\n",
       "\n",
       "\n",
       "\n",
       "\n",
       "        [[[[[[54]]]]]],\n",
       "\n",
       "\n",
       "\n",
       "\n",
       "\n",
       "        [[[[[[55]]]]]],\n",
       "\n",
       "\n",
       "\n",
       "\n",
       "\n",
       "        [[[[[[56]]]]]],\n",
       "\n",
       "\n",
       "\n",
       "\n",
       "\n",
       "        [[[[[[57]]]]]],\n",
       "\n",
       "\n",
       "\n",
       "\n",
       "\n",
       "        [[[[[[58]]]]]],\n",
       "\n",
       "\n",
       "\n",
       "\n",
       "\n",
       "        [[[[[[59]]]]]],\n",
       "\n",
       "\n",
       "\n",
       "\n",
       "\n",
       "        [[[[[[60]]]]]],\n",
       "\n",
       "\n",
       "\n",
       "\n",
       "\n",
       "        [[[[[[61]]]]]],\n",
       "\n",
       "\n",
       "\n",
       "\n",
       "\n",
       "        [[[[[[62]]]]]],\n",
       "\n",
       "\n",
       "\n",
       "\n",
       "\n",
       "        [[[[[[63]]]]]],\n",
       "\n",
       "\n",
       "\n",
       "\n",
       "\n",
       "        [[[[[[64]]]]]],\n",
       "\n",
       "\n",
       "\n",
       "\n",
       "\n",
       "        [[[[[[65]]]]]],\n",
       "\n",
       "\n",
       "\n",
       "\n",
       "\n",
       "        [[[[[[66]]]]]],\n",
       "\n",
       "\n",
       "\n",
       "\n",
       "\n",
       "        [[[[[[67]]]]]],\n",
       "\n",
       "\n",
       "\n",
       "\n",
       "\n",
       "        [[[[[[68]]]]]],\n",
       "\n",
       "\n",
       "\n",
       "\n",
       "\n",
       "        [[[[[[69]]]]]],\n",
       "\n",
       "\n",
       "\n",
       "\n",
       "\n",
       "        [[[[[[70]]]]]],\n",
       "\n",
       "\n",
       "\n",
       "\n",
       "\n",
       "        [[[[[[71]]]]]],\n",
       "\n",
       "\n",
       "\n",
       "\n",
       "\n",
       "        [[[[[[72]]]]]],\n",
       "\n",
       "\n",
       "\n",
       "\n",
       "\n",
       "        [[[[[[73]]]]]],\n",
       "\n",
       "\n",
       "\n",
       "\n",
       "\n",
       "        [[[[[[74]]]]]],\n",
       "\n",
       "\n",
       "\n",
       "\n",
       "\n",
       "        [[[[[[75]]]]]],\n",
       "\n",
       "\n",
       "\n",
       "\n",
       "\n",
       "        [[[[[[76]]]]]],\n",
       "\n",
       "\n",
       "\n",
       "\n",
       "\n",
       "        [[[[[[77]]]]]],\n",
       "\n",
       "\n",
       "\n",
       "\n",
       "\n",
       "        [[[[[[78]]]]]],\n",
       "\n",
       "\n",
       "\n",
       "\n",
       "\n",
       "        [[[[[[79]]]]]],\n",
       "\n",
       "\n",
       "\n",
       "\n",
       "\n",
       "        [[[[[[80]]]]]],\n",
       "\n",
       "\n",
       "\n",
       "\n",
       "\n",
       "        [[[[[[81]]]]]],\n",
       "\n",
       "\n",
       "\n",
       "\n",
       "\n",
       "        [[[[[[82]]]]]],\n",
       "\n",
       "\n",
       "\n",
       "\n",
       "\n",
       "        [[[[[[83]]]]]],\n",
       "\n",
       "\n",
       "\n",
       "\n",
       "\n",
       "        [[[[[[84]]]]]],\n",
       "\n",
       "\n",
       "\n",
       "\n",
       "\n",
       "        [[[[[[85]]]]]],\n",
       "\n",
       "\n",
       "\n",
       "\n",
       "\n",
       "        [[[[[[86]]]]]],\n",
       "\n",
       "\n",
       "\n",
       "\n",
       "\n",
       "        [[[[[[87]]]]]],\n",
       "\n",
       "\n",
       "\n",
       "\n",
       "\n",
       "        [[[[[[88]]]]]],\n",
       "\n",
       "\n",
       "\n",
       "\n",
       "\n",
       "        [[[[[[89]]]]]],\n",
       "\n",
       "\n",
       "\n",
       "\n",
       "\n",
       "        [[[[[[90]]]]]],\n",
       "\n",
       "\n",
       "\n",
       "\n",
       "\n",
       "        [[[[[[91]]]]]],\n",
       "\n",
       "\n",
       "\n",
       "\n",
       "\n",
       "        [[[[[[92]]]]]],\n",
       "\n",
       "\n",
       "\n",
       "\n",
       "\n",
       "        [[[[[[93]]]]]],\n",
       "\n",
       "\n",
       "\n",
       "\n",
       "\n",
       "        [[[[[[94]]]]]],\n",
       "\n",
       "\n",
       "\n",
       "\n",
       "\n",
       "        [[[[[[95]]]]]],\n",
       "\n",
       "\n",
       "\n",
       "\n",
       "\n",
       "        [[[[[[96]]]]]],\n",
       "\n",
       "\n",
       "\n",
       "\n",
       "\n",
       "        [[[[[[97]]]]]],\n",
       "\n",
       "\n",
       "\n",
       "\n",
       "\n",
       "        [[[[[[98]]]]]],\n",
       "\n",
       "\n",
       "\n",
       "\n",
       "\n",
       "        [[[[[[99]]]]]]]])"
      ]
     },
     "execution_count": 146,
     "metadata": {},
     "output_type": "execute_result"
    }
   ],
   "source": [
    "a4"
   ]
  },
  {
   "cell_type": "code",
   "execution_count": 148,
   "id": "2ae24802-672a-431f-8e8b-5441a132c2f1",
   "metadata": {
    "tags": []
   },
   "outputs": [
    {
     "name": "stdout",
     "output_type": "stream",
     "text": [
      "(2, 50)\n"
     ]
    },
    {
     "data": {
      "text/plain": [
       "((2, 50, 1, 1, 1, 1, 1, 1), 8)"
      ]
     },
     "execution_count": 148,
     "metadata": {},
     "output_type": "execute_result"
    }
   ],
   "source": [
    "print(a.shape)\n",
    "a4.shape, a4.ndim"
   ]
  },
  {
   "cell_type": "code",
   "execution_count": 149,
   "id": "f75e7e5d-f9ba-4b53-a416-f03ab9fe76cb",
   "metadata": {
    "tags": []
   },
   "outputs": [
    {
     "data": {
      "text/plain": [
       "array([[ 0,  1,  2,  3,  4,  5,  6,  7,  8,  9, 10, 11, 12, 13, 14, 15,\n",
       "        16, 17, 18, 19, 20, 21, 22, 23, 24, 25, 26, 27, 28, 29, 30, 31,\n",
       "        32, 33, 34, 35, 36, 37, 38, 39, 40, 41, 42, 43, 44, 45, 46, 47,\n",
       "        48, 49],\n",
       "       [50, 51, 52, 53, 54, 55, 56, 57, 58, 59, 60, 61, 62, 63, 64, 65,\n",
       "        66, 67, 68, 69, 70, 71, 72, 73, 74, 75, 76, 77, 78, 79, 80, 81,\n",
       "        82, 83, 84, 85, 86, 87, 88, 89, 90, 91, 92, 93, 94, 95, 96, 97,\n",
       "        98, 99]])"
      ]
     },
     "execution_count": 149,
     "metadata": {},
     "output_type": "execute_result"
    }
   ],
   "source": [
    "a"
   ]
  },
  {
   "cell_type": "code",
   "execution_count": 150,
   "id": "e55b90e8-30a0-4aa0-97c5-4a8b2404c2e1",
   "metadata": {
    "tags": []
   },
   "outputs": [],
   "source": [
    "b = a.reshape(1,2,50)"
   ]
  },
  {
   "cell_type": "code",
   "execution_count": 152,
   "id": "eeb02344-eec4-4a60-9bf2-e8eee24c0afd",
   "metadata": {
    "tags": []
   },
   "outputs": [
    {
     "name": "stdout",
     "output_type": "stream",
     "text": [
      "(1, 2, 50)\n"
     ]
    }
   ],
   "source": [
    "print(b.shape)"
   ]
  },
  {
   "cell_type": "code",
   "execution_count": 155,
   "id": "7cd04cea-2974-43b4-9ceb-85a6da103b10",
   "metadata": {
    "tags": []
   },
   "outputs": [
    {
     "data": {
      "text/plain": [
       "array([[[ 0],\n",
       "        [ 1],\n",
       "        [ 2],\n",
       "        [ 3],\n",
       "        [ 4],\n",
       "        [ 5],\n",
       "        [ 6],\n",
       "        [ 7],\n",
       "        [ 8],\n",
       "        [ 9],\n",
       "        [10],\n",
       "        [11],\n",
       "        [12],\n",
       "        [13],\n",
       "        [14],\n",
       "        [15],\n",
       "        [16],\n",
       "        [17],\n",
       "        [18],\n",
       "        [19],\n",
       "        [20],\n",
       "        [21],\n",
       "        [22],\n",
       "        [23],\n",
       "        [24],\n",
       "        [25],\n",
       "        [26],\n",
       "        [27],\n",
       "        [28],\n",
       "        [29],\n",
       "        [30],\n",
       "        [31],\n",
       "        [32],\n",
       "        [33],\n",
       "        [34],\n",
       "        [35],\n",
       "        [36],\n",
       "        [37],\n",
       "        [38],\n",
       "        [39],\n",
       "        [40],\n",
       "        [41],\n",
       "        [42],\n",
       "        [43],\n",
       "        [44],\n",
       "        [45],\n",
       "        [46],\n",
       "        [47],\n",
       "        [48],\n",
       "        [49]],\n",
       "\n",
       "       [[50],\n",
       "        [51],\n",
       "        [52],\n",
       "        [53],\n",
       "        [54],\n",
       "        [55],\n",
       "        [56],\n",
       "        [57],\n",
       "        [58],\n",
       "        [59],\n",
       "        [60],\n",
       "        [61],\n",
       "        [62],\n",
       "        [63],\n",
       "        [64],\n",
       "        [65],\n",
       "        [66],\n",
       "        [67],\n",
       "        [68],\n",
       "        [69],\n",
       "        [70],\n",
       "        [71],\n",
       "        [72],\n",
       "        [73],\n",
       "        [74],\n",
       "        [75],\n",
       "        [76],\n",
       "        [77],\n",
       "        [78],\n",
       "        [79],\n",
       "        [80],\n",
       "        [81],\n",
       "        [82],\n",
       "        [83],\n",
       "        [84],\n",
       "        [85],\n",
       "        [86],\n",
       "        [87],\n",
       "        [88],\n",
       "        [89],\n",
       "        [90],\n",
       "        [91],\n",
       "        [92],\n",
       "        [93],\n",
       "        [94],\n",
       "        [95],\n",
       "        [96],\n",
       "        [97],\n",
       "        [98],\n",
       "        [99]]])"
      ]
     },
     "execution_count": 155,
     "metadata": {},
     "output_type": "execute_result"
    }
   ],
   "source": [
    "b1 = a[..., np.newaxis]\n",
    "b1"
   ]
  },
  {
   "cell_type": "code",
   "execution_count": 156,
   "id": "d0082614-e5d3-4e56-a005-679459176b4c",
   "metadata": {
    "tags": []
   },
   "outputs": [
    {
     "name": "stdout",
     "output_type": "stream",
     "text": [
      "(2, 50, 1)\n"
     ]
    }
   ],
   "source": [
    "print(b1.shape)"
   ]
  },
  {
   "cell_type": "code",
   "execution_count": 157,
   "id": "eba69a32-72bf-41b6-a769-8f505d707bff",
   "metadata": {
    "tags": []
   },
   "outputs": [],
   "source": [
    "b3 = np.expand_dims(a, axis = 0)\n",
    "b4 = np.expand_dims(a, axis = [1,3])"
   ]
  },
  {
   "cell_type": "code",
   "execution_count": 159,
   "id": "02758570-832d-4d98-b751-0f3e397cacd7",
   "metadata": {
    "tags": []
   },
   "outputs": [
    {
     "data": {
      "text/plain": [
       "(2, 1, 50, 1)"
      ]
     },
     "execution_count": 159,
     "metadata": {},
     "output_type": "execute_result"
    }
   ],
   "source": [
    "b4.shape"
   ]
  },
  {
   "cell_type": "code",
   "execution_count": 163,
   "id": "22e92780-4232-4af1-9372-24c818be5f10",
   "metadata": {
    "tags": []
   },
   "outputs": [
    {
     "data": {
      "text/plain": [
       "(2, 50, 1)"
      ]
     },
     "execution_count": 163,
     "metadata": {},
     "output_type": "execute_result"
    }
   ],
   "source": [
    "np.squeeze(b4, axis = 1).shape"
   ]
  },
  {
   "cell_type": "code",
   "execution_count": 164,
   "id": "59956aa0-50f1-47a0-97e8-9c8e7b3fc428",
   "metadata": {
    "tags": []
   },
   "outputs": [
    {
     "data": {
      "text/plain": [
       "(array([0, 1], dtype=int64),)"
      ]
     },
     "execution_count": 164,
     "metadata": {},
     "output_type": "execute_result"
    }
   ],
   "source": [
    "np.where([True,True,False])"
   ]
  },
  {
   "cell_type": "code",
   "execution_count": 165,
   "id": "d2742442-7888-4d6a-a743-c3089363270f",
   "metadata": {
    "tags": []
   },
   "outputs": [
    {
     "data": {
      "text/plain": [
       "array([9, 9, 5, 5, 1, 4, 8, 4, 3, 2])"
      ]
     },
     "execution_count": 165,
     "metadata": {},
     "output_type": "execute_result"
    }
   ],
   "source": [
    "c"
   ]
  },
  {
   "cell_type": "code",
   "execution_count": 167,
   "id": "8e4d0ced-3aad-4cf9-8247-174a024ed05e",
   "metadata": {
    "tags": []
   },
   "outputs": [],
   "source": [
    "r = np.where(c>5)"
   ]
  },
  {
   "cell_type": "code",
   "execution_count": 171,
   "id": "2fc02725-802b-4642-935a-e131b2c7454e",
   "metadata": {
    "tags": []
   },
   "outputs": [],
   "source": [
    "a = np.array([[0, 1, 2],\n",
    "       [3, 4, 5]])"
   ]
  },
  {
   "cell_type": "code",
   "execution_count": 173,
   "id": "b40a8e33-bbd5-4379-9c75-1fe7c2c24120",
   "metadata": {
    "tags": []
   },
   "outputs": [
    {
     "data": {
      "text/plain": [
       "array([], dtype=int32)"
      ]
     },
     "execution_count": 173,
     "metadata": {},
     "output_type": "execute_result"
    }
   ],
   "source": [
    "a[a>5]"
   ]
  },
  {
   "cell_type": "code",
   "execution_count": 175,
   "id": "cbe2350f-af14-450e-af93-8481a0d030d5",
   "metadata": {
    "tags": []
   },
   "outputs": [
    {
     "data": {
      "text/plain": [
       "(array([0, 2], dtype=int64),)"
      ]
     },
     "execution_count": 175,
     "metadata": {},
     "output_type": "execute_result"
    }
   ],
   "source": [
    "np.where([True, False, True])"
   ]
  },
  {
   "cell_type": "code",
   "execution_count": 176,
   "id": "887b2418-b2ba-455e-9f17-0f52fb336486",
   "metadata": {
    "tags": []
   },
   "outputs": [],
   "source": [
    "r = np.where(c>5)"
   ]
  },
  {
   "cell_type": "code",
   "execution_count": 177,
   "id": "299897ef-6661-4e77-9bb7-416ffa41b74c",
   "metadata": {
    "tags": []
   },
   "outputs": [
    {
     "data": {
      "text/plain": [
       "(array([0, 1, 6], dtype=int64),)"
      ]
     },
     "execution_count": 177,
     "metadata": {},
     "output_type": "execute_result"
    }
   ],
   "source": [
    "r"
   ]
  },
  {
   "cell_type": "code",
   "execution_count": 178,
   "id": "afce0df1-0a06-4f7d-bc6a-c7a840754a05",
   "metadata": {
    "tags": []
   },
   "outputs": [
    {
     "data": {
      "text/plain": [
       "array([[0, 1, 2],\n",
       "       [3, 4, 5]])"
      ]
     },
     "execution_count": 178,
     "metadata": {},
     "output_type": "execute_result"
    }
   ],
   "source": [
    "a"
   ]
  },
  {
   "cell_type": "code",
   "execution_count": 179,
   "id": "4ab6ccab-9433-4d08-b7ab-57b6816bdf0a",
   "metadata": {
    "tags": []
   },
   "outputs": [],
   "source": [
    "a = np.array([[9, 1, 6, 1, 6],\n",
    "       [1, 3, 3, 7, 7],\n",
    "       [6, 5, 1, 9, 8]])"
   ]
  },
  {
   "cell_type": "code",
   "execution_count": 180,
   "id": "b1396417-2723-4ac3-ac86-d4da0d7a1768",
   "metadata": {
    "tags": []
   },
   "outputs": [
    {
     "data": {
      "text/plain": [
       "array([[9, 1, 6, 1, 6],\n",
       "       [1, 3, 3, 7, 7],\n",
       "       [6, 5, 1, 9, 8]])"
      ]
     },
     "execution_count": 180,
     "metadata": {},
     "output_type": "execute_result"
    }
   ],
   "source": [
    "a"
   ]
  },
  {
   "cell_type": "code",
   "execution_count": 181,
   "id": "bc448116-0bd4-4c0b-9716-228acd895ed4",
   "metadata": {
    "tags": []
   },
   "outputs": [
    {
     "data": {
      "text/plain": [
       "(array([0, 0, 0, 1, 1, 2, 2, 2], dtype=int64),\n",
       " array([0, 2, 4, 3, 4, 0, 3, 4], dtype=int64))"
      ]
     },
     "execution_count": 181,
     "metadata": {},
     "output_type": "execute_result"
    }
   ],
   "source": [
    "np.where(a>5)"
   ]
  },
  {
   "cell_type": "code",
   "execution_count": 202,
   "id": "5cabb47e-d46d-409b-a996-58f0bda132e7",
   "metadata": {
    "tags": []
   },
   "outputs": [],
   "source": [
    "a = np.arange(100).reshape(2,50)"
   ]
  },
  {
   "cell_type": "code",
   "execution_count": 203,
   "id": "f041b956-d7e7-4d44-a0e6-b977a35c78e1",
   "metadata": {},
   "outputs": [
    {
     "data": {
      "text/plain": [
       "array([[ 0,  1,  2,  3,  4,  5,  6,  7,  8,  9, 10, 11, 12, 13, 14, 15,\n",
       "        16, 17, 18, 19, 20, 21, 22, 23, 24, 25, 26, 27, 28, 29, 30, 31,\n",
       "        32, 33, 34, 35, 36, 37, 38, 39, 40, 41, 42, 43, 44, 45, 46, 47,\n",
       "        48, 49],\n",
       "       [50, 51, 52, 53, 54, 55, 56, 57, 58, 59, 60, 61, 62, 63, 64, 65,\n",
       "        66, 67, 68, 69, 70, 71, 72, 73, 74, 75, 76, 77, 78, 79, 80, 81,\n",
       "        82, 83, 84, 85, 86, 87, 88, 89, 90, 91, 92, 93, 94, 95, 96, 97,\n",
       "        98, 99]])"
      ]
     },
     "execution_count": 203,
     "metadata": {},
     "output_type": "execute_result"
    }
   ],
   "source": [
    "a"
   ]
  },
  {
   "cell_type": "code",
   "execution_count": 206,
   "id": "024f4741-254b-49e7-bbc8-53e7dabb6538",
   "metadata": {
    "tags": []
   },
   "outputs": [],
   "source": [
    "a2 =a.reshape(2,2,25)"
   ]
  },
  {
   "cell_type": "code",
   "execution_count": 207,
   "id": "ba2a4e20-7c06-4808-a9b6-e39f5b1744df",
   "metadata": {
    "tags": []
   },
   "outputs": [
    {
     "data": {
      "text/plain": [
       "array([[[ 0,  1,  2,  3,  4,  5,  6,  7,  8,  9],\n",
       "        [10, 11, 12, 13, 14, 15, 16, 17, 18, 19],\n",
       "        [20, 21, 22, 23, 24, 25, 26, 27, 28, 29],\n",
       "        [30, 31, 32, 33, 34, 35, 36, 37, 38, 39],\n",
       "        [40, 41, 42, 43, 44, 45, 46, 47, 48, 49]],\n",
       "\n",
       "       [[50, 51, 52, 53, 54, 55, 56, 57, 58, 59],\n",
       "        [60, 61, 62, 63, 64, 65, 66, 67, 68, 69],\n",
       "        [70, 71, 72, 73, 74, 75, 76, 77, 78, 79],\n",
       "        [80, 81, 82, 83, 84, 85, 86, 87, 88, 89],\n",
       "        [90, 91, 92, 93, 94, 95, 96, 97, 98, 99]]])"
      ]
     },
     "execution_count": 207,
     "metadata": {},
     "output_type": "execute_result"
    }
   ],
   "source": [
    "a2.reshape(2,5,-1)"
   ]
  },
  {
   "cell_type": "code",
   "execution_count": 208,
   "id": "19a95fb4-a093-43a3-b5ad-cc0671342a4d",
   "metadata": {
    "tags": []
   },
   "outputs": [
    {
     "data": {
      "text/plain": [
       "(2, 2, 25)"
      ]
     },
     "execution_count": 208,
     "metadata": {},
     "output_type": "execute_result"
    }
   ],
   "source": [
    "a2.shape"
   ]
  },
  {
   "cell_type": "code",
   "execution_count": 211,
   "id": "3f42b03d-1679-476c-af76-d5e15aba24f9",
   "metadata": {
    "tags": []
   },
   "outputs": [],
   "source": [
    "a3 = a2[np.newaxis,...]"
   ]
  },
  {
   "cell_type": "code",
   "execution_count": 212,
   "id": "754fa390-0130-4e11-a65e-96c9c9f296b2",
   "metadata": {
    "tags": []
   },
   "outputs": [
    {
     "data": {
      "text/plain": [
       "(1, 2, 2, 25)"
      ]
     },
     "execution_count": 212,
     "metadata": {},
     "output_type": "execute_result"
    }
   ],
   "source": [
    "a3.shape"
   ]
  },
  {
   "cell_type": "code",
   "execution_count": 214,
   "id": "a7c4044e-61c7-4bc7-9866-74c918369c58",
   "metadata": {
    "tags": []
   },
   "outputs": [
    {
     "data": {
      "text/plain": [
       "(1, 2, 2, 25, 1)"
      ]
     },
     "execution_count": 214,
     "metadata": {},
     "output_type": "execute_result"
    }
   ],
   "source": [
    "a3[...,np.newaxis].shape"
   ]
  },
  {
   "cell_type": "code",
   "execution_count": 216,
   "id": "52f7e7f7-9f60-43db-9fbd-f5439c34d941",
   "metadata": {
    "tags": []
   },
   "outputs": [],
   "source": [
    "k = np.expand_dims(a3, axis =[1,2])"
   ]
  },
  {
   "cell_type": "code",
   "execution_count": 217,
   "id": "f31e4417-ad55-4dbc-9818-67aea71b22f2",
   "metadata": {
    "tags": []
   },
   "outputs": [
    {
     "data": {
      "text/plain": [
       "(1, 1, 1, 2, 2, 25)"
      ]
     },
     "execution_count": 217,
     "metadata": {},
     "output_type": "execute_result"
    }
   ],
   "source": [
    "k.shape"
   ]
  },
  {
   "cell_type": "code",
   "execution_count": 219,
   "id": "58850e1e-45a0-4717-a7e5-133bb59e4776",
   "metadata": {
    "tags": []
   },
   "outputs": [
    {
     "data": {
      "text/plain": [
       "(2, 2, 25)"
      ]
     },
     "execution_count": 219,
     "metadata": {},
     "output_type": "execute_result"
    }
   ],
   "source": [
    "k.squeeze().shape"
   ]
  },
  {
   "cell_type": "code",
   "execution_count": 220,
   "id": "d37d9cf2-1e82-48ae-a6f7-40e22512dc23",
   "metadata": {
    "tags": []
   },
   "outputs": [
    {
     "name": "stdout",
     "output_type": "stream",
     "text": [
      "(2, 50)\n"
     ]
    }
   ],
   "source": [
    "print(a.shape)"
   ]
  },
  {
   "cell_type": "code",
   "execution_count": 229,
   "id": "10e78d8c-88b5-4f5c-9169-5a93e40c051e",
   "metadata": {
    "tags": []
   },
   "outputs": [],
   "source": [
    "k = a.flatten()"
   ]
  },
  {
   "cell_type": "code",
   "execution_count": 230,
   "id": "e9a81187-3b5a-4cc8-872d-0e4866f78ed0",
   "metadata": {
    "tags": []
   },
   "outputs": [
    {
     "data": {
      "text/plain": [
       "array([[ 0,  1,  2,  3,  4,  5,  6,  7,  8,  9, 10, 11, 12, 13, 14, 15,\n",
       "        16, 17, 18, 19, 20, 21, 22, 23, 24, 25, 26, 27, 28, 29, 30, 31,\n",
       "        32, 33, 34, 35, 36, 37, 38, 39, 40, 41, 42, 43, 44, 45, 46, 47,\n",
       "        48, 49],\n",
       "       [50, 51, 52, 53, 54, 55, 56, 57, 58, 59, 60, 61, 62, 63, 64, 65,\n",
       "        66, 67, 68, 69, 70, 71, 72, 73, 74, 75, 76, 77, 78, 79, 80, 81,\n",
       "        82, 83, 84, 85, 86, 87, 88, 89, 90, 91, 92, 93, 94, 95, 96, 97,\n",
       "        98, 99]])"
      ]
     },
     "execution_count": 230,
     "metadata": {},
     "output_type": "execute_result"
    }
   ],
   "source": [
    "a"
   ]
  },
  {
   "cell_type": "code",
   "execution_count": 232,
   "id": "29d44557-b7f0-4bd9-aa23-44c88931beda",
   "metadata": {
    "tags": []
   },
   "outputs": [
    {
     "data": {
      "text/plain": [
       "array([[ 0,  1,  2,  3,  4,  5,  6,  7,  8,  9, 10, 11, 12, 13, 14, 15,\n",
       "        16, 17, 18, 19, 20, 21, 22, 23, 24, 25, 26, 27, 28, 29, 30, 31,\n",
       "        32, 33, 34, 35, 36, 37, 38, 39, 40, 41, 42, 43, 44, 45, 46, 47,\n",
       "        48, 49],\n",
       "       [50, 51, 52, 53, 54, 55, 56, 57, 58, 59, 60, 61, 62, 63, 64, 65,\n",
       "        66, 67, 68, 69, 70, 71, 72, 73, 74, 75, 76, 77, 78, 79, 80, 81,\n",
       "        82, 83, 84, 85, 86, 87, 88, 89, 90, 91, 92, 93, 94, 95, 96, 97,\n",
       "        98, 99]])"
      ]
     },
     "execution_count": 232,
     "metadata": {},
     "output_type": "execute_result"
    }
   ],
   "source": [
    "np.where"
   ]
  },
  {
   "cell_type": "code",
   "execution_count": 233,
   "id": "07fd18d0-0520-4d3b-bbc2-6abf985479ee",
   "metadata": {
    "tags": []
   },
   "outputs": [
    {
     "data": {
      "text/plain": [
       "10020"
      ]
     },
     "execution_count": 233,
     "metadata": {},
     "output_type": "execute_result"
    }
   ],
   "source": [
    "a = np.array([10,200,3000])\n",
    "b = np.array([2, 5, 3])\n",
    "a@b"
   ]
  },
  {
   "cell_type": "code",
   "execution_count": 234,
   "id": "2f0165f2-603b-47d8-a0fb-0f5761c77db0",
   "metadata": {},
   "outputs": [
    {
     "data": {
      "text/plain": [
       "10020"
      ]
     },
     "execution_count": 234,
     "metadata": {},
     "output_type": "execute_result"
    }
   ],
   "source": [
    "np.dot(a,b)"
   ]
  },
  {
   "cell_type": "code",
   "execution_count": 240,
   "id": "7983d989-3677-431b-8816-19e71492e856",
   "metadata": {
    "tags": []
   },
   "outputs": [
    {
     "data": {
      "text/plain": [
       "array([[ 6000, 11700, 15500,  6000]])"
      ]
     },
     "execution_count": 240,
     "metadata": {},
     "output_type": "execute_result"
    }
   ],
   "source": [
    "price = np.array([[200,100,1000]])\n",
    "cnt_list = [\n",
    "    [10,5,20,10],\n",
    "    [20,7,15,20],\n",
    "    [2,10,10,2]\n",
    "]\n",
    "cnt = np.array(cnt_list)\n",
    "price@cnt"
   ]
  },
  {
   "cell_type": "code",
   "execution_count": 242,
   "id": "898caf54-3d7c-47c0-a317-2099d1521692",
   "metadata": {
    "tags": []
   },
   "outputs": [],
   "source": [
    "result = np.dot(price, cnt)"
   ]
  },
  {
   "cell_type": "code",
   "execution_count": 243,
   "id": "16c22b68-ec7a-4fd0-b17a-e494c7470fc4",
   "metadata": {
    "tags": []
   },
   "outputs": [
    {
     "data": {
      "text/plain": [
       "(1, 4)"
      ]
     },
     "execution_count": 243,
     "metadata": {},
     "output_type": "execute_result"
    }
   ],
   "source": [
    "result.shape"
   ]
  },
  {
   "cell_type": "code",
   "execution_count": 244,
   "id": "d7507c17-3c6b-42ff-8f68-a73f51affdf6",
   "metadata": {
    "tags": []
   },
   "outputs": [
    {
     "data": {
      "text/plain": [
       "39200"
      ]
     },
     "execution_count": 244,
     "metadata": {},
     "output_type": "execute_result"
    }
   ],
   "source": [
    "np.sum(result)"
   ]
  },
  {
   "cell_type": "code",
   "execution_count": 245,
   "id": "c4fbbf8f-f567-45ff-8bc9-604a890b6033",
   "metadata": {
    "tags": []
   },
   "outputs": [
    {
     "data": {
      "text/plain": [
       "array([ 3.,  6.,  9., nan])"
      ]
     },
     "execution_count": 245,
     "metadata": {},
     "output_type": "execute_result"
    }
   ],
   "source": [
    "a = np.array([3,6,9,np.nan])\n",
    "a"
   ]
  },
  {
   "cell_type": "code",
   "execution_count": 246,
   "id": "3e4030b4-35ea-4bfd-bd11-864d267da383",
   "metadata": {
    "tags": []
   },
   "outputs": [],
   "source": [
    "b = np.array([10,20,30])"
   ]
  },
  {
   "cell_type": "code",
   "execution_count": 247,
   "id": "b950b7b5-a1dc-4b02-a123-c5e2746ef969",
   "metadata": {
    "tags": []
   },
   "outputs": [
    {
     "data": {
      "text/plain": [
       "60"
      ]
     },
     "execution_count": 247,
     "metadata": {},
     "output_type": "execute_result"
    }
   ],
   "source": [
    "np.sum(b)"
   ]
  },
  {
   "cell_type": "code",
   "execution_count": 249,
   "id": "37ee89f8-401c-4e6b-9921-8176b4e71193",
   "metadata": {
    "tags": []
   },
   "outputs": [
    {
     "data": {
      "text/plain": [
       "(nan, 18.0)"
      ]
     },
     "execution_count": 249,
     "metadata": {},
     "output_type": "execute_result"
    }
   ],
   "source": [
    "np.sum(a),np.nansum(a)"
   ]
  },
  {
   "cell_type": "code",
   "execution_count": 252,
   "id": "4a24128c-3e2a-4c26-ae78-df51a31ee82d",
   "metadata": {
    "tags": []
   },
   "outputs": [
    {
     "data": {
      "text/plain": [
       "18.333333333333332"
      ]
     },
     "execution_count": 252,
     "metadata": {},
     "output_type": "execute_result"
    }
   ],
   "source": [
    "np.average(b, weights=[2,3,1])"
   ]
  },
  {
   "cell_type": "code",
   "execution_count": 277,
   "id": "f474fc46-31c4-411b-9bc3-6ecf9be95f1f",
   "metadata": {
    "tags": []
   },
   "outputs": [],
   "source": [
    "a = np.arange(1,3).reshape(1,-1)\n",
    "b = np.arange(10,12)"
   ]
  },
  {
   "cell_type": "code",
   "execution_count": 276,
   "id": "dd6278f6-df11-4b8f-a2c7-494532df7ecf",
   "metadata": {
    "tags": []
   },
   "outputs": [
    {
     "data": {
      "text/plain": [
       "(array([[1, 2]]), array([[10, 11]]))"
      ]
     },
     "execution_count": 276,
     "metadata": {},
     "output_type": "execute_result"
    }
   ],
   "source": [
    "a,b"
   ]
  },
  {
   "cell_type": "code",
   "execution_count": 273,
   "id": "0a9b9634-3ad5-4bd6-b773-00037d8dfa26",
   "metadata": {
    "tags": []
   },
   "outputs": [
    {
     "ename": "ValueError",
     "evalue": "matmul: Input operand 1 has a mismatch in its core dimension 0, with gufunc signature (n?,k),(k,m?)->(n?,m?) (size 1 is different from 2)",
     "output_type": "error",
     "traceback": [
      "\u001b[1;31m---------------------------------------------------------------------------\u001b[0m",
      "\u001b[1;31mValueError\u001b[0m                                Traceback (most recent call last)",
      "Cell \u001b[1;32mIn[273], line 1\u001b[0m\n\u001b[1;32m----> 1\u001b[0m a\u001b[38;5;129m@b\u001b[39m\n",
      "\u001b[1;31mValueError\u001b[0m: matmul: Input operand 1 has a mismatch in its core dimension 0, with gufunc signature (n?,k),(k,m?)->(n?,m?) (size 1 is different from 2)"
     ]
    }
   ],
   "source": [
    "a@b"
   ]
  },
  {
   "cell_type": "code",
   "execution_count": 278,
   "id": "b8d3b392-4d7d-45bf-b835-3a0892e17f99",
   "metadata": {
    "tags": []
   },
   "outputs": [
    {
     "data": {
      "text/plain": [
       "10.666666666666666"
      ]
     },
     "execution_count": 278,
     "metadata": {},
     "output_type": "execute_result"
    }
   ],
   "source": [
    "np.average(b,weights=[1,2])"
   ]
  },
  {
   "cell_type": "code",
   "execution_count": 1,
   "id": "179e3b9a-3770-492e-8153-8272b1e3fa23",
   "metadata": {},
   "outputs": [],
   "source": [
    "import numpy as np"
   ]
  },
  {
   "cell_type": "code",
   "execution_count": 2,
   "id": "439be736-4ab7-4bae-87fa-b1e1ddc4c7c9",
   "metadata": {
    "tags": []
   },
   "outputs": [
    {
     "data": {
      "text/plain": [
       "array([[8, 6, 9, 1, 2],\n",
       "       [9, 6, 9, 2, 8],\n",
       "       [4, 9, 5, 6, 2]])"
      ]
     },
     "execution_count": 2,
     "metadata": {},
     "output_type": "execute_result"
    }
   ],
   "source": [
    "a = np.random.randint(1,10,size=(3,5))\n",
    "a"
   ]
  },
  {
   "cell_type": "code",
   "execution_count": 10,
   "id": "730c6e9a-b74a-47cf-b544-ccb340553c73",
   "metadata": {
    "tags": []
   },
   "outputs": [
    {
     "data": {
      "text/plain": [
       "6"
      ]
     },
     "execution_count": 10,
     "metadata": {},
     "output_type": "execute_result"
    }
   ],
   "source": [
    "a[0,1]"
   ]
  },
  {
   "cell_type": "code",
   "execution_count": 11,
   "id": "70c14f04-e425-49bc-b8d7-19f7589f23a9",
   "metadata": {
    "tags": []
   },
   "outputs": [
    {
     "data": {
      "text/plain": [
       "array([0., 0., 0.])"
      ]
     },
     "execution_count": 11,
     "metadata": {},
     "output_type": "execute_result"
    }
   ],
   "source": [
    "np.zeros(3)"
   ]
  },
  {
   "cell_type": "code",
   "execution_count": null,
   "id": "351726de-1da3-4b7f-b09a-27fcffbcaddd",
   "metadata": {},
   "outputs": [],
   "source": []
  }
 ],
 "metadata": {
  "kernelspec": {
   "display_name": "Python 3 (ipykernel)",
   "language": "python",
   "name": "python3"
  },
  "language_info": {
   "codemirror_mode": {
    "name": "ipython",
    "version": 3
   },
   "file_extension": ".py",
   "mimetype": "text/x-python",
   "name": "python",
   "nbconvert_exporter": "python",
   "pygments_lexer": "ipython3",
   "version": "3.11.5"
  }
 },
 "nbformat": 4,
 "nbformat_minor": 5
}
