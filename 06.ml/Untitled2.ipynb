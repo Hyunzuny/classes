{
 "cells": [
  {
   "cell_type": "code",
   "execution_count": null,
   "id": "afe0c872-ad2b-405b-8eed-215a1fd7d581",
   "metadata": {},
   "outputs": [],
   "source": [
    "learning rate\n",
    "이전 decision tree의 오차를 얼마나 강하게 보정할 것인지 제어하는 값.\n",
    "값이 크면 보정을 강하게 하여 복잡한 모델을 만든다. 학습데이터의 정확도는 올라가지만 과대적합이 날 수있다.\n",
    "값을 작게 잡으면 보정을 약하게 하여 모델의 복잡도를 줄인다. 과대적합을 줄일 수 있지만 성능 자체가 낮아질 수있다.\n",
    "기본값 : 0.1\n",
    "\n",
    "\n",
    "\n",
    "\n",
    "\n",
    "\n",
    "n_estimators\n",
    "decision tree의 개수 지정. 많을 수록 복잡한 모델이 된다."
   ]
  }
 ],
 "metadata": {
  "kernelspec": {
   "display_name": "Python 3 (ipykernel)",
   "language": "python",
   "name": "python3"
  },
  "language_info": {
   "codemirror_mode": {
    "name": "ipython",
    "version": 3
   },
   "file_extension": ".py",
   "mimetype": "text/x-python",
   "name": "python",
   "nbconvert_exporter": "python",
   "pygments_lexer": "ipython3",
   "version": "3.11.5"
  }
 },
 "nbformat": 4,
 "nbformat_minor": 5
}
