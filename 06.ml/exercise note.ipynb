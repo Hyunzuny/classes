{
 "cells": [
  {
   "cell_type": "code",
   "execution_count": 1,
   "id": "36d1658e",
   "metadata": {},
   "outputs": [],
   "source": [
    "import pandas as pd\n",
    "import numpy as np\n",
    "import matplotlib.pyplot as plt"
   ]
  },
  {
   "cell_type": "code",
   "execution_count": 3,
   "id": "eb4c7a57",
   "metadata": {},
   "outputs": [
    {
     "name": "stdout",
     "output_type": "stream",
     "text": [
      "<class 'numpy.ndarray'>\n",
      "[0 1 2 3 4 5 6 7 8 9]\n"
     ]
    }
   ],
   "source": [
    "a1 = np.array(range(10))\n",
    "print(type(a1))\n",
    "print(a1)"
   ]
  },
  {
   "cell_type": "code",
   "execution_count": 4,
   "id": "ea09e955",
   "metadata": {},
   "outputs": [
    {
     "name": "stdout",
     "output_type": "stream",
     "text": [
      "10 (10,) 1 int32\n"
     ]
    }
   ],
   "source": [
    "print(a1.size, a1.shape, a1.ndim, a1.dtype)"
   ]
  },
  {
   "cell_type": "code",
   "execution_count": 5,
   "id": "b31134ec",
   "metadata": {},
   "outputs": [
    {
     "data": {
      "text/plain": [
       "array([0., 1., 2., 3., 4., 5., 6., 7., 8., 9.], dtype=float32)"
      ]
     },
     "execution_count": 5,
     "metadata": {},
     "output_type": "execute_result"
    }
   ],
   "source": [
    "a1.astype('float32')"
   ]
  },
  {
   "cell_type": "code",
   "execution_count": 6,
   "id": "b03486e5",
   "metadata": {},
   "outputs": [],
   "source": [
    "l1 = [\n",
    "    [1,2],\n",
    "    [3,4],\n",
    "    [5,6]\n",
    "]\n",
    "\n",
    "l2 = [\n",
    "    [10,20],\n",
    "    [30,40],\n",
    "    [50,60]\n",
    "]\n",
    "\n",
    "l3 = [\n",
    "    [-1,-2],\n",
    "    [-3,-4],\n",
    "    [-5,-6]\n",
    "]  "
   ]
  },
  {
   "cell_type": "code",
   "execution_count": 9,
   "id": "385c0bf2",
   "metadata": {},
   "outputs": [],
   "source": [
    "a3 = np.array(l1)"
   ]
  },
  {
   "cell_type": "code",
   "execution_count": 10,
   "id": "5c81a0d0",
   "metadata": {},
   "outputs": [
    {
     "data": {
      "text/plain": [
       "(3, 2)"
      ]
     },
     "execution_count": 10,
     "metadata": {},
     "output_type": "execute_result"
    }
   ],
   "source": [
    "a3.shape"
   ]
  },
  {
   "cell_type": "code",
   "execution_count": 11,
   "id": "8d853b27",
   "metadata": {},
   "outputs": [
    {
     "name": "stderr",
     "output_type": "stream",
     "text": [
      "C:\\Users\\alexa\\AppData\\Local\\Temp\\ipykernel_2024\\290098187.py:1: DeprecationWarning: NumPy will stop allowing conversion of out-of-bound Python integers to integer arrays.  The conversion of -1 to uint8 will fail in the future.\n",
      "For the old behavior, usually:\n",
      "    np.array(value).astype(dtype)`\n",
      "will give the desired result (the cast overflows).\n",
      "  a4 = np.array(l3, dtype = 'uint8')\n",
      "C:\\Users\\alexa\\AppData\\Local\\Temp\\ipykernel_2024\\290098187.py:1: DeprecationWarning: NumPy will stop allowing conversion of out-of-bound Python integers to integer arrays.  The conversion of -2 to uint8 will fail in the future.\n",
      "For the old behavior, usually:\n",
      "    np.array(value).astype(dtype)`\n",
      "will give the desired result (the cast overflows).\n",
      "  a4 = np.array(l3, dtype = 'uint8')\n",
      "C:\\Users\\alexa\\AppData\\Local\\Temp\\ipykernel_2024\\290098187.py:1: DeprecationWarning: NumPy will stop allowing conversion of out-of-bound Python integers to integer arrays.  The conversion of -3 to uint8 will fail in the future.\n",
      "For the old behavior, usually:\n",
      "    np.array(value).astype(dtype)`\n",
      "will give the desired result (the cast overflows).\n",
      "  a4 = np.array(l3, dtype = 'uint8')\n",
      "C:\\Users\\alexa\\AppData\\Local\\Temp\\ipykernel_2024\\290098187.py:1: DeprecationWarning: NumPy will stop allowing conversion of out-of-bound Python integers to integer arrays.  The conversion of -4 to uint8 will fail in the future.\n",
      "For the old behavior, usually:\n",
      "    np.array(value).astype(dtype)`\n",
      "will give the desired result (the cast overflows).\n",
      "  a4 = np.array(l3, dtype = 'uint8')\n",
      "C:\\Users\\alexa\\AppData\\Local\\Temp\\ipykernel_2024\\290098187.py:1: DeprecationWarning: NumPy will stop allowing conversion of out-of-bound Python integers to integer arrays.  The conversion of -5 to uint8 will fail in the future.\n",
      "For the old behavior, usually:\n",
      "    np.array(value).astype(dtype)`\n",
      "will give the desired result (the cast overflows).\n",
      "  a4 = np.array(l3, dtype = 'uint8')\n",
      "C:\\Users\\alexa\\AppData\\Local\\Temp\\ipykernel_2024\\290098187.py:1: DeprecationWarning: NumPy will stop allowing conversion of out-of-bound Python integers to integer arrays.  The conversion of -6 to uint8 will fail in the future.\n",
      "For the old behavior, usually:\n",
      "    np.array(value).astype(dtype)`\n",
      "will give the desired result (the cast overflows).\n",
      "  a4 = np.array(l3, dtype = 'uint8')\n"
     ]
    },
    {
     "data": {
      "text/plain": [
       "array([[255, 254],\n",
       "       [253, 252],\n",
       "       [251, 250]], dtype=uint8)"
      ]
     },
     "execution_count": 11,
     "metadata": {},
     "output_type": "execute_result"
    }
   ],
   "source": [
    "a4 = np.array(l3, dtype = 'uint8')\n",
    "a4"
   ]
  },
  {
   "cell_type": "code",
   "execution_count": 15,
   "id": "fc0a5f0d",
   "metadata": {},
   "outputs": [
    {
     "data": {
      "text/plain": [
       "4"
      ]
     },
     "execution_count": 15,
     "metadata": {},
     "output_type": "execute_result"
    }
   ],
   "source": [
    "a10 = np.zeros(shape = (4,))\n",
    "a10.size"
   ]
  },
  {
   "cell_type": "code",
   "execution_count": 16,
   "id": "8f49f0c4",
   "metadata": {},
   "outputs": [
    {
     "data": {
      "text/plain": [
       "array([[[1., 1., 1.],\n",
       "        [1., 1., 1.],\n",
       "        [1., 1., 1.],\n",
       "        [1., 1., 1.]],\n",
       "\n",
       "       [[1., 1., 1.],\n",
       "        [1., 1., 1.],\n",
       "        [1., 1., 1.],\n",
       "        [1., 1., 1.]]])"
      ]
     },
     "execution_count": 16,
     "metadata": {},
     "output_type": "execute_result"
    }
   ],
   "source": [
    "np.ones(shape = (2,4,3))"
   ]
  },
  {
   "cell_type": "code",
   "execution_count": 17,
   "id": "09f1ffc4",
   "metadata": {},
   "outputs": [
    {
     "data": {
      "text/plain": [
       "array([[[15, 15, 15, 15],\n",
       "        [15, 15, 15, 15]],\n",
       "\n",
       "       [[15, 15, 15, 15],\n",
       "        [15, 15, 15, 15]],\n",
       "\n",
       "       [[15, 15, 15, 15],\n",
       "        [15, 15, 15, 15]],\n",
       "\n",
       "       [[15, 15, 15, 15],\n",
       "        [15, 15, 15, 15]],\n",
       "\n",
       "       [[15, 15, 15, 15],\n",
       "        [15, 15, 15, 15]]])"
      ]
     },
     "execution_count": 17,
     "metadata": {},
     "output_type": "execute_result"
    }
   ],
   "source": [
    "np.full(shape = (5,2,4), fill_value = 15)"
   ]
  },
  {
   "cell_type": "code",
   "execution_count": 18,
   "id": "22556a10",
   "metadata": {},
   "outputs": [
    {
     "ename": "NameError",
     "evalue": "name 'a5' is not defined",
     "output_type": "error",
     "traceback": [
      "\u001b[1;31m---------------------------------------------------------------------------\u001b[0m",
      "\u001b[1;31mNameError\u001b[0m                                 Traceback (most recent call last)",
      "Cell \u001b[1;32mIn[18], line 1\u001b[0m\n\u001b[1;32m----> 1\u001b[0m a5\u001b[38;5;241m.\u001b[39mshape\n",
      "\u001b[1;31mNameError\u001b[0m: name 'a5' is not defined"
     ]
    }
   ],
   "source": [
    "a5.shape"
   ]
  },
  {
   "cell_type": "code",
   "execution_count": 20,
   "id": "9bc4a25f",
   "metadata": {},
   "outputs": [
    {
     "data": {
      "text/plain": [
       "array([[[ 1,  2],\n",
       "        [ 3,  4],\n",
       "        [ 5,  6]],\n",
       "\n",
       "       [[10, 20],\n",
       "        [30, 40],\n",
       "        [50, 60]],\n",
       "\n",
       "       [[-1, -2],\n",
       "        [-3, -4],\n",
       "        [-5, -6]]])"
      ]
     },
     "execution_count": 20,
     "metadata": {},
     "output_type": "execute_result"
    }
   ],
   "source": [
    "a5 = np.array([l1,l2,l3])\n",
    "a5"
   ]
  },
  {
   "cell_type": "code",
   "execution_count": 21,
   "id": "955838dd",
   "metadata": {},
   "outputs": [
    {
     "data": {
      "text/plain": [
       "array([[[0, 0],\n",
       "        [0, 0],\n",
       "        [0, 0]],\n",
       "\n",
       "       [[0, 0],\n",
       "        [0, 0],\n",
       "        [0, 0]],\n",
       "\n",
       "       [[0, 0],\n",
       "        [0, 0],\n",
       "        [0, 0]]])"
      ]
     },
     "execution_count": 21,
     "metadata": {},
     "output_type": "execute_result"
    }
   ],
   "source": [
    "np.zeros_like(a5)"
   ]
  },
  {
   "cell_type": "code",
   "execution_count": 22,
   "id": "bc153fd4",
   "metadata": {},
   "outputs": [
    {
     "data": {
      "text/plain": [
       "array([[[15, 15],\n",
       "        [15, 15],\n",
       "        [15, 15]],\n",
       "\n",
       "       [[15, 15],\n",
       "        [15, 15],\n",
       "        [15, 15]],\n",
       "\n",
       "       [[15, 15],\n",
       "        [15, 15],\n",
       "        [15, 15]]])"
      ]
     },
     "execution_count": 22,
     "metadata": {},
     "output_type": "execute_result"
    }
   ],
   "source": [
    "np.full_like(a5, fill_value = 15)"
   ]
  },
  {
   "cell_type": "code",
   "execution_count": 23,
   "id": "a3aa13c5",
   "metadata": {},
   "outputs": [
    {
     "data": {
      "text/plain": [
       "array([1, 2, 3, 4, 5, 6, 7, 8, 9])"
      ]
     },
     "execution_count": 23,
     "metadata": {},
     "output_type": "execute_result"
    }
   ],
   "source": [
    "np.arange(1,10)"
   ]
  },
  {
   "cell_type": "code",
   "execution_count": 29,
   "id": "9120ef77",
   "metadata": {},
   "outputs": [
    {
     "data": {
      "text/plain": [
       "(array([1.  , 1.45, 1.9 , 2.35, 2.8 , 3.25, 3.7 , 4.15, 4.6 , 5.05, 5.5 ,\n",
       "        5.95, 6.4 , 6.85, 7.3 , 7.75, 8.2 , 8.65, 9.1 , 9.55]),\n",
       " 0.45)"
      ]
     },
     "execution_count": 29,
     "metadata": {},
     "output_type": "execute_result"
    }
   ],
   "source": [
    "k = np.linspace(1,10,20, endpoint = False, retstep= True)"
   ]
  },
  {
   "cell_type": "code",
   "execution_count": 30,
   "id": "8af0f8d2",
   "metadata": {},
   "outputs": [],
   "source": [
    "def f(x):\n",
    "    return x**3 + 2*x**2 + 3"
   ]
  },
  {
   "cell_type": "code",
   "execution_count": 38,
   "id": "6bf05b44",
   "metadata": {},
   "outputs": [
    {
     "data": {
      "text/plain": [
       "array([-3.        , -2.93939394, -2.87878788, -2.81818182, -2.75757576,\n",
       "       -2.6969697 , -2.63636364, -2.57575758, -2.51515152, -2.45454545,\n",
       "       -2.39393939, -2.33333333, -2.27272727, -2.21212121, -2.15151515,\n",
       "       -2.09090909, -2.03030303, -1.96969697, -1.90909091, -1.84848485,\n",
       "       -1.78787879, -1.72727273, -1.66666667, -1.60606061, -1.54545455,\n",
       "       -1.48484848, -1.42424242, -1.36363636, -1.3030303 , -1.24242424,\n",
       "       -1.18181818, -1.12121212, -1.06060606, -1.        , -0.93939394,\n",
       "       -0.87878788, -0.81818182, -0.75757576, -0.6969697 , -0.63636364,\n",
       "       -0.57575758, -0.51515152, -0.45454545, -0.39393939, -0.33333333,\n",
       "       -0.27272727, -0.21212121, -0.15151515, -0.09090909, -0.03030303,\n",
       "        0.03030303,  0.09090909,  0.15151515,  0.21212121,  0.27272727,\n",
       "        0.33333333,  0.39393939,  0.45454545,  0.51515152,  0.57575758,\n",
       "        0.63636364,  0.6969697 ,  0.75757576,  0.81818182,  0.87878788,\n",
       "        0.93939394,  1.        ,  1.06060606,  1.12121212,  1.18181818,\n",
       "        1.24242424,  1.3030303 ,  1.36363636,  1.42424242,  1.48484848,\n",
       "        1.54545455,  1.60606061,  1.66666667,  1.72727273,  1.78787879,\n",
       "        1.84848485,  1.90909091,  1.96969697,  2.03030303,  2.09090909,\n",
       "        2.15151515,  2.21212121,  2.27272727,  2.33333333,  2.39393939,\n",
       "        2.45454545,  2.51515152,  2.57575758,  2.63636364,  2.6969697 ,\n",
       "        2.75757576,  2.81818182,  2.87878788,  2.93939394,  3.        ])"
      ]
     },
     "execution_count": 38,
     "metadata": {},
     "output_type": "execute_result"
    }
   ],
   "source": [
    "x = np.linspace(-3,3,100)\n",
    "x"
   ]
  },
  {
   "cell_type": "code",
   "execution_count": 39,
   "id": "ee0c8120",
   "metadata": {},
   "outputs": [
    {
     "data": {
      "text/plain": [
       "array([-6.        , -5.11639814, -4.28288394, -3.49812171, -2.7607758 ,\n",
       "       -2.06951053, -1.42299023, -0.81987923, -0.25884186,  0.26145755,\n",
       "        0.74235468,  1.18518519,  1.59128475,  1.96198904,  2.29863372,\n",
       "        2.60255447,  2.87508696,  3.11756685,  3.33132983,  3.51771155,\n",
       "        3.67804769,  3.81367393,  3.92592593,  4.01613935,  4.08564989,\n",
       "        4.13579319,  4.16790494,  4.18332081,  4.18337646,  4.16940757,\n",
       "        4.14274981,  4.10473885,  4.05671035,  4.        ,  3.93594346,\n",
       "        3.86587639,  3.79113449,  3.7130534 ,  3.63296881,  3.55221638,\n",
       "        3.47213179,  3.3940507 ,  3.31930879,  3.24924173,  3.18518519,\n",
       "        3.12847483,  3.08044634,  3.04243537,  3.01577761,  3.00180872,\n",
       "        3.00186437,  3.01728024,  3.04939199,  3.0995353 ,  3.16904583,\n",
       "        3.25925926,  3.37151126,  3.50713749,  3.66747363,  3.85385536,\n",
       "        4.06761833,  4.31009823,  4.58263071,  4.88655147,  5.22319615,\n",
       "        5.59390044,  6.        ,  6.44283051,  6.92372763,  7.44402705,\n",
       "        8.00506442,  8.60817542,  9.25469572,  9.94596099, 10.6833069 ,\n",
       "       11.46806912, 12.30158333, 13.18518519, 14.12021037, 15.10799455,\n",
       "       16.14987339, 17.24718257, 18.40125776, 19.61343462, 20.88504884,\n",
       "       22.21743607, 23.61193199, 25.06987228, 26.59259259, 28.18142861,\n",
       "       29.837716  , 31.56279044, 33.35798759, 35.22464313, 37.16409272,\n",
       "       39.17767204, 41.26671675, 43.43256254, 45.67654506, 48.        ])"
      ]
     },
     "execution_count": 39,
     "metadata": {},
     "output_type": "execute_result"
    }
   ],
   "source": [
    "y = f(x)\n",
    "y"
   ]
  },
  {
   "cell_type": "code",
   "execution_count": 40,
   "id": "27adb727",
   "metadata": {},
   "outputs": [
    {
     "data": {
      "image/png": "[encoded data removed]",
      "text/plain": [
       "<Figure size 640x480 with 1 Axes>"
      ]
     },
     "metadata": {},
     "output_type": "display_data"
    }
   ],
   "source": [
    "plt.plot(x,y)\n",
    "plt.show()"
   ]
  },
  {
   "cell_type": "code",
   "execution_count": null,
   "id": "3bc5eaf9",
   "metadata": {},
   "outputs": [],
   "source": []
  },
  {
   "cell_type": "code",
   "execution_count": null,
   "id": "03abf8a2",
   "metadata": {},
   "outputs": [],
   "source": []
  }
 ],
 "metadata": {
  "kernelspec": {
   "display_name": "Python 3 (ipykernel)",
   "language": "python",
   "name": "python3"
  },
  "language_info": {
   "codemirror_mode": {
    "name": "ipython",
    "version": 3
   },
   "file_extension": ".py",
   "mimetype": "text/x-python",
   "name": "python",
   "nbconvert_exporter": "python",
   "pygments_lexer": "ipython3",
   "version": "3.11.5"
  }
 },
 "nbformat": 4,
 "nbformat_minor": 5
}
