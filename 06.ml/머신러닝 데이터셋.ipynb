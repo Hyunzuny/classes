{
 "cells": [
  {
   "cell_type": "code",
   "execution_count": null,
   "id": "ecbeeee1-f469-4baf-ab3d-ef128db032b0",
   "metadata": {},
   "outputs": [],
   "source": [
    "데이터셋\n",
    "Train(훈련)\n",
    "Validation(검증)\n",
    "Test(평가)\n",
    "\n",
    "help(DecisionTreeClassifier) #사용\n",
    "\n",
    "x,y -> 학습 (Train dataset)\n",
    "x-1, y-1 -> 검증 ( Validation ds)\n",
    "x-3, y-3 -> 평가 (Test ds), 마지막 성능체크 용도로 1번 사용.\n",
    "\n",
    "트레이닝 - 튜닝"
   ]
  }
 ],
 "metadata": {
  "kernelspec": {
   "display_name": "Python 3 (ipykernel)",
   "language": "python",
   "name": "python3"
  },
  "language_info": {
   "codemirror_mode": {
    "name": "ipython",
    "version": 3
   },
   "file_extension": ".py",
   "mimetype": "text/x-python",
   "name": "python",
   "nbconvert_exporter": "python",
   "pygments_lexer": "ipython3",
   "version": "3.11.5"
  }
 },
 "nbformat": 4,
 "nbformat_minor": 5
}
