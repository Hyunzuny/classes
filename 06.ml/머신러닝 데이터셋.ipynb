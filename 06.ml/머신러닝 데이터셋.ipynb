{
 "cells": [
  {
   "cell_type": "code",
   "execution_count": null,
   "id": "66ee6a80-431f-4bf3-9d41-3f2ab29b7b51",
   "metadata": {},
   "outputs": [],
   "source": []
  },
  {
   "cell_type": "code",
   "execution_count": null,
   "id": "ecbeeee1-f469-4baf-ab3d-ef128db032b0",
   "metadata": {},
   "outputs": [],
   "source": [
    "데이터셋\n",
    "Train(훈련)\n",
    "Validation(검증)\n",
    "Test(평가)\n",
    "\n",
    "help(DecisionTreeClassifier) #사용\n",
    "\n",
    "x,y -> 학습 (Train dataset)\n",
    "x-1, y-1 -> 검증 ( Validation ds)\n",
    "x-3, y-3 -> 평가 (Test ds), 마지막 성능체크 용도로 1번 사용.\n",
    "\n",
    "트레이닝 - 튜닝"
   ]
  },
  {
   "cell_type": "code",
   "execution_count": 1,
   "id": "9a2a5f4a-a388-4467-b0ac-db06ac87d8b7",
   "metadata": {
    "tags": []
   },
   "outputs": [],
   "source": [
    "import numpy as np"
   ]
  },
  {
   "cell_type": "code",
   "execution_count": 3,
   "id": "352f231d-2fc1-4783-ab54-7be798491cd4",
   "metadata": {
    "tags": []
   },
   "outputs": [
    {
     "data": {
      "text/plain": [
       "array([[10],\n",
       "       [ 2],\n",
       "       [30]])"
      ]
     },
     "execution_count": 3,
     "metadata": {},
     "output_type": "execute_result"
    }
   ],
   "source": [
    "np.array([10, 2, 30]).reshape(3,1)"
   ]
  },
  {
   "cell_type": "code",
   "execution_count": 4,
   "id": "fd6feb4f-b065-4d9a-99e6-fd0711c4fd50",
   "metadata": {
    "tags": []
   },
   "outputs": [],
   "source": [
    "from sklearn.dummy import DummyClassifier\n",
    "from sklearn.metrics import accuracy_score"
   ]
  },
  {
   "cell_type": "code",
   "execution_count": null,
   "id": "7894ba0a-9b5e-4441-90ea-b2e4635f6647",
   "metadata": {},
   "outputs": [],
   "source": [
    "dummy_model = DummyClassifier"
   ]
  }
 ],
 "metadata": {
  "kernelspec": {
   "display_name": "Python 3 (ipykernel)",
   "language": "python",
   "name": "python3"
  },
  "language_info": {
   "codemirror_mode": {
    "name": "ipython",
    "version": 3
   },
   "file_extension": ".py",
   "mimetype": "text/x-python",
   "name": "python",
   "nbconvert_exporter": "python",
   "pygments_lexer": "ipython3",
   "version": "3.11.5"
  }
 },
 "nbformat": 4,
 "nbformat_minor": 5
}
