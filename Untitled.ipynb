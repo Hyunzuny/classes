{
 "cells": [
  {
   "cell_type": "markdown",
   "id": "93744931",
   "metadata": {},
   "source": [
    "A A B C D D\n",
    "a f z z \n",
    "0 9 1 2 1\n",
    "a 8 E W g 6\n",
    "P 5 h 3 k x"
   ]
  },
  {
   "cell_type": "code",
   "execution_count": 52,
   "id": "5851fc3a",
   "metadata": {},
   "outputs": [],
   "source": [
    "a = ['AABCDD',\n",
    "     'afzz',\n",
    "     '09121']"
   ]
  },
  {
   "cell_type": "code",
   "execution_count": 72,
   "id": "fe726c3b",
   "metadata": {},
   "outputs": [
    {
     "name": "stdout",
     "output_type": "stream",
     "text": [
      "AABCDD\n"
     ]
    }
   ],
   "source": [
    "print(max(a, key= len))\n",
    "\n",
    "   "
   ]
  },
  {
   "cell_type": "code",
   "execution_count": 60,
   "id": "3fe48522",
   "metadata": {},
   "outputs": [
    {
     "name": "stdout",
     "output_type": "stream",
     "text": [
      "4\n"
     ]
    }
   ],
   "source": [
    "len(a[1])\n",
    "print(len(a[1]))"
   ]
  },
  {
   "cell_type": "code",
   "execution_count": null,
   "id": "8cc8050b",
   "metadata": {},
   "outputs": [],
   "source": [
    "a = ['AABCDD','afzz','09121','a8EWg6','P5h3kx']  # a[1][i=4]\n",
    "print(max(a,key=len))"
   ]
  },
  {
   "cell_type": "code",
   "execution_count": null,
   "id": "65246e5d",
   "metadata": {},
   "outputs": [],
   "source": [
    "a = []\n",
    "for _ in range(5):\n",
    "    _ = input()\n",
    "    a.append(_)\n",
    "    \n",
    "max_langth = max(a, key =len)\n",
    "li = []\n",
    "for i in range(len(max_langth)):   \n",
    "    for num in range(len(a)):  \n",
    "        \n",
    "        if len(a[num]) >i :\n",
    "            p = a[num][i]\n",
    "            li.append(p)\n",
    "            \n",
    "            \n",
    "        else:\n",
    "            li.append('')\n",
    "            \n",
    "k = ''.join(li)\n",
    "print(k)\n",
    "\n",
    "        \n",
    "        \n",
    "        "
   ]
  },
  {
   "cell_type": "code",
   "execution_count": null,
   "id": "d76a856d",
   "metadata": {},
   "outputs": [],
   "source": [
    "li = []\n",
    "for i in range(15): # \n",
    "    for num in range(len(a)):\n",
    "        p = a[nu]\n",
    "\n",
    "\n",
    "            "
   ]
  },
  {
   "cell_type": "code",
   "execution_count": 15,
   "id": "31a9592f",
   "metadata": {},
   "outputs": [
    {
     "ename": "IndexError",
     "evalue": "string index out of range",
     "output_type": "error",
     "traceback": [
      "\u001b[0;31m---------------------------------------------------------------------------\u001b[0m",
      "\u001b[0;31mIndexError\u001b[0m                                Traceback (most recent call last)",
      "Cell \u001b[0;32mIn[15], line 1\u001b[0m\n\u001b[0;32m----> 1\u001b[0m k \u001b[38;5;241m=\u001b[39m a[\u001b[38;5;241m1\u001b[39m][\u001b[38;5;241m4\u001b[39m]\n\u001b[1;32m      2\u001b[0m \u001b[38;5;28mprint\u001b[39m(k)\n",
      "\u001b[0;31mIndexError\u001b[0m: string index out of range"
     ]
    }
   ],
   "source": [
    "k = a[1][4]\n",
    "print(k)"
   ]
  },
  {
   "cell_type": "code",
   "execution_count": 19,
   "id": "65aeb9fc",
   "metadata": {},
   "outputs": [
    {
     "name": "stdout",
     "output_type": "stream",
     "text": [
      "<zip object at 0x11b1fbd40>\n"
     ]
    }
   ],
   "source": [
    "a = ['AABCDD',\n",
    "     'afzz',\n",
    "    '09121']\n",
    "print(zip(*a))"
   ]
  },
  {
   "cell_type": "code",
   "execution_count": 43,
   "id": "5b48b16f",
   "metadata": {},
   "outputs": [
    {
     "name": "stdout",
     "output_type": "stream",
     "text": [
      "['a', 'a', 'a', 'v', 'v', 'b', 'b', '', '', '', '', '', '', '', '']\n"
     ]
    }
   ],
   "source": [
    "a = 'aaavvbb'\n",
    "result = []\n",
    "for i in range(15):\n",
    "    if i < len(a):\n",
    "        result.append(a[i])\n",
    "    else:\n",
    "        result.append('')\n",
    "print(result)\n"
   ]
  },
  {
   "cell_type": "code",
   "execution_count": 45,
   "id": "2e86484f",
   "metadata": {},
   "outputs": [
    {
     "name": "stdout",
     "output_type": "stream",
     "text": [
      "['a']\n",
      "['a', 'a']\n",
      "['a', 'a', 'a']\n",
      "['a', 'a', 'a', 'v']\n",
      "['a', 'a', 'a', 'v', 'v']\n",
      "['a', 'a', 'a', 'v', 'v', 'b']\n",
      "['a', 'a', 'a', 'v', 'v', 'b', 'b']\n",
      "['a', 'a', 'a', 'v', 'v', 'b', 'b', '']\n",
      "['a', 'a', 'a', 'v', 'v', 'b', 'b', '', '']\n",
      "['a', 'a', 'a', 'v', 'v', 'b', 'b', '', '', '']\n",
      "['a', 'a', 'a', 'v', 'v', 'b', 'b', '', '', '', '']\n",
      "['a', 'a', 'a', 'v', 'v', 'b', 'b', '', '', '', '', '']\n",
      "['a', 'a', 'a', 'v', 'v', 'b', 'b', '', '', '', '', '', '']\n",
      "['a', 'a', 'a', 'v', 'v', 'b', 'b', '', '', '', '', '', '', '']\n",
      "['a', 'a', 'a', 'v', 'v', 'b', 'b', '', '', '', '', '', '', '', '']\n"
     ]
    }
   ],
   "source": []
  },
  {
   "cell_type": "code",
   "execution_count": 41,
   "id": "df88a1f2",
   "metadata": {},
   "outputs": [
    {
     "name": "stdout",
     "output_type": "stream",
     "text": [
      "7\n",
      "['a']\n",
      "['a', 'a']\n",
      "['a', 'a', 'a']\n",
      "['a', 'a', 'a', 'v']\n",
      "['a', 'a', 'a', 'v', 'v']\n",
      "['a', 'a', 'a', 'v', 'v', 'b']\n",
      "['a', 'a', 'a', 'v', 'v', 'b', 'b']\n"
     ]
    },
    {
     "ename": "IndexError",
     "evalue": "string index out of range",
     "output_type": "error",
     "traceback": [
      "\u001b[0;31m---------------------------------------------------------------------------\u001b[0m",
      "\u001b[0;31mIndexError\u001b[0m                                Traceback (most recent call last)",
      "Cell \u001b[0;32mIn[41], line 5\u001b[0m\n\u001b[1;32m      3\u001b[0m \u001b[38;5;28mprint\u001b[39m(\u001b[38;5;28mlen\u001b[39m(a))\n\u001b[1;32m      4\u001b[0m \u001b[38;5;28;01mfor\u001b[39;00m i \u001b[38;5;129;01min\u001b[39;00m \u001b[38;5;28mrange\u001b[39m(\u001b[38;5;241m15\u001b[39m):\n\u001b[0;32m----> 5\u001b[0m     p \u001b[38;5;241m=\u001b[39m a[i]\n\u001b[1;32m      6\u001b[0m     \u001b[38;5;28;01mif\u001b[39;00m i \u001b[38;5;241m<\u001b[39m\u001b[38;5;241m7\u001b[39m:  \u001b[38;5;66;03m#0,1,2,3,4,5,6\u001b[39;00m\n\u001b[1;32m      7\u001b[0m         k\u001b[38;5;241m.\u001b[39mappend(p)\n",
      "\u001b[0;31mIndexError\u001b[0m: string index out of range"
     ]
    }
   ],
   "source": [
    "k =[]\n",
    "a = 'aaavvbb'\n",
    "print(len(a))\n",
    "for i in range(15):\n",
    "    p = a[i]\n",
    "    if i <7:  #0,1,2,3,4,5,6\n",
    "        k.append(p)\n",
    "        \n",
    "    else:\n",
    "        k.append('')\n",
    "        \n",
    "    print(k)"
   ]
  },
  {
   "cell_type": "code",
   "execution_count": null,
   "id": "608c6d06",
   "metadata": {},
   "outputs": [],
   "source": []
  }
 ],
 "metadata": {
  "kernelspec": {
   "display_name": "Python 3 (ipykernel)",
   "language": "python",
   "name": "python3"
  },
  "language_info": {
   "codemirror_mode": {
    "name": "ipython",
    "version": 3
   },
   "file_extension": ".py",
   "mimetype": "text/x-python",
   "name": "python",
   "nbconvert_exporter": "python",
   "pygments_lexer": "ipython3",
   "version": "3.11.5"
  }
 },
 "nbformat": 4,
 "nbformat_minor": 5
}
